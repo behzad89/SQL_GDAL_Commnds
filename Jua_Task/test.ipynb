{
 "cells": [
  {
   "cell_type": "code",
   "execution_count": 1,
   "id": "b57a8942-ecb7-429e-8a54-6ac659469f24",
   "metadata": {},
   "outputs": [
    {
     "name": "stderr",
     "output_type": "stream",
     "text": [
      "/scicore/home/roeoesli/valipo0000/training/anaconda3/envs/pochas_env/lib/python3.8/site-packages/xarray/backends/cfgrib_.py:27: UserWarning: Failed to load cfgrib - most likely there is a problem accessing the ecCodes library. Try `import cfgrib` to get the full error message\n",
      "  warnings.warn(\n"
     ]
    }
   ],
   "source": [
    "import pandas as pd\n",
    "import xarray as xr\n",
    "import numpy as np\n",
    "import datetime\n",
    "import h3pandas"
   ]
  },
  {
   "cell_type": "code",
   "execution_count": 5,
   "id": "a2213865-b7c1-44ec-81c8-90cb8c8fcccb",
   "metadata": {
    "tags": []
   },
   "outputs": [
    {
     "ename": "EndpointConnectionError",
     "evalue": "Could not connect to the endpoint URL: \"https://era5-pds.s3.us-east-1a.amazonaws.com/2022/05/data/precipitation_amount_1hour_Accumulation.nc\"",
     "output_type": "error",
     "traceback": [
      "\u001b[0;31m---------------------------------------------------------------------------\u001b[0m",
      "\u001b[0;31mgaierror\u001b[0m                                  Traceback (most recent call last)",
      "File \u001b[0;32m~/training/anaconda3/envs/pochas_env/lib/python3.8/site-packages/aiohttp/connector.py:1154\u001b[0m, in \u001b[0;36mTCPConnector._create_direct_connection\u001b[0;34m(self, req, traces, timeout, client_error)\u001b[0m\n\u001b[1;32m   1150\u001b[0m \u001b[39mtry\u001b[39;00m:\n\u001b[1;32m   1151\u001b[0m     \u001b[39m# Cancelling this lookup should not cancel the underlying lookup\u001b[39;00m\n\u001b[1;32m   1152\u001b[0m     \u001b[39m#  or else the cancel event will get broadcast to all the waiters\u001b[39;00m\n\u001b[1;32m   1153\u001b[0m     \u001b[39m#  across all connections.\u001b[39;00m\n\u001b[0;32m-> 1154\u001b[0m     hosts \u001b[39m=\u001b[39m \u001b[39mawait\u001b[39;00m asyncio\u001b[39m.\u001b[39mshield(host_resolved)\n\u001b[1;32m   1155\u001b[0m \u001b[39mexcept\u001b[39;00m asyncio\u001b[39m.\u001b[39mCancelledError:\n",
      "File \u001b[0;32m~/training/anaconda3/envs/pochas_env/lib/python3.8/site-packages/aiohttp/connector.py:880\u001b[0m, in \u001b[0;36mTCPConnector._resolve_host\u001b[0;34m(self, host, port, traces)\u001b[0m\n\u001b[1;32m    878\u001b[0m         \u001b[39mawait\u001b[39;00m trace\u001b[39m.\u001b[39msend_dns_resolvehost_start(host)\n\u001b[0;32m--> 880\u001b[0m addrs \u001b[39m=\u001b[39m \u001b[39mawait\u001b[39;00m \u001b[39mself\u001b[39m\u001b[39m.\u001b[39m_resolver\u001b[39m.\u001b[39mresolve(host, port, family\u001b[39m=\u001b[39m\u001b[39mself\u001b[39m\u001b[39m.\u001b[39m_family)\n\u001b[1;32m    881\u001b[0m \u001b[39mif\u001b[39;00m traces:\n",
      "File \u001b[0;32m~/training/anaconda3/envs/pochas_env/lib/python3.8/site-packages/aiohttp/resolver.py:33\u001b[0m, in \u001b[0;36mThreadedResolver.resolve\u001b[0;34m(self, hostname, port, family)\u001b[0m\n\u001b[1;32m     30\u001b[0m \u001b[39masync\u001b[39;00m \u001b[39mdef\u001b[39;00m \u001b[39mresolve\u001b[39m(\n\u001b[1;32m     31\u001b[0m     \u001b[39mself\u001b[39m, hostname: \u001b[39mstr\u001b[39m, port: \u001b[39mint\u001b[39m \u001b[39m=\u001b[39m \u001b[39m0\u001b[39m, family: \u001b[39mint\u001b[39m \u001b[39m=\u001b[39m socket\u001b[39m.\u001b[39mAF_INET\n\u001b[1;32m     32\u001b[0m ) \u001b[39m-\u001b[39m\u001b[39m>\u001b[39m List[Dict[\u001b[39mstr\u001b[39m, Any]]:\n\u001b[0;32m---> 33\u001b[0m     infos \u001b[39m=\u001b[39m \u001b[39mawait\u001b[39;00m \u001b[39mself\u001b[39m\u001b[39m.\u001b[39m_loop\u001b[39m.\u001b[39mgetaddrinfo(\n\u001b[1;32m     34\u001b[0m         hostname,\n\u001b[1;32m     35\u001b[0m         port,\n\u001b[1;32m     36\u001b[0m         \u001b[39mtype\u001b[39m\u001b[39m=\u001b[39msocket\u001b[39m.\u001b[39mSOCK_STREAM,\n\u001b[1;32m     37\u001b[0m         family\u001b[39m=\u001b[39mfamily,\n\u001b[1;32m     38\u001b[0m         flags\u001b[39m=\u001b[39msocket\u001b[39m.\u001b[39mAI_ADDRCONFIG,\n\u001b[1;32m     39\u001b[0m     )\n\u001b[1;32m     41\u001b[0m     hosts \u001b[39m=\u001b[39m []\n",
      "File \u001b[0;32m~/training/anaconda3/envs/pochas_env/lib/python3.8/asyncio/base_events.py:825\u001b[0m, in \u001b[0;36mBaseEventLoop.getaddrinfo\u001b[0;34m(self, host, port, family, type, proto, flags)\u001b[0m\n\u001b[1;32m    823\u001b[0m     getaddr_func \u001b[39m=\u001b[39m socket\u001b[39m.\u001b[39mgetaddrinfo\n\u001b[0;32m--> 825\u001b[0m \u001b[39mreturn\u001b[39;00m \u001b[39mawait\u001b[39;00m \u001b[39mself\u001b[39m\u001b[39m.\u001b[39mrun_in_executor(\n\u001b[1;32m    826\u001b[0m     \u001b[39mNone\u001b[39;00m, getaddr_func, host, port, family, \u001b[39mtype\u001b[39m, proto, flags)\n",
      "File \u001b[0;32m~/training/anaconda3/envs/pochas_env/lib/python3.8/concurrent/futures/thread.py:57\u001b[0m, in \u001b[0;36m_WorkItem.run\u001b[0;34m(self)\u001b[0m\n\u001b[1;32m     56\u001b[0m \u001b[39mtry\u001b[39;00m:\n\u001b[0;32m---> 57\u001b[0m     result \u001b[39m=\u001b[39m \u001b[39mself\u001b[39;49m\u001b[39m.\u001b[39;49mfn(\u001b[39m*\u001b[39;49m\u001b[39mself\u001b[39;49m\u001b[39m.\u001b[39;49margs, \u001b[39m*\u001b[39;49m\u001b[39m*\u001b[39;49m\u001b[39mself\u001b[39;49m\u001b[39m.\u001b[39;49mkwargs)\n\u001b[1;32m     58\u001b[0m \u001b[39mexcept\u001b[39;00m \u001b[39mBaseException\u001b[39;00m \u001b[39mas\u001b[39;00m exc:\n",
      "File \u001b[0;32m~/training/anaconda3/envs/pochas_env/lib/python3.8/socket.py:918\u001b[0m, in \u001b[0;36mgetaddrinfo\u001b[0;34m(host, port, family, type, proto, flags)\u001b[0m\n\u001b[1;32m    917\u001b[0m addrlist \u001b[39m=\u001b[39m []\n\u001b[0;32m--> 918\u001b[0m \u001b[39mfor\u001b[39;00m res \u001b[39min\u001b[39;00m _socket\u001b[39m.\u001b[39;49mgetaddrinfo(host, port, family, \u001b[39mtype\u001b[39;49m, proto, flags):\n\u001b[1;32m    919\u001b[0m     af, socktype, proto, canonname, sa \u001b[39m=\u001b[39m res\n",
      "\u001b[0;31mgaierror\u001b[0m: [Errno -2] Name or service not known",
      "\nThe above exception was the direct cause of the following exception:\n",
      "\u001b[0;31mClientConnectorError\u001b[0m                      Traceback (most recent call last)",
      "File \u001b[0;32m~/training/anaconda3/envs/pochas_env/lib/python3.8/site-packages/aiobotocore/httpsession.py:202\u001b[0m, in \u001b[0;36mAIOHTTPSession.send\u001b[0;34m(self, request)\u001b[0m\n\u001b[1;32m    201\u001b[0m url \u001b[39m=\u001b[39m URL(url, encoded\u001b[39m=\u001b[39m\u001b[39mTrue\u001b[39;00m)\n\u001b[0;32m--> 202\u001b[0m response \u001b[39m=\u001b[39m \u001b[39mawait\u001b[39;00m \u001b[39mself\u001b[39m\u001b[39m.\u001b[39m_session\u001b[39m.\u001b[39mrequest(\n\u001b[1;32m    203\u001b[0m     request\u001b[39m.\u001b[39mmethod,\n\u001b[1;32m    204\u001b[0m     url\u001b[39m=\u001b[39murl,\n\u001b[1;32m    205\u001b[0m     headers\u001b[39m=\u001b[39mheaders_,\n\u001b[1;32m    206\u001b[0m     data\u001b[39m=\u001b[39mdata,\n\u001b[1;32m    207\u001b[0m     proxy\u001b[39m=\u001b[39mproxy_url,\n\u001b[1;32m    208\u001b[0m     proxy_headers\u001b[39m=\u001b[39mproxy_headers,\n\u001b[1;32m    209\u001b[0m )\n\u001b[1;32m    211\u001b[0m http_response \u001b[39m=\u001b[39m aiobotocore\u001b[39m.\u001b[39mawsrequest\u001b[39m.\u001b[39mAioAWSResponse(\n\u001b[1;32m    212\u001b[0m     \u001b[39mstr\u001b[39m(response\u001b[39m.\u001b[39murl), response\u001b[39m.\u001b[39mstatus, response\u001b[39m.\u001b[39mheaders, response\n\u001b[1;32m    213\u001b[0m )\n",
      "File \u001b[0;32m~/training/anaconda3/envs/pochas_env/lib/python3.8/site-packages/aiohttp/client.py:535\u001b[0m, in \u001b[0;36mClientSession._request\u001b[0;34m(self, method, str_or_url, params, data, json, cookies, headers, skip_auto_headers, auth, allow_redirects, max_redirects, compress, chunked, expect100, raise_for_status, read_until_eof, proxy, proxy_auth, timeout, verify_ssl, fingerprint, ssl_context, ssl, proxy_headers, trace_request_ctx, read_bufsize)\u001b[0m\n\u001b[1;32m    534\u001b[0m         \u001b[39massert\u001b[39;00m \u001b[39mself\u001b[39m\u001b[39m.\u001b[39m_connector \u001b[39mis\u001b[39;00m \u001b[39mnot\u001b[39;00m \u001b[39mNone\u001b[39;00m\n\u001b[0;32m--> 535\u001b[0m         conn \u001b[39m=\u001b[39m \u001b[39mawait\u001b[39;00m \u001b[39mself\u001b[39m\u001b[39m.\u001b[39m_connector\u001b[39m.\u001b[39mconnect(\n\u001b[1;32m    536\u001b[0m             req, traces\u001b[39m=\u001b[39mtraces, timeout\u001b[39m=\u001b[39mreal_timeout\n\u001b[1;32m    537\u001b[0m         )\n\u001b[1;32m    538\u001b[0m \u001b[39mexcept\u001b[39;00m asyncio\u001b[39m.\u001b[39mTimeoutError \u001b[39mas\u001b[39;00m exc:\n",
      "File \u001b[0;32m~/training/anaconda3/envs/pochas_env/lib/python3.8/site-packages/aiohttp/connector.py:542\u001b[0m, in \u001b[0;36mBaseConnector.connect\u001b[0;34m(self, req, traces, timeout)\u001b[0m\n\u001b[1;32m    541\u001b[0m \u001b[39mtry\u001b[39;00m:\n\u001b[0;32m--> 542\u001b[0m     proto \u001b[39m=\u001b[39m \u001b[39mawait\u001b[39;00m \u001b[39mself\u001b[39m\u001b[39m.\u001b[39m_create_connection(req, traces, timeout)\n\u001b[1;32m    543\u001b[0m     \u001b[39mif\u001b[39;00m \u001b[39mself\u001b[39m\u001b[39m.\u001b[39m_closed:\n",
      "File \u001b[0;32m~/training/anaconda3/envs/pochas_env/lib/python3.8/site-packages/aiohttp/connector.py:907\u001b[0m, in \u001b[0;36mTCPConnector._create_connection\u001b[0;34m(self, req, traces, timeout)\u001b[0m\n\u001b[1;32m    906\u001b[0m \u001b[39melse\u001b[39;00m:\n\u001b[0;32m--> 907\u001b[0m     _, proto \u001b[39m=\u001b[39m \u001b[39mawait\u001b[39;00m \u001b[39mself\u001b[39m\u001b[39m.\u001b[39m_create_direct_connection(req, traces, timeout)\n\u001b[1;32m    909\u001b[0m \u001b[39mreturn\u001b[39;00m proto\n",
      "File \u001b[0;32m~/training/anaconda3/envs/pochas_env/lib/python3.8/site-packages/aiohttp/connector.py:1166\u001b[0m, in \u001b[0;36mTCPConnector._create_direct_connection\u001b[0;34m(self, req, traces, timeout, client_error)\u001b[0m\n\u001b[1;32m   1163\u001b[0m \u001b[39mexcept\u001b[39;00m \u001b[39mOSError\u001b[39;00m \u001b[39mas\u001b[39;00m exc:\n\u001b[1;32m   1164\u001b[0m     \u001b[39m# in case of proxy it is not ClientProxyConnectionError\u001b[39;00m\n\u001b[1;32m   1165\u001b[0m     \u001b[39m# it is problem of resolving proxy ip itself\u001b[39;00m\n\u001b[0;32m-> 1166\u001b[0m     \u001b[39mraise\u001b[39;00m ClientConnectorError(req\u001b[39m.\u001b[39mconnection_key, exc) \u001b[39mfrom\u001b[39;00m \u001b[39mexc\u001b[39;00m\n\u001b[1;32m   1168\u001b[0m last_exc \u001b[39m=\u001b[39m \u001b[39mNone\u001b[39;00m  \u001b[39m# type: Optional[Exception]\u001b[39;00m\n",
      "\u001b[0;31mClientConnectorError\u001b[0m: Cannot connect to host era5-pds.s3.us-east-1a.amazonaws.com:443 ssl:default [Name or service not known]",
      "\nDuring handling of the above exception, another exception occurred:\n",
      "\u001b[0;31mEndpointConnectionError\u001b[0m                   Traceback (most recent call last)",
      "\u001b[1;32m/scicore/home/roeoesli/valipo0000/training/Jua_Task/test.ipynb Cell 2\u001b[0m in \u001b[0;36m<cell line: 5>\u001b[0;34m()\u001b[0m\n\u001b[1;32m      <a href='vscode-notebook-cell://ssh-remote%2Blogin-node/scicore/home/roeoesli/valipo0000/training/Jua_Task/test.ipynb#W1sdnNjb2RlLXJlbW90ZQ%3D%3D?line=2'>3</a>\u001b[0m fs_s3 \u001b[39m=\u001b[39m s3fs\u001b[39m.\u001b[39mS3FileSystem(anon\u001b[39m=\u001b[39m\u001b[39mTrue\u001b[39;00m)\n\u001b[1;32m      <a href='vscode-notebook-cell://ssh-remote%2Blogin-node/scicore/home/roeoesli/valipo0000/training/Jua_Task/test.ipynb#W1sdnNjb2RlLXJlbW90ZQ%3D%3D?line=3'>4</a>\u001b[0m s3path \u001b[39m=\u001b[39m \u001b[39m'\u001b[39m\u001b[39mera5-pds/2022/05/data/precipitation_amount_1hour_Accumulation.nc\u001b[39m\u001b[39m'\u001b[39m\n\u001b[0;32m----> <a href='vscode-notebook-cell://ssh-remote%2Blogin-node/scicore/home/roeoesli/valipo0000/training/Jua_Task/test.ipynb#W1sdnNjb2RlLXJlbW90ZQ%3D%3D?line=4'>5</a>\u001b[0m remote_file_obj \u001b[39m=\u001b[39m fs_s3\u001b[39m.\u001b[39;49mopen(s3path, mode\u001b[39m=\u001b[39;49m\u001b[39m'\u001b[39;49m\u001b[39mrb\u001b[39;49m\u001b[39m'\u001b[39;49m)\n\u001b[1;32m      <a href='vscode-notebook-cell://ssh-remote%2Blogin-node/scicore/home/roeoesli/valipo0000/training/Jua_Task/test.ipynb#W1sdnNjb2RlLXJlbW90ZQ%3D%3D?line=5'>6</a>\u001b[0m ds \u001b[39m=\u001b[39m xr\u001b[39m.\u001b[39mopen_dataset(remote_file_obj, engine\u001b[39m=\u001b[39m\u001b[39m'\u001b[39m\u001b[39mh5netcdf\u001b[39m\u001b[39m'\u001b[39m)\n",
      "File \u001b[0;32m~/training/anaconda3/envs/pochas_env/lib/python3.8/site-packages/fsspec/spec.py:1106\u001b[0m, in \u001b[0;36mAbstractFileSystem.open\u001b[0;34m(self, path, mode, block_size, cache_options, compression, **kwargs)\u001b[0m\n\u001b[1;32m   1104\u001b[0m \u001b[39melse\u001b[39;00m:\n\u001b[1;32m   1105\u001b[0m     ac \u001b[39m=\u001b[39m kwargs\u001b[39m.\u001b[39mpop(\u001b[39m\"\u001b[39m\u001b[39mautocommit\u001b[39m\u001b[39m\"\u001b[39m, \u001b[39mnot\u001b[39;00m \u001b[39mself\u001b[39m\u001b[39m.\u001b[39m_intrans)\n\u001b[0;32m-> 1106\u001b[0m     f \u001b[39m=\u001b[39m \u001b[39mself\u001b[39;49m\u001b[39m.\u001b[39;49m_open(\n\u001b[1;32m   1107\u001b[0m         path,\n\u001b[1;32m   1108\u001b[0m         mode\u001b[39m=\u001b[39;49mmode,\n\u001b[1;32m   1109\u001b[0m         block_size\u001b[39m=\u001b[39;49mblock_size,\n\u001b[1;32m   1110\u001b[0m         autocommit\u001b[39m=\u001b[39;49mac,\n\u001b[1;32m   1111\u001b[0m         cache_options\u001b[39m=\u001b[39;49mcache_options,\n\u001b[1;32m   1112\u001b[0m         \u001b[39m*\u001b[39;49m\u001b[39m*\u001b[39;49mkwargs,\n\u001b[1;32m   1113\u001b[0m     )\n\u001b[1;32m   1114\u001b[0m     \u001b[39mif\u001b[39;00m compression \u001b[39mis\u001b[39;00m \u001b[39mnot\u001b[39;00m \u001b[39mNone\u001b[39;00m:\n\u001b[1;32m   1115\u001b[0m         \u001b[39mfrom\u001b[39;00m \u001b[39mfsspec\u001b[39;00m\u001b[39m.\u001b[39;00m\u001b[39mcompression\u001b[39;00m \u001b[39mimport\u001b[39;00m compr\n",
      "File \u001b[0;32m~/training/anaconda3/envs/pochas_env/lib/python3.8/site-packages/s3fs/core.py:640\u001b[0m, in \u001b[0;36mS3FileSystem._open\u001b[0;34m(self, path, mode, block_size, acl, version_id, fill_cache, cache_type, autocommit, requester_pays, cache_options, **kwargs)\u001b[0m\n\u001b[1;32m    637\u001b[0m \u001b[39mif\u001b[39;00m cache_type \u001b[39mis\u001b[39;00m \u001b[39mNone\u001b[39;00m:\n\u001b[1;32m    638\u001b[0m     cache_type \u001b[39m=\u001b[39m \u001b[39mself\u001b[39m\u001b[39m.\u001b[39mdefault_cache_type\n\u001b[0;32m--> 640\u001b[0m \u001b[39mreturn\u001b[39;00m S3File(\n\u001b[1;32m    641\u001b[0m     \u001b[39mself\u001b[39;49m,\n\u001b[1;32m    642\u001b[0m     path,\n\u001b[1;32m    643\u001b[0m     mode,\n\u001b[1;32m    644\u001b[0m     block_size\u001b[39m=\u001b[39;49mblock_size,\n\u001b[1;32m    645\u001b[0m     acl\u001b[39m=\u001b[39;49macl,\n\u001b[1;32m    646\u001b[0m     version_id\u001b[39m=\u001b[39;49mversion_id,\n\u001b[1;32m    647\u001b[0m     fill_cache\u001b[39m=\u001b[39;49mfill_cache,\n\u001b[1;32m    648\u001b[0m     s3_additional_kwargs\u001b[39m=\u001b[39;49mkw,\n\u001b[1;32m    649\u001b[0m     cache_type\u001b[39m=\u001b[39;49mcache_type,\n\u001b[1;32m    650\u001b[0m     autocommit\u001b[39m=\u001b[39;49mautocommit,\n\u001b[1;32m    651\u001b[0m     requester_pays\u001b[39m=\u001b[39;49mrequester_pays,\n\u001b[1;32m    652\u001b[0m     cache_options\u001b[39m=\u001b[39;49mcache_options,\n\u001b[1;32m    653\u001b[0m )\n",
      "File \u001b[0;32m~/training/anaconda3/envs/pochas_env/lib/python3.8/site-packages/s3fs/core.py:1989\u001b[0m, in \u001b[0;36mS3File.__init__\u001b[0;34m(self, s3, path, mode, block_size, acl, version_id, fill_cache, s3_additional_kwargs, autocommit, cache_type, requester_pays, cache_options)\u001b[0m\n\u001b[1;32m   1987\u001b[0m         \u001b[39mself\u001b[39m\u001b[39m.\u001b[39mdetails \u001b[39m=\u001b[39m s3\u001b[39m.\u001b[39minfo(path)\n\u001b[1;32m   1988\u001b[0m         \u001b[39mself\u001b[39m\u001b[39m.\u001b[39mversion_id \u001b[39m=\u001b[39m \u001b[39mself\u001b[39m\u001b[39m.\u001b[39mdetails\u001b[39m.\u001b[39mget(\u001b[39m\"\u001b[39m\u001b[39mVersionId\u001b[39m\u001b[39m\"\u001b[39m)\n\u001b[0;32m-> 1989\u001b[0m \u001b[39msuper\u001b[39;49m()\u001b[39m.\u001b[39;49m\u001b[39m__init__\u001b[39;49m(\n\u001b[1;32m   1990\u001b[0m     s3,\n\u001b[1;32m   1991\u001b[0m     path,\n\u001b[1;32m   1992\u001b[0m     mode,\n\u001b[1;32m   1993\u001b[0m     block_size,\n\u001b[1;32m   1994\u001b[0m     autocommit\u001b[39m=\u001b[39;49mautocommit,\n\u001b[1;32m   1995\u001b[0m     cache_type\u001b[39m=\u001b[39;49mcache_type,\n\u001b[1;32m   1996\u001b[0m     cache_options\u001b[39m=\u001b[39;49mcache_options,\n\u001b[1;32m   1997\u001b[0m )\n\u001b[1;32m   1998\u001b[0m \u001b[39mself\u001b[39m\u001b[39m.\u001b[39ms3 \u001b[39m=\u001b[39m \u001b[39mself\u001b[39m\u001b[39m.\u001b[39mfs  \u001b[39m# compatibility\u001b[39;00m\n\u001b[1;32m   2000\u001b[0m \u001b[39m# when not using autocommit we want to have transactional state to manage\u001b[39;00m\n",
      "File \u001b[0;32m~/training/anaconda3/envs/pochas_env/lib/python3.8/site-packages/fsspec/spec.py:1462\u001b[0m, in \u001b[0;36mAbstractBufferedFile.__init__\u001b[0;34m(self, fs, path, mode, block_size, autocommit, cache_type, cache_options, size, **kwargs)\u001b[0m\n\u001b[1;32m   1460\u001b[0m         \u001b[39mself\u001b[39m\u001b[39m.\u001b[39msize \u001b[39m=\u001b[39m size\n\u001b[1;32m   1461\u001b[0m     \u001b[39melse\u001b[39;00m:\n\u001b[0;32m-> 1462\u001b[0m         \u001b[39mself\u001b[39m\u001b[39m.\u001b[39msize \u001b[39m=\u001b[39m \u001b[39mself\u001b[39;49m\u001b[39m.\u001b[39;49mdetails[\u001b[39m\"\u001b[39m\u001b[39msize\u001b[39m\u001b[39m\"\u001b[39m]\n\u001b[1;32m   1463\u001b[0m     \u001b[39mself\u001b[39m\u001b[39m.\u001b[39mcache \u001b[39m=\u001b[39m caches[cache_type](\n\u001b[1;32m   1464\u001b[0m         \u001b[39mself\u001b[39m\u001b[39m.\u001b[39mblocksize, \u001b[39mself\u001b[39m\u001b[39m.\u001b[39m_fetch_range, \u001b[39mself\u001b[39m\u001b[39m.\u001b[39msize, \u001b[39m*\u001b[39m\u001b[39m*\u001b[39mcache_options\n\u001b[1;32m   1465\u001b[0m     )\n\u001b[1;32m   1466\u001b[0m \u001b[39melse\u001b[39;00m:\n",
      "File \u001b[0;32m~/training/anaconda3/envs/pochas_env/lib/python3.8/site-packages/fsspec/spec.py:1475\u001b[0m, in \u001b[0;36mAbstractBufferedFile.details\u001b[0;34m(self)\u001b[0m\n\u001b[1;32m   1472\u001b[0m \u001b[39m@property\u001b[39m\n\u001b[1;32m   1473\u001b[0m \u001b[39mdef\u001b[39;00m \u001b[39mdetails\u001b[39m(\u001b[39mself\u001b[39m):\n\u001b[1;32m   1474\u001b[0m     \u001b[39mif\u001b[39;00m \u001b[39mself\u001b[39m\u001b[39m.\u001b[39m_details \u001b[39mis\u001b[39;00m \u001b[39mNone\u001b[39;00m:\n\u001b[0;32m-> 1475\u001b[0m         \u001b[39mself\u001b[39m\u001b[39m.\u001b[39m_details \u001b[39m=\u001b[39m \u001b[39mself\u001b[39;49m\u001b[39m.\u001b[39;49mfs\u001b[39m.\u001b[39;49minfo(\u001b[39mself\u001b[39;49m\u001b[39m.\u001b[39;49mpath)\n\u001b[1;32m   1476\u001b[0m     \u001b[39mreturn\u001b[39;00m \u001b[39mself\u001b[39m\u001b[39m.\u001b[39m_details\n",
      "File \u001b[0;32m~/training/anaconda3/envs/pochas_env/lib/python3.8/site-packages/fsspec/asyn.py:113\u001b[0m, in \u001b[0;36msync_wrapper.<locals>.wrapper\u001b[0;34m(*args, **kwargs)\u001b[0m\n\u001b[1;32m    110\u001b[0m \u001b[39m@functools\u001b[39m\u001b[39m.\u001b[39mwraps(func)\n\u001b[1;32m    111\u001b[0m \u001b[39mdef\u001b[39;00m \u001b[39mwrapper\u001b[39m(\u001b[39m*\u001b[39margs, \u001b[39m*\u001b[39m\u001b[39m*\u001b[39mkwargs):\n\u001b[1;32m    112\u001b[0m     \u001b[39mself\u001b[39m \u001b[39m=\u001b[39m obj \u001b[39mor\u001b[39;00m args[\u001b[39m0\u001b[39m]\n\u001b[0;32m--> 113\u001b[0m     \u001b[39mreturn\u001b[39;00m sync(\u001b[39mself\u001b[39;49m\u001b[39m.\u001b[39;49mloop, func, \u001b[39m*\u001b[39;49margs, \u001b[39m*\u001b[39;49m\u001b[39m*\u001b[39;49mkwargs)\n",
      "File \u001b[0;32m~/training/anaconda3/envs/pochas_env/lib/python3.8/site-packages/fsspec/asyn.py:98\u001b[0m, in \u001b[0;36msync\u001b[0;34m(loop, func, timeout, *args, **kwargs)\u001b[0m\n\u001b[1;32m     96\u001b[0m     \u001b[39mraise\u001b[39;00m FSTimeoutError \u001b[39mfrom\u001b[39;00m \u001b[39mreturn_result\u001b[39;00m\n\u001b[1;32m     97\u001b[0m \u001b[39melif\u001b[39;00m \u001b[39misinstance\u001b[39m(return_result, \u001b[39mBaseException\u001b[39;00m):\n\u001b[0;32m---> 98\u001b[0m     \u001b[39mraise\u001b[39;00m return_result\n\u001b[1;32m     99\u001b[0m \u001b[39melse\u001b[39;00m:\n\u001b[1;32m    100\u001b[0m     \u001b[39mreturn\u001b[39;00m return_result\n",
      "File \u001b[0;32m~/training/anaconda3/envs/pochas_env/lib/python3.8/site-packages/fsspec/asyn.py:53\u001b[0m, in \u001b[0;36m_runner\u001b[0;34m(event, coro, result, timeout)\u001b[0m\n\u001b[1;32m     51\u001b[0m     coro \u001b[39m=\u001b[39m asyncio\u001b[39m.\u001b[39mwait_for(coro, timeout\u001b[39m=\u001b[39mtimeout)\n\u001b[1;32m     52\u001b[0m \u001b[39mtry\u001b[39;00m:\n\u001b[0;32m---> 53\u001b[0m     result[\u001b[39m0\u001b[39m] \u001b[39m=\u001b[39m \u001b[39mawait\u001b[39;00m coro\n\u001b[1;32m     54\u001b[0m \u001b[39mexcept\u001b[39;00m \u001b[39mException\u001b[39;00m \u001b[39mas\u001b[39;00m ex:\n\u001b[1;32m     55\u001b[0m     result[\u001b[39m0\u001b[39m] \u001b[39m=\u001b[39m ex\n",
      "File \u001b[0;32m~/training/anaconda3/envs/pochas_env/lib/python3.8/site-packages/s3fs/core.py:1210\u001b[0m, in \u001b[0;36mS3FileSystem._info\u001b[0;34m(self, path, bucket, key, refresh, version_id)\u001b[0m\n\u001b[1;32m   1208\u001b[0m \u001b[39mif\u001b[39;00m key:\n\u001b[1;32m   1209\u001b[0m     \u001b[39mtry\u001b[39;00m:\n\u001b[0;32m-> 1210\u001b[0m         out \u001b[39m=\u001b[39m \u001b[39mawait\u001b[39;00m \u001b[39mself\u001b[39m\u001b[39m.\u001b[39m_call_s3(\n\u001b[1;32m   1211\u001b[0m             \u001b[39m\"\u001b[39m\u001b[39mhead_object\u001b[39m\u001b[39m\"\u001b[39m,\n\u001b[1;32m   1212\u001b[0m             \u001b[39mself\u001b[39m\u001b[39m.\u001b[39mkwargs,\n\u001b[1;32m   1213\u001b[0m             Bucket\u001b[39m=\u001b[39mbucket,\n\u001b[1;32m   1214\u001b[0m             Key\u001b[39m=\u001b[39mkey,\n\u001b[1;32m   1215\u001b[0m             \u001b[39m*\u001b[39m\u001b[39m*\u001b[39mversion_id_kw(version_id),\n\u001b[1;32m   1216\u001b[0m             \u001b[39m*\u001b[39m\u001b[39m*\u001b[39m\u001b[39mself\u001b[39m\u001b[39m.\u001b[39mreq_kw,\n\u001b[1;32m   1217\u001b[0m         )\n\u001b[1;32m   1218\u001b[0m         \u001b[39mreturn\u001b[39;00m {\n\u001b[1;32m   1219\u001b[0m             \u001b[39m\"\u001b[39m\u001b[39mETag\u001b[39m\u001b[39m\"\u001b[39m: out\u001b[39m.\u001b[39mget(\u001b[39m\"\u001b[39m\u001b[39mETag\u001b[39m\u001b[39m\"\u001b[39m, \u001b[39m\"\u001b[39m\u001b[39m\"\u001b[39m),\n\u001b[1;32m   1220\u001b[0m             \u001b[39m\"\u001b[39m\u001b[39mLastModified\u001b[39m\u001b[39m\"\u001b[39m: out[\u001b[39m\"\u001b[39m\u001b[39mLastModified\u001b[39m\u001b[39m\"\u001b[39m],\n\u001b[0;32m   (...)\u001b[0m\n\u001b[1;32m   1226\u001b[0m             \u001b[39m\"\u001b[39m\u001b[39mContentType\u001b[39m\u001b[39m\"\u001b[39m: out\u001b[39m.\u001b[39mget(\u001b[39m\"\u001b[39m\u001b[39mContentType\u001b[39m\u001b[39m\"\u001b[39m),\n\u001b[1;32m   1227\u001b[0m         }\n\u001b[1;32m   1228\u001b[0m     \u001b[39mexcept\u001b[39;00m \u001b[39mFileNotFoundError\u001b[39;00m:\n",
      "File \u001b[0;32m~/training/anaconda3/envs/pochas_env/lib/python3.8/site-packages/s3fs/core.py:339\u001b[0m, in \u001b[0;36mS3FileSystem._call_s3\u001b[0;34m(self, method, *akwarglist, **kwargs)\u001b[0m\n\u001b[1;32m    337\u001b[0m logger\u001b[39m.\u001b[39mdebug(\u001b[39m\"\u001b[39m\u001b[39mCALL: \u001b[39m\u001b[39m%s\u001b[39;00m\u001b[39m - \u001b[39m\u001b[39m%s\u001b[39;00m\u001b[39m - \u001b[39m\u001b[39m%s\u001b[39;00m\u001b[39m\"\u001b[39m, method\u001b[39m.\u001b[39m\u001b[39m__name__\u001b[39m, akwarglist, kw2)\n\u001b[1;32m    338\u001b[0m additional_kwargs \u001b[39m=\u001b[39m \u001b[39mself\u001b[39m\u001b[39m.\u001b[39m_get_s3_method_kwargs(method, \u001b[39m*\u001b[39makwarglist, \u001b[39m*\u001b[39m\u001b[39m*\u001b[39mkwargs)\n\u001b[0;32m--> 339\u001b[0m \u001b[39mreturn\u001b[39;00m \u001b[39mawait\u001b[39;00m _error_wrapper(\n\u001b[1;32m    340\u001b[0m     method, kwargs\u001b[39m=\u001b[39madditional_kwargs, retries\u001b[39m=\u001b[39m\u001b[39mself\u001b[39m\u001b[39m.\u001b[39mretries\n\u001b[1;32m    341\u001b[0m )\n",
      "File \u001b[0;32m~/training/anaconda3/envs/pochas_env/lib/python3.8/site-packages/s3fs/core.py:139\u001b[0m, in \u001b[0;36m_error_wrapper\u001b[0;34m(func, args, kwargs, retries)\u001b[0m\n\u001b[1;32m    137\u001b[0m         err \u001b[39m=\u001b[39m e\n\u001b[1;32m    138\u001b[0m err \u001b[39m=\u001b[39m translate_boto_error(err)\n\u001b[0;32m--> 139\u001b[0m \u001b[39mraise\u001b[39;00m err\n",
      "File \u001b[0;32m~/training/anaconda3/envs/pochas_env/lib/python3.8/site-packages/s3fs/core.py:112\u001b[0m, in \u001b[0;36m_error_wrapper\u001b[0;34m(func, args, kwargs, retries)\u001b[0m\n\u001b[1;32m    110\u001b[0m \u001b[39mfor\u001b[39;00m i \u001b[39min\u001b[39;00m \u001b[39mrange\u001b[39m(retries):\n\u001b[1;32m    111\u001b[0m     \u001b[39mtry\u001b[39;00m:\n\u001b[0;32m--> 112\u001b[0m         \u001b[39mreturn\u001b[39;00m \u001b[39mawait\u001b[39;00m func(\u001b[39m*\u001b[39margs, \u001b[39m*\u001b[39m\u001b[39m*\u001b[39mkwargs)\n\u001b[1;32m    113\u001b[0m     \u001b[39mexcept\u001b[39;00m S3_RETRYABLE_ERRORS \u001b[39mas\u001b[39;00m e:\n\u001b[1;32m    114\u001b[0m         err \u001b[39m=\u001b[39m e\n",
      "File \u001b[0;32m~/training/anaconda3/envs/pochas_env/lib/python3.8/site-packages/aiobotocore/client.py:341\u001b[0m, in \u001b[0;36mAioBaseClient._make_api_call\u001b[0;34m(self, operation_name, api_params)\u001b[0m\n\u001b[1;32m    339\u001b[0m \u001b[39melse\u001b[39;00m:\n\u001b[1;32m    340\u001b[0m     apply_request_checksum(request_dict)\n\u001b[0;32m--> 341\u001b[0m     http, parsed_response \u001b[39m=\u001b[39m \u001b[39mawait\u001b[39;00m \u001b[39mself\u001b[39m\u001b[39m.\u001b[39m_make_request(\n\u001b[1;32m    342\u001b[0m         operation_model, request_dict, request_context\n\u001b[1;32m    343\u001b[0m     )\n\u001b[1;32m    345\u001b[0m \u001b[39mawait\u001b[39;00m \u001b[39mself\u001b[39m\u001b[39m.\u001b[39mmeta\u001b[39m.\u001b[39mevents\u001b[39m.\u001b[39memit(\n\u001b[1;32m    346\u001b[0m     \u001b[39m'\u001b[39m\u001b[39mafter-call.\u001b[39m\u001b[39m{service_id}\u001b[39;00m\u001b[39m.\u001b[39m\u001b[39m{operation_name}\u001b[39;00m\u001b[39m'\u001b[39m\u001b[39m.\u001b[39mformat(\n\u001b[1;32m    347\u001b[0m         service_id\u001b[39m=\u001b[39mservice_id, operation_name\u001b[39m=\u001b[39moperation_name\n\u001b[0;32m   (...)\u001b[0m\n\u001b[1;32m    352\u001b[0m     context\u001b[39m=\u001b[39mrequest_context,\n\u001b[1;32m    353\u001b[0m )\n\u001b[1;32m    355\u001b[0m \u001b[39mif\u001b[39;00m http\u001b[39m.\u001b[39mstatus_code \u001b[39m>\u001b[39m\u001b[39m=\u001b[39m \u001b[39m300\u001b[39m:\n",
      "File \u001b[0;32m~/training/anaconda3/envs/pochas_env/lib/python3.8/site-packages/aiobotocore/client.py:366\u001b[0m, in \u001b[0;36mAioBaseClient._make_request\u001b[0;34m(self, operation_model, request_dict, request_context)\u001b[0m\n\u001b[1;32m    362\u001b[0m \u001b[39masync\u001b[39;00m \u001b[39mdef\u001b[39;00m \u001b[39m_make_request\u001b[39m(\n\u001b[1;32m    363\u001b[0m     \u001b[39mself\u001b[39m, operation_model, request_dict, request_context\n\u001b[1;32m    364\u001b[0m ):\n\u001b[1;32m    365\u001b[0m     \u001b[39mtry\u001b[39;00m:\n\u001b[0;32m--> 366\u001b[0m         \u001b[39mreturn\u001b[39;00m \u001b[39mawait\u001b[39;00m \u001b[39mself\u001b[39m\u001b[39m.\u001b[39m_endpoint\u001b[39m.\u001b[39mmake_request(\n\u001b[1;32m    367\u001b[0m             operation_model, request_dict\n\u001b[1;32m    368\u001b[0m         )\n\u001b[1;32m    369\u001b[0m     \u001b[39mexcept\u001b[39;00m \u001b[39mException\u001b[39;00m \u001b[39mas\u001b[39;00m e:\n\u001b[1;32m    370\u001b[0m         \u001b[39mawait\u001b[39;00m \u001b[39mself\u001b[39m\u001b[39m.\u001b[39mmeta\u001b[39m.\u001b[39mevents\u001b[39m.\u001b[39memit(\n\u001b[1;32m    371\u001b[0m             \u001b[39m'\u001b[39m\u001b[39mafter-call-error.\u001b[39m\u001b[39m{service_id}\u001b[39;00m\u001b[39m.\u001b[39m\u001b[39m{operation_name}\u001b[39;00m\u001b[39m'\u001b[39m\u001b[39m.\u001b[39mformat(\n\u001b[1;32m    372\u001b[0m                 service_id\u001b[39m=\u001b[39m\u001b[39mself\u001b[39m\u001b[39m.\u001b[39m_service_model\u001b[39m.\u001b[39mservice_id\u001b[39m.\u001b[39mhyphenize(),\n\u001b[0;32m   (...)\u001b[0m\n\u001b[1;32m    376\u001b[0m             context\u001b[39m=\u001b[39mrequest_context,\n\u001b[1;32m    377\u001b[0m         )\n",
      "File \u001b[0;32m~/training/anaconda3/envs/pochas_env/lib/python3.8/site-packages/aiobotocore/endpoint.py:100\u001b[0m, in \u001b[0;36mAioEndpoint._send_request\u001b[0;34m(self, request_dict, operation_model)\u001b[0m\n\u001b[1;32m     96\u001b[0m request \u001b[39m=\u001b[39m \u001b[39mawait\u001b[39;00m \u001b[39mself\u001b[39m\u001b[39m.\u001b[39mcreate_request(request_dict, operation_model)\n\u001b[1;32m     97\u001b[0m success_response, exception \u001b[39m=\u001b[39m \u001b[39mawait\u001b[39;00m \u001b[39mself\u001b[39m\u001b[39m.\u001b[39m_get_response(\n\u001b[1;32m     98\u001b[0m     request, operation_model, context\n\u001b[1;32m     99\u001b[0m )\n\u001b[0;32m--> 100\u001b[0m \u001b[39mwhile\u001b[39;00m \u001b[39mawait\u001b[39;00m \u001b[39mself\u001b[39m\u001b[39m.\u001b[39m_needs_retry(\n\u001b[1;32m    101\u001b[0m     attempts,\n\u001b[1;32m    102\u001b[0m     operation_model,\n\u001b[1;32m    103\u001b[0m     request_dict,\n\u001b[1;32m    104\u001b[0m     success_response,\n\u001b[1;32m    105\u001b[0m     exception,\n\u001b[1;32m    106\u001b[0m ):\n\u001b[1;32m    107\u001b[0m     attempts \u001b[39m+\u001b[39m\u001b[39m=\u001b[39m \u001b[39m1\u001b[39m\n\u001b[1;32m    108\u001b[0m     \u001b[39mself\u001b[39m\u001b[39m.\u001b[39m_update_retries_context(context, attempts, success_response)\n",
      "File \u001b[0;32m~/training/anaconda3/envs/pochas_env/lib/python3.8/site-packages/aiobotocore/endpoint.py:262\u001b[0m, in \u001b[0;36mAioEndpoint._needs_retry\u001b[0;34m(self, attempts, operation_model, request_dict, response, caught_exception)\u001b[0m\n\u001b[1;32m    260\u001b[0m service_id \u001b[39m=\u001b[39m operation_model\u001b[39m.\u001b[39mservice_model\u001b[39m.\u001b[39mservice_id\u001b[39m.\u001b[39mhyphenize()\n\u001b[1;32m    261\u001b[0m event_name \u001b[39m=\u001b[39m \u001b[39mf\u001b[39m\u001b[39m\"\u001b[39m\u001b[39mneeds-retry.\u001b[39m\u001b[39m{\u001b[39;00mservice_id\u001b[39m}\u001b[39;00m\u001b[39m.\u001b[39m\u001b[39m{\u001b[39;00moperation_model\u001b[39m.\u001b[39mname\u001b[39m}\u001b[39;00m\u001b[39m\"\u001b[39m\n\u001b[0;32m--> 262\u001b[0m responses \u001b[39m=\u001b[39m \u001b[39mawait\u001b[39;00m \u001b[39mself\u001b[39m\u001b[39m.\u001b[39m_event_emitter\u001b[39m.\u001b[39memit(\n\u001b[1;32m    263\u001b[0m     event_name,\n\u001b[1;32m    264\u001b[0m     response\u001b[39m=\u001b[39mresponse,\n\u001b[1;32m    265\u001b[0m     endpoint\u001b[39m=\u001b[39m\u001b[39mself\u001b[39m,\n\u001b[1;32m    266\u001b[0m     operation\u001b[39m=\u001b[39moperation_model,\n\u001b[1;32m    267\u001b[0m     attempts\u001b[39m=\u001b[39mattempts,\n\u001b[1;32m    268\u001b[0m     caught_exception\u001b[39m=\u001b[39mcaught_exception,\n\u001b[1;32m    269\u001b[0m     request_dict\u001b[39m=\u001b[39mrequest_dict,\n\u001b[1;32m    270\u001b[0m )\n\u001b[1;32m    271\u001b[0m handler_response \u001b[39m=\u001b[39m first_non_none_response(responses)\n\u001b[1;32m    272\u001b[0m \u001b[39mif\u001b[39;00m handler_response \u001b[39mis\u001b[39;00m \u001b[39mNone\u001b[39;00m:\n",
      "File \u001b[0;32m~/training/anaconda3/envs/pochas_env/lib/python3.8/site-packages/aiobotocore/hooks.py:66\u001b[0m, in \u001b[0;36mAioHierarchicalEmitter._emit\u001b[0;34m(self, event_name, kwargs, stop_on_response)\u001b[0m\n\u001b[1;32m     63\u001b[0m logger\u001b[39m.\u001b[39mdebug(\u001b[39m'\u001b[39m\u001b[39mEvent \u001b[39m\u001b[39m%s\u001b[39;00m\u001b[39m: calling handler \u001b[39m\u001b[39m%s\u001b[39;00m\u001b[39m'\u001b[39m, event_name, handler)\n\u001b[1;32m     65\u001b[0m \u001b[39m# Await the handler if its a coroutine.\u001b[39;00m\n\u001b[0;32m---> 66\u001b[0m response \u001b[39m=\u001b[39m \u001b[39mawait\u001b[39;00m resolve_awaitable(handler(\u001b[39m*\u001b[39m\u001b[39m*\u001b[39mkwargs))\n\u001b[1;32m     67\u001b[0m responses\u001b[39m.\u001b[39mappend((handler, response))\n\u001b[1;32m     68\u001b[0m \u001b[39mif\u001b[39;00m stop_on_response \u001b[39mand\u001b[39;00m response \u001b[39mis\u001b[39;00m \u001b[39mnot\u001b[39;00m \u001b[39mNone\u001b[39;00m:\n",
      "File \u001b[0;32m~/training/anaconda3/envs/pochas_env/lib/python3.8/site-packages/aiobotocore/_helpers.py:15\u001b[0m, in \u001b[0;36mresolve_awaitable\u001b[0;34m(obj)\u001b[0m\n\u001b[1;32m     13\u001b[0m \u001b[39masync\u001b[39;00m \u001b[39mdef\u001b[39;00m \u001b[39mresolve_awaitable\u001b[39m(obj):\n\u001b[1;32m     14\u001b[0m     \u001b[39mif\u001b[39;00m inspect\u001b[39m.\u001b[39misawaitable(obj):\n\u001b[0;32m---> 15\u001b[0m         \u001b[39mreturn\u001b[39;00m \u001b[39mawait\u001b[39;00m obj\n\u001b[1;32m     17\u001b[0m     \u001b[39mreturn\u001b[39;00m obj\n",
      "File \u001b[0;32m~/training/anaconda3/envs/pochas_env/lib/python3.8/site-packages/aiobotocore/retryhandler.py:107\u001b[0m, in \u001b[0;36mAioRetryHandler._call\u001b[0;34m(self, attempts, response, caught_exception, **kwargs)\u001b[0m\n\u001b[1;32m    104\u001b[0m     retries_context \u001b[39m=\u001b[39m kwargs[\u001b[39m'\u001b[39m\u001b[39mrequest_dict\u001b[39m\u001b[39m'\u001b[39m][\u001b[39m'\u001b[39m\u001b[39mcontext\u001b[39m\u001b[39m'\u001b[39m]\u001b[39m.\u001b[39mget(\u001b[39m'\u001b[39m\u001b[39mretries\u001b[39m\u001b[39m'\u001b[39m)\n\u001b[1;32m    105\u001b[0m     checker_kwargs\u001b[39m.\u001b[39mupdate({\u001b[39m'\u001b[39m\u001b[39mretries_context\u001b[39m\u001b[39m'\u001b[39m: retries_context})\n\u001b[0;32m--> 107\u001b[0m \u001b[39mif\u001b[39;00m \u001b[39mawait\u001b[39;00m resolve_awaitable(\u001b[39mself\u001b[39m\u001b[39m.\u001b[39m_checker(\u001b[39m*\u001b[39m\u001b[39m*\u001b[39mchecker_kwargs)):\n\u001b[1;32m    108\u001b[0m     result \u001b[39m=\u001b[39m \u001b[39mself\u001b[39m\u001b[39m.\u001b[39m_action(attempts\u001b[39m=\u001b[39mattempts)\n\u001b[1;32m    109\u001b[0m     logger\u001b[39m.\u001b[39mdebug(\u001b[39m\"\u001b[39m\u001b[39mRetry needed, action of: \u001b[39m\u001b[39m%s\u001b[39;00m\u001b[39m\"\u001b[39m, result)\n",
      "File \u001b[0;32m~/training/anaconda3/envs/pochas_env/lib/python3.8/site-packages/aiobotocore/_helpers.py:15\u001b[0m, in \u001b[0;36mresolve_awaitable\u001b[0;34m(obj)\u001b[0m\n\u001b[1;32m     13\u001b[0m \u001b[39masync\u001b[39;00m \u001b[39mdef\u001b[39;00m \u001b[39mresolve_awaitable\u001b[39m(obj):\n\u001b[1;32m     14\u001b[0m     \u001b[39mif\u001b[39;00m inspect\u001b[39m.\u001b[39misawaitable(obj):\n\u001b[0;32m---> 15\u001b[0m         \u001b[39mreturn\u001b[39;00m \u001b[39mawait\u001b[39;00m obj\n\u001b[1;32m     17\u001b[0m     \u001b[39mreturn\u001b[39;00m obj\n",
      "File \u001b[0;32m~/training/anaconda3/envs/pochas_env/lib/python3.8/site-packages/aiobotocore/retryhandler.py:126\u001b[0m, in \u001b[0;36mAioMaxAttemptsDecorator._call\u001b[0;34m(self, attempt_number, response, caught_exception, retries_context)\u001b[0m\n\u001b[1;32m    121\u001b[0m \u001b[39mif\u001b[39;00m retries_context:\n\u001b[1;32m    122\u001b[0m     retries_context[\u001b[39m'\u001b[39m\u001b[39mmax\u001b[39m\u001b[39m'\u001b[39m] \u001b[39m=\u001b[39m \u001b[39mmax\u001b[39m(\n\u001b[1;32m    123\u001b[0m         retries_context\u001b[39m.\u001b[39mget(\u001b[39m'\u001b[39m\u001b[39mmax\u001b[39m\u001b[39m'\u001b[39m, \u001b[39m0\u001b[39m), \u001b[39mself\u001b[39m\u001b[39m.\u001b[39m_max_attempts\n\u001b[1;32m    124\u001b[0m     )\n\u001b[0;32m--> 126\u001b[0m should_retry \u001b[39m=\u001b[39m \u001b[39mawait\u001b[39;00m \u001b[39mself\u001b[39m\u001b[39m.\u001b[39m_should_retry(\n\u001b[1;32m    127\u001b[0m     attempt_number, response, caught_exception\n\u001b[1;32m    128\u001b[0m )\n\u001b[1;32m    129\u001b[0m \u001b[39mif\u001b[39;00m should_retry:\n\u001b[1;32m    130\u001b[0m     \u001b[39mif\u001b[39;00m attempt_number \u001b[39m>\u001b[39m\u001b[39m=\u001b[39m \u001b[39mself\u001b[39m\u001b[39m.\u001b[39m_max_attempts:\n\u001b[1;32m    131\u001b[0m         \u001b[39m# explicitly set MaxAttemptsReached\u001b[39;00m\n",
      "File \u001b[0;32m~/training/anaconda3/envs/pochas_env/lib/python3.8/site-packages/aiobotocore/retryhandler.py:165\u001b[0m, in \u001b[0;36mAioMaxAttemptsDecorator._should_retry\u001b[0;34m(self, attempt_number, response, caught_exception)\u001b[0m\n\u001b[1;32m    161\u001b[0m         \u001b[39mreturn\u001b[39;00m \u001b[39mTrue\u001b[39;00m\n\u001b[1;32m    162\u001b[0m \u001b[39melse\u001b[39;00m:\n\u001b[1;32m    163\u001b[0m     \u001b[39m# If we've exceeded the max attempts we just let the exception\u001b[39;00m\n\u001b[1;32m    164\u001b[0m     \u001b[39m# propagate if one has occurred.\u001b[39;00m\n\u001b[0;32m--> 165\u001b[0m     \u001b[39mreturn\u001b[39;00m \u001b[39mawait\u001b[39;00m resolve_awaitable(\n\u001b[1;32m    166\u001b[0m         \u001b[39mself\u001b[39m\u001b[39m.\u001b[39m_checker(attempt_number, response, caught_exception)\n\u001b[1;32m    167\u001b[0m     )\n",
      "File \u001b[0;32m~/training/anaconda3/envs/pochas_env/lib/python3.8/site-packages/aiobotocore/_helpers.py:15\u001b[0m, in \u001b[0;36mresolve_awaitable\u001b[0;34m(obj)\u001b[0m\n\u001b[1;32m     13\u001b[0m \u001b[39masync\u001b[39;00m \u001b[39mdef\u001b[39;00m \u001b[39mresolve_awaitable\u001b[39m(obj):\n\u001b[1;32m     14\u001b[0m     \u001b[39mif\u001b[39;00m inspect\u001b[39m.\u001b[39misawaitable(obj):\n\u001b[0;32m---> 15\u001b[0m         \u001b[39mreturn\u001b[39;00m \u001b[39mawait\u001b[39;00m obj\n\u001b[1;32m     17\u001b[0m     \u001b[39mreturn\u001b[39;00m obj\n",
      "File \u001b[0;32m~/training/anaconda3/envs/pochas_env/lib/python3.8/site-packages/aiobotocore/retryhandler.py:174\u001b[0m, in \u001b[0;36mAioMultiChecker._call\u001b[0;34m(self, attempt_number, response, caught_exception)\u001b[0m\n\u001b[1;32m    171\u001b[0m \u001b[39masync\u001b[39;00m \u001b[39mdef\u001b[39;00m \u001b[39m_call\u001b[39m(\u001b[39mself\u001b[39m, attempt_number, response, caught_exception):\n\u001b[1;32m    172\u001b[0m     \u001b[39mfor\u001b[39;00m checker \u001b[39min\u001b[39;00m \u001b[39mself\u001b[39m\u001b[39m.\u001b[39m_checkers:\n\u001b[1;32m    173\u001b[0m         checker_response \u001b[39m=\u001b[39m \u001b[39mawait\u001b[39;00m resolve_awaitable(\n\u001b[0;32m--> 174\u001b[0m             checker(attempt_number, response, caught_exception)\n\u001b[1;32m    175\u001b[0m         )\n\u001b[1;32m    176\u001b[0m         \u001b[39mif\u001b[39;00m checker_response:\n\u001b[1;32m    177\u001b[0m             \u001b[39mreturn\u001b[39;00m checker_response\n",
      "File \u001b[0;32m~/training/anaconda3/envs/pochas_env/lib/python3.8/site-packages/botocore/retryhandler.py:247\u001b[0m, in \u001b[0;36mBaseChecker.__call__\u001b[0;34m(self, attempt_number, response, caught_exception)\u001b[0m\n\u001b[1;32m    245\u001b[0m     \u001b[39mreturn\u001b[39;00m \u001b[39mself\u001b[39m\u001b[39m.\u001b[39m_check_response(attempt_number, response)\n\u001b[1;32m    246\u001b[0m \u001b[39melif\u001b[39;00m caught_exception \u001b[39mis\u001b[39;00m \u001b[39mnot\u001b[39;00m \u001b[39mNone\u001b[39;00m:\n\u001b[0;32m--> 247\u001b[0m     \u001b[39mreturn\u001b[39;00m \u001b[39mself\u001b[39;49m\u001b[39m.\u001b[39;49m_check_caught_exception(\n\u001b[1;32m    248\u001b[0m         attempt_number, caught_exception\n\u001b[1;32m    249\u001b[0m     )\n\u001b[1;32m    250\u001b[0m \u001b[39melse\u001b[39;00m:\n\u001b[1;32m    251\u001b[0m     \u001b[39mraise\u001b[39;00m \u001b[39mValueError\u001b[39;00m(\u001b[39m\"\u001b[39m\u001b[39mBoth response and caught_exception are None.\u001b[39m\u001b[39m\"\u001b[39m)\n",
      "File \u001b[0;32m~/training/anaconda3/envs/pochas_env/lib/python3.8/site-packages/botocore/retryhandler.py:416\u001b[0m, in \u001b[0;36mExceptionRaiser._check_caught_exception\u001b[0;34m(self, attempt_number, caught_exception)\u001b[0m\n\u001b[1;32m    408\u001b[0m \u001b[39mdef\u001b[39;00m \u001b[39m_check_caught_exception\u001b[39m(\u001b[39mself\u001b[39m, attempt_number, caught_exception):\n\u001b[1;32m    409\u001b[0m     \u001b[39m# This is implementation specific, but this class is useful by\u001b[39;00m\n\u001b[1;32m    410\u001b[0m     \u001b[39m# coordinating with the MaxAttemptsDecorator.\u001b[39;00m\n\u001b[0;32m   (...)\u001b[0m\n\u001b[1;32m    414\u001b[0m     \u001b[39m# the MaxAttemptsDecorator is not interested in retrying the exception\u001b[39;00m\n\u001b[1;32m    415\u001b[0m     \u001b[39m# then this exception just propogates out past the retry code.\u001b[39;00m\n\u001b[0;32m--> 416\u001b[0m     \u001b[39mraise\u001b[39;00m caught_exception\n",
      "File \u001b[0;32m~/training/anaconda3/envs/pochas_env/lib/python3.8/site-packages/aiobotocore/endpoint.py:181\u001b[0m, in \u001b[0;36mAioEndpoint._do_get_response\u001b[0;34m(self, request, operation_model, context)\u001b[0m\n\u001b[1;32m    179\u001b[0m     http_response \u001b[39m=\u001b[39m first_non_none_response(responses)\n\u001b[1;32m    180\u001b[0m     \u001b[39mif\u001b[39;00m http_response \u001b[39mis\u001b[39;00m \u001b[39mNone\u001b[39;00m:\n\u001b[0;32m--> 181\u001b[0m         http_response \u001b[39m=\u001b[39m \u001b[39mawait\u001b[39;00m \u001b[39mself\u001b[39m\u001b[39m.\u001b[39m_send(request)\n\u001b[1;32m    182\u001b[0m \u001b[39mexcept\u001b[39;00m HTTPClientError \u001b[39mas\u001b[39;00m e:\n\u001b[1;32m    183\u001b[0m     \u001b[39mreturn\u001b[39;00m (\u001b[39mNone\u001b[39;00m, e)\n",
      "File \u001b[0;32m~/training/anaconda3/envs/pochas_env/lib/python3.8/site-packages/aiobotocore/endpoint.py:285\u001b[0m, in \u001b[0;36mAioEndpoint._send\u001b[0;34m(self, request)\u001b[0m\n\u001b[1;32m    284\u001b[0m \u001b[39masync\u001b[39;00m \u001b[39mdef\u001b[39;00m \u001b[39m_send\u001b[39m(\u001b[39mself\u001b[39m, request):\n\u001b[0;32m--> 285\u001b[0m     \u001b[39mreturn\u001b[39;00m \u001b[39mawait\u001b[39;00m \u001b[39mself\u001b[39m\u001b[39m.\u001b[39mhttp_session\u001b[39m.\u001b[39msend(request)\n",
      "File \u001b[0;32m~/training/anaconda3/envs/pochas_env/lib/python3.8/site-packages/aiobotocore/httpsession.py:246\u001b[0m, in \u001b[0;36mAIOHTTPSession.send\u001b[0;34m(self, request)\u001b[0m\n\u001b[1;32m    240\u001b[0m         \u001b[39mraise\u001b[39;00m ReadTimeoutError(endpoint_url\u001b[39m=\u001b[39mrequest\u001b[39m.\u001b[39murl, error\u001b[39m=\u001b[39me)\n\u001b[1;32m    241\u001b[0m \u001b[39mexcept\u001b[39;00m (\n\u001b[1;32m    242\u001b[0m     ClientConnectorError,\n\u001b[1;32m    243\u001b[0m     ClientConnectionError,\n\u001b[1;32m    244\u001b[0m     socket\u001b[39m.\u001b[39mgaierror,\n\u001b[1;32m    245\u001b[0m ) \u001b[39mas\u001b[39;00m e:\n\u001b[0;32m--> 246\u001b[0m     \u001b[39mraise\u001b[39;00m EndpointConnectionError(endpoint_url\u001b[39m=\u001b[39mrequest\u001b[39m.\u001b[39murl, error\u001b[39m=\u001b[39me)\n\u001b[1;32m    247\u001b[0m \u001b[39mexcept\u001b[39;00m asyncio\u001b[39m.\u001b[39mTimeoutError \u001b[39mas\u001b[39;00m e:\n\u001b[1;32m    248\u001b[0m     \u001b[39mraise\u001b[39;00m ReadTimeoutError(endpoint_url\u001b[39m=\u001b[39mrequest\u001b[39m.\u001b[39murl, error\u001b[39m=\u001b[39me)\n",
      "\u001b[0;31mEndpointConnectionError\u001b[0m: Could not connect to the endpoint URL: \"https://era5-pds.s3.us-east-1a.amazonaws.com/2022/05/data/precipitation_amount_1hour_Accumulation.nc\""
     ]
    }
   ],
   "source": [
    "import xarray as xr\n",
    "import s3fs\n",
    "fs_s3 = s3fs.S3FileSystem(anon=True)\n",
    "s3path = 'era5-pds/2022/05/data/precipitation_amount_1hour_Accumulation.nc'\n",
    "remote_file_obj = fs_s3.open(s3path, mode='rb')\n",
    "ds = xr.open_dataset(remote_file_obj, engine='h5netcdf')"
   ]
  },
  {
   "cell_type": "code",
   "execution_count": 4,
   "id": "50486679-a48e-44ad-8330-e5fb8c6b1fe7",
   "metadata": {
    "tags": []
   },
   "outputs": [
    {
     "name": "stderr",
     "output_type": "stream",
     "text": [
      "/scicore/home/roeoesli/valipo0000/training/anaconda3/envs/pochas_env/lib/python3.8/site-packages/xarray/backends/plugins.py:65: RuntimeWarning: Engine 'cfgrib' loading failed:\n",
      "Cannot find the ecCodes library\n",
      "  warnings.warn(f\"Engine {name!r} loading failed:\\n{ex}\", RuntimeWarning)\n"
     ]
    }
   ],
   "source": [
    "ds = xr.open_dataset('precipitation_amount_1hour_Accumulation.nc')"
   ]
  },
  {
   "cell_type": "code",
   "execution_count": null,
   "id": "73fd5893-e0a9-424f-9dac-45434f1989d1",
   "metadata": {},
   "outputs": [],
   "source": [
    "ds"
   ]
  },
  {
   "cell_type": "code",
   "execution_count": null,
   "id": "eef619a9-c52e-4cfd-b80d-0338abf5953b",
   "metadata": {},
   "outputs": [],
   "source": [
    "ds.f'{list(ds.keys())[1]}'"
   ]
  },
  {
   "cell_type": "code",
   "execution_count": null,
   "id": "151784bc-f0a0-4421-bf3b-9fad1ef99e5f",
   "metadata": {},
   "outputs": [],
   "source": [
    "list(ds.coords)"
   ]
  },
  {
   "cell_type": "code",
   "execution_count": 5,
   "id": "1a3aff8a-9505-4366-b77b-c3113bc6d17f",
   "metadata": {},
   "outputs": [],
   "source": [
    "latitudes = ds.lon.values\n",
    "longitudes = ds.lat.values\n",
    "times = ds.time1.values\n",
    "precipitation_amount_1hour_Accumulation = ds.precipitation_amount_1hour_Accumulation.values"
   ]
  },
  {
   "cell_type": "code",
   "execution_count": 6,
   "id": "0d8c4a13-41e7-40ed-a5c3-24c6ee73ae25",
   "metadata": {},
   "outputs": [],
   "source": [
    "times_grid, latitudes_grid, longitudes_grid = [x.flatten() for x in np.meshgrid(times, latitudes, longitudes, indexing='ij')]"
   ]
  },
  {
   "cell_type": "code",
   "execution_count": 7,
   "id": "08a000b8-82b5-41f6-afd1-157ddfa48393",
   "metadata": {},
   "outputs": [
    {
     "data": {
      "text/plain": [
       "((772450560,), (772450560,), (772450560,), (744, 721, 1440))"
      ]
     },
     "execution_count": 7,
     "metadata": {},
     "output_type": "execute_result"
    }
   ],
   "source": [
    "times_grid.shape, latitudes_grid.shape, latitudes_grid.shape, precipitation_amount_1hour_Accumulation.shape"
   ]
  },
  {
   "cell_type": "code",
   "execution_count": null,
   "id": "628508e7-5cbd-4d7f-8814-3986e2744256",
   "metadata": {},
   "outputs": [],
   "source": [
    "times_grid[10000000]"
   ]
  },
  {
   "cell_type": "code",
   "execution_count": 8,
   "id": "0a3234be-6196-417a-9922-7d6ce5a768c5",
   "metadata": {},
   "outputs": [],
   "source": [
    "df = pd.DataFrame({\n",
    "     'time': times_grid,\n",
    "     'latitude': latitudes_grid,\n",
    "     'longitude': longitudes_grid,\n",
    "     'precipitation_amount_1hour_Accumulation': precipitation_amount_1hour_Accumulation.flatten()})"
   ]
  },
  {
   "cell_type": "code",
   "execution_count": 9,
   "id": "16a940ef-49aa-47da-b9a2-9e70a9c18a9c",
   "metadata": {},
   "outputs": [
    {
     "data": {
      "text/html": [
       "<div>\n",
       "<style scoped>\n",
       "    .dataframe tbody tr th:only-of-type {\n",
       "        vertical-align: middle;\n",
       "    }\n",
       "\n",
       "    .dataframe tbody tr th {\n",
       "        vertical-align: top;\n",
       "    }\n",
       "\n",
       "    .dataframe thead th {\n",
       "        text-align: right;\n",
       "    }\n",
       "</style>\n",
       "<table border=\"1\" class=\"dataframe\">\n",
       "  <thead>\n",
       "    <tr style=\"text-align: right;\">\n",
       "      <th></th>\n",
       "      <th>time</th>\n",
       "      <th>latitude</th>\n",
       "      <th>longitude</th>\n",
       "      <th>precipitation_amount_1hour_Accumulation</th>\n",
       "    </tr>\n",
       "  </thead>\n",
       "  <tbody>\n",
       "    <tr>\n",
       "      <th>772450555</th>\n",
       "      <td>2022-05-31 23:00:00</td>\n",
       "      <td>359.75</td>\n",
       "      <td>-89.00</td>\n",
       "      <td>0.0</td>\n",
       "    </tr>\n",
       "    <tr>\n",
       "      <th>772450556</th>\n",
       "      <td>2022-05-31 23:00:00</td>\n",
       "      <td>359.75</td>\n",
       "      <td>-89.25</td>\n",
       "      <td>0.0</td>\n",
       "    </tr>\n",
       "    <tr>\n",
       "      <th>772450557</th>\n",
       "      <td>2022-05-31 23:00:00</td>\n",
       "      <td>359.75</td>\n",
       "      <td>-89.50</td>\n",
       "      <td>0.0</td>\n",
       "    </tr>\n",
       "    <tr>\n",
       "      <th>772450558</th>\n",
       "      <td>2022-05-31 23:00:00</td>\n",
       "      <td>359.75</td>\n",
       "      <td>-89.75</td>\n",
       "      <td>0.0</td>\n",
       "    </tr>\n",
       "    <tr>\n",
       "      <th>772450559</th>\n",
       "      <td>2022-05-31 23:00:00</td>\n",
       "      <td>359.75</td>\n",
       "      <td>-90.00</td>\n",
       "      <td>0.0</td>\n",
       "    </tr>\n",
       "  </tbody>\n",
       "</table>\n",
       "</div>"
      ],
      "text/plain": [
       "                         time  latitude  longitude  \\\n",
       "772450555 2022-05-31 23:00:00    359.75     -89.00   \n",
       "772450556 2022-05-31 23:00:00    359.75     -89.25   \n",
       "772450557 2022-05-31 23:00:00    359.75     -89.50   \n",
       "772450558 2022-05-31 23:00:00    359.75     -89.75   \n",
       "772450559 2022-05-31 23:00:00    359.75     -90.00   \n",
       "\n",
       "           precipitation_amount_1hour_Accumulation  \n",
       "772450555                                      0.0  \n",
       "772450556                                      0.0  \n",
       "772450557                                      0.0  \n",
       "772450558                                      0.0  \n",
       "772450559                                      0.0  "
      ]
     },
     "execution_count": 9,
     "metadata": {},
     "output_type": "execute_result"
    }
   ],
   "source": [
    "df.tail()"
   ]
  },
  {
   "cell_type": "code",
   "execution_count": null,
   "id": "c322ff63-f815-4e4d-8171-16b7a7b0f974",
   "metadata": {},
   "outputs": [],
   "source": [
    "times_grid"
   ]
  },
  {
   "cell_type": "code",
   "execution_count": null,
   "id": "975719e0-3917-407d-bb9d-ab8ebdf1ea0c",
   "metadata": {},
   "outputs": [],
   "source": [
    "ds.loc['2022-05-01T00:00:00.000000000':'2022-05-01T09:00:00.000000000']"
   ]
  },
  {
   "cell_type": "code",
   "execution_count": null,
   "id": "8653977e-396f-4316-acd1-527998fbcee3",
   "metadata": {},
   "outputs": [],
   "source": [
    "ds.sel(time1=slice(\"2022-05-01T00:00:00\", \"2022-05-01T09:00:00\"))"
   ]
  },
  {
   "cell_type": "code",
   "execution_count": null,
   "id": "ce70c9c6-cbe7-4988-9394-0073714f453a",
   "metadata": {},
   "outputs": [],
   "source": [
    "list_coords = list(ds.coords)"
   ]
  },
  {
   "cell_type": "code",
   "execution_count": null,
   "id": "a1e57e34-5f77-4144-9040-f73621a378f6",
   "metadata": {
    "tags": []
   },
   "outputs": [],
   "source": [
    "ds.sel(time_var=slice(\"2022-05-01T00:00:00\", \"2022-05-01T09:00:00\"))"
   ]
  },
  {
   "cell_type": "code",
   "execution_count": 10,
   "id": "114ef2c1-f2f1-4ff3-8231-a8bc8e9415ee",
   "metadata": {},
   "outputs": [
    {
     "ename": "NameError",
     "evalue": "name 'list_coords' is not defined",
     "output_type": "error",
     "traceback": [
      "\u001b[0;31m---------------------------------------------------------------------------\u001b[0m",
      "\u001b[0;31mNameError\u001b[0m                                 Traceback (most recent call last)",
      "Input \u001b[0;32mIn [10]\u001b[0m, in \u001b[0;36m<cell line: 1>\u001b[0;34m()\u001b[0m\n\u001b[0;32m----> 1\u001b[0m time_var \u001b[38;5;241m=\u001b[39m {\u001b[43mlist_coords\u001b[49m[\u001b[38;5;241m2\u001b[39m]:\u001b[38;5;28mslice\u001b[39m(\u001b[38;5;124m\"\u001b[39m\u001b[38;5;124m2022-05-01T00:00:00\u001b[39m\u001b[38;5;124m\"\u001b[39m, \u001b[38;5;124m\"\u001b[39m\u001b[38;5;124m2022-05-01T09:00:00\u001b[39m\u001b[38;5;124m\"\u001b[39m)}\n",
      "\u001b[0;31mNameError\u001b[0m: name 'list_coords' is not defined"
     ]
    }
   ],
   "source": [
    "time_var = {list_coords[2]:slice(\"2022-05-01T00:00:00\", \"2022-05-01T09:00:00\")}"
   ]
  },
  {
   "cell_type": "code",
   "execution_count": null,
   "id": "ef0a50cf-253d-4738-980d-17778f4ad6db",
   "metadata": {},
   "outputs": [],
   "source": []
  },
  {
   "cell_type": "code",
   "execution_count": null,
   "id": "f4b03d3d-2834-4a98-8ade-5bba895012b0",
   "metadata": {},
   "outputs": [],
   "source": [
    "ds.sel(time_var)"
   ]
  },
  {
   "cell_type": "code",
   "execution_count": null,
   "id": "af329d10-58c9-4141-b09d-7a6850b81925",
   "metadata": {},
   "outputs": [],
   "source": [
    "df.shape"
   ]
  },
  {
   "cell_type": "code",
   "execution_count": null,
   "id": "9ad51f65-e8a3-492f-8c42-f3e08a7aab5b",
   "metadata": {},
   "outputs": [],
   "source": [
    "dfh3 = df.h3.geo_to_h3(resolution=1,lat_col=\"latitude\",lng_col=\"longitude\")"
   ]
  },
  {
   "cell_type": "code",
   "execution_count": 11,
   "id": "d104928d-9d1b-4d65-a858-0249654ca850",
   "metadata": {},
   "outputs": [],
   "source": [
    "df_ = df.iloc[:10,:].h3.geo_to_h3(resolution=10,lat_col=\"latitude\",lng_col=\"longitude\")"
   ]
  },
  {
   "cell_type": "code",
   "execution_count": null,
   "id": "288346fd-ec61-4a16-9090-cc66d4d936bb",
   "metadata": {},
   "outputs": [],
   "source": [
    "df_.to_parquet('./test.parquet')"
   ]
  },
  {
   "cell_type": "code",
   "execution_count": null,
   "id": "2dcb9e87-0cc2-440b-b528-b51f26fcf84c",
   "metadata": {},
   "outputs": [],
   "source": [
    "a = pd.read_parquet('./test.parquet')"
   ]
  },
  {
   "cell_type": "code",
   "execution_count": null,
   "id": "8723dd5a-a70e-4212-9415-4544299db4ac",
   "metadata": {},
   "outputs": [],
   "source": [
    "dfh3 = a.drop(columns=['time', 'latitude', 'longitude']).groupby('h3_10').sum()"
   ]
  },
  {
   "cell_type": "code",
   "execution_count": 12,
   "id": "673f48bc-ff13-42d2-85df-8fff9b6447dd",
   "metadata": {},
   "outputs": [
    {
     "data": {
      "text/plain": [
       "pandas.core.frame.DataFrame"
      ]
     },
     "execution_count": 12,
     "metadata": {},
     "output_type": "execute_result"
    }
   ],
   "source": [
    "type(df_)"
   ]
  },
  {
   "cell_type": "code",
   "execution_count": 13,
   "id": "d3d9fcb6-cf0f-4131-8ff8-c27df885d135",
   "metadata": {},
   "outputs": [
    {
     "data": {
      "text/html": [
       "<div>\n",
       "<style scoped>\n",
       "    .dataframe tbody tr th:only-of-type {\n",
       "        vertical-align: middle;\n",
       "    }\n",
       "\n",
       "    .dataframe tbody tr th {\n",
       "        vertical-align: top;\n",
       "    }\n",
       "\n",
       "    .dataframe thead th {\n",
       "        text-align: right;\n",
       "    }\n",
       "</style>\n",
       "<table border=\"1\" class=\"dataframe\">\n",
       "  <thead>\n",
       "    <tr style=\"text-align: right;\">\n",
       "      <th></th>\n",
       "      <th>time</th>\n",
       "      <th>latitude</th>\n",
       "      <th>longitude</th>\n",
       "      <th>precipitation_amount_1hour_Accumulation</th>\n",
       "    </tr>\n",
       "    <tr>\n",
       "      <th>h3_10</th>\n",
       "      <th></th>\n",
       "      <th></th>\n",
       "      <th></th>\n",
       "      <th></th>\n",
       "    </tr>\n",
       "  </thead>\n",
       "  <tbody>\n",
       "    <tr>\n",
       "      <th>8a86b6236307fff</th>\n",
       "      <td>2022-05-01</td>\n",
       "      <td>0.0</td>\n",
       "      <td>90.00</td>\n",
       "      <td>0.000061</td>\n",
       "    </tr>\n",
       "    <tr>\n",
       "      <th>8a86b625c0c7fff</th>\n",
       "      <td>2022-05-01</td>\n",
       "      <td>0.0</td>\n",
       "      <td>89.75</td>\n",
       "      <td>0.000061</td>\n",
       "    </tr>\n",
       "    <tr>\n",
       "      <th>8a86b0423447fff</th>\n",
       "      <td>2022-05-01</td>\n",
       "      <td>0.0</td>\n",
       "      <td>89.50</td>\n",
       "      <td>0.000061</td>\n",
       "    </tr>\n",
       "    <tr>\n",
       "      <th>8a86b044948ffff</th>\n",
       "      <td>2022-05-01</td>\n",
       "      <td>0.0</td>\n",
       "      <td>89.25</td>\n",
       "      <td>0.000061</td>\n",
       "    </tr>\n",
       "    <tr>\n",
       "      <th>8a86b0629877fff</th>\n",
       "      <td>2022-05-01</td>\n",
       "      <td>0.0</td>\n",
       "      <td>89.00</td>\n",
       "      <td>0.000061</td>\n",
       "    </tr>\n",
       "    <tr>\n",
       "      <th>8a86b3902887fff</th>\n",
       "      <td>2022-05-01</td>\n",
       "      <td>0.0</td>\n",
       "      <td>88.75</td>\n",
       "      <td>0.000061</td>\n",
       "    </tr>\n",
       "    <tr>\n",
       "      <th>8a86b3860c0ffff</th>\n",
       "      <td>2022-05-01</td>\n",
       "      <td>0.0</td>\n",
       "      <td>88.50</td>\n",
       "      <td>0.000061</td>\n",
       "    </tr>\n",
       "    <tr>\n",
       "      <th>8a86b3b0dc9ffff</th>\n",
       "      <td>2022-05-01</td>\n",
       "      <td>0.0</td>\n",
       "      <td>88.25</td>\n",
       "      <td>0.000061</td>\n",
       "    </tr>\n",
       "    <tr>\n",
       "      <th>8a86b16932e7fff</th>\n",
       "      <td>2022-05-01</td>\n",
       "      <td>0.0</td>\n",
       "      <td>88.00</td>\n",
       "      <td>0.000061</td>\n",
       "    </tr>\n",
       "    <tr>\n",
       "      <th>8a8686d46937fff</th>\n",
       "      <td>2022-05-01</td>\n",
       "      <td>0.0</td>\n",
       "      <td>87.75</td>\n",
       "      <td>0.000061</td>\n",
       "    </tr>\n",
       "  </tbody>\n",
       "</table>\n",
       "</div>"
      ],
      "text/plain": [
       "                      time  latitude  longitude  \\\n",
       "h3_10                                             \n",
       "8a86b6236307fff 2022-05-01       0.0      90.00   \n",
       "8a86b625c0c7fff 2022-05-01       0.0      89.75   \n",
       "8a86b0423447fff 2022-05-01       0.0      89.50   \n",
       "8a86b044948ffff 2022-05-01       0.0      89.25   \n",
       "8a86b0629877fff 2022-05-01       0.0      89.00   \n",
       "8a86b3902887fff 2022-05-01       0.0      88.75   \n",
       "8a86b3860c0ffff 2022-05-01       0.0      88.50   \n",
       "8a86b3b0dc9ffff 2022-05-01       0.0      88.25   \n",
       "8a86b16932e7fff 2022-05-01       0.0      88.00   \n",
       "8a8686d46937fff 2022-05-01       0.0      87.75   \n",
       "\n",
       "                 precipitation_amount_1hour_Accumulation  \n",
       "h3_10                                                     \n",
       "8a86b6236307fff                                 0.000061  \n",
       "8a86b625c0c7fff                                 0.000061  \n",
       "8a86b0423447fff                                 0.000061  \n",
       "8a86b044948ffff                                 0.000061  \n",
       "8a86b0629877fff                                 0.000061  \n",
       "8a86b3902887fff                                 0.000061  \n",
       "8a86b3860c0ffff                                 0.000061  \n",
       "8a86b3b0dc9ffff                                 0.000061  \n",
       "8a86b16932e7fff                                 0.000061  \n",
       "8a8686d46937fff                                 0.000061  "
      ]
     },
     "execution_count": 13,
     "metadata": {},
     "output_type": "execute_result"
    }
   ],
   "source": [
    "df_"
   ]
  },
  {
   "cell_type": "code",
   "execution_count": null,
   "id": "40753154-20cd-4a71-b349-72b4ffccca37",
   "metadata": {},
   "outputs": [],
   "source": [
    "a.shape"
   ]
  },
  {
   "cell_type": "code",
   "execution_count": null,
   "id": "d7ff9fed-a299-40a1-8c07-0ff07af08a03",
   "metadata": {},
   "outputs": [],
   "source": [
    "a"
   ]
  },
  {
   "cell_type": "code",
   "execution_count": null,
   "id": "7213bee0-ae8f-4293-a14a-4389f53881e5",
   "metadata": {},
   "outputs": [],
   "source": [
    "dfh3"
   ]
  },
  {
   "cell_type": "code",
   "execution_count": null,
   "id": "25c80c42-3892-4dfb-9095-d84b61105553",
   "metadata": {},
   "outputs": [],
   "source": []
  }
 ],
 "metadata": {
  "kernelspec": {
   "display_name": "Python 3 (ipykernel)",
   "language": "python",
   "name": "python3"
  },
  "language_info": {
   "codemirror_mode": {
    "name": "ipython",
    "version": 3
   },
   "file_extension": ".py",
   "mimetype": "text/x-python",
   "name": "python",
   "nbconvert_exporter": "python",
   "pygments_lexer": "ipython3",
   "version": "3.8.12"
  },
  "vscode": {
   "interpreter": {
    "hash": "0de9606d2c99c5baefb0ba6e2dccf285534cc64c1e6de23b054597c513c61aae"
   }
  }
 },
 "nbformat": 4,
 "nbformat_minor": 5
}
