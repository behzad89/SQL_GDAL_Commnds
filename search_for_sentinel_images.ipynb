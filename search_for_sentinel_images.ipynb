{
 "cells": [
  {
   "cell_type": "code",
   "execution_count": 1,
   "metadata": {},
   "outputs": [],
   "source": [
    "import geopandas as gpd\n",
    "from sentinelsat.sentinel import SentinelAPI"
   ]
  },
  {
   "cell_type": "code",
   "execution_count": 2,
   "metadata": {},
   "outputs": [],
   "source": [
    "boundary = gpd.read_file('./map.geojson')"
   ]
  },
  {
   "cell_type": "code",
   "execution_count": 3,
   "metadata": {},
   "outputs": [],
   "source": [
    "footprint = None\n",
    "for i in boundary['geometry']:\n",
    "    footprint = i"
   ]
  },
  {
   "cell_type": "code",
   "execution_count": 5,
   "metadata": {},
   "outputs": [],
   "source": [
    "user = 'behzad89'\n",
    "password = '7862035508'"
   ]
  },
  {
   "cell_type": "code",
   "execution_count": 6,
   "metadata": {},
   "outputs": [],
   "source": [
    "api = SentinelAPI(user, password, 'https://scihub.copernicus.eu/dhus')"
   ]
  },
  {
   "cell_type": "code",
   "execution_count": 176,
   "metadata": {},
   "outputs": [],
   "source": [
    "products = api.query(footprint,\n",
    "                     date = ('20190101', '20191231'),\n",
    "                     platformname = 'Sentinel-2',\n",
    "                     processinglevel = 'Level-2A',\n",
    "                     cloudcoverpercentage = (0, 5))"
   ]
  },
  {
   "cell_type": "code",
   "execution_count": 177,
   "metadata": {},
   "outputs": [
    {
     "data": {
      "text/html": [
       "<div>\n",
       "<style scoped>\n",
       "    .dataframe tbody tr th:only-of-type {\n",
       "        vertical-align: middle;\n",
       "    }\n",
       "\n",
       "    .dataframe tbody tr th {\n",
       "        vertical-align: top;\n",
       "    }\n",
       "\n",
       "    .dataframe thead th {\n",
       "        text-align: right;\n",
       "    }\n",
       "</style>\n",
       "<table border=\"1\" class=\"dataframe\">\n",
       "  <thead>\n",
       "    <tr style=\"text-align: right;\">\n",
       "      <th></th>\n",
       "      <th>title</th>\n",
       "      <th>vegetationpercentage</th>\n",
       "      <th>cloudcoverpercentage</th>\n",
       "      <th>ingestiondate</th>\n",
       "    </tr>\n",
       "  </thead>\n",
       "  <tbody>\n",
       "    <tr>\n",
       "      <th>97b0f236-0e91-4802-9020-47917a8346a5</th>\n",
       "      <td>S2B_MSIL2A_20190115T103359_N0211_R108_T32TLS_2...</td>\n",
       "      <td>12.674482</td>\n",
       "      <td>3.717281</td>\n",
       "      <td>2019-01-15 21:20:36.125</td>\n",
       "    </tr>\n",
       "    <tr>\n",
       "      <th>837df865-8380-43a0-9b17-8df366fe34b5</th>\n",
       "      <td>S2B_MSIL2A_20190214T103129_N0211_R108_T32TLS_2...</td>\n",
       "      <td>12.098096</td>\n",
       "      <td>1.043037</td>\n",
       "      <td>2019-02-14 23:23:18.482</td>\n",
       "    </tr>\n",
       "    <tr>\n",
       "      <th>7db67d8d-86a0-48d6-9361-07e2ac149261</th>\n",
       "      <td>S2B_MSIL2A_20190224T103019_N0211_R108_T32TLS_2...</td>\n",
       "      <td>20.325536</td>\n",
       "      <td>1.536708</td>\n",
       "      <td>2019-02-24 20:48:03.063</td>\n",
       "    </tr>\n",
       "    <tr>\n",
       "      <th>c67fbf4a-ffa9-4d30-833f-8a6ad4662fd4</th>\n",
       "      <td>S2B_MSIL2A_20190415T103029_N0211_R108_T32TLS_2...</td>\n",
       "      <td>43.167555</td>\n",
       "      <td>4.033853</td>\n",
       "      <td>2019-04-15 22:55:27.127</td>\n",
       "    </tr>\n",
       "    <tr>\n",
       "      <th>730f18d1-3868-4a48-8528-2e498493946f</th>\n",
       "      <td>S2A_MSIL2A_20190420T103031_N0211_R108_T32TLS_2...</td>\n",
       "      <td>44.974649</td>\n",
       "      <td>3.787486</td>\n",
       "      <td>2019-04-20 21:30:06.262</td>\n",
       "    </tr>\n",
       "    <tr>\n",
       "      <th>13f2b7de-46de-44d6-8b3d-298226d032ce</th>\n",
       "      <td>S2B_MSIL2A_20190604T103029_N0212_R108_T32TLS_2...</td>\n",
       "      <td>63.286245</td>\n",
       "      <td>2.028701</td>\n",
       "      <td>2019-06-04 21:57:55.443</td>\n",
       "    </tr>\n",
       "    <tr>\n",
       "      <th>07f790fe-5a67-4752-be8c-e31f4c7a9e79</th>\n",
       "      <td>S2A_MSIL2A_20190629T103031_N0212_R108_T32TLS_2...</td>\n",
       "      <td>75.554228</td>\n",
       "      <td>0.677888</td>\n",
       "      <td>2019-06-29 21:39:40.117</td>\n",
       "    </tr>\n",
       "    <tr>\n",
       "      <th>c42ab847-d0c1-41b2-bbde-204ece59b0ce</th>\n",
       "      <td>S2B_MSIL2A_20190724T103029_N0213_R108_T32TLS_2...</td>\n",
       "      <td>80.914927</td>\n",
       "      <td>0.328087</td>\n",
       "      <td>2019-07-24 16:08:35.748</td>\n",
       "    </tr>\n",
       "    <tr>\n",
       "      <th>92165f53-2562-47e9-b143-3d57360224fd</th>\n",
       "      <td>S2B_MSIL2A_20190724T103029_N0213_R108_T32TLS_2...</td>\n",
       "      <td>71.576077</td>\n",
       "      <td>1.611063</td>\n",
       "      <td>2019-07-24 20:09:51.142</td>\n",
       "    </tr>\n",
       "    <tr>\n",
       "      <th>eacd38d9-fea3-4371-9d48-4fc6ea83c3da</th>\n",
       "      <td>S2A_MSIL2A_20190818T103031_N0213_R108_T32TLS_2...</td>\n",
       "      <td>73.344022</td>\n",
       "      <td>1.900640</td>\n",
       "      <td>2019-08-19 15:14:49.496</td>\n",
       "    </tr>\n",
       "    <tr>\n",
       "      <th>54ad22b4-4bda-444a-8a74-4fd7ac79eaea</th>\n",
       "      <td>S2B_MSIL2A_20190912T103019_N0213_R108_T32TLS_2...</td>\n",
       "      <td>76.025665</td>\n",
       "      <td>0.298554</td>\n",
       "      <td>2019-09-12 21:30:47.408</td>\n",
       "    </tr>\n",
       "  </tbody>\n",
       "</table>\n",
       "</div>"
      ],
      "text/plain": [
       "                                                                                  title  \\\n",
       "97b0f236-0e91-4802-9020-47917a8346a5  S2B_MSIL2A_20190115T103359_N0211_R108_T32TLS_2...   \n",
       "837df865-8380-43a0-9b17-8df366fe34b5  S2B_MSIL2A_20190214T103129_N0211_R108_T32TLS_2...   \n",
       "7db67d8d-86a0-48d6-9361-07e2ac149261  S2B_MSIL2A_20190224T103019_N0211_R108_T32TLS_2...   \n",
       "c67fbf4a-ffa9-4d30-833f-8a6ad4662fd4  S2B_MSIL2A_20190415T103029_N0211_R108_T32TLS_2...   \n",
       "730f18d1-3868-4a48-8528-2e498493946f  S2A_MSIL2A_20190420T103031_N0211_R108_T32TLS_2...   \n",
       "13f2b7de-46de-44d6-8b3d-298226d032ce  S2B_MSIL2A_20190604T103029_N0212_R108_T32TLS_2...   \n",
       "07f790fe-5a67-4752-be8c-e31f4c7a9e79  S2A_MSIL2A_20190629T103031_N0212_R108_T32TLS_2...   \n",
       "c42ab847-d0c1-41b2-bbde-204ece59b0ce  S2B_MSIL2A_20190724T103029_N0213_R108_T32TLS_2...   \n",
       "92165f53-2562-47e9-b143-3d57360224fd  S2B_MSIL2A_20190724T103029_N0213_R108_T32TLS_2...   \n",
       "eacd38d9-fea3-4371-9d48-4fc6ea83c3da  S2A_MSIL2A_20190818T103031_N0213_R108_T32TLS_2...   \n",
       "54ad22b4-4bda-444a-8a74-4fd7ac79eaea  S2B_MSIL2A_20190912T103019_N0213_R108_T32TLS_2...   \n",
       "\n",
       "                                      vegetationpercentage  \\\n",
       "97b0f236-0e91-4802-9020-47917a8346a5             12.674482   \n",
       "837df865-8380-43a0-9b17-8df366fe34b5             12.098096   \n",
       "7db67d8d-86a0-48d6-9361-07e2ac149261             20.325536   \n",
       "c67fbf4a-ffa9-4d30-833f-8a6ad4662fd4             43.167555   \n",
       "730f18d1-3868-4a48-8528-2e498493946f             44.974649   \n",
       "13f2b7de-46de-44d6-8b3d-298226d032ce             63.286245   \n",
       "07f790fe-5a67-4752-be8c-e31f4c7a9e79             75.554228   \n",
       "c42ab847-d0c1-41b2-bbde-204ece59b0ce             80.914927   \n",
       "92165f53-2562-47e9-b143-3d57360224fd             71.576077   \n",
       "eacd38d9-fea3-4371-9d48-4fc6ea83c3da             73.344022   \n",
       "54ad22b4-4bda-444a-8a74-4fd7ac79eaea             76.025665   \n",
       "\n",
       "                                      cloudcoverpercentage  \\\n",
       "97b0f236-0e91-4802-9020-47917a8346a5              3.717281   \n",
       "837df865-8380-43a0-9b17-8df366fe34b5              1.043037   \n",
       "7db67d8d-86a0-48d6-9361-07e2ac149261              1.536708   \n",
       "c67fbf4a-ffa9-4d30-833f-8a6ad4662fd4              4.033853   \n",
       "730f18d1-3868-4a48-8528-2e498493946f              3.787486   \n",
       "13f2b7de-46de-44d6-8b3d-298226d032ce              2.028701   \n",
       "07f790fe-5a67-4752-be8c-e31f4c7a9e79              0.677888   \n",
       "c42ab847-d0c1-41b2-bbde-204ece59b0ce              0.328087   \n",
       "92165f53-2562-47e9-b143-3d57360224fd              1.611063   \n",
       "eacd38d9-fea3-4371-9d48-4fc6ea83c3da              1.900640   \n",
       "54ad22b4-4bda-444a-8a74-4fd7ac79eaea              0.298554   \n",
       "\n",
       "                                               ingestiondate  \n",
       "97b0f236-0e91-4802-9020-47917a8346a5 2019-01-15 21:20:36.125  \n",
       "837df865-8380-43a0-9b17-8df366fe34b5 2019-02-14 23:23:18.482  \n",
       "7db67d8d-86a0-48d6-9361-07e2ac149261 2019-02-24 20:48:03.063  \n",
       "c67fbf4a-ffa9-4d30-833f-8a6ad4662fd4 2019-04-15 22:55:27.127  \n",
       "730f18d1-3868-4a48-8528-2e498493946f 2019-04-20 21:30:06.262  \n",
       "13f2b7de-46de-44d6-8b3d-298226d032ce 2019-06-04 21:57:55.443  \n",
       "07f790fe-5a67-4752-be8c-e31f4c7a9e79 2019-06-29 21:39:40.117  \n",
       "c42ab847-d0c1-41b2-bbde-204ece59b0ce 2019-07-24 16:08:35.748  \n",
       "92165f53-2562-47e9-b143-3d57360224fd 2019-07-24 20:09:51.142  \n",
       "eacd38d9-fea3-4371-9d48-4fc6ea83c3da 2019-08-19 15:14:49.496  \n",
       "54ad22b4-4bda-444a-8a74-4fd7ac79eaea 2019-09-12 21:30:47.408  "
      ]
     },
     "execution_count": 177,
     "metadata": {},
     "output_type": "execute_result"
    }
   ],
   "source": [
    "gdf = api.to_geodataframe(products)\n",
    "gdf_sorted = gdf.sort_values(['ingestiondate'], ascending=[True])\n",
    "gdf_sorted[['title','vegetationpercentage','cloudcoverpercentage','ingestiondate']]"
   ]
  },
  {
   "cell_type": "code",
   "execution_count": 183,
   "metadata": {},
   "outputs": [
    {
     "data": {
      "text/plain": [
       "('S2B_MSIL2A_20190724T103029_N0213_R108_T32TLS_20190724T135539',\n",
       " Timestamp('2019-07-24 20:09:51.142000'))"
      ]
     },
     "execution_count": 183,
     "metadata": {},
     "output_type": "execute_result"
    }
   ],
   "source": [
    "gdf_sorted.title[8],gdf_sorted.ingestiondate[8]"
   ]
  },
  {
   "cell_type": "code",
   "execution_count": 182,
   "metadata": {},
   "outputs": [
    {
     "data": {
      "text/plain": [
       "('S2B_MSIL2A_20190724T103029_N0213_R108_T32TLS_20190724T130550',\n",
       " Timestamp('2019-07-24 16:08:35.748000'))"
      ]
     },
     "execution_count": 182,
     "metadata": {},
     "output_type": "execute_result"
    }
   ],
   "source": [
    "gdf_sorted.title[7],gdf_sorted.ingestiondate[7]"
   ]
  }
 ],
 "metadata": {
  "kernelspec": {
   "display_name": "Python 3.8.13 ('py38': conda)",
   "language": "python",
   "name": "python3"
  },
  "language_info": {
   "codemirror_mode": {
    "name": "ipython",
    "version": 3
   },
   "file_extension": ".py",
   "mimetype": "text/x-python",
   "name": "python",
   "nbconvert_exporter": "python",
   "pygments_lexer": "ipython3",
   "version": "3.8.13"
  },
  "orig_nbformat": 4,
  "vscode": {
   "interpreter": {
    "hash": "16d9354f4e7dff2c371e6ada1d04cea49f0a57b5fce3965e0edb0172a09471e2"
   }
  }
 },
 "nbformat": 4,
 "nbformat_minor": 2
}
