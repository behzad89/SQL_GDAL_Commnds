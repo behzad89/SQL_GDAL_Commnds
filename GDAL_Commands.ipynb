{
 "cells": [
  {
   "cell_type": "markdown",
   "metadata": {},
   "source": [
    "### The commands which is useful when GDAL packages is used"
   ]
  },
  {
   "cell_type": "markdown",
   "metadata": {},
   "source": [
    "## Import shapefile into the DB"
   ]
  },
  {
   "cell_type": "code",
   "execution_count": null,
   "metadata": {},
   "outputs": [],
   "source": [
    "ogr2ogr -f PostgreSQL PG:\"dbname='postgis' user='behzad' password='gis'\" -lco SCHEMA=chp01 countries.shp -nlt MULTIPOLYGON -lco OVERWRITE=YES -nln africa_countries -lco GEOMETRY_NAME=the_geom -where \"satellite='T'\""
   ]
  },
  {
   "cell_type": "markdown",
   "metadata": {},
   "source": [
    "## Updating the the table using the exist shapefile"
   ]
  },
  {
   "cell_type": "code",
   "execution_count": null,
   "metadata": {},
   "outputs": [],
   "source": [
    "ogr2ogr -append -update -f PostgreSQL -t_srs EPSG:3857 PG:\"dbname='postgis' user='behzad' password='gis'\" -nln chp01.btest -nlt POINT new_con.shp"
   ]
  },
  {
   "cell_type": "markdown",
   "metadata": {},
   "source": [
    "## Exporting Shapefile from DB (Other formats is also possible)"
   ]
  },
  {
   "cell_type": "code",
   "execution_count": null,
   "metadata": {},
   "outputs": [],
   "source": [
    "ogr2ogr -f \"ESRI Shapefile\" -t_srs EPSG:4326 new_con.shp PG:\"dbname='postgis' user='behzad' password='gis'\" -sql \" select * from qlayer\""
   ]
  },
  {
   "cell_type": "markdown",
   "metadata": {},
   "source": [
    "## Information about Table in DB"
   ]
  },
  {
   "cell_type": "code",
   "execution_count": null,
   "metadata": {},
   "outputs": [],
   "source": [
    "ogrinfo PG:\"dbname='postgis' user='postgres' password='gis'\" chp01.test_table -fid 1"
   ]
  },
  {
   "cell_type": "markdown",
   "metadata": {},
   "source": [
    "## Information about Raster"
   ]
  },
  {
   "cell_type": "markdown",
   "metadata": {},
   "source": [
    "### Outside  DB"
   ]
  },
  {
   "cell_type": "code",
   "execution_count": null,
   "metadata": {},
   "outputs": [],
   "source": [
    "gdalinfo tmax9.bil"
   ]
  },
  {
   "cell_type": "markdown",
   "metadata": {},
   "source": [
    "### inside  DB"
   ]
  },
  {
   "cell_type": "code",
   "execution_count": null,
   "metadata": {},
   "outputs": [],
   "source": [
    "gdalinfo PG:\"host=localhost port=5432 dbname=postgis user=behzad password=gis schema='chp01' table='tmax01' mode=1\" -sd 1"
   ]
  }
 ],
 "metadata": {
  "kernelspec": {
   "display_name": "Python 3",
   "language": "python",
   "name": "python3"
  },
  "language_info": {
   "codemirror_mode": {
    "name": "ipython",
    "version": 3
   },
   "file_extension": ".py",
   "mimetype": "text/x-python",
   "name": "python",
   "nbconvert_exporter": "python",
   "pygments_lexer": "ipython3",
   "version": "3.6.8"
  }
 },
 "nbformat": 4,
 "nbformat_minor": 2
}
