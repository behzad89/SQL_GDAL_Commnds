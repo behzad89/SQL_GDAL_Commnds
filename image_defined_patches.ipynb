{
 "cells": [
  {
   "cell_type": "code",
   "execution_count": 1,
   "id": "a8a53bc3-6699-4952-a7fb-1fc5e9b2b5f7",
   "metadata": {},
   "outputs": [],
   "source": [
    "import rasterio as rs\n",
    "import numpy as np\n",
    "import pandas as pd\n",
    "import geopandas as gpd\n",
    "import matplotlib.pyplot as plt\n",
    "from shapely.geometry import Point, Polygon, LineString"
   ]
  },
  {
   "cell_type": "code",
   "execution_count": 2,
   "id": "9c23c182-fe09-409e-905b-4a3c7d437708",
   "metadata": {},
   "outputs": [],
   "source": [
    "d = {'geometry': [Polygon([(458452, 6034982),(458552,6034982), (458552, 6035042), (458452, 6035042)]),\n",
    "                 Polygon([(458452, 6034982),(458552,6034982), (458552, 6035042), (458452, 6035042)])]}\n",
    "gdf = gpd.GeoDataFrame(d, crs=\"EPSG:4326\")"
   ]
  },
  {
   "cell_type": "code",
   "execution_count": null,
   "id": "107ffbc1-bd85-46c2-920c-784aa45d6c82",
   "metadata": {},
   "outputs": [],
   "source": [
    "# This can bue used to get the data in the defined batches and save them seperately in the different tif files\n",
    "\n",
    "for i in range(2):\n",
    "    minx,miny,maxx,maxy = gdf.loc[i,'geometry'].bounds\n",
    "    height = int(np.floor((maxx - minx)/0.5))\n",
    "    width = int(np.floor((maxy - miny)/0.5))\n",
    "    xx = np.arange(minx,maxx,0.5)\n",
    "    yy = np.arange(miny,maxy,0.5)\n",
    "    XX,YY = np.meshgrid(xx + (0.5//2), yy +(0.5//2))\n",
    "    XY = np.vstack([XX.ravel(),YY.ravel()])\n",
    "    rowcol = np.asarray(img.index(XX.ravel(),YY.ravel())).T\n",
    "    df = pd.DataFrame()\n",
    "    for b in img.indexes:\n",
    "        band = img.read(b,out_dtype='float64')\n",
    "        extracted_values = [band[coord[0], coord[1]] for coord in rowcol]\n",
    "        df['CHM_'+str(b)] = extracted_values\n",
    "    mat = df.values.reshape(width,height,img.count)\n",
    "    transform = rs.transform.from_bounds(minx,miny,maxx,maxy, width, height)\n",
    "    file_name = 'test{}.tif'.format(i)\n",
    "    with rs.open(file_name, \"w\",\n",
    "                   driver='GTiff',\n",
    "                   count=img.count,\n",
    "                   transform = transform,\n",
    "                   width=width,\n",
    "                   height=height,\n",
    "                   dtype='float64',\n",
    "                   crs=\"epsg:3346\",) as output_file:\n",
    "        output_file.write(np.moveaxis(mat[::-1],-1,0))\n",
    "    \n",
    "    print(minx,miny,maxx,maxy)"
   ]
  }
 ],
 "metadata": {
  "kernelspec": {
   "display_name": "Python 3",
   "language": "python",
   "name": "python3"
  },
  "language_info": {
   "codemirror_mode": {
    "name": "ipython",
    "version": 3
   },
   "file_extension": ".py",
   "mimetype": "text/x-python",
   "name": "python",
   "nbconvert_exporter": "python",
   "pygments_lexer": "ipython3",
   "version": "3.7.4"
  }
 },
 "nbformat": 4,
 "nbformat_minor": 5
}
