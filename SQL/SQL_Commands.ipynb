{
 "cells": [
  {
   "cell_type": "markdown",
   "metadata": {},
   "source": [
    "### The commands which is important when we are using Postgres/PostGIS"
   ]
  },
  {
   "cell_type": "markdown",
   "metadata": {},
   "source": [
    "## Information about Table in DB"
   ]
  },
  {
   "cell_type": "code",
   "execution_count": null,
   "metadata": {},
   "outputs": [],
   "source": [
    "SELECT f_geometry_column, coord_dimension,\n",
    "      srid, type \n",
    "FROM geometry_columns\n",
    "WHERE f_table_name = 'tes_table';"
   ]
  },
  {
   "cell_type": "markdown",
   "metadata": {
    "slideshow": {
     "slide_type": "-"
    }
   },
   "source": [
    "## Spatial join  (Two shapefiles)"
   ]
  },
  {
   "cell_type": "code",
   "execution_count": null,
   "metadata": {},
   "outputs": [],
   "source": [
    "select g.brightness,g.confidence,c.iso2,\n",
    "       g.the_geom into chp01.qtest\n",
    "from global_24h as g\n",
    "join countries as c\n",
    "on st_contains(c.the_geom,st_transform(g.the_geom,4326));"
   ]
  },
  {
   "cell_type": "markdown",
   "metadata": {},
   "source": [
    "## Re-Projection"
   ]
  },
  {
   "cell_type": "code",
   "execution_count": null,
   "metadata": {},
   "outputs": [],
   "source": [
    "ALTER TABLE chp01.global_24h\n",
    "ALTER COLUMN the_geom\n",
    "SET DATA TYPE geometry(Point, 3857)\n",
    "USING ST_Transform(the_geom, 3857);"
   ]
  },
  {
   "cell_type": "markdown",
   "metadata": {},
   "source": [
    "## Saving shapefile"
   ]
  },
  {
   "cell_type": "code",
   "execution_count": null,
   "metadata": {},
   "outputs": [],
   "source": [
    "pgsql2shp -f subregions.shp -h localhost -u behzad -P gis postgis \"select subregion, st_union(the_geom) as the_geom, sum(pop2005) as pop2005 from chp01.countries group by subregion;\""
   ]
  },
  {
   "cell_type": "markdown",
   "metadata": {},
   "source": [
    "## Importing Shapfile into the DB"
   ]
  },
  {
   "cell_type": "code",
   "execution_count": null,
   "metadata": {},
   "outputs": [],
   "source": [
    "shp2pgsql -I -d -s 4326 -W LATIN1 -g the_geom countries.shp chp01.countries > countries.sql"
   ]
  },
  {
   "cell_type": "code",
   "execution_count": null,
   "metadata": {},
   "outputs": [],
   "source": [
    "psql -U behzad -d postgis -f countries.sql"
   ]
  },
  {
   "cell_type": "markdown",
   "metadata": {},
   "source": [
    "## Importing Raster into DB"
   ]
  },
  {
   "cell_type": "code",
   "execution_count": null,
   "metadata": {},
   "outputs": [],
   "source": [
    "raster2pgsql -I -C -F -t 100x100 -s 4326 tmax1.bil chp01.tmax01 > tmax01.sql"
   ]
  },
  {
   "cell_type": "code",
   "execution_count": null,
   "metadata": {},
   "outputs": [],
   "source": [
    "psql -d postgis -U behzad -f tmax01.sql"
   ]
  },
  {
   "cell_type": "markdown",
   "metadata": {},
   "source": [
    "## Show the Raster Info."
   ]
  },
  {
   "cell_type": "code",
   "execution_count": null,
   "metadata": {},
   "outputs": [],
   "source": [
    "# Info about all rasters in the DB\n",
    "SELECT * FROM raster_columns;"
   ]
  },
  {
   "cell_type": "code",
   "execution_count": null,
   "metadata": {},
   "outputs": [],
   "source": [
    "SELECT r_raster_column, srid,\n",
    "      ROUND(scale_x::numeric, 2) AS scale_x,\n",
    "      ROUND(scale_y::numeric, 2) AS scale_y, blocksize_x,\n",
    "      blocksize_y, num_bands, pixel_types, nodata_values, out_db\n",
    "      FROM raster_columns where r_table_schema='chp01'\n",
    "      AND r_table_name ='tmax2012';"
   ]
  },
  {
   "cell_type": "code",
   "execution_count": null,
   "metadata": {},
   "outputs": [],
   "source": [
    "# some raster statistics using the ST_MetaData function \n",
    "# (Note that there is different metadata for each raster record loaded in the table.)\n",
    "\n",
    "SELECT rid, (foo.md).*\n",
    "      FROM (SELECT rid, ST_MetaData(rast) As md\n",
    "      FROM chp01.tmax2012) As foo;"
   ]
  },
  {
   "cell_type": "markdown",
   "metadata": {},
   "source": [
    "## Show the coordinate of the polygon"
   ]
  },
  {
   "cell_type": "code",
   "execution_count": null,
   "metadata": {},
   "outputs": [],
   "source": [
    "select country_name, st_astext(the_geom) as wkt_geom\n",
    "from chp01.africa_countries \n",
    "order by country_name \n",
    "limit DESC 3"
   ]
  },
  {
   "cell_type": "markdown",
   "metadata": {},
   "source": [
    "## Errors after creation table (Primary key & Geometry_columns)"
   ]
  },
  {
   "cell_type": "code",
   "execution_count": null,
   "metadata": {},
   "outputs": [],
   "source": [
    "## Geometry : http://movingspatial.blogspot.com/2013/01/postgis-15-batch-populate-geometry.html\n",
    "\n",
    "SELECT Populate_Geometry_Columns('schema.table'::regclass);"
   ]
  },
  {
   "cell_type": "code",
   "execution_count": null,
   "metadata": {},
   "outputs": [],
   "source": [
    "## Primary key\n",
    "\n",
    "ALTER TABLE t1 ADD PRIMARY KEY(id);\n",
    "\n",
    "ALTER TABLE qlayer ADD ID SERIAL PRIMARY KEY;"
   ]
  },
  {
   "cell_type": "markdown",
   "metadata": {},
   "source": [
    "# Make a point and set coordinate system"
   ]
  },
  {
   "cell_type": "code",
   "execution_count": null,
   "metadata": {},
   "outputs": [],
   "source": [
    "ST_SetSRID"
   ]
  },
  {
   "cell_type": "code",
   "execution_count": null,
   "metadata": {},
   "outputs": [],
   "source": [
    "ST_MakePoint"
   ]
  },
  {
   "cell_type": "markdown",
   "metadata": {},
   "source": []
  }
 ],
 "metadata": {
  "kernelspec": {
   "display_name": "Python 3",
   "language": "python",
   "name": "python3"
  },
  "language_info": {
   "codemirror_mode": {
    "name": "ipython",
    "version": 3
   },
   "file_extension": ".py",
   "mimetype": "text/x-python",
   "name": "python",
   "nbconvert_exporter": "python",
   "pygments_lexer": "ipython3",
   "version": "3.7.0"
  }
 },
 "nbformat": 4,
 "nbformat_minor": 4
}
