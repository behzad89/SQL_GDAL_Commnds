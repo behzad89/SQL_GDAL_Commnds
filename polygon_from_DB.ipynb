{
 "cells": [
  {
   "cell_type": "markdown",
   "metadata": {},
   "source": [
    "# Ploting the polygon after reterving from Postgres DB\n",
    "\n",
    "<font size=\"4\">Sometimes working with **raster** data could be very defficult especially when we are working on large area. In this case, the best solution would be to *convert raster to polygon* and save it in the DB. After that, it is required to *import the polygons into the python environment* in **Dataframe** format and convert it into the **Geodataframe**.</font>"
   ]
  },
  {
   "cell_type": "code",
   "execution_count": 1,
   "metadata": {},
   "outputs": [],
   "source": [
    "import pandas as pd\n",
    "import geopandas as gpd\n",
    "import rasterio as rs\n",
    "import contextily as ctx\n",
    "import psycopg2\n",
    "import folium\n",
    "from folium import plugins\n",
    "from getpass import getpass\n",
    "from folium.plugins import MarkerCluster\n",
    "import matplotlib.pyplot as plt\n",
    "import os\n",
    "import descartes\n",
    "import numpy as np\n",
    "from shapely import wkt\n",
    "from tqdm import tqdm"
   ]
  },
  {
   "cell_type": "code",
   "execution_count": 2,
   "metadata": {},
   "outputs": [
    {
     "name": "stdin",
     "output_type": "stream",
     "text": [
      " ············\n"
     ]
    }
   ],
   "source": [
    "password = getpass()"
   ]
  },
  {
   "cell_type": "code",
   "execution_count": 3,
   "metadata": {},
   "outputs": [],
   "source": [
    "conn = psycopg2.connect(\"dbname='***' user='***' host='***' password='%s'\" % (password))"
   ]
  },
  {
   "cell_type": "code",
   "execution_count": 4,
   "metadata": {},
   "outputs": [],
   "source": [
    "sql=\"\"\"select *, ST_AsText(geom) as geometry  from soilmoisture.uerra_harmonie_nordics_sm_l1_ymonmax_vector;\"\"\""
   ]
  },
  {
   "cell_type": "code",
   "execution_count": 5,
   "metadata": {},
   "outputs": [],
   "source": [
    "df=pd.read_sql_query(sql,conn)\n",
    "df = df.drop(['geom'], axis=1)"
   ]
  },
  {
   "cell_type": "markdown",
   "metadata": {},
   "source": [
    "<font size=\"4\" color=\"orange\"> We use `wshapely.wkt` sub-module to parse wkt format:</font>"
   ]
  },
  {
   "cell_type": "code",
   "execution_count": 6,
   "metadata": {},
   "outputs": [],
   "source": [
    "df['geometry'] = df['geometry'].apply(wkt.loads)"
   ]
  },
  {
   "cell_type": "code",
   "execution_count": 7,
   "metadata": {},
   "outputs": [
    {
     "data": {
      "text/html": [
       "<div>\n",
       "<style scoped>\n",
       "    .dataframe tbody tr th:only-of-type {\n",
       "        vertical-align: middle;\n",
       "    }\n",
       "\n",
       "    .dataframe tbody tr th {\n",
       "        vertical-align: top;\n",
       "    }\n",
       "\n",
       "    .dataframe thead th {\n",
       "        text-align: right;\n",
       "    }\n",
       "</style>\n",
       "<table border=\"1\" class=\"dataframe\">\n",
       "  <thead>\n",
       "    <tr style=\"text-align: right;\">\n",
       "      <th></th>\n",
       "      <th>0</th>\n",
       "      <th>1</th>\n",
       "      <th>2</th>\n",
       "      <th>3</th>\n",
       "      <th>4</th>\n",
       "    </tr>\n",
       "  </thead>\n",
       "  <tbody>\n",
       "    <tr>\n",
       "      <th>fid</th>\n",
       "      <td>1</td>\n",
       "      <td>2</td>\n",
       "      <td>3</td>\n",
       "      <td>4</td>\n",
       "      <td>5</td>\n",
       "    </tr>\n",
       "    <tr>\n",
       "      <th>ymonmax_january</th>\n",
       "      <td>0.34861</td>\n",
       "      <td>0.323368</td>\n",
       "      <td>0.250231</td>\n",
       "      <td>0.254337</td>\n",
       "      <td>0.288951</td>\n",
       "    </tr>\n",
       "    <tr>\n",
       "      <th>ymonmax_february</th>\n",
       "      <td>0.288586</td>\n",
       "      <td>0.327911</td>\n",
       "      <td>0.205932</td>\n",
       "      <td>0.202562</td>\n",
       "      <td>0.237086</td>\n",
       "    </tr>\n",
       "    <tr>\n",
       "      <th>ymonmax_march</th>\n",
       "      <td>0.168546</td>\n",
       "      <td>0.309034</td>\n",
       "      <td>0.107765</td>\n",
       "      <td>0.0946213</td>\n",
       "      <td>0.150582</td>\n",
       "    </tr>\n",
       "    <tr>\n",
       "      <th>ymonmax_april</th>\n",
       "      <td>0.280642</td>\n",
       "      <td>0.287013</td>\n",
       "      <td>0.237945</td>\n",
       "      <td>0.225098</td>\n",
       "      <td>0.260775</td>\n",
       "    </tr>\n",
       "    <tr>\n",
       "      <th>ymonmax_may</th>\n",
       "      <td>0.292876</td>\n",
       "      <td>0.313154</td>\n",
       "      <td>0.288522</td>\n",
       "      <td>0.289397</td>\n",
       "      <td>0.290108</td>\n",
       "    </tr>\n",
       "    <tr>\n",
       "      <th>ymonmax_june</th>\n",
       "      <td>0.286224</td>\n",
       "      <td>0.288791</td>\n",
       "      <td>0.285195</td>\n",
       "      <td>0.290401</td>\n",
       "      <td>0.293585</td>\n",
       "    </tr>\n",
       "    <tr>\n",
       "      <th>ymonmax_july</th>\n",
       "      <td>0.327459</td>\n",
       "      <td>0.279482</td>\n",
       "      <td>0.327792</td>\n",
       "      <td>0.337413</td>\n",
       "      <td>0.341126</td>\n",
       "    </tr>\n",
       "    <tr>\n",
       "      <th>ymonmax_august</th>\n",
       "      <td>0.310177</td>\n",
       "      <td>0.306477</td>\n",
       "      <td>0.30817</td>\n",
       "      <td>0.317077</td>\n",
       "      <td>0.316248</td>\n",
       "    </tr>\n",
       "    <tr>\n",
       "      <th>ymonmax_september</th>\n",
       "      <td>0.302313</td>\n",
       "      <td>0.282393</td>\n",
       "      <td>0.308092</td>\n",
       "      <td>0.309723</td>\n",
       "      <td>0.323115</td>\n",
       "    </tr>\n",
       "    <tr>\n",
       "      <th>ymonmax_october</th>\n",
       "      <td>0.365043</td>\n",
       "      <td>0.302844</td>\n",
       "      <td>0.338892</td>\n",
       "      <td>0.344358</td>\n",
       "      <td>0.344041</td>\n",
       "    </tr>\n",
       "    <tr>\n",
       "      <th>ymonmax_november</th>\n",
       "      <td>0.350862</td>\n",
       "      <td>0.32885</td>\n",
       "      <td>0.364438</td>\n",
       "      <td>0.371538</td>\n",
       "      <td>0.370458</td>\n",
       "    </tr>\n",
       "    <tr>\n",
       "      <th>ymonmax_december</th>\n",
       "      <td>0.32893</td>\n",
       "      <td>0.328423</td>\n",
       "      <td>0.279201</td>\n",
       "      <td>0.297558</td>\n",
       "      <td>0.312798</td>\n",
       "    </tr>\n",
       "    <tr>\n",
       "      <th>geometry</th>\n",
       "      <td>POLYGON ((4964281.60759569 5424012.74048694, 4...</td>\n",
       "      <td>POLYGON ((4877852.82225087 5413209.14231883, 4...</td>\n",
       "      <td>POLYGON ((4953478.00942759 5413209.14231883, 4...</td>\n",
       "      <td>POLYGON ((4964281.60759569 5413209.14231883, 4...</td>\n",
       "      <td>POLYGON ((4975085.2057638 5413209.14231883, 49...</td>\n",
       "    </tr>\n",
       "  </tbody>\n",
       "</table>\n",
       "</div>"
      ],
      "text/plain": [
       "                                                                   0  \\\n",
       "fid                                                                1   \n",
       "ymonmax_january                                              0.34861   \n",
       "ymonmax_february                                            0.288586   \n",
       "ymonmax_march                                               0.168546   \n",
       "ymonmax_april                                               0.280642   \n",
       "ymonmax_may                                                 0.292876   \n",
       "ymonmax_june                                                0.286224   \n",
       "ymonmax_july                                                0.327459   \n",
       "ymonmax_august                                              0.310177   \n",
       "ymonmax_september                                           0.302313   \n",
       "ymonmax_october                                             0.365043   \n",
       "ymonmax_november                                            0.350862   \n",
       "ymonmax_december                                             0.32893   \n",
       "geometry           POLYGON ((4964281.60759569 5424012.74048694, 4...   \n",
       "\n",
       "                                                                   1  \\\n",
       "fid                                                                2   \n",
       "ymonmax_january                                             0.323368   \n",
       "ymonmax_february                                            0.327911   \n",
       "ymonmax_march                                               0.309034   \n",
       "ymonmax_april                                               0.287013   \n",
       "ymonmax_may                                                 0.313154   \n",
       "ymonmax_june                                                0.288791   \n",
       "ymonmax_july                                                0.279482   \n",
       "ymonmax_august                                              0.306477   \n",
       "ymonmax_september                                           0.282393   \n",
       "ymonmax_october                                             0.302844   \n",
       "ymonmax_november                                             0.32885   \n",
       "ymonmax_december                                            0.328423   \n",
       "geometry           POLYGON ((4877852.82225087 5413209.14231883, 4...   \n",
       "\n",
       "                                                                   2  \\\n",
       "fid                                                                3   \n",
       "ymonmax_january                                             0.250231   \n",
       "ymonmax_february                                            0.205932   \n",
       "ymonmax_march                                               0.107765   \n",
       "ymonmax_april                                               0.237945   \n",
       "ymonmax_may                                                 0.288522   \n",
       "ymonmax_june                                                0.285195   \n",
       "ymonmax_july                                                0.327792   \n",
       "ymonmax_august                                               0.30817   \n",
       "ymonmax_september                                           0.308092   \n",
       "ymonmax_october                                             0.338892   \n",
       "ymonmax_november                                            0.364438   \n",
       "ymonmax_december                                            0.279201   \n",
       "geometry           POLYGON ((4953478.00942759 5413209.14231883, 4...   \n",
       "\n",
       "                                                                   3  \\\n",
       "fid                                                                4   \n",
       "ymonmax_january                                             0.254337   \n",
       "ymonmax_february                                            0.202562   \n",
       "ymonmax_march                                              0.0946213   \n",
       "ymonmax_april                                               0.225098   \n",
       "ymonmax_may                                                 0.289397   \n",
       "ymonmax_june                                                0.290401   \n",
       "ymonmax_july                                                0.337413   \n",
       "ymonmax_august                                              0.317077   \n",
       "ymonmax_september                                           0.309723   \n",
       "ymonmax_october                                             0.344358   \n",
       "ymonmax_november                                            0.371538   \n",
       "ymonmax_december                                            0.297558   \n",
       "geometry           POLYGON ((4964281.60759569 5413209.14231883, 4...   \n",
       "\n",
       "                                                                   4  \n",
       "fid                                                                5  \n",
       "ymonmax_january                                             0.288951  \n",
       "ymonmax_february                                            0.237086  \n",
       "ymonmax_march                                               0.150582  \n",
       "ymonmax_april                                               0.260775  \n",
       "ymonmax_may                                                 0.290108  \n",
       "ymonmax_june                                                0.293585  \n",
       "ymonmax_july                                                0.341126  \n",
       "ymonmax_august                                              0.316248  \n",
       "ymonmax_september                                           0.323115  \n",
       "ymonmax_october                                             0.344041  \n",
       "ymonmax_november                                            0.370458  \n",
       "ymonmax_december                                            0.312798  \n",
       "geometry           POLYGON ((4975085.2057638 5413209.14231883, 49...  "
      ]
     },
     "execution_count": 7,
     "metadata": {},
     "output_type": "execute_result"
    }
   ],
   "source": [
    "df.head().T"
   ]
  },
  {
   "cell_type": "markdown",
   "metadata": {},
   "source": [
    "<font size=\"4\" color=\"orange\"> Converting **Dataframe** into **Geodataframe**:</font>"
   ]
  },
  {
   "cell_type": "code",
   "execution_count": 9,
   "metadata": {},
   "outputs": [],
   "source": [
    "gdf = gpd.GeoDataFrame(df, geometry='geometry')\n",
    "gdf.crs = {'init':'epsg:3035'}"
   ]
  },
  {
   "cell_type": "code",
   "execution_count": 10,
   "metadata": {},
   "outputs": [
    {
     "name": "stdout",
     "output_type": "stream",
     "text": [
      "+init=epsg:3035 +type=crs\n"
     ]
    }
   ],
   "source": [
    "print(gdf.crs)"
   ]
  },
  {
   "cell_type": "code",
   "execution_count": null,
   "metadata": {},
   "outputs": [
    {
     "name": "stderr",
     "output_type": "stream",
     "text": [
      "100%|██████████| 4/4 [01:05<00:00, 16.39s/it]\n"
     ]
    }
   ],
   "source": [
    "clm_name = gdf.columns\n",
    "fig, axes = plt.subplots(nrows=4, ncols=3, figsize=(10,12))\n",
    "for i in tqdm(range(0, 4)):\n",
    "    for j in range(0, 3):\n",
    "        clm = ((i * 3) + j+1)\n",
    "        gdf.plot(ax=axes[i,j], column = clm_name[clm], cmap = 'RdYlGn_r')\n",
    "        axes[i,j].set_axis_off()\n",
    "        #ctx.add_basemap(axes[i,j])\n",
    "        axes[i,j].set_title(clm_name[clm])\n",
    "        \n",
    "plt.savefig('max_soilmoisture.png',dpi=500, transparent=True)"
   ]
  }
 ],
 "metadata": {
  "kernelspec": {
   "display_name": "Python 3",
   "language": "python",
   "name": "python3"
  },
  "language_info": {
   "codemirror_mode": {
    "name": "ipython",
    "version": 3
   },
   "file_extension": ".py",
   "mimetype": "text/x-python",
   "name": "python",
   "nbconvert_exporter": "python",
   "pygments_lexer": "ipython3",
   "version": "3.7.0"
  }
 },
 "nbformat": 4,
 "nbformat_minor": 4
}
