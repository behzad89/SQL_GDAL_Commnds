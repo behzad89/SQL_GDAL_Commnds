{
 "cells": [
  {
   "cell_type": "markdown",
   "metadata": {},
   "source": [
    "## How to use SQL and Pandas"
   ]
  },
  {
   "cell_type": "code",
   "execution_count": 1,
   "metadata": {},
   "outputs": [],
   "source": [
    "import pandas as pd\n",
    "import psycopg2"
   ]
  },
  {
   "cell_type": "code",
   "execution_count": 2,
   "metadata": {},
   "outputs": [],
   "source": [
    "sql_string = 'dbname=gis_db user=behzad password=gis host=localhost port=5432'\n",
    "conn=psycopg2.connect(sql_string,connect_timeout=3)"
   ]
  },
  {
   "cell_type": "code",
   "execution_count": 3,
   "metadata": {},
   "outputs": [],
   "source": [
    "sql=\"\"\"select pnt_temp.id, pnt_temp.geom, \n",
    "sum(c.temp*(1/c.dist))/sum((1/c.dist)) as temp_value,avg(c.dist) as avg_dist \n",
    "    from vec_data.pnt_temp cross join lateral(\n",
    "        select temp, temp.geom <-> pnt_temp.geom as dist from vec_data.temp order by temp.geom <-> pnt_temp.geom limit 4) c \n",
    "    group by pnt_temp.id,pnt_temp.geom\"\"\""
   ]
  },
  {
   "cell_type": "code",
   "execution_count": 4,
   "metadata": {},
   "outputs": [
    {
     "data": {
      "text/html": [
       "<div>\n",
       "<style scoped>\n",
       "    .dataframe tbody tr th:only-of-type {\n",
       "        vertical-align: middle;\n",
       "    }\n",
       "\n",
       "    .dataframe tbody tr th {\n",
       "        vertical-align: top;\n",
       "    }\n",
       "\n",
       "    .dataframe thead th {\n",
       "        text-align: right;\n",
       "    }\n",
       "</style>\n",
       "<table border=\"1\" class=\"dataframe\">\n",
       "  <thead>\n",
       "    <tr style=\"text-align: right;\">\n",
       "      <th></th>\n",
       "      <th>id</th>\n",
       "      <th>geom</th>\n",
       "      <th>temp_value</th>\n",
       "      <th>avg_dist</th>\n",
       "    </tr>\n",
       "  </thead>\n",
       "  <tbody>\n",
       "    <tr>\n",
       "      <th>0</th>\n",
       "      <td>1</td>\n",
       "      <td>0101000020787F000000CA32751F0C1E41A53FEBBF94D4...</td>\n",
       "      <td>10.656117</td>\n",
       "      <td>3318.068065</td>\n",
       "    </tr>\n",
       "    <tr>\n",
       "      <th>1</th>\n",
       "      <td>2</td>\n",
       "      <td>0101000020787F00005C566B071D581E41D12EA4076FD6...</td>\n",
       "      <td>10.075607</td>\n",
       "      <td>5927.396945</td>\n",
       "    </tr>\n",
       "    <tr>\n",
       "      <th>2</th>\n",
       "      <td>3</td>\n",
       "      <td>0101000020787F0000E0CF0963A52B1E41FF10CA7FA4CF...</td>\n",
       "      <td>11.321254</td>\n",
       "      <td>4929.749211</td>\n",
       "    </tr>\n",
       "  </tbody>\n",
       "</table>\n",
       "</div>"
      ],
      "text/plain": [
       "   id                                               geom  temp_value  \\\n",
       "0   1  0101000020787F000000CA32751F0C1E41A53FEBBF94D4...   10.656117   \n",
       "1   2  0101000020787F00005C566B071D581E41D12EA4076FD6...   10.075607   \n",
       "2   3  0101000020787F0000E0CF0963A52B1E41FF10CA7FA4CF...   11.321254   \n",
       "\n",
       "      avg_dist  \n",
       "0  3318.068065  \n",
       "1  5927.396945  \n",
       "2  4929.749211  "
      ]
     },
     "execution_count": 4,
     "metadata": {},
     "output_type": "execute_result"
    }
   ],
   "source": [
    "df=pd.read_sql_query(sql,conn)\n",
    "df"
   ]
  },
  {
   "cell_type": "markdown",
   "metadata": {},
   "source": [
    "# Using postgres via Geopandas"
   ]
  },
  {
   "cell_type": "code",
   "execution_count": 1,
   "metadata": {},
   "outputs": [],
   "source": [
    "# import data packages\n",
    "import pandas as pd\n",
    "import numpy as np\n",
    "\n",
    "# import geo packages\n",
    "import geopandas as gpd\n",
    "\n",
    "# import utlis packages\n",
    "from sqlalchemy import create_engine\n",
    "from getpass import getpass"
   ]
  },
  {
   "cell_type": "code",
   "execution_count": 2,
   "metadata": {},
   "outputs": [
    {
     "name": "stdout",
     "output_type": "stream",
     "text": [
      "········\n"
     ]
    }
   ],
   "source": [
    "password = getpass()"
   ]
  },
  {
   "cell_type": "code",
   "execution_count": null,
   "metadata": {},
   "outputs": [],
   "source": [
    "db_connection_url = \"postgres://XXX:{}@111.111.111.111:5555/ccgeodb\".format(password)\n",
    "engine = create_engine(db_connection_url)"
   ]
  },
  {
   "cell_type": "code",
   "execution_count": null,
   "metadata": {},
   "outputs": [],
   "source": [
    "sql = \"select * from behzad.undamaged_with_features_2020\""
   ]
  },
  {
   "cell_type": "code",
   "execution_count": null,
   "metadata": {},
   "outputs": [],
   "source": [
    "df =  gpd.GeoDataFrame.from_postgis(sql,engine,geom_col = 'geom')\n",
    "df.info()"
   ]
  }
 ],
 "metadata": {
  "kernelspec": {
   "display_name": "Python 3",
   "language": "python",
   "name": "python3"
  },
  "language_info": {
   "codemirror_mode": {
    "name": "ipython",
    "version": 3
   },
   "file_extension": ".py",
   "mimetype": "text/x-python",
   "name": "python",
   "nbconvert_exporter": "python",
   "pygments_lexer": "ipython3",
   "version": "3.7.3"
  }
 },
 "nbformat": 4,
 "nbformat_minor": 4
}
