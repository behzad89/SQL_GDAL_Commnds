{
 "cells": [
  {
   "cell_type": "markdown",
   "id": "c5f86c33-fdf4-4d96-a7ff-f6ce3909045c",
   "metadata": {},
   "source": [
    "# Handling Imbalanced Dataset\n",
    "\n",
    "* Undersampling\n",
    "* Oversampling\n",
    "* SMOT\n",
    "* Ensemble\n",
    "\n",
    "To start working with imbalanced dataset, it is required to define the imbalanced tune-up model, then model can be improved by handling imbalanced dataset"
   ]
  },
  {
   "cell_type": "code",
   "execution_count": 1,
   "id": "117809e9-1d62-49c7-ad59-d07600bf080d",
   "metadata": {},
   "outputs": [
    {
     "name": "stdout",
     "output_type": "stream",
     "text": [
      "Populating the interactive namespace from numpy and matplotlib\n"
     ]
    }
   ],
   "source": [
    "%pylab inline\n",
    "plt.style.use(\"bmh\")\n",
    "plt.rcParams[\"figure.figsize\"] = (6,6)"
   ]
  },
  {
   "cell_type": "code",
   "execution_count": 46,
   "id": "62b0ed48-cbb7-40a3-a6e5-f0dabf6f74fb",
   "metadata": {},
   "outputs": [],
   "source": [
    "import numpy as np\n",
    "import pandas as pd\n",
    "\n",
    "import seaborn as sns\n",
    "import matplotlib.pyplot as plt\n",
    "\n",
    "from sklearn.model_selection import train_test_split\n",
    "from sklearn.linear_model import LogisticRegression\n",
    "from sklearn.ensemble import RandomForestClassifier\n",
    "from sklearn.metrics import accuracy_score, confusion_matrix, classification_report\n",
    "from sklearn.model_selection import KFold, GridSearchCV\n",
    "\n",
    "# sampling\n",
    "from imblearn.under_sampling import NearMiss\n",
    "from imblearn.over_sampling import RandomOverSampler\n",
    "from imblearn.combine import SMOTETomek\n",
    "from imblearn.ensemble import EasyEnsembleClassifier\n",
    "from collections import Counter\n",
    "\n",
    "import os\n",
    "import sys"
   ]
  },
  {
   "cell_type": "code",
   "execution_count": 2,
   "id": "9ef0ab50-6fc9-40e2-9d73-81b13ae03424",
   "metadata": {},
   "outputs": [],
   "source": [
    "%load_ext autoreload\n",
    "%autoreload 2"
   ]
  },
  {
   "cell_type": "code",
   "execution_count": 5,
   "id": "fc55c27a-b1e5-484e-892d-237d6217a82e",
   "metadata": {},
   "outputs": [],
   "source": [
    "# When the decimal is a lot, to make the values readable it is better to modify the float format\n",
    "pd.set_option('display.float_format', lambda x: '%.5f' % x)"
   ]
  },
  {
   "cell_type": "code",
   "execution_count": 6,
   "id": "086dcc47-48f7-498e-bf1a-93361cfb65da",
   "metadata": {},
   "outputs": [],
   "source": [
    "import warnings\n",
    "warnings.filterwarnings('ignore')"
   ]
  },
  {
   "cell_type": "code",
   "execution_count": 7,
   "id": "3df9a71e-70c4-4792-bee3-c47df1124d1e",
   "metadata": {},
   "outputs": [
    {
     "data": {
      "text/html": [
       "<div>\n",
       "<style scoped>\n",
       "    .dataframe tbody tr th:only-of-type {\n",
       "        vertical-align: middle;\n",
       "    }\n",
       "\n",
       "    .dataframe tbody tr th {\n",
       "        vertical-align: top;\n",
       "    }\n",
       "\n",
       "    .dataframe thead th {\n",
       "        text-align: right;\n",
       "    }\n",
       "</style>\n",
       "<table border=\"1\" class=\"dataframe\">\n",
       "  <thead>\n",
       "    <tr style=\"text-align: right;\">\n",
       "      <th></th>\n",
       "      <th>Time</th>\n",
       "      <th>V1</th>\n",
       "      <th>V2</th>\n",
       "      <th>V3</th>\n",
       "      <th>V4</th>\n",
       "      <th>V5</th>\n",
       "      <th>V6</th>\n",
       "      <th>V7</th>\n",
       "      <th>V8</th>\n",
       "      <th>V9</th>\n",
       "      <th>...</th>\n",
       "      <th>V21</th>\n",
       "      <th>V22</th>\n",
       "      <th>V23</th>\n",
       "      <th>V24</th>\n",
       "      <th>V25</th>\n",
       "      <th>V26</th>\n",
       "      <th>V27</th>\n",
       "      <th>V28</th>\n",
       "      <th>Amount</th>\n",
       "      <th>Class</th>\n",
       "    </tr>\n",
       "  </thead>\n",
       "  <tbody>\n",
       "    <tr>\n",
       "      <th>0</th>\n",
       "      <td>0.00000</td>\n",
       "      <td>-1.35981</td>\n",
       "      <td>-0.07278</td>\n",
       "      <td>2.53635</td>\n",
       "      <td>1.37816</td>\n",
       "      <td>-0.33832</td>\n",
       "      <td>0.46239</td>\n",
       "      <td>0.23960</td>\n",
       "      <td>0.09870</td>\n",
       "      <td>0.36379</td>\n",
       "      <td>...</td>\n",
       "      <td>-0.01831</td>\n",
       "      <td>0.27784</td>\n",
       "      <td>-0.11047</td>\n",
       "      <td>0.06693</td>\n",
       "      <td>0.12854</td>\n",
       "      <td>-0.18911</td>\n",
       "      <td>0.13356</td>\n",
       "      <td>-0.02105</td>\n",
       "      <td>149.62000</td>\n",
       "      <td>0</td>\n",
       "    </tr>\n",
       "    <tr>\n",
       "      <th>1</th>\n",
       "      <td>0.00000</td>\n",
       "      <td>1.19186</td>\n",
       "      <td>0.26615</td>\n",
       "      <td>0.16648</td>\n",
       "      <td>0.44815</td>\n",
       "      <td>0.06002</td>\n",
       "      <td>-0.08236</td>\n",
       "      <td>-0.07880</td>\n",
       "      <td>0.08510</td>\n",
       "      <td>-0.25543</td>\n",
       "      <td>...</td>\n",
       "      <td>-0.22578</td>\n",
       "      <td>-0.63867</td>\n",
       "      <td>0.10129</td>\n",
       "      <td>-0.33985</td>\n",
       "      <td>0.16717</td>\n",
       "      <td>0.12589</td>\n",
       "      <td>-0.00898</td>\n",
       "      <td>0.01472</td>\n",
       "      <td>2.69000</td>\n",
       "      <td>0</td>\n",
       "    </tr>\n",
       "    <tr>\n",
       "      <th>2</th>\n",
       "      <td>1.00000</td>\n",
       "      <td>-1.35835</td>\n",
       "      <td>-1.34016</td>\n",
       "      <td>1.77321</td>\n",
       "      <td>0.37978</td>\n",
       "      <td>-0.50320</td>\n",
       "      <td>1.80050</td>\n",
       "      <td>0.79146</td>\n",
       "      <td>0.24768</td>\n",
       "      <td>-1.51465</td>\n",
       "      <td>...</td>\n",
       "      <td>0.24800</td>\n",
       "      <td>0.77168</td>\n",
       "      <td>0.90941</td>\n",
       "      <td>-0.68928</td>\n",
       "      <td>-0.32764</td>\n",
       "      <td>-0.13910</td>\n",
       "      <td>-0.05535</td>\n",
       "      <td>-0.05975</td>\n",
       "      <td>378.66000</td>\n",
       "      <td>0</td>\n",
       "    </tr>\n",
       "    <tr>\n",
       "      <th>3</th>\n",
       "      <td>1.00000</td>\n",
       "      <td>-0.96627</td>\n",
       "      <td>-0.18523</td>\n",
       "      <td>1.79299</td>\n",
       "      <td>-0.86329</td>\n",
       "      <td>-0.01031</td>\n",
       "      <td>1.24720</td>\n",
       "      <td>0.23761</td>\n",
       "      <td>0.37744</td>\n",
       "      <td>-1.38702</td>\n",
       "      <td>...</td>\n",
       "      <td>-0.10830</td>\n",
       "      <td>0.00527</td>\n",
       "      <td>-0.19032</td>\n",
       "      <td>-1.17558</td>\n",
       "      <td>0.64738</td>\n",
       "      <td>-0.22193</td>\n",
       "      <td>0.06272</td>\n",
       "      <td>0.06146</td>\n",
       "      <td>123.50000</td>\n",
       "      <td>0</td>\n",
       "    </tr>\n",
       "    <tr>\n",
       "      <th>4</th>\n",
       "      <td>2.00000</td>\n",
       "      <td>-1.15823</td>\n",
       "      <td>0.87774</td>\n",
       "      <td>1.54872</td>\n",
       "      <td>0.40303</td>\n",
       "      <td>-0.40719</td>\n",
       "      <td>0.09592</td>\n",
       "      <td>0.59294</td>\n",
       "      <td>-0.27053</td>\n",
       "      <td>0.81774</td>\n",
       "      <td>...</td>\n",
       "      <td>-0.00943</td>\n",
       "      <td>0.79828</td>\n",
       "      <td>-0.13746</td>\n",
       "      <td>0.14127</td>\n",
       "      <td>-0.20601</td>\n",
       "      <td>0.50229</td>\n",
       "      <td>0.21942</td>\n",
       "      <td>0.21515</td>\n",
       "      <td>69.99000</td>\n",
       "      <td>0</td>\n",
       "    </tr>\n",
       "  </tbody>\n",
       "</table>\n",
       "<p>5 rows × 31 columns</p>\n",
       "</div>"
      ],
      "text/plain": [
       "     Time       V1       V2      V3       V4       V5       V6       V7  \\\n",
       "0 0.00000 -1.35981 -0.07278 2.53635  1.37816 -0.33832  0.46239  0.23960   \n",
       "1 0.00000  1.19186  0.26615 0.16648  0.44815  0.06002 -0.08236 -0.07880   \n",
       "2 1.00000 -1.35835 -1.34016 1.77321  0.37978 -0.50320  1.80050  0.79146   \n",
       "3 1.00000 -0.96627 -0.18523 1.79299 -0.86329 -0.01031  1.24720  0.23761   \n",
       "4 2.00000 -1.15823  0.87774 1.54872  0.40303 -0.40719  0.09592  0.59294   \n",
       "\n",
       "        V8       V9  ...      V21      V22      V23      V24      V25  \\\n",
       "0  0.09870  0.36379  ... -0.01831  0.27784 -0.11047  0.06693  0.12854   \n",
       "1  0.08510 -0.25543  ... -0.22578 -0.63867  0.10129 -0.33985  0.16717   \n",
       "2  0.24768 -1.51465  ...  0.24800  0.77168  0.90941 -0.68928 -0.32764   \n",
       "3  0.37744 -1.38702  ... -0.10830  0.00527 -0.19032 -1.17558  0.64738   \n",
       "4 -0.27053  0.81774  ... -0.00943  0.79828 -0.13746  0.14127 -0.20601   \n",
       "\n",
       "       V26      V27      V28    Amount  Class  \n",
       "0 -0.18911  0.13356 -0.02105 149.62000      0  \n",
       "1  0.12589 -0.00898  0.01472   2.69000      0  \n",
       "2 -0.13910 -0.05535 -0.05975 378.66000      0  \n",
       "3 -0.22193  0.06272  0.06146 123.50000      0  \n",
       "4  0.50229  0.21942  0.21515  69.99000      0  \n",
       "\n",
       "[5 rows x 31 columns]"
      ]
     },
     "execution_count": 7,
     "metadata": {},
     "output_type": "execute_result"
    }
   ],
   "source": [
    "data = pd.read_csv('../../creditcard.csv')\n",
    "data.head()"
   ]
  },
  {
   "cell_type": "code",
   "execution_count": 8,
   "id": "1fe30bb0-b4a0-47e3-853e-8864961f450d",
   "metadata": {},
   "outputs": [
    {
     "data": {
      "text/plain": [
       "(284807, 31)"
      ]
     },
     "execution_count": 8,
     "metadata": {},
     "output_type": "execute_result"
    }
   ],
   "source": [
    "data.shape"
   ]
  },
  {
   "cell_type": "code",
   "execution_count": 9,
   "id": "0be38a8b-6743-4c66-b6b2-69dff2c6b812",
   "metadata": {},
   "outputs": [
    {
     "data": {
      "text/plain": [
       "Time      0\n",
       "V1        0\n",
       "V2        0\n",
       "V3        0\n",
       "V4        0\n",
       "V5        0\n",
       "V6        0\n",
       "V7        0\n",
       "V8        0\n",
       "V9        0\n",
       "V10       0\n",
       "V11       0\n",
       "V12       0\n",
       "V13       0\n",
       "V14       0\n",
       "V15       0\n",
       "V16       0\n",
       "V17       0\n",
       "V18       0\n",
       "V19       0\n",
       "V20       0\n",
       "V21       0\n",
       "V22       0\n",
       "V23       0\n",
       "V24       0\n",
       "V25       0\n",
       "V26       0\n",
       "V27       0\n",
       "V28       0\n",
       "Amount    0\n",
       "Class     0\n",
       "dtype: int64"
      ]
     },
     "execution_count": 9,
     "metadata": {},
     "output_type": "execute_result"
    }
   ],
   "source": [
    "data.isnull().sum()"
   ]
  },
  {
   "cell_type": "code",
   "execution_count": 10,
   "id": "af1a2bfa-16d2-4b0d-be86-19ad5af8ea28",
   "metadata": {},
   "outputs": [
    {
     "data": {
      "text/plain": [
       "0    284315\n",
       "1       492\n",
       "Name: Class, dtype: int64"
      ]
     },
     "execution_count": 10,
     "metadata": {},
     "output_type": "execute_result"
    }
   ],
   "source": [
    "data.Class.value_counts()"
   ]
  },
  {
   "cell_type": "code",
   "execution_count": 11,
   "id": "411b65cf-494d-45cd-9a9a-5cbfadeff7ee",
   "metadata": {},
   "outputs": [],
   "source": [
    "# independant and dependant features\n",
    "X = data.drop('Class',axis=1)\n",
    "y = data.Class"
   ]
  },
  {
   "cell_type": "markdown",
   "id": "9f8690da-b12a-4b31-b60e-01a78f4f92ed",
   "metadata": {},
   "source": [
    "## Unbalanced model"
   ]
  },
  {
   "cell_type": "markdown",
   "id": "50a7d372-20e3-4e15-a6ab-fa459fc731c6",
   "metadata": {},
   "source": [
    "### Logistic Regression"
   ]
  },
  {
   "cell_type": "code",
   "execution_count": 12,
   "id": "b73a0875-8e9c-45a5-baaf-186ad8bcb273",
   "metadata": {},
   "outputs": [],
   "source": [
    "X_train,X_test,y_train,y_test = train_test_split(X,y,train_size=0.7)"
   ]
  },
  {
   "cell_type": "code",
   "execution_count": 13,
   "id": "fdb07ed4-f4bf-4c4b-904b-a46f11f2f71b",
   "metadata": {},
   "outputs": [
    {
     "data": {
      "text/plain": [
       "array([1.e-02, 1.e-01, 1.e+00, 1.e+01, 1.e+02])"
      ]
     },
     "execution_count": 13,
     "metadata": {},
     "output_type": "execute_result"
    }
   ],
   "source": [
    "10.0**np.arange(-2,3)"
   ]
  },
  {
   "cell_type": "code",
   "execution_count": 14,
   "id": "05836bf2-56d3-4745-a2f1-0a4ded737f3f",
   "metadata": {},
   "outputs": [],
   "source": [
    "log_class = LogisticRegression()\n",
    "grid={'C':10.0**np.arange(-2,3), 'penalty':['l1','l2']}\n",
    "cv = KFold(n_splits=5, shuffle=False,random_state=None)"
   ]
  },
  {
   "cell_type": "code",
   "execution_count": 15,
   "id": "43348fba-594f-42c3-ab39-582e1955181a",
   "metadata": {},
   "outputs": [
    {
     "data": {
      "text/plain": [
       "GridSearchCV(cv=KFold(n_splits=5, random_state=None, shuffle=False),\n",
       "             estimator=LogisticRegression(), n_jobs=-1,\n",
       "             param_grid={'C': array([1.e-02, 1.e-01, 1.e+00, 1.e+01, 1.e+02]),\n",
       "                         'penalty': ['l1', 'l2']},\n",
       "             scoring='f1_macro')"
      ]
     },
     "execution_count": 15,
     "metadata": {},
     "output_type": "execute_result"
    }
   ],
   "source": [
    "clf = GridSearchCV(log_class, grid,cv=cv,n_jobs=-1,scoring='f1_macro')\n",
    "clf.fit(X_train,y_train)"
   ]
  },
  {
   "cell_type": "code",
   "execution_count": 16,
   "id": "ac578e8e-1743-43cc-a597-c3e3710a38d5",
   "metadata": {},
   "outputs": [
    {
     "name": "stdout",
     "output_type": "stream",
     "text": [
      "[[85255    34]\n",
      " [   43   111]]\n",
      "0.9990988144142879\n",
      "              precision    recall  f1-score   support\n",
      "\n",
      "           0       1.00      1.00      1.00     85289\n",
      "           1       0.77      0.72      0.74       154\n",
      "\n",
      "    accuracy                           1.00     85443\n",
      "   macro avg       0.88      0.86      0.87     85443\n",
      "weighted avg       1.00      1.00      1.00     85443\n",
      "\n"
     ]
    }
   ],
   "source": [
    "y_pred = clf.predict(X_test)\n",
    "print(confusion_matrix(y_test,y_pred))\n",
    "print(accuracy_score(y_test,y_pred))\n",
    "print(classification_report(y_test,y_pred))"
   ]
  },
  {
   "cell_type": "markdown",
   "id": "723cb7cb-0557-48ee-ab23-579852a4f7e9",
   "metadata": {},
   "source": [
    "### Random Forest\n",
    "#### No class weights"
   ]
  },
  {
   "cell_type": "code",
   "execution_count": 17,
   "id": "0f7c6404-3f49-452f-85ce-3a5ad6937a6d",
   "metadata": {},
   "outputs": [
    {
     "data": {
      "text/plain": [
       "RandomForestClassifier()"
      ]
     },
     "execution_count": 17,
     "metadata": {},
     "output_type": "execute_result"
    }
   ],
   "source": [
    "classifier = RandomForestClassifier()\n",
    "classifier.fit(X_train,y_train)"
   ]
  },
  {
   "cell_type": "code",
   "execution_count": 18,
   "id": "4e327b67-14bb-43d6-9801-504ac694cbc8",
   "metadata": {},
   "outputs": [
    {
     "name": "stdout",
     "output_type": "stream",
     "text": [
      "[[85283     6]\n",
      " [   35   119]]\n",
      "0.9995201479348805\n",
      "              precision    recall  f1-score   support\n",
      "\n",
      "           0       1.00      1.00      1.00     85289\n",
      "           1       0.95      0.77      0.85       154\n",
      "\n",
      "    accuracy                           1.00     85443\n",
      "   macro avg       0.98      0.89      0.93     85443\n",
      "weighted avg       1.00      1.00      1.00     85443\n",
      "\n"
     ]
    }
   ],
   "source": [
    "y_pred = classifier.predict(X_test)\n",
    "print(confusion_matrix(y_test,y_pred))\n",
    "print(accuracy_score(y_test,y_pred))\n",
    "print(classification_report(y_test,y_pred))"
   ]
  },
  {
   "cell_type": "markdown",
   "id": "d72ce44a-c7b8-4ad6-8f72-2e158eda52f9",
   "metadata": {},
   "source": [
    "#### Adding class weights\n",
    "you can use class_weight=\"balanced\", which is easier to understand: it basically means replicating the smaller class until you have as many samples as in the larger one, but in an implicit way.\n",
    "\n",
    "https://www.youtube.com/watch?v=Kp31wfHpG2c\n",
    "##### Balanced\n",
    "`n_samples / (n_classes * np.bincount(y))`"
   ]
  },
  {
   "cell_type": "code",
   "execution_count": 19,
   "id": "8a9a3de3-b4f7-475d-8b85-e34f7fa2ca2a",
   "metadata": {},
   "outputs": [
    {
     "data": {
      "text/plain": [
       "RandomForestClassifier(class_weight='balanced', n_jobs=-1)"
      ]
     },
     "execution_count": 19,
     "metadata": {},
     "output_type": "execute_result"
    }
   ],
   "source": [
    "classifier_balanced = RandomForestClassifier(class_weight='balanced',n_jobs=-1)\n",
    "classifier_balanced.fit(X_train,y_train)"
   ]
  },
  {
   "cell_type": "code",
   "execution_count": 20,
   "id": "5a84f309-b1d0-4711-a853-97f7fe5aab39",
   "metadata": {},
   "outputs": [
    {
     "name": "stdout",
     "output_type": "stream",
     "text": [
      "[[85283     6]\n",
      " [   38   116]]\n",
      "0.9994850368081645\n",
      "              precision    recall  f1-score   support\n",
      "\n",
      "           0       1.00      1.00      1.00     85289\n",
      "           1       0.95      0.75      0.84       154\n",
      "\n",
      "    accuracy                           1.00     85443\n",
      "   macro avg       0.98      0.88      0.92     85443\n",
      "weighted avg       1.00      1.00      1.00     85443\n",
      "\n"
     ]
    }
   ],
   "source": [
    "y_pred = classifier_balanced.predict(X_test)\n",
    "print(confusion_matrix(y_test,y_pred))\n",
    "print(accuracy_score(y_test,y_pred))\n",
    "print(classification_report(y_test,y_pred))"
   ]
  },
  {
   "cell_type": "markdown",
   "id": "1c77bf4c-b031-4aca-96b1-424acb0551bc",
   "metadata": {},
   "source": [
    "##### Balanced_subsample"
   ]
  },
  {
   "cell_type": "code",
   "execution_count": 21,
   "id": "9a83772b-eeab-4c44-ae43-5fea67a7fb40",
   "metadata": {},
   "outputs": [
    {
     "data": {
      "text/plain": [
       "RandomForestClassifier(class_weight='balanced_subsample', n_jobs=-1)"
      ]
     },
     "execution_count": 21,
     "metadata": {},
     "output_type": "execute_result"
    }
   ],
   "source": [
    "classifier_balanced_subsample = RandomForestClassifier(class_weight='balanced_subsample',n_jobs=-1)\n",
    "classifier_balanced_subsample.fit(X_train,y_train)"
   ]
  },
  {
   "cell_type": "code",
   "execution_count": 22,
   "id": "574b9cc8-2c51-40f7-bdf0-6f149829931e",
   "metadata": {},
   "outputs": [
    {
     "name": "stdout",
     "output_type": "stream",
     "text": [
      "[[85282     7]\n",
      " [   35   119]]\n",
      "0.9995084442259752\n",
      "              precision    recall  f1-score   support\n",
      "\n",
      "           0       1.00      1.00      1.00     85289\n",
      "           1       0.94      0.77      0.85       154\n",
      "\n",
      "    accuracy                           1.00     85443\n",
      "   macro avg       0.97      0.89      0.92     85443\n",
      "weighted avg       1.00      1.00      1.00     85443\n",
      "\n"
     ]
    }
   ],
   "source": [
    "y_pred = classifier_balanced_subsample.predict(X_test)\n",
    "print(confusion_matrix(y_test,y_pred))\n",
    "print(accuracy_score(y_test,y_pred))\n",
    "print(classification_report(y_test,y_pred))"
   ]
  },
  {
   "cell_type": "markdown",
   "id": "1c73c1ea-1c11-4d4d-9d79-032561dd8e4d",
   "metadata": {},
   "source": [
    "## Under-sampling\n",
    "\n",
    "Reduce the points of the maximun labels. **Do not use under-sampling unless the dataset is very very less**\n",
    "\n",
    "* NearMiss Under Sampler\n",
    "* Random Under Sampler\n",
    "\n",
    "### NearMiss Under Sampler\n",
    "\n",
    "NearMiss is an under-sampling technique. It aims to balance class distribution by randomly eliminating majority class examples. When instances of two different classes are very close to each other, we remove the instances of the majority class to increase the spaces between the two classes."
   ]
  },
  {
   "cell_type": "code",
   "execution_count": 27,
   "id": "a8ea6469-92e6-4926-acc4-bb3f78fc2638",
   "metadata": {},
   "outputs": [
    {
     "name": "stdout",
     "output_type": "stream",
     "text": [
      "The number of classes before fit Counter({0: 199026, 1: 338})\n",
      "The number of classes before fit Counter({0: 338, 1: 338})\n"
     ]
    }
   ],
   "source": [
    "nm = NearMiss(n_jobs=-1)\n",
    "X_train_nm, y_train_nm = nm.fit_resample(X_train,y_train)\n",
    "print('The number of classes before fit {}'.format(Counter(y_train)))\n",
    "print('The number of classes before fit {}'.format(Counter(y_train_nm)))"
   ]
  },
  {
   "cell_type": "code",
   "execution_count": 28,
   "id": "0b7dff03-18c8-4289-8bf2-1ee43d7d89cc",
   "metadata": {},
   "outputs": [
    {
     "data": {
      "text/plain": [
       "RandomForestClassifier(n_jobs=-1)"
      ]
     },
     "execution_count": 28,
     "metadata": {},
     "output_type": "execute_result"
    }
   ],
   "source": [
    "classifier_nm = RandomForestClassifier(n_jobs=-1)\n",
    "classifier_nm.fit(X_train_nm,y_train_nm)"
   ]
  },
  {
   "cell_type": "code",
   "execution_count": 29,
   "id": "c67e0fe0-5d2a-4442-89d1-bb0c8782a58e",
   "metadata": {},
   "outputs": [
    {
     "name": "stdout",
     "output_type": "stream",
     "text": [
      "[[58499 26790]\n",
      " [    9   145]]\n",
      "0.686352305045469\n",
      "              precision    recall  f1-score   support\n",
      "\n",
      "           0       1.00      0.69      0.81     85289\n",
      "           1       0.01      0.94      0.01       154\n",
      "\n",
      "    accuracy                           0.69     85443\n",
      "   macro avg       0.50      0.81      0.41     85443\n",
      "weighted avg       1.00      0.69      0.81     85443\n",
      "\n"
     ]
    }
   ],
   "source": [
    "y_pred = classifier_nm.predict(X_test)\n",
    "print(confusion_matrix(y_test,y_pred))\n",
    "print(accuracy_score(y_test,y_pred))\n",
    "print(classification_report(y_test,y_pred))"
   ]
  },
  {
   "cell_type": "markdown",
   "id": "c54d114b-d76d-421a-87ae-8bd86bc18653",
   "metadata": {},
   "source": [
    "## Over-sampling"
   ]
  },
  {
   "cell_type": "code",
   "execution_count": 39,
   "id": "8d9a0a91-0fc6-4461-a26e-28aade7d7869",
   "metadata": {},
   "outputs": [
    {
     "name": "stdout",
     "output_type": "stream",
     "text": [
      "The number of classes before fit Counter({0: 199026, 1: 338})\n",
      "The number of classes before fit Counter({0: 199026, 1: 199026})\n"
     ]
    }
   ],
   "source": [
    "os = RandomOverSampler()\n",
    "X_train_os, y_train_os = os.fit_resample(X_train,y_train)\n",
    "print('The number of classes before fit {}'.format(Counter(y_train)))\n",
    "print('The number of classes before fit {}'.format(Counter(y_train_os)))"
   ]
  },
  {
   "cell_type": "code",
   "execution_count": 40,
   "id": "43eceb4d-d6c3-4c6e-ae59-14c5a82adf87",
   "metadata": {},
   "outputs": [
    {
     "data": {
      "text/plain": [
       "RandomForestClassifier(n_jobs=-1)"
      ]
     },
     "execution_count": 40,
     "metadata": {},
     "output_type": "execute_result"
    }
   ],
   "source": [
    "classifier_os = RandomForestClassifier(n_jobs=-1)\n",
    "classifier_os.fit(X_train_os,y_train_os)"
   ]
  },
  {
   "cell_type": "code",
   "execution_count": 41,
   "id": "30abab9f-99ce-4510-b9db-890fafa85670",
   "metadata": {},
   "outputs": [
    {
     "name": "stdout",
     "output_type": "stream",
     "text": [
      "[[85282     7]\n",
      " [   34   120]]\n",
      "0.9995201479348805\n",
      "              precision    recall  f1-score   support\n",
      "\n",
      "           0       1.00      1.00      1.00     85289\n",
      "           1       0.94      0.78      0.85       154\n",
      "\n",
      "    accuracy                           1.00     85443\n",
      "   macro avg       0.97      0.89      0.93     85443\n",
      "weighted avg       1.00      1.00      1.00     85443\n",
      "\n"
     ]
    }
   ],
   "source": [
    "y_pred = classifier_os.predict(X_test)\n",
    "print(confusion_matrix(y_test,y_pred))\n",
    "print(accuracy_score(y_test,y_pred))\n",
    "print(classification_report(y_test,y_pred))"
   ]
  },
  {
   "cell_type": "code",
   "execution_count": 123,
   "id": "752f1ff2-fe49-424b-8bb9-a28128392b2d",
   "metadata": {},
   "outputs": [
    {
     "name": "stdout",
     "output_type": "stream",
     "text": [
      "0    284315\n",
      "1       492\n",
      "Name: Class, dtype: int64\n"
     ]
    },
    {
     "data": {
      "text/plain": [
       "1    284315\n",
       "0    284315\n",
       "Name: Class, dtype: int64"
      ]
     },
     "execution_count": 123,
     "metadata": {},
     "output_type": "execute_result"
    }
   ],
   "source": [
    "# Manually oversampling based on the all the data\n",
    "print(data.Class.value_counts())\n",
    "mbalanced_ds = pd.concat([data[data.loc[:,'Class']==0], data[data.loc[:,'Class']==1].sample(284315, replace=True)])\n",
    "mbalanced_ds.Class.value_counts()\n",
    "\n",
    "# In this case, for validation the following step should be done:\n",
    "X_test_unique = X_test[~X_test.duplicated()]\n",
    "y_test_unique = y_test[~X_test.duplicated()]"
   ]
  },
  {
   "cell_type": "markdown",
   "id": "6e731d52-1798-436c-9cbc-6fc87474dfd0",
   "metadata": {},
   "source": [
    "## SMOT\n",
    "SMOTE is one of the most popular oversampling techniques that is developed by Chawla et al. (2002). Unlike random oversampling that only duplicates some random examples from the minority class, SMOTE generates examples based on the distance of each data (usually using Euclidean distance) and the minority class nearest neighbors, so the generated examples are different from the original minority class.\n",
    "To define the best ratio, it is better to watch https://www.youtube.com/watch?v=U3X98xZ4_no&t=36s"
   ]
  },
  {
   "cell_type": "code",
   "execution_count": 43,
   "id": "a014ede2-268a-451f-bfdd-790a357e83e0",
   "metadata": {},
   "outputs": [
    {
     "name": "stdout",
     "output_type": "stream",
     "text": [
      "The number of classes before fit Counter({0: 199026, 1: 338})\n",
      "The number of classes before fit Counter({0: 197900, 1: 98387})\n"
     ]
    }
   ],
   "source": [
    "sm = SMOTETomek(0.5)\n",
    "X_train_os, y_train_os = sm.fit_resample(X_train,y_train)\n",
    "print('The number of classes before fit {}'.format(Counter(y_train)))\n",
    "print('The number of classes before fit {}'.format(Counter(y_train_os)))"
   ]
  },
  {
   "cell_type": "code",
   "execution_count": 44,
   "id": "5b50b21a-7890-473c-bd58-2fd0fa9ee906",
   "metadata": {},
   "outputs": [
    {
     "data": {
      "text/plain": [
       "RandomForestClassifier(n_jobs=-1)"
      ]
     },
     "execution_count": 44,
     "metadata": {},
     "output_type": "execute_result"
    }
   ],
   "source": [
    "classifier_os = RandomForestClassifier(n_jobs=-1)\n",
    "classifier_os.fit(X_train_os,y_train_os)"
   ]
  },
  {
   "cell_type": "code",
   "execution_count": 45,
   "id": "42958347-6ee3-4544-a8d9-1e80d92d18f4",
   "metadata": {},
   "outputs": [
    {
     "name": "stdout",
     "output_type": "stream",
     "text": [
      "[[85275    14]\n",
      " [   19   135]]\n",
      "0.9996137776061234\n",
      "              precision    recall  f1-score   support\n",
      "\n",
      "           0       1.00      1.00      1.00     85289\n",
      "           1       0.91      0.88      0.89       154\n",
      "\n",
      "    accuracy                           1.00     85443\n",
      "   macro avg       0.95      0.94      0.95     85443\n",
      "weighted avg       1.00      1.00      1.00     85443\n",
      "\n"
     ]
    }
   ],
   "source": [
    "y_pred = classifier_os.predict(X_test)\n",
    "print(confusion_matrix(y_test,y_pred))\n",
    "print(accuracy_score(y_test,y_pred))\n",
    "print(classification_report(y_test,y_pred))"
   ]
  },
  {
   "cell_type": "markdown",
   "id": "76ea79c2-57d0-4beb-992f-25bffa920760",
   "metadata": {},
   "source": [
    "# Ensemble"
   ]
  },
  {
   "cell_type": "code",
   "execution_count": 47,
   "id": "eb3b71de-7068-48b2-b2ca-5ca1c1853c04",
   "metadata": {},
   "outputs": [
    {
     "data": {
      "text/plain": [
       "EasyEnsembleClassifier(n_jobs=-1)"
      ]
     },
     "execution_count": 47,
     "metadata": {},
     "output_type": "execute_result"
    }
   ],
   "source": [
    "easy = EasyEnsembleClassifier(n_jobs=-1)\n",
    "easy.fit(X_train,y_train)"
   ]
  },
  {
   "cell_type": "code",
   "execution_count": 48,
   "id": "3bbb5b53-a8ad-49ab-bb59-fe0def4ecbf7",
   "metadata": {},
   "outputs": [
    {
     "name": "stdout",
     "output_type": "stream",
     "text": [
      "[[82252  3037]\n",
      " [   15   139]]\n",
      "0.9642802804208653\n",
      "              precision    recall  f1-score   support\n",
      "\n",
      "           0       1.00      0.96      0.98     85289\n",
      "           1       0.04      0.90      0.08       154\n",
      "\n",
      "    accuracy                           0.96     85443\n",
      "   macro avg       0.52      0.93      0.53     85443\n",
      "weighted avg       1.00      0.96      0.98     85443\n",
      "\n"
     ]
    }
   ],
   "source": [
    "y_pred = easy.predict(X_test)\n",
    "print(confusion_matrix(y_test,y_pred))\n",
    "print(accuracy_score(y_test,y_pred))\n",
    "print(classification_report(y_test,y_pred))"
   ]
  },
  {
   "cell_type": "code",
   "execution_count": null,
   "id": "0813b10f-e90f-4499-ba78-3961a3407549",
   "metadata": {},
   "outputs": [],
   "source": []
  }
 ],
 "metadata": {
  "kernelspec": {
   "display_name": "Python 3",
   "language": "python",
   "name": "python3"
  },
  "language_info": {
   "codemirror_mode": {
    "name": "ipython",
    "version": 3
   },
   "file_extension": ".py",
   "mimetype": "text/x-python",
   "name": "python",
   "nbconvert_exporter": "python",
   "pygments_lexer": "ipython3",
   "version": "3.7.4"
  }
 },
 "nbformat": 4,
 "nbformat_minor": 5
}
