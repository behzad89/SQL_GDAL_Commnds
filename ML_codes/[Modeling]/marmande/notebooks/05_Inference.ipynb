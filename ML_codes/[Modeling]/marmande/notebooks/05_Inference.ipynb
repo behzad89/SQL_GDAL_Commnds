{
 "cells": [
  {
   "cell_type": "code",
   "execution_count": 1,
   "id": "75bb1adb-0d12-4c6a-99be-cc11121db928",
   "metadata": {},
   "outputs": [],
   "source": [
    "from src import LoadImageData, SyntheticS2Model\n",
    "\n",
    "import geopandas as gpd\n",
    "from geoutils import grid\n",
    "from shapely.geometry import box, Point\n",
    "\n",
    "import rasterio as rio\n",
    "from rasterio.plot import reshape_as_image\n",
    "from rasterio import merge\n",
    "from rasterio.windows import Window,from_bounds\n",
    "\n",
    "import torch\n",
    "\n",
    "import matplotlib.pyplot as plt\n",
    "import seaborn as sns\n",
    "\n",
    "\n",
    "from tqdm import tqdm\n",
    "from random import sample\n",
    "import numpy as np\n",
    "import os,sys"
   ]
  },
  {
   "cell_type": "code",
   "execution_count": 2,
   "id": "fb04fe5d-9241-4c64-893e-d4126da73db3",
   "metadata": {},
   "outputs": [],
   "source": [
    "%load_ext autoreload\n",
    "%autoreload 2"
   ]
  },
  {
   "cell_type": "code",
   "execution_count": 3,
   "id": "cbec287c-b5dc-4454-b791-ee3a793afe05",
   "metadata": {},
   "outputs": [],
   "source": [
    "plt.style.use(\"bmh\")"
   ]
  },
  {
   "cell_type": "code",
   "execution_count": 4,
   "id": "709d4198-c740-45c8-b82e-dc35206f7a26",
   "metadata": {},
   "outputs": [],
   "source": [
    "cloud_mask = gpd.read_file('../data/s2_cloud_mask.geojson')"
   ]
  },
  {
   "cell_type": "code",
   "execution_count": 5,
   "id": "e3314ebd-2574-424c-96b4-03013be17882",
   "metadata": {},
   "outputs": [],
   "source": [
    "Xmin,Ymin,Xmax,Ymax = cloud_mask.geometry.iloc[9].bounds\n",
    "g = grid.grid(Xmin+350, Xmax, Ymin, Ymax,cell_size=640,crs=32630)\n",
    "Left_Corner = g.generate_point(center=False)"
   ]
  },
  {
   "cell_type": "code",
   "execution_count": 6,
   "id": "09315fd8-1303-45a7-b4f6-ae746dee6520",
   "metadata": {},
   "outputs": [],
   "source": [
    "# Bigger than 128*128 decrease the result quality\n",
    "delta=640\n",
    "output_size = 640"
   ]
  },
  {
   "cell_type": "code",
   "execution_count": 7,
   "id": "583290ef-2de4-4fd5-acaf-68c89f218734",
   "metadata": {},
   "outputs": [],
   "source": [
    "grid_geom = Left_Corner.coords.apply(lambda p: box(p.x - delta/2, p.y - delta/2, p.x + output_size + delta/2, p.y + output_size + delta/2))"
   ]
  },
  {
   "cell_type": "code",
   "execution_count": 8,
   "id": "3c737abd-ce7a-44f1-93fc-f9e2cb93342a",
   "metadata": {},
   "outputs": [],
   "source": [
    "model_ = SyntheticS2Model()\n",
    "train_model = model_.load_from_checkpoint(checkpoint_path='/scicore/home/roeoesli/valipo0000/training/marmande/model/lightning_logs/version_53548107/checkpoints/SyntheticS2Model-0.0.1_epoch=03-validation_Loss_epoch=0.010873.ckpt')"
   ]
  },
  {
   "cell_type": "code",
   "execution_count": 9,
   "id": "03916676-066f-44ce-af69-72a3e8d4f580",
   "metadata": {},
   "outputs": [],
   "source": [
    "S2B_PATH = '../data/S2_B4328_10m_05072019.tif'\n",
    "S2A_PATH = '../data/S2_B4328_10m_24082019.tif'\n",
    "S1_PATH = '../data/S1_VH_VV_10m_25072019_aligned.tif'"
   ]
  },
  {
   "cell_type": "code",
   "execution_count": 10,
   "id": "96b40f20-be6d-4c9d-9ffd-72628bbb2e93",
   "metadata": {},
   "outputs": [
    {
     "name": "stderr",
     "output_type": "stream",
     "text": [
      "100%|███████████████████████████████████████████████████████████████████████████████████████████████████████████████████████████████████████| 3210/3210 [58:04<00:00,  1.09s/it]\n"
     ]
    }
   ],
   "source": [
    "S2B = rio.open(S2B_PATH)\n",
    "S2A = rio.open(S2A_PATH)\n",
    "S1 = rio.open(S1_PATH)\n",
    "for idx in tqdm(range(0, len(grid_geom))):\n",
    "    \n",
    "    \n",
    "    minx,miny,maxx,maxy = grid_geom[idx].bounds\n",
    "    window = from_bounds(minx, miny, maxx, maxy, transform=S2B.transform)\n",
    "    transform = rio.transform.from_bounds(minx, miny, maxx, maxy, 128,128)\n",
    "    \n",
    "    S2B_img = S2B.read(window=window ,resampling=0)\n",
    "    S2A_img = S2A.read(window=window ,resampling=0)\n",
    "    S1_img = S1.read(window=window ,resampling=0)\n",
    "    \n",
    "    \n",
    "    pred_result = train_model(torch.tensor(S2B_img.reshape(1,4,128,128)), torch.tensor(S2A_img.reshape(1,4,128,128)), torch.tensor(S1_img.reshape(1,2,128,128)))\n",
    "    \n",
    "    OUTPUT_PATH = f'../data/inference/{minx}_{miny}_inf.tif'\n",
    "    with rio.open(OUTPUT_PATH, \"w\",\n",
    "               driver='GTiff',\n",
    "               count=4,\n",
    "               transform = transform,\n",
    "               width=128,\n",
    "               height=128,\n",
    "               dtype='float32',\n",
    "               crs=\"epsg:32630\",) as output_file:\n",
    "        output_file.write(pred_result.detach().numpy().squeeze())\n"
   ]
  },
  {
   "cell_type": "code",
   "execution_count": null,
   "id": "479df817-e2d3-4b68-a36d-65a67eae3d35",
   "metadata": {},
   "outputs": [],
   "source": []
  }
 ],
 "metadata": {
  "kernelspec": {
   "display_name": "Python 3 (ipykernel)",
   "language": "python",
   "name": "python3"
  },
  "language_info": {
   "codemirror_mode": {
    "name": "ipython",
    "version": 3
   },
   "file_extension": ".py",
   "mimetype": "text/x-python",
   "name": "python",
   "nbconvert_exporter": "python",
   "pygments_lexer": "ipython3",
   "version": "3.8.13"
  }
 },
 "nbformat": 4,
 "nbformat_minor": 5
}
