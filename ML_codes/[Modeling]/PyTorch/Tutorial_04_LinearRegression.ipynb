{
 "cells": [
  {
   "cell_type": "code",
   "execution_count": 1,
   "id": "fc1e7f91-471e-4c10-a4fb-e8abf1a74194",
   "metadata": {},
   "outputs": [],
   "source": [
    "import numpy as np\n",
    "import pandas as pd\n",
    "\n",
    "import torch\n",
    "import torch.nn as nn\n",
    "from sklearn import datasets\n",
    "\n",
    "import matplotlib.pyplot as plt"
   ]
  },
  {
   "cell_type": "code",
   "execution_count": 2,
   "id": "e1f11f9d-0c0a-41c4-969e-8a1a2fae7482",
   "metadata": {},
   "outputs": [],
   "source": [
    "torch.set_default_tensor_type(torch.cuda.FloatTensor)"
   ]
  },
  {
   "cell_type": "markdown",
   "id": "e718d91a-f435-4740-8481-13e50ced09c1",
   "metadata": {},
   "source": [
    "# Prepared data"
   ]
  },
  {
   "cell_type": "code",
   "execution_count": 3,
   "id": "f7d2e0b9-1b4f-4829-9b6c-f1c85c88c64a",
   "metadata": {},
   "outputs": [],
   "source": [
    "X_numpy, y_numpy = datasets.make_regression(n_samples=100,n_features=1,noise=20,random_state=1)"
   ]
  },
  {
   "cell_type": "code",
   "execution_count": 4,
   "id": "987f9e24-e146-4b75-876f-a21f6f3c088e",
   "metadata": {},
   "outputs": [],
   "source": [
    "X = torch.from_numpy(X_numpy.astype(np.float32)).cuda()\n",
    "y = torch.from_numpy(y_numpy.astype(np.float32)).view(100,1).cuda()"
   ]
  },
  {
   "cell_type": "code",
   "execution_count": 5,
   "id": "e1316af8-0c09-4bae-8582-1e87a3311959",
   "metadata": {},
   "outputs": [
    {
     "data": {
      "text/plain": [
       "(100, 1)"
      ]
     },
     "execution_count": 5,
     "metadata": {},
     "output_type": "execute_result"
    }
   ],
   "source": [
    "n_sample,n_features = X.shape[0], X.shape[1]\n",
    "n_sample,n_features "
   ]
  },
  {
   "cell_type": "markdown",
   "id": "f466508c-0d15-4d7a-ab8c-f18b7af1c1a7",
   "metadata": {},
   "source": [
    "# Constants"
   ]
  },
  {
   "cell_type": "code",
   "execution_count": 6,
   "id": "1659db83-9a7a-4931-bf6b-be0f2678ed5a",
   "metadata": {},
   "outputs": [],
   "source": [
    "input_size = n_features\n",
    "output_size = 1\n",
    "learning_rate = 0.01\n",
    "n_iters = 100"
   ]
  },
  {
   "cell_type": "markdown",
   "id": "b6666158-5da2-4112-9eea-d86fc27b5b67",
   "metadata": {},
   "source": [
    "# Model"
   ]
  },
  {
   "cell_type": "code",
   "execution_count": 37,
   "id": "611bed08-5692-4ab2-954d-8a4d2460fe20",
   "metadata": {},
   "outputs": [],
   "source": [
    "class LinearRegression(nn.Module):\n",
    "    def __init__(self,input_dim,output_dim):\n",
    "        super(LinearRegression,self).__init__()\n",
    "        \n",
    "        self.linear = nn.Sequential(\n",
    "                                    nn.Linear(input_dim,output_dim)\n",
    "                                    )\n",
    "    def forward(self,x):\n",
    "        return self.linear(x)"
   ]
  },
  {
   "cell_type": "code",
   "execution_count": 38,
   "id": "c1d78d7f-23f8-47ae-9fd4-2fb4ff38f261",
   "metadata": {},
   "outputs": [],
   "source": [
    "model = LinearRegression(input_size,output_size)"
   ]
  },
  {
   "cell_type": "markdown",
   "id": "9d9a8bd9-284c-41e5-8651-f116c2099f59",
   "metadata": {},
   "source": [
    "# Loss & optimizer"
   ]
  },
  {
   "cell_type": "code",
   "execution_count": 39,
   "id": "e7383a1f-7c74-415c-a02f-cfeb80650f4d",
   "metadata": {},
   "outputs": [],
   "source": [
    "criterion = nn.MSELoss()\n",
    "optimizer = torch.optim.SGD(model.parameters(),lr=learning_rate)"
   ]
  },
  {
   "cell_type": "markdown",
   "id": "7fd649ea-4738-4a08-b6f1-38b8e53d94e4",
   "metadata": {},
   "source": [
    "# Training loop"
   ]
  },
  {
   "cell_type": "code",
   "execution_count": 40,
   "id": "442c6023-9cdb-41a8-811f-28b584144d9b",
   "metadata": {},
   "outputs": [
    {
     "name": "stdout",
     "output_type": "stream",
     "text": [
      "epoch 1: loss = 5845.93847656\n",
      "epoch 11: loss = 4325.98193359\n",
      "epoch 21: loss = 3227.91845703\n",
      "epoch 31: loss = 2433.70898438\n",
      "epoch 41: loss = 1858.64318848\n",
      "epoch 51: loss = 1441.83093262\n",
      "epoch 61: loss = 1139.43835449\n",
      "epoch 71: loss = 919.86590576\n",
      "epoch 81: loss = 760.30334473\n",
      "epoch 91: loss = 644.26464844\n"
     ]
    }
   ],
   "source": [
    "for epoch in range(n_iters):\n",
    "    \n",
    "    # Predict\n",
    "    y_pred = model(X)\n",
    "    # Compare\n",
    "    loss = criterion(y_pred,y)\n",
    "    # Learn\n",
    "    dw = loss.backward()\n",
    "    optimizer.step()\n",
    "    optimizer.zero_grad()\n",
    "    if epoch % 10 ==0:\n",
    "        [w, b] = model.parameters()\n",
    "        print(f'epoch {epoch+1}: loss = {loss:.8f}')\n",
    "    "
   ]
  },
  {
   "cell_type": "markdown",
   "id": "199ffc41-1bb1-46f4-b7ec-e0225099f699",
   "metadata": {},
   "source": [
    "# Plot"
   ]
  },
  {
   "cell_type": "code",
   "execution_count": 41,
   "id": "5bb0593b-a458-4a07-a43a-8aa2f05fc31f",
   "metadata": {},
   "outputs": [
    {
     "data": {
      "image/png": "[encoded data removed]",
      "text/plain": [
       "<Figure size 432x288 with 1 Axes>"
      ]
     },
     "metadata": {
      "needs_background": "light"
     },
     "output_type": "display_data"
    }
   ],
   "source": [
    "with torch.no_grad():\n",
    "    predict = model(X).cpu().numpy()\n",
    "    plt.plot(X_numpy,y_numpy,'ro')\n",
    "    plt.plot(X_numpy,predict,'b')\n",
    "    plt.show()"
   ]
  },
  {
   "cell_type": "code",
   "execution_count": null,
   "id": "63bea654-c302-417b-919e-0018dd2101c0",
   "metadata": {},
   "outputs": [],
   "source": []
  }
 ],
 "metadata": {
  "kernelspec": {
   "display_name": "Python 3 (ipykernel)",
   "language": "python",
   "name": "python3"
  },
  "language_info": {
   "codemirror_mode": {
    "name": "ipython",
    "version": 3
   },
   "file_extension": ".py",
   "mimetype": "text/x-python",
   "name": "python",
   "nbconvert_exporter": "python",
   "pygments_lexer": "ipython3",
   "version": "3.8.13"
  }
 },
 "nbformat": 4,
 "nbformat_minor": 5
}
