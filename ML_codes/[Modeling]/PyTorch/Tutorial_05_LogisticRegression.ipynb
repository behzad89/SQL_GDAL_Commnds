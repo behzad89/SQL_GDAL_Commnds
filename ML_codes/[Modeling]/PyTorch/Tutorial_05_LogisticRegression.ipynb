{
 "cells": [
  {
   "cell_type": "code",
   "execution_count": 1,
   "id": "fc1e7f91-471e-4c10-a4fb-e8abf1a74194",
   "metadata": {},
   "outputs": [],
   "source": [
    "import numpy as np\n",
    "import pandas as pd\n",
    "\n",
    "import torch\n",
    "import torch.nn as nn\n",
    "from sklearn import datasets\n",
    "from sklearn.preprocessing import StandardScaler\n",
    "from sklearn.model_selection import train_test_split\n",
    "\n",
    "import matplotlib.pyplot as plt"
   ]
  },
  {
   "cell_type": "code",
   "execution_count": 2,
   "id": "e1f11f9d-0c0a-41c4-969e-8a1a2fae7482",
   "metadata": {},
   "outputs": [],
   "source": [
    "torch.set_default_tensor_type(torch.cuda.FloatTensor)"
   ]
  },
  {
   "cell_type": "markdown",
   "id": "e718d91a-f435-4740-8481-13e50ced09c1",
   "metadata": {},
   "source": [
    "# Prepared data"
   ]
  },
  {
   "cell_type": "code",
   "execution_count": 3,
   "id": "f7d2e0b9-1b4f-4829-9b6c-f1c85c88c64a",
   "metadata": {},
   "outputs": [],
   "source": [
    "bc = datasets.load_breast_cancer()"
   ]
  },
  {
   "cell_type": "code",
   "execution_count": 4,
   "id": "987f9e24-e146-4b75-876f-a21f6f3c088e",
   "metadata": {},
   "outputs": [],
   "source": [
    "X = bc.data.astype(np.float32)\n",
    "y = bc.target.astype(np.float32)"
   ]
  },
  {
   "cell_type": "code",
   "execution_count": 5,
   "id": "e1316af8-0c09-4bae-8582-1e87a3311959",
   "metadata": {},
   "outputs": [
    {
     "data": {
      "text/plain": [
       "(569, 30)"
      ]
     },
     "execution_count": 5,
     "metadata": {},
     "output_type": "execute_result"
    }
   ],
   "source": [
    "n_sample,n_features = X.shape[0], X.shape[1]\n",
    "n_sample,n_features "
   ]
  },
  {
   "cell_type": "code",
   "execution_count": 6,
   "id": "e84ca873-aab5-44f3-a472-43a8db811ecf",
   "metadata": {},
   "outputs": [],
   "source": [
    "X_train, X_test, y_train, y_test = train_test_split(X,y,test_size=0.2,random_state=1234)"
   ]
  },
  {
   "cell_type": "code",
   "execution_count": 7,
   "id": "31421058-7a7b-4cd8-b48a-cdd0a983e8d4",
   "metadata": {},
   "outputs": [],
   "source": [
    "sc = StandardScaler()\n",
    "X_train = sc.fit_transform(X_train)\n",
    "X_test = sc.transform(X_test)"
   ]
  },
  {
   "cell_type": "code",
   "execution_count": 8,
   "id": "7720e387-2637-4af0-a226-51af28623cb7",
   "metadata": {},
   "outputs": [],
   "source": [
    "X_train = torch.from_numpy(X_train).cuda()\n",
    "y_train = torch.from_numpy(y_train).view(y_train.shape[0],1).cuda()\n",
    "X_test = torch.from_numpy(X_test).cuda()\n",
    "y_test = torch.from_numpy(y_test).view(y_test.shape[0],1).cuda()"
   ]
  },
  {
   "cell_type": "markdown",
   "id": "f466508c-0d15-4d7a-ab8c-f18b7af1c1a7",
   "metadata": {},
   "source": [
    "# Constants"
   ]
  },
  {
   "cell_type": "code",
   "execution_count": 9,
   "id": "1659db83-9a7a-4931-bf6b-be0f2678ed5a",
   "metadata": {},
   "outputs": [],
   "source": [
    "input_size = n_features\n",
    "output_size = 1\n",
    "learning_rate = 0.01\n",
    "n_iters = 100"
   ]
  },
  {
   "cell_type": "markdown",
   "id": "b6666158-5da2-4112-9eea-d86fc27b5b67",
   "metadata": {},
   "source": [
    "# Model"
   ]
  },
  {
   "cell_type": "code",
   "execution_count": 10,
   "id": "611bed08-5692-4ab2-954d-8a4d2460fe20",
   "metadata": {},
   "outputs": [],
   "source": [
    "class LogisticRegression(nn.Module):\n",
    "    def __init__(self,input_dim,output_dim):\n",
    "        super(LogisticRegression,self).__init__()\n",
    "        \n",
    "        self.LR = nn.Sequential(\n",
    "                                nn.Linear(input_dim,output_dim),\n",
    "                                nn.Sigmoid()\n",
    "                                    )\n",
    "    def forward(self,x):\n",
    "        return self.LR(x)"
   ]
  },
  {
   "cell_type": "code",
   "execution_count": 11,
   "id": "c1d78d7f-23f8-47ae-9fd4-2fb4ff38f261",
   "metadata": {},
   "outputs": [],
   "source": [
    "model = LogisticRegression(input_size,output_size)"
   ]
  },
  {
   "cell_type": "markdown",
   "id": "9d9a8bd9-284c-41e5-8651-f116c2099f59",
   "metadata": {},
   "source": [
    "# Loss & optimizer"
   ]
  },
  {
   "cell_type": "code",
   "execution_count": 12,
   "id": "e7383a1f-7c74-415c-a02f-cfeb80650f4d",
   "metadata": {},
   "outputs": [],
   "source": [
    "criterion = nn.BCELoss()\n",
    "optimizer = torch.optim.Adam(model.parameters(),lr=learning_rate)"
   ]
  },
  {
   "cell_type": "markdown",
   "id": "7fd649ea-4738-4a08-b6f1-38b8e53d94e4",
   "metadata": {},
   "source": [
    "# Training loop"
   ]
  },
  {
   "cell_type": "code",
   "execution_count": 13,
   "id": "442c6023-9cdb-41a8-811f-28b584144d9b",
   "metadata": {},
   "outputs": [
    {
     "name": "stdout",
     "output_type": "stream",
     "text": [
      "epoch 10: loss = 0.3557\n",
      "epoch 20: loss = 0.2083\n",
      "epoch 30: loss = 0.1514\n",
      "epoch 40: loss = 0.1248\n",
      "epoch 50: loss = 0.1093\n",
      "epoch 60: loss = 0.0990\n",
      "epoch 70: loss = 0.0916\n",
      "epoch 80: loss = 0.0858\n",
      "epoch 90: loss = 0.0811\n",
      "epoch 100: loss = 0.0772\n"
     ]
    }
   ],
   "source": [
    "for epoch in range(n_iters):\n",
    "    \n",
    "    # Predict\n",
    "    y_pred = model(X_train)\n",
    "    # Compare\n",
    "    loss = criterion(y_pred,y_train)\n",
    "    # Learn\n",
    "    dw = loss.backward()\n",
    "    optimizer.step()\n",
    "    optimizer.zero_grad()\n",
    "    if (epoch+1) % 10 ==0:\n",
    "        print(f'epoch {epoch+1}: loss = {loss.item():.4f}')\n",
    "    "
   ]
  },
  {
   "cell_type": "code",
   "execution_count": 14,
   "id": "63bea654-c302-417b-919e-0018dd2101c0",
   "metadata": {},
   "outputs": [
    {
     "name": "stdout",
     "output_type": "stream",
     "text": [
      "accuracy = 0.9561\n"
     ]
    }
   ],
   "source": [
    "with torch.no_grad():\n",
    "    y_predicted = model(X_test)\n",
    "    y_predicted_cls = y_predicted.round()\n",
    "    acc = y_predicted_cls.eq(y_test).sum()/float(y_test.shape[0])\n",
    "    print(f'accuracy = {acc:.4f}')"
   ]
  },
  {
   "cell_type": "code",
   "execution_count": null,
   "id": "f536a83a-4cef-4633-aeab-c679c4bb6093",
   "metadata": {},
   "outputs": [],
   "source": []
  }
 ],
 "metadata": {
  "kernelspec": {
   "display_name": "Python 3 (ipykernel)",
   "language": "python",
   "name": "python3"
  },
  "language_info": {
   "codemirror_mode": {
    "name": "ipython",
    "version": 3
   },
   "file_extension": ".py",
   "mimetype": "text/x-python",
   "name": "python",
   "nbconvert_exporter": "python",
   "pygments_lexer": "ipython3",
   "version": "3.8.13"
  }
 },
 "nbformat": 4,
 "nbformat_minor": 5
}
