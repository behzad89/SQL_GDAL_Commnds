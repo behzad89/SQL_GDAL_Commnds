{
 "cells": [
  {
   "cell_type": "code",
   "execution_count": 2,
   "id": "2861587f-6c79-403b-a397-1239572317ce",
   "metadata": {},
   "outputs": [],
   "source": [
    "import torch\n",
    "import torchvision\n",
    "from torch.utils.data import Dataset, DataLoader\n",
    "import numpy as np\n",
    "import pandas as pd\n",
    "import math"
   ]
  },
  {
   "cell_type": "code",
   "execution_count": 5,
   "id": "6925c281-d54c-4cfa-be5d-9a7fe85f460b",
   "metadata": {},
   "outputs": [],
   "source": [
    "df = pd.read_csv('train_data.csv',index_col='Unnamed: 0')"
   ]
  },
  {
   "cell_type": "code",
   "execution_count": 6,
   "id": "df3d4c99-bad2-4059-a4b2-02e783d81e39",
   "metadata": {},
   "outputs": [
    {
     "data": {
      "text/html": [
       "<div>\n",
       "<style scoped>\n",
       "    .dataframe tbody tr th:only-of-type {\n",
       "        vertical-align: middle;\n",
       "    }\n",
       "\n",
       "    .dataframe tbody tr th {\n",
       "        vertical-align: top;\n",
       "    }\n",
       "\n",
       "    .dataframe thead th {\n",
       "        text-align: right;\n",
       "    }\n",
       "</style>\n",
       "<table border=\"1\" class=\"dataframe\">\n",
       "  <thead>\n",
       "    <tr style=\"text-align: right;\">\n",
       "      <th></th>\n",
       "      <th>t2m</th>\n",
       "      <th>NDVI</th>\n",
       "      <th>boundaryLayerHeight</th>\n",
       "      <th>rh</th>\n",
       "      <th>totalPrecipitation</th>\n",
       "      <th>windSpeed</th>\n",
       "      <th>windDirection</th>\n",
       "      <th>SWIR1</th>\n",
       "      <th>NIR</th>\n",
       "      <th>red</th>\n",
       "      <th>...</th>\n",
       "      <th>day_sin</th>\n",
       "      <th>season_cos</th>\n",
       "      <th>season_sin</th>\n",
       "      <th>week_cos</th>\n",
       "      <th>week_sin</th>\n",
       "      <th>month_cos</th>\n",
       "      <th>month_sin</th>\n",
       "      <th>Grasses_avg_daily</th>\n",
       "      <th>Grasses_std_daily</th>\n",
       "      <th>Grasses</th>\n",
       "    </tr>\n",
       "  </thead>\n",
       "  <tbody>\n",
       "    <tr>\n",
       "      <th>0</th>\n",
       "      <td>-0.369523</td>\n",
       "      <td>0.4982</td>\n",
       "      <td>102.408676</td>\n",
       "      <td>88.53255</td>\n",
       "      <td>0.000732</td>\n",
       "      <td>0.649779</td>\n",
       "      <td>-135.56980</td>\n",
       "      <td>7903.0</td>\n",
       "      <td>8511.0</td>\n",
       "      <td>2964.0</td>\n",
       "      <td>...</td>\n",
       "      <td>0.017213</td>\n",
       "      <td>6.123234e-17</td>\n",
       "      <td>1.0</td>\n",
       "      <td>1.0</td>\n",
       "      <td>-2.449294e-16</td>\n",
       "      <td>0.866025</td>\n",
       "      <td>0.5</td>\n",
       "      <td>0.0</td>\n",
       "      <td>0.0</td>\n",
       "      <td>0.0</td>\n",
       "    </tr>\n",
       "    <tr>\n",
       "      <th>1</th>\n",
       "      <td>0.845408</td>\n",
       "      <td>0.4982</td>\n",
       "      <td>167.713550</td>\n",
       "      <td>94.78888</td>\n",
       "      <td>0.001186</td>\n",
       "      <td>1.490278</td>\n",
       "      <td>-153.75153</td>\n",
       "      <td>7482.0</td>\n",
       "      <td>6773.0</td>\n",
       "      <td>3226.0</td>\n",
       "      <td>...</td>\n",
       "      <td>0.017213</td>\n",
       "      <td>6.123234e-17</td>\n",
       "      <td>1.0</td>\n",
       "      <td>1.0</td>\n",
       "      <td>-2.449294e-16</td>\n",
       "      <td>0.866025</td>\n",
       "      <td>0.5</td>\n",
       "      <td>0.0</td>\n",
       "      <td>0.0</td>\n",
       "      <td>0.0</td>\n",
       "    </tr>\n",
       "    <tr>\n",
       "      <th>2</th>\n",
       "      <td>-3.842715</td>\n",
       "      <td>0.4982</td>\n",
       "      <td>62.996920</td>\n",
       "      <td>84.02357</td>\n",
       "      <td>0.000781</td>\n",
       "      <td>0.823700</td>\n",
       "      <td>162.49753</td>\n",
       "      <td>6292.0</td>\n",
       "      <td>7443.0</td>\n",
       "      <td>2565.0</td>\n",
       "      <td>...</td>\n",
       "      <td>0.017213</td>\n",
       "      <td>6.123234e-17</td>\n",
       "      <td>1.0</td>\n",
       "      <td>1.0</td>\n",
       "      <td>-2.449294e-16</td>\n",
       "      <td>0.866025</td>\n",
       "      <td>0.5</td>\n",
       "      <td>0.0</td>\n",
       "      <td>0.0</td>\n",
       "      <td>0.0</td>\n",
       "    </tr>\n",
       "    <tr>\n",
       "      <th>3</th>\n",
       "      <td>0.307328</td>\n",
       "      <td>0.4982</td>\n",
       "      <td>165.393590</td>\n",
       "      <td>96.01055</td>\n",
       "      <td>0.000915</td>\n",
       "      <td>1.141481</td>\n",
       "      <td>-117.63472</td>\n",
       "      <td>9590.0</td>\n",
       "      <td>10635.0</td>\n",
       "      <td>3852.0</td>\n",
       "      <td>...</td>\n",
       "      <td>0.017213</td>\n",
       "      <td>6.123234e-17</td>\n",
       "      <td>1.0</td>\n",
       "      <td>1.0</td>\n",
       "      <td>-2.449294e-16</td>\n",
       "      <td>0.866025</td>\n",
       "      <td>0.5</td>\n",
       "      <td>0.0</td>\n",
       "      <td>0.0</td>\n",
       "      <td>0.0</td>\n",
       "    </tr>\n",
       "    <tr>\n",
       "      <th>4</th>\n",
       "      <td>-11.214022</td>\n",
       "      <td>0.4982</td>\n",
       "      <td>27.412760</td>\n",
       "      <td>83.98948</td>\n",
       "      <td>0.000880</td>\n",
       "      <td>0.661277</td>\n",
       "      <td>156.37183</td>\n",
       "      <td>5678.0</td>\n",
       "      <td>8548.0</td>\n",
       "      <td>1672.0</td>\n",
       "      <td>...</td>\n",
       "      <td>0.017213</td>\n",
       "      <td>6.123234e-17</td>\n",
       "      <td>1.0</td>\n",
       "      <td>1.0</td>\n",
       "      <td>-2.449294e-16</td>\n",
       "      <td>0.866025</td>\n",
       "      <td>0.5</td>\n",
       "      <td>0.0</td>\n",
       "      <td>0.0</td>\n",
       "      <td>0.0</td>\n",
       "    </tr>\n",
       "  </tbody>\n",
       "</table>\n",
       "<p>5 rows × 39 columns</p>\n",
       "</div>"
      ],
      "text/plain": [
       "         t2m    NDVI  boundaryLayerHeight        rh  totalPrecipitation  \\\n",
       "0  -0.369523  0.4982           102.408676  88.53255            0.000732   \n",
       "1   0.845408  0.4982           167.713550  94.78888            0.001186   \n",
       "2  -3.842715  0.4982            62.996920  84.02357            0.000781   \n",
       "3   0.307328  0.4982           165.393590  96.01055            0.000915   \n",
       "4 -11.214022  0.4982            27.412760  83.98948            0.000880   \n",
       "\n",
       "   windSpeed  windDirection   SWIR1      NIR     red  ...   day_sin  \\\n",
       "0   0.649779     -135.56980  7903.0   8511.0  2964.0  ...  0.017213   \n",
       "1   1.490278     -153.75153  7482.0   6773.0  3226.0  ...  0.017213   \n",
       "2   0.823700      162.49753  6292.0   7443.0  2565.0  ...  0.017213   \n",
       "3   1.141481     -117.63472  9590.0  10635.0  3852.0  ...  0.017213   \n",
       "4   0.661277      156.37183  5678.0   8548.0  1672.0  ...  0.017213   \n",
       "\n",
       "     season_cos  season_sin  week_cos      week_sin  month_cos  month_sin  \\\n",
       "0  6.123234e-17         1.0       1.0 -2.449294e-16   0.866025        0.5   \n",
       "1  6.123234e-17         1.0       1.0 -2.449294e-16   0.866025        0.5   \n",
       "2  6.123234e-17         1.0       1.0 -2.449294e-16   0.866025        0.5   \n",
       "3  6.123234e-17         1.0       1.0 -2.449294e-16   0.866025        0.5   \n",
       "4  6.123234e-17         1.0       1.0 -2.449294e-16   0.866025        0.5   \n",
       "\n",
       "   Grasses_avg_daily  Grasses_std_daily  Grasses  \n",
       "0                0.0                0.0      0.0  \n",
       "1                0.0                0.0      0.0  \n",
       "2                0.0                0.0      0.0  \n",
       "3                0.0                0.0      0.0  \n",
       "4                0.0                0.0      0.0  \n",
       "\n",
       "[5 rows x 39 columns]"
      ]
     },
     "execution_count": 6,
     "metadata": {},
     "output_type": "execute_result"
    }
   ],
   "source": [
    "df.head()"
   ]
  },
  {
   "cell_type": "code",
   "execution_count": 143,
   "id": "b3aa451b-b923-4d86-b511-039d077c61d5",
   "metadata": {},
   "outputs": [],
   "source": [
    "class MyDataset(Dataset):\n",
    "    def __init__(self,dataset,transform=None):\n",
    "        # data loading\n",
    "        self.X = dataset.iloc[:,:-1].values.astype('float32')\n",
    "        self.y = dataset.iloc[:,-1].values.reshape(-1,1).astype('float32')\n",
    "        self.n_samples = dataset.shape[0]\n",
    "        \n",
    "        self.transform = transform\n",
    "\n",
    "    def __len__(self):\n",
    "        return self.n_samples\n",
    "        \n",
    "    def __getitem__(self,index):\n",
    "        sample = self.X[index],self.y[index]\n",
    "        \n",
    "        if self.transform:\n",
    "            sample = self.transform(sample)\n",
    "            \n",
    "        return sample\n",
    "        \n",
    "\n",
    "        "
   ]
  },
  {
   "cell_type": "code",
   "execution_count": 157,
   "id": "f2f1a55f-950c-4b04-8f43-2a9fa339144b",
   "metadata": {},
   "outputs": [],
   "source": [
    "class ToTensor:\n",
    "    def __call__(self,sample):\n",
    "        inputs,targets = sample\n",
    "        return torch.from_numpy(inputs), torch.from_numpy(targets)\n",
    "    \n",
    "class MulTransform:\n",
    "    def __init__(self,factor):\n",
    "        self.factor = factor\n",
    "    def __call__(self,sample):\n",
    "        inputs,targets = sample\n",
    "        inputs *= self.factor\n",
    "        return inputs, targets"
   ]
  },
  {
   "cell_type": "code",
   "execution_count": 159,
   "id": "4e07be72-c062-4f33-982a-990b44149b6b",
   "metadata": {},
   "outputs": [],
   "source": [
    "composed = torchvision.transforms.Compose([ToTensor(),MulTransform(2)])"
   ]
  },
  {
   "cell_type": "code",
   "execution_count": 160,
   "id": "99d143a2-26be-47c9-a7f4-01e6a0072db9",
   "metadata": {},
   "outputs": [],
   "source": [
    "dataset = MyDataset(df,transform=composed)"
   ]
  },
  {
   "cell_type": "code",
   "execution_count": 161,
   "id": "4bbfcca3-9841-44c5-b1d3-e8c3c32b42f1",
   "metadata": {},
   "outputs": [],
   "source": [
    "feature, label = dataset[0]"
   ]
  },
  {
   "cell_type": "code",
   "execution_count": 162,
   "id": "9634219f-cf80-47be-8d19-cb1335bcff76",
   "metadata": {},
   "outputs": [
    {
     "data": {
      "text/plain": [
       "(torch.Size([38]), torch.Size([1]))"
      ]
     },
     "execution_count": 162,
     "metadata": {},
     "output_type": "execute_result"
    }
   ],
   "source": [
    "feature.shape, label.shape"
   ]
  },
  {
   "cell_type": "code",
   "execution_count": 163,
   "id": "3e570803-7f35-4a0d-b367-f110c3b8f464",
   "metadata": {},
   "outputs": [],
   "source": [
    "dataloader = DataLoader(dataset=dataset, batch_size=4096, shuffle=True, num_workers=1)"
   ]
  },
  {
   "cell_type": "code",
   "execution_count": 164,
   "id": "69a2d842-b425-4361-8f3d-89496f6d0c8f",
   "metadata": {},
   "outputs": [],
   "source": [
    "data = iter(dataloader).next()"
   ]
  },
  {
   "cell_type": "code",
   "execution_count": 165,
   "id": "9ed5c09e-e877-408c-a032-87b602b05352",
   "metadata": {},
   "outputs": [],
   "source": [
    "feature, label = data"
   ]
  },
  {
   "cell_type": "code",
   "execution_count": 166,
   "id": "8890d14d-cffc-48b9-b60d-4d13b4f7d124",
   "metadata": {},
   "outputs": [
    {
     "data": {
      "text/plain": [
       "(torch.Size([4096, 38]), torch.Size([4096, 1]))"
      ]
     },
     "execution_count": 166,
     "metadata": {},
     "output_type": "execute_result"
    }
   ],
   "source": [
    "feature.shape, label.shape"
   ]
  },
  {
   "cell_type": "code",
   "execution_count": 167,
   "id": "92b5d137-d3b2-426b-97f0-8fc7812e6862",
   "metadata": {},
   "outputs": [
    {
     "name": "stdout",
     "output_type": "stream",
     "text": [
      "102270 25\n"
     ]
    }
   ],
   "source": [
    "n_epochs = 2\n",
    "total_samples = len(dataset)\n",
    "n_iters = math.ceil(total_samples/4096)\n",
    "print(total_samples,n_iters)"
   ]
  },
  {
   "cell_type": "code",
   "execution_count": 168,
   "id": "965d926d-9ada-4706-a940-6443064e058b",
   "metadata": {},
   "outputs": [
    {
     "name": "stdout",
     "output_type": "stream",
     "text": [
      "epoch 1/2, step 5/25, inputs torch.Size([4096, 38])\n",
      "epoch 1/2, step 10/25, inputs torch.Size([4096, 38])\n",
      "epoch 1/2, step 15/25, inputs torch.Size([4096, 38])\n",
      "epoch 1/2, step 20/25, inputs torch.Size([4096, 38])\n",
      "epoch 1/2, step 25/25, inputs torch.Size([3966, 38])\n",
      "epoch 2/2, step 5/25, inputs torch.Size([4096, 38])\n",
      "epoch 2/2, step 10/25, inputs torch.Size([4096, 38])\n",
      "epoch 2/2, step 15/25, inputs torch.Size([4096, 38])\n",
      "epoch 2/2, step 20/25, inputs torch.Size([4096, 38])\n",
      "epoch 2/2, step 25/25, inputs torch.Size([3966, 38])\n"
     ]
    }
   ],
   "source": [
    "for epoch in range(n_epochs):\n",
    "    for i, (inputs, labels) in enumerate(dataloader):\n",
    "        # Forward, backward, update\n",
    "        \n",
    "        if (i+1) % 5 ==0:\n",
    "            print(f'epoch {epoch+1}/{n_epochs}, step {i+1}/{n_iters}, inputs {inputs.shape}')"
   ]
  },
  {
   "cell_type": "code",
   "execution_count": null,
   "id": "ee6de544-e7f9-407c-9464-68579edc64d0",
   "metadata": {},
   "outputs": [],
   "source": []
  }
 ],
 "metadata": {
  "kernelspec": {
   "display_name": "Python 3 (ipykernel)",
   "language": "python",
   "name": "python3"
  },
  "language_info": {
   "codemirror_mode": {
    "name": "ipython",
    "version": 3
   },
   "file_extension": ".py",
   "mimetype": "text/x-python",
   "name": "python",
   "nbconvert_exporter": "python",
   "pygments_lexer": "ipython3",
   "version": "3.8.13"
  }
 },
 "nbformat": 4,
 "nbformat_minor": 5
}
