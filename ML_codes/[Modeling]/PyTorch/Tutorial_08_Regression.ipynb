{
 "cells": [
  {
   "cell_type": "code",
   "execution_count": 99,
   "id": "5af4db55-c7da-48cd-bfca-74fd8e1774c5",
   "metadata": {},
   "outputs": [],
   "source": [
    "import pandas as pd\n",
    "import numpy as np\n",
    "\n",
    "import torch\n",
    "import torch.nn as nn\n",
    "\n",
    "import torchvision.transforms as transforms\n",
    "from torch.utils.data import Dataset, DataLoader\n",
    "\n",
    "from sklearn.preprocessing import StandardScaler,Normalizer\n",
    "\n",
    "from tqdm import tqdm\n",
    "\n",
    "import matplotlib.pyplot as plt"
   ]
  },
  {
   "cell_type": "code",
   "execution_count": 100,
   "id": "49c9f218-30dc-4b8f-be1d-bfeddc7146b0",
   "metadata": {},
   "outputs": [],
   "source": [
    "# Device configuration\n",
    "device = torch.device('cuda' if torch.cuda.is_available() else 'cpu')"
   ]
  },
  {
   "cell_type": "code",
   "execution_count": 101,
   "id": "5d6cf8e9-0b2d-411a-8c79-5a5def9bd139",
   "metadata": {},
   "outputs": [],
   "source": [
    "df = pd.read_csv('train_data.csv',index_col='Unnamed: 0')"
   ]
  },
  {
   "cell_type": "code",
   "execution_count": 102,
   "id": "a420ea88-faea-45c4-8a1f-ee0c045106d9",
   "metadata": {},
   "outputs": [
    {
     "data": {
      "text/html": [
       "<div>\n",
       "<style scoped>\n",
       "    .dataframe tbody tr th:only-of-type {\n",
       "        vertical-align: middle;\n",
       "    }\n",
       "\n",
       "    .dataframe tbody tr th {\n",
       "        vertical-align: top;\n",
       "    }\n",
       "\n",
       "    .dataframe thead th {\n",
       "        text-align: right;\n",
       "    }\n",
       "</style>\n",
       "<table border=\"1\" class=\"dataframe\">\n",
       "  <thead>\n",
       "    <tr style=\"text-align: right;\">\n",
       "      <th></th>\n",
       "      <th>t2m</th>\n",
       "      <th>NDVI</th>\n",
       "      <th>boundaryLayerHeight</th>\n",
       "      <th>rh</th>\n",
       "      <th>totalPrecipitation</th>\n",
       "      <th>windSpeed</th>\n",
       "      <th>windDirection</th>\n",
       "      <th>SWIR1</th>\n",
       "      <th>NIR</th>\n",
       "      <th>red</th>\n",
       "      <th>...</th>\n",
       "      <th>day_sin</th>\n",
       "      <th>season_cos</th>\n",
       "      <th>season_sin</th>\n",
       "      <th>week_cos</th>\n",
       "      <th>week_sin</th>\n",
       "      <th>month_cos</th>\n",
       "      <th>month_sin</th>\n",
       "      <th>Grasses_avg_daily</th>\n",
       "      <th>Grasses_std_daily</th>\n",
       "      <th>Grasses</th>\n",
       "    </tr>\n",
       "  </thead>\n",
       "  <tbody>\n",
       "    <tr>\n",
       "      <th>0</th>\n",
       "      <td>-0.369523</td>\n",
       "      <td>0.4982</td>\n",
       "      <td>102.408676</td>\n",
       "      <td>88.53255</td>\n",
       "      <td>0.000732</td>\n",
       "      <td>0.649779</td>\n",
       "      <td>-135.56980</td>\n",
       "      <td>7903.0</td>\n",
       "      <td>8511.0</td>\n",
       "      <td>2964.0</td>\n",
       "      <td>...</td>\n",
       "      <td>0.017213</td>\n",
       "      <td>6.123234e-17</td>\n",
       "      <td>1.0</td>\n",
       "      <td>1.0</td>\n",
       "      <td>-2.449294e-16</td>\n",
       "      <td>0.866025</td>\n",
       "      <td>0.5</td>\n",
       "      <td>0.0</td>\n",
       "      <td>0.0</td>\n",
       "      <td>0.0</td>\n",
       "    </tr>\n",
       "    <tr>\n",
       "      <th>1</th>\n",
       "      <td>0.845408</td>\n",
       "      <td>0.4982</td>\n",
       "      <td>167.713550</td>\n",
       "      <td>94.78888</td>\n",
       "      <td>0.001186</td>\n",
       "      <td>1.490278</td>\n",
       "      <td>-153.75153</td>\n",
       "      <td>7482.0</td>\n",
       "      <td>6773.0</td>\n",
       "      <td>3226.0</td>\n",
       "      <td>...</td>\n",
       "      <td>0.017213</td>\n",
       "      <td>6.123234e-17</td>\n",
       "      <td>1.0</td>\n",
       "      <td>1.0</td>\n",
       "      <td>-2.449294e-16</td>\n",
       "      <td>0.866025</td>\n",
       "      <td>0.5</td>\n",
       "      <td>0.0</td>\n",
       "      <td>0.0</td>\n",
       "      <td>0.0</td>\n",
       "    </tr>\n",
       "    <tr>\n",
       "      <th>2</th>\n",
       "      <td>-3.842715</td>\n",
       "      <td>0.4982</td>\n",
       "      <td>62.996920</td>\n",
       "      <td>84.02357</td>\n",
       "      <td>0.000781</td>\n",
       "      <td>0.823700</td>\n",
       "      <td>162.49753</td>\n",
       "      <td>6292.0</td>\n",
       "      <td>7443.0</td>\n",
       "      <td>2565.0</td>\n",
       "      <td>...</td>\n",
       "      <td>0.017213</td>\n",
       "      <td>6.123234e-17</td>\n",
       "      <td>1.0</td>\n",
       "      <td>1.0</td>\n",
       "      <td>-2.449294e-16</td>\n",
       "      <td>0.866025</td>\n",
       "      <td>0.5</td>\n",
       "      <td>0.0</td>\n",
       "      <td>0.0</td>\n",
       "      <td>0.0</td>\n",
       "    </tr>\n",
       "    <tr>\n",
       "      <th>3</th>\n",
       "      <td>0.307328</td>\n",
       "      <td>0.4982</td>\n",
       "      <td>165.393590</td>\n",
       "      <td>96.01055</td>\n",
       "      <td>0.000915</td>\n",
       "      <td>1.141481</td>\n",
       "      <td>-117.63472</td>\n",
       "      <td>9590.0</td>\n",
       "      <td>10635.0</td>\n",
       "      <td>3852.0</td>\n",
       "      <td>...</td>\n",
       "      <td>0.017213</td>\n",
       "      <td>6.123234e-17</td>\n",
       "      <td>1.0</td>\n",
       "      <td>1.0</td>\n",
       "      <td>-2.449294e-16</td>\n",
       "      <td>0.866025</td>\n",
       "      <td>0.5</td>\n",
       "      <td>0.0</td>\n",
       "      <td>0.0</td>\n",
       "      <td>0.0</td>\n",
       "    </tr>\n",
       "    <tr>\n",
       "      <th>4</th>\n",
       "      <td>-11.214022</td>\n",
       "      <td>0.4982</td>\n",
       "      <td>27.412760</td>\n",
       "      <td>83.98948</td>\n",
       "      <td>0.000880</td>\n",
       "      <td>0.661277</td>\n",
       "      <td>156.37183</td>\n",
       "      <td>5678.0</td>\n",
       "      <td>8548.0</td>\n",
       "      <td>1672.0</td>\n",
       "      <td>...</td>\n",
       "      <td>0.017213</td>\n",
       "      <td>6.123234e-17</td>\n",
       "      <td>1.0</td>\n",
       "      <td>1.0</td>\n",
       "      <td>-2.449294e-16</td>\n",
       "      <td>0.866025</td>\n",
       "      <td>0.5</td>\n",
       "      <td>0.0</td>\n",
       "      <td>0.0</td>\n",
       "      <td>0.0</td>\n",
       "    </tr>\n",
       "  </tbody>\n",
       "</table>\n",
       "<p>5 rows × 39 columns</p>\n",
       "</div>"
      ],
      "text/plain": [
       "         t2m    NDVI  boundaryLayerHeight        rh  totalPrecipitation  \\\n",
       "0  -0.369523  0.4982           102.408676  88.53255            0.000732   \n",
       "1   0.845408  0.4982           167.713550  94.78888            0.001186   \n",
       "2  -3.842715  0.4982            62.996920  84.02357            0.000781   \n",
       "3   0.307328  0.4982           165.393590  96.01055            0.000915   \n",
       "4 -11.214022  0.4982            27.412760  83.98948            0.000880   \n",
       "\n",
       "   windSpeed  windDirection   SWIR1      NIR     red  ...   day_sin  \\\n",
       "0   0.649779     -135.56980  7903.0   8511.0  2964.0  ...  0.017213   \n",
       "1   1.490278     -153.75153  7482.0   6773.0  3226.0  ...  0.017213   \n",
       "2   0.823700      162.49753  6292.0   7443.0  2565.0  ...  0.017213   \n",
       "3   1.141481     -117.63472  9590.0  10635.0  3852.0  ...  0.017213   \n",
       "4   0.661277      156.37183  5678.0   8548.0  1672.0  ...  0.017213   \n",
       "\n",
       "     season_cos  season_sin  week_cos      week_sin  month_cos  month_sin  \\\n",
       "0  6.123234e-17         1.0       1.0 -2.449294e-16   0.866025        0.5   \n",
       "1  6.123234e-17         1.0       1.0 -2.449294e-16   0.866025        0.5   \n",
       "2  6.123234e-17         1.0       1.0 -2.449294e-16   0.866025        0.5   \n",
       "3  6.123234e-17         1.0       1.0 -2.449294e-16   0.866025        0.5   \n",
       "4  6.123234e-17         1.0       1.0 -2.449294e-16   0.866025        0.5   \n",
       "\n",
       "   Grasses_avg_daily  Grasses_std_daily  Grasses  \n",
       "0                0.0                0.0      0.0  \n",
       "1                0.0                0.0      0.0  \n",
       "2                0.0                0.0      0.0  \n",
       "3                0.0                0.0      0.0  \n",
       "4                0.0                0.0      0.0  \n",
       "\n",
       "[5 rows x 39 columns]"
      ]
     },
     "execution_count": 102,
     "metadata": {},
     "output_type": "execute_result"
    }
   ],
   "source": [
    "df.head()"
   ]
  },
  {
   "cell_type": "code",
   "execution_count": 103,
   "id": "746720c5-9ffb-420a-b8da-f14f2efe0e7c",
   "metadata": {},
   "outputs": [],
   "source": [
    "class MyDataset(Dataset):\n",
    "    def __init__(self,dataset,transform=None):\n",
    "        # data loading\n",
    "        X = dataset.iloc[:,:-1].values.astype('float32')\n",
    "        self.y = dataset.iloc[:,-1].values.reshape(-1,1).astype('float32')\n",
    "        self.n_samples = dataset.shape[0]\n",
    "        \n",
    "        # scaling the features\n",
    "        scaler = StandardScaler()\n",
    "        self.X_norm = scaler.fit_transform(X)\n",
    "        \n",
    "        self.transform = transform\n",
    "\n",
    "    def __len__(self):\n",
    "        return self.n_samples\n",
    "        \n",
    "    def __getitem__(self,index):\n",
    "        sample = self.X_norm[index],self.y[index]\n",
    "        \n",
    "        if self.transform:\n",
    "            sample = self.transform(sample)\n",
    "            \n",
    "        return sample"
   ]
  },
  {
   "cell_type": "code",
   "execution_count": 104,
   "id": "6bfc00cf-1a46-462c-bc65-a6b83b8644cd",
   "metadata": {},
   "outputs": [],
   "source": [
    "class ToTensor:\n",
    "    def __call__(self,sample):\n",
    "        inputs,targets = sample\n",
    "        return torch.from_numpy(inputs), torch.from_numpy(targets)"
   ]
  },
  {
   "cell_type": "code",
   "execution_count": 105,
   "id": "7f12d19a-5499-4f8a-adfe-434fa8e1ef8b",
   "metadata": {},
   "outputs": [],
   "source": [
    "composed = transforms.Compose([ToTensor()])"
   ]
  },
  {
   "cell_type": "code",
   "execution_count": 106,
   "id": "7db8ec82-3f30-4dab-b2fb-2ba4c06eb6c8",
   "metadata": {},
   "outputs": [],
   "source": [
    "dataset = MyDataset(df,transform=composed)"
   ]
  },
  {
   "cell_type": "code",
   "execution_count": 107,
   "id": "a86a4a93-d133-41ba-bd0c-5517fa14def6",
   "metadata": {},
   "outputs": [
    {
     "data": {
      "text/plain": [
       "(torch.Size([38]), torch.Size([1]))"
      ]
     },
     "execution_count": 107,
     "metadata": {},
     "output_type": "execute_result"
    }
   ],
   "source": [
    "feature, label = dataset[0]\n",
    "feature.shape, label.shape"
   ]
  },
  {
   "cell_type": "code",
   "execution_count": 136,
   "id": "464dff86-6309-4d04-92e3-eab7d6ee4f13",
   "metadata": {},
   "outputs": [],
   "source": [
    "# Constants\n",
    "input_size = 38\n",
    "hidden_size = 4\n",
    "output_size = 1\n",
    "learning_rate = 0.00001\n",
    "n_epochs = 50\n",
    "batch_size = 100"
   ]
  },
  {
   "cell_type": "code",
   "execution_count": 137,
   "id": "b6db9854-61db-40ab-8026-8610fc5b47a4",
   "metadata": {},
   "outputs": [],
   "source": [
    "train_loader = DataLoader(dataset=dataset,batch_size=batch_size,shuffle=True)"
   ]
  },
  {
   "cell_type": "code",
   "execution_count": 138,
   "id": "a92e3d42-17cb-4c7a-b3c4-a88f7c128638",
   "metadata": {},
   "outputs": [],
   "source": [
    "# Model\n",
    "class PollenModel(nn.Module):\n",
    "    def __init__(self,input_dim,hidden_size,output_dim):\n",
    "        super(PollenModel,self).__init__()\n",
    "        \n",
    "        self.pollen = nn.Sequential(\n",
    "                                    nn.Linear(input_dim,hidden_size),\n",
    "                                    nn.ReLU(inplace=True),\n",
    "                                    nn.Linear(hidden_size,output_dim)\n",
    "                                    )\n",
    "    def forward(self,x):\n",
    "        return self.pollen(x)"
   ]
  },
  {
   "cell_type": "code",
   "execution_count": 139,
   "id": "a610539d-f4a2-4c69-ab5c-4471b42b50c4",
   "metadata": {},
   "outputs": [],
   "source": [
    "model = PollenModel(input_size,hidden_size,output_size)"
   ]
  },
  {
   "cell_type": "code",
   "execution_count": 140,
   "id": "45a102f5-8d35-4055-9d02-c14559017dc4",
   "metadata": {},
   "outputs": [],
   "source": [
    "# Loss & Optemizer\n",
    "criterion = nn.MSELoss()\n",
    "optimizer = torch.optim.Adam(model.parameters(),lr=learning_rate)"
   ]
  },
  {
   "cell_type": "code",
   "execution_count": 141,
   "id": "aa3b0184-2895-4923-96f8-e5738ac8f082",
   "metadata": {},
   "outputs": [
    {
     "name": "stderr",
     "output_type": "stream",
     "text": [
      "100%|█████████████████████████████████████| 1023/1023 [00:02<00:00, 449.86it/s]\n"
     ]
    },
    {
     "name": "stdout",
     "output_type": "stream",
     "text": [
      "epoch 1 / 50, loss = 40.9829\n"
     ]
    },
    {
     "name": "stderr",
     "output_type": "stream",
     "text": [
      "100%|█████████████████████████████████████| 1023/1023 [00:02<00:00, 453.11it/s]\n"
     ]
    },
    {
     "name": "stdout",
     "output_type": "stream",
     "text": [
      "epoch 2 / 50, loss = 39.2096\n"
     ]
    },
    {
     "name": "stderr",
     "output_type": "stream",
     "text": [
      "100%|█████████████████████████████████████| 1023/1023 [00:02<00:00, 447.31it/s]\n"
     ]
    },
    {
     "name": "stdout",
     "output_type": "stream",
     "text": [
      "epoch 3 / 50, loss = 54.2486\n"
     ]
    },
    {
     "name": "stderr",
     "output_type": "stream",
     "text": [
      "100%|█████████████████████████████████████| 1023/1023 [00:02<00:00, 451.70it/s]\n"
     ]
    },
    {
     "name": "stdout",
     "output_type": "stream",
     "text": [
      "epoch 4 / 50, loss = 17.8126\n"
     ]
    },
    {
     "name": "stderr",
     "output_type": "stream",
     "text": [
      "100%|█████████████████████████████████████| 1023/1023 [00:02<00:00, 459.12it/s]\n"
     ]
    },
    {
     "name": "stdout",
     "output_type": "stream",
     "text": [
      "epoch 5 / 50, loss = 24.8899\n"
     ]
    },
    {
     "name": "stderr",
     "output_type": "stream",
     "text": [
      "100%|█████████████████████████████████████| 1023/1023 [00:02<00:00, 447.30it/s]\n"
     ]
    },
    {
     "name": "stdout",
     "output_type": "stream",
     "text": [
      "epoch 6 / 50, loss = 11.7124\n"
     ]
    },
    {
     "name": "stderr",
     "output_type": "stream",
     "text": [
      "100%|█████████████████████████████████████| 1023/1023 [00:02<00:00, 446.28it/s]\n"
     ]
    },
    {
     "name": "stdout",
     "output_type": "stream",
     "text": [
      "epoch 7 / 50, loss = 111.7205\n"
     ]
    },
    {
     "name": "stderr",
     "output_type": "stream",
     "text": [
      "100%|█████████████████████████████████████| 1023/1023 [00:02<00:00, 448.66it/s]\n"
     ]
    },
    {
     "name": "stdout",
     "output_type": "stream",
     "text": [
      "epoch 8 / 50, loss = 23.3251\n"
     ]
    },
    {
     "name": "stderr",
     "output_type": "stream",
     "text": [
      "100%|█████████████████████████████████████| 1023/1023 [00:02<00:00, 450.35it/s]\n"
     ]
    },
    {
     "name": "stdout",
     "output_type": "stream",
     "text": [
      "epoch 9 / 50, loss = 41.8705\n"
     ]
    },
    {
     "name": "stderr",
     "output_type": "stream",
     "text": [
      "100%|█████████████████████████████████████| 1023/1023 [00:02<00:00, 441.83it/s]\n"
     ]
    },
    {
     "name": "stdout",
     "output_type": "stream",
     "text": [
      "epoch 10 / 50, loss = 137.9099\n"
     ]
    },
    {
     "name": "stderr",
     "output_type": "stream",
     "text": [
      "100%|█████████████████████████████████████| 1023/1023 [00:02<00:00, 443.67it/s]\n"
     ]
    },
    {
     "name": "stdout",
     "output_type": "stream",
     "text": [
      "epoch 11 / 50, loss = 41.0906\n"
     ]
    },
    {
     "name": "stderr",
     "output_type": "stream",
     "text": [
      "100%|█████████████████████████████████████| 1023/1023 [00:02<00:00, 444.22it/s]\n"
     ]
    },
    {
     "name": "stdout",
     "output_type": "stream",
     "text": [
      "epoch 12 / 50, loss = 16.4881\n"
     ]
    },
    {
     "name": "stderr",
     "output_type": "stream",
     "text": [
      "100%|█████████████████████████████████████| 1023/1023 [00:02<00:00, 443.19it/s]\n"
     ]
    },
    {
     "name": "stdout",
     "output_type": "stream",
     "text": [
      "epoch 13 / 50, loss = 19.7729\n"
     ]
    },
    {
     "name": "stderr",
     "output_type": "stream",
     "text": [
      "100%|█████████████████████████████████████| 1023/1023 [00:02<00:00, 440.33it/s]\n"
     ]
    },
    {
     "name": "stdout",
     "output_type": "stream",
     "text": [
      "epoch 14 / 50, loss = 26.3586\n"
     ]
    },
    {
     "name": "stderr",
     "output_type": "stream",
     "text": [
      "100%|█████████████████████████████████████| 1023/1023 [00:02<00:00, 445.80it/s]\n"
     ]
    },
    {
     "name": "stdout",
     "output_type": "stream",
     "text": [
      "epoch 15 / 50, loss = 45.6441\n"
     ]
    },
    {
     "name": "stderr",
     "output_type": "stream",
     "text": [
      "100%|█████████████████████████████████████| 1023/1023 [00:02<00:00, 443.46it/s]\n"
     ]
    },
    {
     "name": "stdout",
     "output_type": "stream",
     "text": [
      "epoch 16 / 50, loss = 27.2612\n"
     ]
    },
    {
     "name": "stderr",
     "output_type": "stream",
     "text": [
      "100%|█████████████████████████████████████| 1023/1023 [00:02<00:00, 449.51it/s]\n"
     ]
    },
    {
     "name": "stdout",
     "output_type": "stream",
     "text": [
      "epoch 17 / 50, loss = 32.5524\n"
     ]
    },
    {
     "name": "stderr",
     "output_type": "stream",
     "text": [
      "100%|█████████████████████████████████████| 1023/1023 [00:02<00:00, 447.94it/s]\n"
     ]
    },
    {
     "name": "stdout",
     "output_type": "stream",
     "text": [
      "epoch 18 / 50, loss = 38.4630\n"
     ]
    },
    {
     "name": "stderr",
     "output_type": "stream",
     "text": [
      "100%|█████████████████████████████████████| 1023/1023 [00:02<00:00, 461.35it/s]\n"
     ]
    },
    {
     "name": "stdout",
     "output_type": "stream",
     "text": [
      "epoch 19 / 50, loss = 69.5542\n"
     ]
    },
    {
     "name": "stderr",
     "output_type": "stream",
     "text": [
      "100%|█████████████████████████████████████| 1023/1023 [00:02<00:00, 448.05it/s]\n"
     ]
    },
    {
     "name": "stdout",
     "output_type": "stream",
     "text": [
      "epoch 20 / 50, loss = 17.2002\n"
     ]
    },
    {
     "name": "stderr",
     "output_type": "stream",
     "text": [
      "100%|█████████████████████████████████████| 1023/1023 [00:02<00:00, 449.37it/s]\n"
     ]
    },
    {
     "name": "stdout",
     "output_type": "stream",
     "text": [
      "epoch 21 / 50, loss = 26.4920\n"
     ]
    },
    {
     "name": "stderr",
     "output_type": "stream",
     "text": [
      "100%|█████████████████████████████████████| 1023/1023 [00:02<00:00, 450.94it/s]\n"
     ]
    },
    {
     "name": "stdout",
     "output_type": "stream",
     "text": [
      "epoch 22 / 50, loss = 18.3832\n"
     ]
    },
    {
     "name": "stderr",
     "output_type": "stream",
     "text": [
      "100%|█████████████████████████████████████| 1023/1023 [00:02<00:00, 448.89it/s]\n"
     ]
    },
    {
     "name": "stdout",
     "output_type": "stream",
     "text": [
      "epoch 23 / 50, loss = 32.3652\n"
     ]
    },
    {
     "name": "stderr",
     "output_type": "stream",
     "text": [
      "100%|█████████████████████████████████████| 1023/1023 [00:02<00:00, 446.72it/s]\n"
     ]
    },
    {
     "name": "stdout",
     "output_type": "stream",
     "text": [
      "epoch 24 / 50, loss = 17.4748\n"
     ]
    },
    {
     "name": "stderr",
     "output_type": "stream",
     "text": [
      "100%|█████████████████████████████████████| 1023/1023 [00:02<00:00, 451.25it/s]\n"
     ]
    },
    {
     "name": "stdout",
     "output_type": "stream",
     "text": [
      "epoch 25 / 50, loss = 10.0911\n"
     ]
    },
    {
     "name": "stderr",
     "output_type": "stream",
     "text": [
      "100%|█████████████████████████████████████| 1023/1023 [00:02<00:00, 451.45it/s]\n"
     ]
    },
    {
     "name": "stdout",
     "output_type": "stream",
     "text": [
      "epoch 26 / 50, loss = 36.7035\n"
     ]
    },
    {
     "name": "stderr",
     "output_type": "stream",
     "text": [
      "100%|█████████████████████████████████████| 1023/1023 [00:02<00:00, 448.25it/s]\n"
     ]
    },
    {
     "name": "stdout",
     "output_type": "stream",
     "text": [
      "epoch 27 / 50, loss = 28.6909\n"
     ]
    },
    {
     "name": "stderr",
     "output_type": "stream",
     "text": [
      "100%|█████████████████████████████████████| 1023/1023 [00:02<00:00, 445.77it/s]\n"
     ]
    },
    {
     "name": "stdout",
     "output_type": "stream",
     "text": [
      "epoch 28 / 50, loss = 23.7438\n"
     ]
    },
    {
     "name": "stderr",
     "output_type": "stream",
     "text": [
      "100%|█████████████████████████████████████| 1023/1023 [00:02<00:00, 447.79it/s]\n"
     ]
    },
    {
     "name": "stdout",
     "output_type": "stream",
     "text": [
      "epoch 29 / 50, loss = 8.9670\n"
     ]
    },
    {
     "name": "stderr",
     "output_type": "stream",
     "text": [
      "100%|█████████████████████████████████████| 1023/1023 [00:02<00:00, 449.91it/s]\n"
     ]
    },
    {
     "name": "stdout",
     "output_type": "stream",
     "text": [
      "epoch 30 / 50, loss = 28.7463\n"
     ]
    },
    {
     "name": "stderr",
     "output_type": "stream",
     "text": [
      "100%|█████████████████████████████████████| 1023/1023 [00:02<00:00, 443.50it/s]\n"
     ]
    },
    {
     "name": "stdout",
     "output_type": "stream",
     "text": [
      "epoch 31 / 50, loss = 30.7502\n"
     ]
    },
    {
     "name": "stderr",
     "output_type": "stream",
     "text": [
      "100%|█████████████████████████████████████| 1023/1023 [00:02<00:00, 450.94it/s]\n"
     ]
    },
    {
     "name": "stdout",
     "output_type": "stream",
     "text": [
      "epoch 32 / 50, loss = 22.7214\n"
     ]
    },
    {
     "name": "stderr",
     "output_type": "stream",
     "text": [
      "100%|█████████████████████████████████████| 1023/1023 [00:02<00:00, 451.83it/s]\n"
     ]
    },
    {
     "name": "stdout",
     "output_type": "stream",
     "text": [
      "epoch 33 / 50, loss = 47.6088\n"
     ]
    },
    {
     "name": "stderr",
     "output_type": "stream",
     "text": [
      "100%|█████████████████████████████████████| 1023/1023 [00:02<00:00, 444.42it/s]\n"
     ]
    },
    {
     "name": "stdout",
     "output_type": "stream",
     "text": [
      "epoch 34 / 50, loss = 7.9798\n"
     ]
    },
    {
     "name": "stderr",
     "output_type": "stream",
     "text": [
      "100%|█████████████████████████████████████| 1023/1023 [00:02<00:00, 447.99it/s]\n"
     ]
    },
    {
     "name": "stdout",
     "output_type": "stream",
     "text": [
      "epoch 35 / 50, loss = 34.6011\n"
     ]
    },
    {
     "name": "stderr",
     "output_type": "stream",
     "text": [
      "100%|█████████████████████████████████████| 1023/1023 [00:02<00:00, 447.55it/s]\n"
     ]
    },
    {
     "name": "stdout",
     "output_type": "stream",
     "text": [
      "epoch 36 / 50, loss = 16.0125\n"
     ]
    },
    {
     "name": "stderr",
     "output_type": "stream",
     "text": [
      "100%|█████████████████████████████████████| 1023/1023 [00:02<00:00, 440.41it/s]\n"
     ]
    },
    {
     "name": "stdout",
     "output_type": "stream",
     "text": [
      "epoch 37 / 50, loss = 33.7731\n"
     ]
    },
    {
     "name": "stderr",
     "output_type": "stream",
     "text": [
      "100%|█████████████████████████████████████| 1023/1023 [00:02<00:00, 439.87it/s]\n"
     ]
    },
    {
     "name": "stdout",
     "output_type": "stream",
     "text": [
      "epoch 38 / 50, loss = 29.2380\n"
     ]
    },
    {
     "name": "stderr",
     "output_type": "stream",
     "text": [
      "100%|█████████████████████████████████████| 1023/1023 [00:02<00:00, 443.07it/s]\n"
     ]
    },
    {
     "name": "stdout",
     "output_type": "stream",
     "text": [
      "epoch 39 / 50, loss = 88.7390\n"
     ]
    },
    {
     "name": "stderr",
     "output_type": "stream",
     "text": [
      "100%|█████████████████████████████████████| 1023/1023 [00:02<00:00, 447.87it/s]\n"
     ]
    },
    {
     "name": "stdout",
     "output_type": "stream",
     "text": [
      "epoch 40 / 50, loss = 37.6415\n"
     ]
    },
    {
     "name": "stderr",
     "output_type": "stream",
     "text": [
      "100%|█████████████████████████████████████| 1023/1023 [00:02<00:00, 445.87it/s]\n"
     ]
    },
    {
     "name": "stdout",
     "output_type": "stream",
     "text": [
      "epoch 41 / 50, loss = 108.1250\n"
     ]
    },
    {
     "name": "stderr",
     "output_type": "stream",
     "text": [
      "100%|█████████████████████████████████████| 1023/1023 [00:02<00:00, 444.00it/s]\n"
     ]
    },
    {
     "name": "stdout",
     "output_type": "stream",
     "text": [
      "epoch 42 / 50, loss = 24.2728\n"
     ]
    },
    {
     "name": "stderr",
     "output_type": "stream",
     "text": [
      "100%|█████████████████████████████████████| 1023/1023 [00:02<00:00, 448.61it/s]\n"
     ]
    },
    {
     "name": "stdout",
     "output_type": "stream",
     "text": [
      "epoch 43 / 50, loss = 25.8423\n"
     ]
    },
    {
     "name": "stderr",
     "output_type": "stream",
     "text": [
      "100%|█████████████████████████████████████| 1023/1023 [00:02<00:00, 455.13it/s]\n"
     ]
    },
    {
     "name": "stdout",
     "output_type": "stream",
     "text": [
      "epoch 44 / 50, loss = 24.7841\n"
     ]
    },
    {
     "name": "stderr",
     "output_type": "stream",
     "text": [
      "100%|█████████████████████████████████████| 1023/1023 [00:02<00:00, 449.09it/s]\n"
     ]
    },
    {
     "name": "stdout",
     "output_type": "stream",
     "text": [
      "epoch 45 / 50, loss = 18.7231\n"
     ]
    },
    {
     "name": "stderr",
     "output_type": "stream",
     "text": [
      "100%|█████████████████████████████████████| 1023/1023 [00:02<00:00, 467.39it/s]\n"
     ]
    },
    {
     "name": "stdout",
     "output_type": "stream",
     "text": [
      "epoch 46 / 50, loss = 99.6558\n"
     ]
    },
    {
     "name": "stderr",
     "output_type": "stream",
     "text": [
      "100%|█████████████████████████████████████| 1023/1023 [00:02<00:00, 438.29it/s]\n"
     ]
    },
    {
     "name": "stdout",
     "output_type": "stream",
     "text": [
      "epoch 47 / 50, loss = 16.1268\n"
     ]
    },
    {
     "name": "stderr",
     "output_type": "stream",
     "text": [
      "100%|█████████████████████████████████████| 1023/1023 [00:02<00:00, 446.34it/s]\n"
     ]
    },
    {
     "name": "stdout",
     "output_type": "stream",
     "text": [
      "epoch 48 / 50, loss = 55.7244\n"
     ]
    },
    {
     "name": "stderr",
     "output_type": "stream",
     "text": [
      "100%|█████████████████████████████████████| 1023/1023 [00:02<00:00, 443.95it/s]\n"
     ]
    },
    {
     "name": "stdout",
     "output_type": "stream",
     "text": [
      "epoch 49 / 50, loss = 71.3639\n"
     ]
    },
    {
     "name": "stderr",
     "output_type": "stream",
     "text": [
      "100%|█████████████████████████████████████| 1023/1023 [00:02<00:00, 447.99it/s]"
     ]
    },
    {
     "name": "stdout",
     "output_type": "stream",
     "text": [
      "epoch 50 / 50, loss = 25.2449\n"
     ]
    },
    {
     "name": "stderr",
     "output_type": "stream",
     "text": [
      "\n"
     ]
    }
   ],
   "source": [
    "n_total_steps = len(train_loader)\n",
    "\n",
    "for epoch in range(n_epochs):\n",
    "    for i, (features,value) in enumerate(tqdm(train_loader)):\n",
    "        \n",
    "        features = features.reshape(-1,38).to(device)\n",
    "        value = value.to(device)\n",
    "        \n",
    "        model = model.to(device)\n",
    "        criterion = criterion.to(device)\n",
    "    \n",
    "        # Predict\n",
    "        y_pred = model(features)\n",
    "        # Compare\n",
    "        loss = torch.sqrt(criterion(y_pred,value))\n",
    "        # Learn\n",
    "        dw = loss.backward()\n",
    "        optimizer.step()\n",
    "        optimizer.zero_grad()\n",
    "        if (i+1) % 1023 ==0:\n",
    "            print(f'epoch {epoch+1} / {n_epochs}, loss = {loss.item():.4f}')"
   ]
  },
  {
   "cell_type": "code",
   "execution_count": 142,
   "id": "d045052f-2a40-4362-a4bd-50f9e6ff52b8",
   "metadata": {},
   "outputs": [
    {
     "ename": "NameError",
     "evalue": "name 'sys' is not defined",
     "output_type": "error",
     "traceback": [
      "\u001b[0;31m---------------------------------------------------------------------------\u001b[0m",
      "\u001b[0;31mNameError\u001b[0m                                 Traceback (most recent call last)",
      "Input \u001b[0;32mIn [142]\u001b[0m, in \u001b[0;36m<cell line: 1>\u001b[0;34m()\u001b[0m\n\u001b[1;32m      7\u001b[0m     value \u001b[38;5;241m=\u001b[39m value\u001b[38;5;241m.\u001b[39mcpu()\u001b[38;5;241m.\u001b[39mnumpy()\n\u001b[1;32m      8\u001b[0m \u001b[38;5;66;03m#     y_pred = model(features)\u001b[39;00m\n\u001b[1;32m      9\u001b[0m \u001b[38;5;66;03m#     predict = y_pred.cpu().numpy()\u001b[39;00m\n\u001b[1;32m     10\u001b[0m \u001b[38;5;66;03m#     list_corr.append(value)\u001b[39;00m\n\u001b[0;32m   (...)\u001b[0m\n\u001b[1;32m     14\u001b[0m \u001b[38;5;66;03m# plt.scatter(predict,value)\u001b[39;00m\n\u001b[1;32m     15\u001b[0m \u001b[38;5;66;03m# plt.show()\u001b[39;00m\n\u001b[0;32m---> 16\u001b[0m \u001b[43msys\u001b[49m\u001b[38;5;241m.\u001b[39mexit()\n",
      "\u001b[0;31mNameError\u001b[0m: name 'sys' is not defined"
     ]
    }
   ],
   "source": [
    "with torch.no_grad():\n",
    "    list_corr = []\n",
    "    list_pred = []\n",
    "    for features,value in train_loader:\n",
    "        \n",
    "        features = features.reshape(-1,38).to(device)\n",
    "        value = value.cpu().numpy()\n",
    "    #     y_pred = model(features)\n",
    "    #     predict = y_pred.cpu().numpy()\n",
    "    #     list_corr.append(value)\n",
    "    #     list_pred.append(predict)\n",
    "    # predict = np.concatenate(list_pred)\n",
    "    # value = np.concatenate(list_corr)\n",
    "    # plt.scatter(predict,value)\n",
    "    # plt.show()\n",
    "    sys.exit()"
   ]
  },
  {
   "cell_type": "code",
   "execution_count": 146,
   "id": "2e001ede-95b4-49dc-9563-149b638e93df",
   "metadata": {},
   "outputs": [],
   "source": [
    "y_pred = model(features[0])"
   ]
  },
  {
   "cell_type": "code",
   "execution_count": 150,
   "id": "b10902fd-c98c-4bf6-8a76-71341e97ab16",
   "metadata": {},
   "outputs": [
    {
     "data": {
      "text/plain": [
       "(array([0.], dtype=float32),\n",
       " tensor([-0.5983], device='cuda:0', grad_fn=<AddBackward0>))"
      ]
     },
     "execution_count": 150,
     "metadata": {},
     "output_type": "execute_result"
    }
   ],
   "source": [
    "value[0],y_pred"
   ]
  },
  {
   "cell_type": "code",
   "execution_count": 148,
   "id": "c36eda50-991c-46cb-b774-81cee8cb6aa4",
   "metadata": {},
   "outputs": [
    {
     "data": {
      "text/plain": [
       "array([[  0.],\n",
       "       [  1.],\n",
       "       [  0.],\n",
       "       [ 42.],\n",
       "       [  0.],\n",
       "       [  0.],\n",
       "       [  4.],\n",
       "       [  0.],\n",
       "       [  0.],\n",
       "       [  0.],\n",
       "       [ 34.],\n",
       "       [  0.],\n",
       "       [  0.],\n",
       "       [  0.],\n",
       "       [  2.],\n",
       "       [ 32.],\n",
       "       [  3.],\n",
       "       [  8.],\n",
       "       [  0.],\n",
       "       [ 14.],\n",
       "       [  0.],\n",
       "       [  0.],\n",
       "       [  0.],\n",
       "       [  2.],\n",
       "       [  4.],\n",
       "       [  6.],\n",
       "       [  0.],\n",
       "       [  0.],\n",
       "       [  4.],\n",
       "       [  0.],\n",
       "       [  0.],\n",
       "       [  0.],\n",
       "       [  6.],\n",
       "       [  2.],\n",
       "       [  1.],\n",
       "       [  0.],\n",
       "       [  0.],\n",
       "       [ 18.],\n",
       "       [ 62.],\n",
       "       [  9.],\n",
       "       [  0.],\n",
       "       [  6.],\n",
       "       [  0.],\n",
       "       [  0.],\n",
       "       [  0.],\n",
       "       [282.],\n",
       "       [  0.],\n",
       "       [  0.],\n",
       "       [ 20.],\n",
       "       [  0.],\n",
       "       [  0.],\n",
       "       [  0.],\n",
       "       [  0.],\n",
       "       [  0.],\n",
       "       [  0.],\n",
       "       [  0.],\n",
       "       [ 38.],\n",
       "       [  0.],\n",
       "       [  0.],\n",
       "       [  4.],\n",
       "       [  0.],\n",
       "       [  0.],\n",
       "       [  0.],\n",
       "       [  0.],\n",
       "       [  0.],\n",
       "       [  0.],\n",
       "       [  0.],\n",
       "       [  0.],\n",
       "       [ 38.],\n",
       "       [  4.]], dtype=float32)"
      ]
     },
     "execution_count": 148,
     "metadata": {},
     "output_type": "execute_result"
    }
   ],
   "source": [
    "value"
   ]
  },
  {
   "cell_type": "code",
   "execution_count": null,
   "id": "de05ac9e-4661-4156-a5c0-0617cda31ed4",
   "metadata": {},
   "outputs": [],
   "source": []
  }
 ],
 "metadata": {
  "kernelspec": {
   "display_name": "Python 3 (ipykernel)",
   "language": "python",
   "name": "python3"
  },
  "language_info": {
   "codemirror_mode": {
    "name": "ipython",
    "version": 3
   },
   "file_extension": ".py",
   "mimetype": "text/x-python",
   "name": "python",
   "nbconvert_exporter": "python",
   "pygments_lexer": "ipython3",
   "version": "3.8.13"
  }
 },
 "nbformat": 4,
 "nbformat_minor": 5
}
