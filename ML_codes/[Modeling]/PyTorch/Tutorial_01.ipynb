{
 "cells": [
  {
   "cell_type": "code",
   "execution_count": 33,
   "id": "b5a777c5-2254-44d3-aa9e-c16bd53fdc1f",
   "metadata": {},
   "outputs": [],
   "source": [
    "import torch\n",
    "import numpy as np"
   ]
  },
  {
   "cell_type": "code",
   "execution_count": 3,
   "id": "3e267373-1039-492e-8290-ad0b161897fc",
   "metadata": {},
   "outputs": [
    {
     "data": {
      "text/plain": [
       "'1.11.0'"
      ]
     },
     "execution_count": 3,
     "metadata": {},
     "output_type": "execute_result"
    }
   ],
   "source": [
    "torch.__version__"
   ]
  },
  {
   "cell_type": "code",
   "execution_count": 7,
   "id": "c20ae2af-63e7-4a31-955f-f592e89cd61b",
   "metadata": {},
   "outputs": [
    {
     "data": {
      "text/plain": [
       "tensor([[[-2.9059e+04,  3.0892e-41, -2.8946e+04],\n",
       "         [ 3.0892e-41,  2.0688e-36,  4.5821e-41]],\n",
       "\n",
       "        [[ 9.1084e-44,  0.0000e+00, -8.0226e+02],\n",
       "         [ 3.0892e-41,  6.8664e-44,  0.0000e+00]]])"
      ]
     },
     "execution_count": 7,
     "metadata": {},
     "output_type": "execute_result"
    }
   ],
   "source": [
    "torch.empty(2,2,3)"
   ]
  },
  {
   "cell_type": "code",
   "execution_count": 8,
   "id": "886cd39a-3d74-49a5-b376-cbc581edd2c7",
   "metadata": {},
   "outputs": [
    {
     "data": {
      "text/plain": [
       "tensor([[0.0460, 0.3892],\n",
       "        [0.1187, 0.9269]])"
      ]
     },
     "execution_count": 8,
     "metadata": {},
     "output_type": "execute_result"
    }
   ],
   "source": [
    "torch.rand(2,2)"
   ]
  },
  {
   "cell_type": "code",
   "execution_count": 9,
   "id": "9936c416-a403-4d51-9f77-33da60a23d3d",
   "metadata": {},
   "outputs": [
    {
     "data": {
      "text/plain": [
       "tensor([[0., 0., 0.],\n",
       "        [0., 0., 0.]])"
      ]
     },
     "execution_count": 9,
     "metadata": {},
     "output_type": "execute_result"
    }
   ],
   "source": [
    "torch.zeros(2,3)"
   ]
  },
  {
   "cell_type": "code",
   "execution_count": 12,
   "id": "33068a94-d180-4e3a-b83a-b139a7579a2d",
   "metadata": {},
   "outputs": [
    {
     "data": {
      "text/plain": [
       "tensor([[1, 1, 1, 1],\n",
       "        [1, 1, 1, 1],\n",
       "        [1, 1, 1, 1]], dtype=torch.int32)"
      ]
     },
     "execution_count": 12,
     "metadata": {},
     "output_type": "execute_result"
    }
   ],
   "source": [
    "torch.ones(3,4,dtype=torch.int)"
   ]
  },
  {
   "cell_type": "code",
   "execution_count": 13,
   "id": "fd84be95-a082-4643-bda0-77e0da73aa1d",
   "metadata": {},
   "outputs": [
    {
     "data": {
      "text/plain": [
       "tensor([[1., 1., 1., 1.],\n",
       "        [1., 1., 1., 1.],\n",
       "        [1., 1., 1., 1.]], dtype=torch.float64)"
      ]
     },
     "execution_count": 13,
     "metadata": {},
     "output_type": "execute_result"
    }
   ],
   "source": [
    "torch.ones(3,4,dtype=torch.double)"
   ]
  },
  {
   "cell_type": "code",
   "execution_count": 14,
   "id": "9f986574-524b-4bb9-9f31-7fda09627a5a",
   "metadata": {},
   "outputs": [
    {
     "data": {
      "text/plain": [
       "tensor([[1., 1., 1., 1.],\n",
       "        [1., 1., 1., 1.],\n",
       "        [1., 1., 1., 1.]], dtype=torch.float16)"
      ]
     },
     "execution_count": 14,
     "metadata": {},
     "output_type": "execute_result"
    }
   ],
   "source": [
    "torch.ones(3,4,dtype=torch.float16)"
   ]
  },
  {
   "cell_type": "code",
   "execution_count": 16,
   "id": "eb5c0f7b-3d53-49ad-aa80-6a076e704bfd",
   "metadata": {},
   "outputs": [
    {
     "data": {
      "text/plain": [
       "(torch.Size([2, 3]), torch.float32)"
      ]
     },
     "execution_count": 16,
     "metadata": {},
     "output_type": "execute_result"
    }
   ],
   "source": [
    "t = torch.rand(2,3)\n",
    "t.size(), t.dtype"
   ]
  },
  {
   "cell_type": "code",
   "execution_count": 17,
   "id": "5fa8bd4d-041a-49ac-a851-34c626646013",
   "metadata": {},
   "outputs": [
    {
     "data": {
      "text/plain": [
       "tensor([2.5000, 8.0000, 1.2600])"
      ]
     },
     "execution_count": 17,
     "metadata": {},
     "output_type": "execute_result"
    }
   ],
   "source": [
    "torch.tensor([2.5,8,1.26])"
   ]
  },
  {
   "cell_type": "code",
   "execution_count": 21,
   "id": "b7dc6940-3761-4c23-977b-31a16ae02f14",
   "metadata": {},
   "outputs": [
    {
     "name": "stdout",
     "output_type": "stream",
     "text": [
      "tensor([[0.8543, 0.3301],\n",
      "        [0.4345, 0.3987]])\n",
      "tensor([[0.7809, 0.8343],\n",
      "        [0.4596, 0.4434]])\n"
     ]
    }
   ],
   "source": [
    "t1 = torch.rand(2,2)\n",
    "t2 = torch.rand(2,2)\n",
    "print(t1)\n",
    "print(t2)"
   ]
  },
  {
   "cell_type": "code",
   "execution_count": 22,
   "id": "3b8f98fb-b4cc-4f44-9625-f6037fb41a7a",
   "metadata": {},
   "outputs": [
    {
     "name": "stdout",
     "output_type": "stream",
     "text": [
      "tensor([[1.6353, 1.1644],\n",
      "        [0.8941, 0.8421]])\n"
     ]
    },
    {
     "data": {
      "text/plain": [
       "tensor([[1.6353, 1.1644],\n",
       "        [0.8941, 0.8421]])"
      ]
     },
     "execution_count": 22,
     "metadata": {},
     "output_type": "execute_result"
    }
   ],
   "source": [
    "ad = t1 + t2\n",
    "print(ad)\n",
    "torch.add(t1,t2)"
   ]
  },
  {
   "cell_type": "code",
   "execution_count": 34,
   "id": "e41ce576-b368-4a3d-90e8-506fd627b1d7",
   "metadata": {},
   "outputs": [
    {
     "data": {
      "text/plain": [
       "tensor([[2.4162, 1.9987],\n",
       "        [1.3537, 1.2855]])"
      ]
     },
     "execution_count": 34,
     "metadata": {},
     "output_type": "execute_result"
    }
   ],
   "source": [
    "t1.add_(t2) # inplace addition for t1"
   ]
  },
  {
   "cell_type": "code",
   "execution_count": 35,
   "id": "b0bff391-2b93-4199-abc6-a3eba015a5db",
   "metadata": {},
   "outputs": [
    {
     "data": {
      "text/plain": [
       "tensor(0.8421)"
      ]
     },
     "execution_count": 35,
     "metadata": {},
     "output_type": "execute_result"
    }
   ],
   "source": [
    "ad[1,1]"
   ]
  },
  {
   "cell_type": "code",
   "execution_count": 36,
   "id": "91968bb9-a223-449d-8556-b2c679d6d353",
   "metadata": {},
   "outputs": [
    {
     "data": {
      "text/plain": [
       "tensor([1.6353, 1.1644, 0.8941, 0.8421])"
      ]
     },
     "execution_count": 36,
     "metadata": {},
     "output_type": "execute_result"
    }
   ],
   "source": [
    "ad.view(4) # reshape the tensor"
   ]
  },
  {
   "cell_type": "code",
   "execution_count": 37,
   "id": "b8a58c6d-bd41-4609-80a9-19c9612b2c75",
   "metadata": {},
   "outputs": [
    {
     "data": {
      "text/plain": [
       "(torch.Size([1, 4]), torch.Size([4]))"
      ]
     },
     "execution_count": 37,
     "metadata": {},
     "output_type": "execute_result"
    }
   ],
   "source": [
    "ad.view(-1,4).size(), ad.view(4).size()"
   ]
  },
  {
   "cell_type": "code",
   "execution_count": 38,
   "id": "5d6fa08b-3479-4c1f-8ba3-e197925c2ba6",
   "metadata": {},
   "outputs": [],
   "source": [
    "t3 = torch.ones(5)\n",
    "arr = t3.numpy()"
   ]
  },
  {
   "cell_type": "code",
   "execution_count": 39,
   "id": "420b6933-9131-41d9-a264-fa39e652758c",
   "metadata": {},
   "outputs": [
    {
     "data": {
      "text/plain": [
       "array([1., 1., 1., 1., 1.], dtype=float32)"
      ]
     },
     "execution_count": 39,
     "metadata": {},
     "output_type": "execute_result"
    }
   ],
   "source": [
    "arr"
   ]
  },
  {
   "cell_type": "code",
   "execution_count": 42,
   "id": "cc4fdaa5-3599-42f9-93e5-0989bb5456c0",
   "metadata": {},
   "outputs": [
    {
     "data": {
      "text/plain": [
       "(tensor([3., 3., 3., 3., 3.]), array([3., 3., 3., 3., 3.], dtype=float32))"
      ]
     },
     "execution_count": 42,
     "metadata": {},
     "output_type": "execute_result"
    }
   ],
   "source": [
    "t3.add_(1),arr # When we are using the CPU instead of GPU since both variables are sharing the same memory changes in one would affect the other one"
   ]
  },
  {
   "cell_type": "code",
   "execution_count": 44,
   "id": "4a92e2f1-cc4a-452a-8910-9784b7ad40c7",
   "metadata": {},
   "outputs": [
    {
     "data": {
      "text/plain": [
       "tensor([1., 1., 1., 1., 1.], dtype=torch.float64)"
      ]
     },
     "execution_count": 44,
     "metadata": {},
     "output_type": "execute_result"
    }
   ],
   "source": [
    "torch.from_numpy(np.ones(5))"
   ]
  },
  {
   "cell_type": "markdown",
   "id": "e36c5cd2-3664-4bb3-a4aa-69cc4b706c68",
   "metadata": {},
   "source": [
    "- Does PyTorch see any GPUs?\t`torch.cuda.is_available()`\n",
    "- Are tensors stored on GPU by default?\t`torch.rand(10).device`\n",
    "- Set default tensor type to CUDA:\t`torch.set_default_tensor_type(torch.cuda.FloatTensor)`\n",
    "- Is this tensor a GPU tensor?\t`my_tensor.is_cuda`\n",
    "- Is this model stored on the GPU?\t`all(p.is_cuda for p in my_model.parameters())`"
   ]
  },
  {
   "cell_type": "code",
   "execution_count": 47,
   "id": "bd625fa6-4ae0-4e18-870c-2df640144674",
   "metadata": {},
   "outputs": [
    {
     "name": "stdout",
     "output_type": "stream",
     "text": [
      "There is GPU to use\n",
      "Number of GPUs:1\n",
      "GPU name is:TITAN Xp\n"
     ]
    }
   ],
   "source": [
    "# Check for availablity of CUDA to use GPU\n",
    "if torch.cuda.is_available():\n",
    "    device = torch.device(\"cuda\")\n",
    "    print(\"There is GPU to use\")\n",
    "    print(f\"Number of GPUs:{torch.cuda.device_count()}\")\n",
    "    print(f\"GPU name is:{torch.cuda.get_device_name(0)}\")"
   ]
  },
  {
   "cell_type": "code",
   "execution_count": 48,
   "id": "4f616ae7-f948-4aad-8241-22c1c8af9229",
   "metadata": {},
   "outputs": [
    {
     "data": {
      "text/plain": [
       "device(type='cpu')"
      ]
     },
     "execution_count": 48,
     "metadata": {},
     "output_type": "execute_result"
    }
   ],
   "source": [
    "t3.device"
   ]
  },
  {
   "cell_type": "code",
   "execution_count": 51,
   "id": "706d4abb-d159-4916-83bf-404a0b13c338",
   "metadata": {},
   "outputs": [],
   "source": [
    "t3_gpu = t3.to(device)"
   ]
  },
  {
   "cell_type": "code",
   "execution_count": 52,
   "id": "b6dcd299-c5c8-46ec-b24b-3f98e4bb1dd0",
   "metadata": {},
   "outputs": [
    {
     "data": {
      "text/plain": [
       "device(type='cuda', index=0)"
      ]
     },
     "execution_count": 52,
     "metadata": {},
     "output_type": "execute_result"
    }
   ],
   "source": [
    "t3_gpu.device"
   ]
  },
  {
   "cell_type": "code",
   "execution_count": 53,
   "id": "afd8b760-e448-40e5-81fe-0b7aaaa97081",
   "metadata": {},
   "outputs": [],
   "source": [
    "torch.set_default_tensor_type(torch.cuda.FloatTensor)"
   ]
  },
  {
   "cell_type": "code",
   "execution_count": 54,
   "id": "65fc2cfb-a333-4314-8c05-498e8cb53797",
   "metadata": {},
   "outputs": [],
   "source": [
    "t4 = torch.ones(3,5)"
   ]
  },
  {
   "cell_type": "code",
   "execution_count": 55,
   "id": "891e2bc2-0e9b-4f16-a797-1ba3b22b1ae0",
   "metadata": {},
   "outputs": [
    {
     "data": {
      "text/plain": [
       "device(type='cuda', index=0)"
      ]
     },
     "execution_count": 55,
     "metadata": {},
     "output_type": "execute_result"
    }
   ],
   "source": [
    "t4.device"
   ]
  },
  {
   "cell_type": "code",
   "execution_count": 57,
   "id": "84b2aeba-9f7b-4911-afa9-2dc4099cb77f",
   "metadata": {},
   "outputs": [
    {
     "ename": "TypeError",
     "evalue": "can't convert cuda:0 device type tensor to numpy. Use Tensor.cpu() to copy the tensor to host memory first.",
     "output_type": "error",
     "traceback": [
      "\u001b[0;31m---------------------------------------------------------------------------\u001b[0m",
      "\u001b[0;31mTypeError\u001b[0m                                 Traceback (most recent call last)",
      "Input \u001b[0;32mIn [57]\u001b[0m, in \u001b[0;36m<cell line: 1>\u001b[0;34m()\u001b[0m\n\u001b[0;32m----> 1\u001b[0m \u001b[43mt4\u001b[49m\u001b[38;5;241;43m.\u001b[39;49m\u001b[43mnumpy\u001b[49m\u001b[43m(\u001b[49m\u001b[43m)\u001b[49m\n",
      "\u001b[0;31mTypeError\u001b[0m: can't convert cuda:0 device type tensor to numpy. Use Tensor.cpu() to copy the tensor to host memory first."
     ]
    }
   ],
   "source": [
    "t4.numpy() # Error is due to have data in GPU and numpy is able to access the data in CPU memory"
   ]
  },
  {
   "cell_type": "code",
   "execution_count": 59,
   "id": "83912864-9cdb-44e3-a03a-615b62eb7e69",
   "metadata": {},
   "outputs": [
    {
     "data": {
      "text/plain": [
       "array([[1., 1., 1., 1., 1.],\n",
       "       [1., 1., 1., 1., 1.],\n",
       "       [1., 1., 1., 1., 1.]], dtype=float32)"
      ]
     },
     "execution_count": 59,
     "metadata": {},
     "output_type": "execute_result"
    }
   ],
   "source": [
    "t4.to(\"cpu\").numpy()"
   ]
  },
  {
   "cell_type": "code",
   "execution_count": null,
   "id": "dcb13b36-e38d-42b7-b39c-087f29790be9",
   "metadata": {},
   "outputs": [],
   "source": []
  }
 ],
 "metadata": {
  "kernelspec": {
   "display_name": "Python 3 (ipykernel)",
   "language": "python",
   "name": "python3"
  },
  "language_info": {
   "codemirror_mode": {
    "name": "ipython",
    "version": 3
   },
   "file_extension": ".py",
   "mimetype": "text/x-python",
   "name": "python",
   "nbconvert_exporter": "python",
   "pygments_lexer": "ipython3",
   "version": "3.8.13"
  }
 },
 "nbformat": 4,
 "nbformat_minor": 5
}
