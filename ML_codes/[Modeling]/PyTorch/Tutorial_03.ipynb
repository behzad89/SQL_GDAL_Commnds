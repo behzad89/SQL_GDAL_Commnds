{
 "cells": [
  {
   "cell_type": "markdown",
   "id": "647cfcc7-1fdb-434b-aae1-484d2c3392d8",
   "metadata": {},
   "source": [
    "- Prediction: `manually`\n",
    "- Loss Computation: `manually`\n",
    "- Gradients Computation: `manually`\n",
    "- Parameter updates: `manually`"
   ]
  },
  {
   "cell_type": "code",
   "execution_count": 1,
   "id": "c4844696-d665-4320-a5c5-b4a04e7bd2d9",
   "metadata": {},
   "outputs": [],
   "source": [
    "import numpy as np"
   ]
  },
  {
   "cell_type": "code",
   "execution_count": 2,
   "id": "4be52b9e-4171-4f9c-bea7-db43c5dd7d4d",
   "metadata": {},
   "outputs": [],
   "source": [
    "# f = w * x\n",
    "# f = 2 * x\n",
    "\n",
    "X = np.array([1,2,3,4], dtype=np.float32)\n",
    "y = np.array([2,4,6,8], dtype=np.float32)\n",
    "\n",
    "w = 0.0"
   ]
  },
  {
   "cell_type": "code",
   "execution_count": 3,
   "id": "29bbd93b-de14-4d0d-9b11-939b604fdd9a",
   "metadata": {},
   "outputs": [
    {
     "name": "stdout",
     "output_type": "stream",
     "text": [
      "Prediction before training: f(5) = 0.000\n"
     ]
    }
   ],
   "source": [
    "# model prediction\n",
    "def forward(x):\n",
    "    return w * x\n",
    "\n",
    "\n",
    "# loss = MSE\n",
    "def loss(y,y_hat):\n",
    "    return ((y_hat - y)**2).mean()\n",
    "\n",
    "\n",
    "# gradient\n",
    "# MSE = 1/N * (w*x - y) **2\n",
    "# dj/dw = 1/N 2x (w*x - y)\n",
    "\n",
    "def gradient(x,y,y_hat):\n",
    "    return np.dot(2*x,y_hat - y).mean()\n",
    "\n",
    "print(f'Prediction before training: f(5) = {forward(5):.3f}')"
   ]
  },
  {
   "cell_type": "code",
   "execution_count": 4,
   "id": "de585a48-cf2b-4353-b513-9c0ef8dda07b",
   "metadata": {},
   "outputs": [
    {
     "name": "stdout",
     "output_type": "stream",
     "text": [
      "epoch 1: w = 1.200, loss = 30.00000000\n",
      "epoch 3: w = 1.872, loss = 0.76800019\n",
      "epoch 5: w = 1.980, loss = 0.01966083\n",
      "epoch 7: w = 1.997, loss = 0.00050332\n",
      "epoch 9: w = 1.999, loss = 0.00001288\n",
      "epoch 11: w = 2.000, loss = 0.00000033\n",
      "epoch 13: w = 2.000, loss = 0.00000001\n",
      "epoch 15: w = 2.000, loss = 0.00000000\n",
      "epoch 17: w = 2.000, loss = 0.00000000\n",
      "epoch 19: w = 2.000, loss = 0.00000000\n",
      "Prediction after training: f(5) = 10.000\n"
     ]
    }
   ],
   "source": [
    "# Training\n",
    "\n",
    "learning_rate = 0.01\n",
    "n_iters = 20\n",
    "\n",
    "for epoch in range(n_iters):\n",
    "    # prediction = forward pass\n",
    "    \n",
    "    y_pred = forward(X)\n",
    "    \n",
    "    # loss\n",
    "    l = loss(y, y_pred)\n",
    "    \n",
    "    # gradients\n",
    "    dw = gradient(X,y,y_pred)\n",
    "    \n",
    "    # update weights\n",
    "    \n",
    "    w -= learning_rate * dw\n",
    "    \n",
    "    if epoch % 2 ==0:\n",
    "        print(f'epoch {epoch+1}: w = {w:.3f}, loss = {l:.8f}')\n",
    "        \n",
    "print(f'Prediction after training: f(5) = {forward(5):.3f}')"
   ]
  },
  {
   "cell_type": "code",
   "execution_count": 5,
   "id": "b8570462-b608-4a94-9293-780b570f61c5",
   "metadata": {},
   "outputs": [
    {
     "data": {
      "text/plain": [
       "120.0"
      ]
     },
     "execution_count": 5,
     "metadata": {},
     "output_type": "execute_result"
    }
   ],
   "source": [
    "np.dot(2*X,y_pred)"
   ]
  },
  {
   "cell_type": "code",
   "execution_count": 6,
   "id": "3fc7d688-7fba-4d34-8901-06db5295f903",
   "metadata": {},
   "outputs": [
    {
     "data": {
      "text/plain": [
       "array([2., 4., 6., 8.], dtype=float32)"
      ]
     },
     "execution_count": 6,
     "metadata": {},
     "output_type": "execute_result"
    }
   ],
   "source": [
    "y_pred"
   ]
  },
  {
   "cell_type": "markdown",
   "id": "90d17dfd-8688-410d-ae36-823636b0135e",
   "metadata": {},
   "source": [
    "- Prediction: `manually`\n",
    "- Loss Computation: `manually`\n",
    "- Gradients Computation: `Autograd`\n",
    "- Parameter updates: `manually`"
   ]
  },
  {
   "cell_type": "code",
   "execution_count": 1,
   "id": "d6e39d97-ac17-4a1a-91a8-163bb5faf55f",
   "metadata": {},
   "outputs": [],
   "source": [
    "import torch"
   ]
  },
  {
   "cell_type": "code",
   "execution_count": 2,
   "id": "c644f3c2-67a8-448a-9c18-d803a864dad2",
   "metadata": {},
   "outputs": [],
   "source": [
    "torch.set_default_tensor_type(torch.cuda.FloatTensor)"
   ]
  },
  {
   "cell_type": "code",
   "execution_count": 9,
   "id": "2e87ddf2-4b51-4488-9cea-8840fb177beb",
   "metadata": {},
   "outputs": [],
   "source": [
    "# f = w * x\n",
    "# f = 2 * x\n",
    "\n",
    "X = torch.tensor([1,2,3,4], dtype=torch.float32)\n",
    "y = torch.tensor([2,4,6,8], dtype=torch.float32)\n",
    "\n",
    "w = torch.tensor(0.0, dtype=torch.float32,requires_grad=True)"
   ]
  },
  {
   "cell_type": "code",
   "execution_count": 10,
   "id": "da0e42aa-3029-44e4-838c-f150d6730905",
   "metadata": {},
   "outputs": [
    {
     "name": "stdout",
     "output_type": "stream",
     "text": [
      "Prediction before training: f(5) = 0.000\n"
     ]
    }
   ],
   "source": [
    "# model prediction\n",
    "def forward(x):\n",
    "    return w * x\n",
    "\n",
    "\n",
    "# loss = MSE\n",
    "def loss(y,y_hat):\n",
    "    return ((y_hat - y)**2).mean()\n",
    "\n",
    "\n",
    "print(f'Prediction before training: f(5) = {forward(5):.3f}')"
   ]
  },
  {
   "cell_type": "code",
   "execution_count": 11,
   "id": "7bc73e0c-0d64-4e69-afb8-f771deea6842",
   "metadata": {},
   "outputs": [
    {
     "name": "stdout",
     "output_type": "stream",
     "text": [
      "epoch 1: w = 0.300, loss = 30.00000000\n",
      "epoch 11: w = 1.665, loss = 1.16278636\n",
      "epoch 21: w = 1.934, loss = 0.04506905\n",
      "epoch 31: w = 1.987, loss = 0.00174685\n",
      "epoch 41: w = 1.997, loss = 0.00006770\n",
      "epoch 51: w = 1.999, loss = 0.00000262\n",
      "epoch 61: w = 2.000, loss = 0.00000010\n",
      "epoch 71: w = 2.000, loss = 0.00000000\n",
      "epoch 81: w = 2.000, loss = 0.00000000\n",
      "epoch 91: w = 2.000, loss = 0.00000000\n",
      "Prediction after training: f(5) = 10.000\n"
     ]
    }
   ],
   "source": [
    "# Training\n",
    "\n",
    "learning_rate = 0.01\n",
    "n_iters = 100\n",
    "\n",
    "for epoch in range(n_iters):\n",
    "    # prediction = forward pass\n",
    "    \n",
    "    y_pred = forward(X)\n",
    "    \n",
    "    # loss\n",
    "    l = loss(y, y_pred)\n",
    "    \n",
    "    # gradients = backward pass\n",
    "    dw = l.backward()\n",
    "    \n",
    "    # update weights\n",
    "    with torch.no_grad():\n",
    "        w -= learning_rate * w.grad\n",
    "    \n",
    "    # zero gradients\n",
    "    w.grad.zero_()\n",
    "    \n",
    "    if epoch % 10 ==0:\n",
    "        print(f'epoch {epoch+1}: w = {w:.3f}, loss = {l:.8f}')\n",
    "        \n",
    "print(f'Prediction after training: f(5) = {forward(5):.3f}')"
   ]
  },
  {
   "cell_type": "markdown",
   "id": "56fd760d-3312-4b0a-a719-3fde0279fe45",
   "metadata": {},
   "source": [
    "- Prediction: `manually`\n",
    "- Loss Computation: `PyTorch Loss`\n",
    "- Gradients Computation: `Autograd`\n",
    "- Parameter updates: `PyTorch Optimizer`"
   ]
  },
  {
   "cell_type": "markdown",
   "id": "30e5c08d-2037-4683-9cda-01cb3b72cd1b",
   "metadata": {},
   "source": [
    "- Design model\n",
    "    - input size\n",
    "    - output size\n",
    "    - forward pass\n",
    "- Construct loss & optimizer\n",
    "- Training loop\n",
    "    - forward pass: prediction\n",
    "    - compare\n",
    "    - backward pass: learning\n",
    "        - compute gradients\n",
    "        - update weights"
   ]
  },
  {
   "cell_type": "code",
   "execution_count": 48,
   "id": "a10bbddd-7433-4c31-b15d-bfbcdf3f5d6b",
   "metadata": {},
   "outputs": [],
   "source": [
    "import torch\n",
    "import torch.nn as nn"
   ]
  },
  {
   "cell_type": "code",
   "execution_count": 49,
   "id": "1912e977-fd79-4df7-b77b-c6ce039ab765",
   "metadata": {},
   "outputs": [],
   "source": [
    "torch.set_default_tensor_type(torch.cuda.FloatTensor)"
   ]
  },
  {
   "cell_type": "code",
   "execution_count": 50,
   "id": "954472df-2061-49d7-8571-77d1d98e4968",
   "metadata": {},
   "outputs": [],
   "source": [
    "# f = w * x\n",
    "# f = 2 * x\n",
    "\n",
    "X = torch.tensor([1,2,3,4], dtype=torch.float32)\n",
    "y = torch.tensor([2,4,6,8], dtype=torch.float32)\n",
    "\n",
    "w = torch.tensor(0.0, dtype=torch.float32,requires_grad=True)"
   ]
  },
  {
   "cell_type": "code",
   "execution_count": 51,
   "id": "c609ec13-93c5-40c1-9609-9af81ae42367",
   "metadata": {},
   "outputs": [
    {
     "name": "stdout",
     "output_type": "stream",
     "text": [
      "Prediction before training: f(5) = 0.000\n"
     ]
    }
   ],
   "source": [
    "# model prediction\n",
    "def forward(x):\n",
    "    return w * x\n",
    "\n",
    "\n",
    "print(f'Prediction before training: f(5) = {forward(5):.3f}')"
   ]
  },
  {
   "cell_type": "code",
   "execution_count": 53,
   "id": "1abd6a12-cff8-435c-87a9-e839e079a54a",
   "metadata": {},
   "outputs": [
    {
     "name": "stdout",
     "output_type": "stream",
     "text": [
      "epoch 1: w = 0.300, loss = 30.00000000\n",
      "epoch 11: w = 1.665, loss = 1.16278636\n",
      "epoch 21: w = 1.934, loss = 0.04506905\n",
      "epoch 31: w = 1.987, loss = 0.00174685\n",
      "epoch 41: w = 1.997, loss = 0.00006770\n",
      "epoch 51: w = 1.999, loss = 0.00000262\n",
      "epoch 61: w = 2.000, loss = 0.00000010\n",
      "epoch 71: w = 2.000, loss = 0.00000000\n",
      "epoch 81: w = 2.000, loss = 0.00000000\n",
      "epoch 91: w = 2.000, loss = 0.00000000\n",
      "Prediction after training: f(5) = 10.000\n"
     ]
    }
   ],
   "source": [
    "# Training\n",
    "\n",
    "learning_rate = 0.01\n",
    "n_iters = 100\n",
    "loss = nn.MSELoss()\n",
    "optimizer = torch.optim.SGD([w],lr=learning_rate)\n",
    "\n",
    "for epoch in range(n_iters):\n",
    "    # prediction = forward pass\n",
    "    \n",
    "    y_pred = forward(X)\n",
    "    \n",
    "    # loss\n",
    "    l = loss(y, y_pred)\n",
    "    \n",
    "    # gradients = backward pass\n",
    "    dw = l.backward()\n",
    "    \n",
    "    # update weights\n",
    "    optimizer.step()\n",
    "    \n",
    "    # zero gradients\n",
    "    optimizer.zero_grad()\n",
    "    \n",
    "    if epoch % 10 ==0:\n",
    "        print(f'epoch {epoch+1}: w = {w:.3f}, loss = {l:.8f}')\n",
    "        \n",
    "print(f'Prediction after training: f(5) = {forward(5):.3f}')"
   ]
  },
  {
   "cell_type": "markdown",
   "id": "43b86455-8a01-4c2f-9130-43f21b662b08",
   "metadata": {},
   "source": [
    "- Prediction: `PyToch model`\n",
    "- Loss Computation: `PyTorch Loss`\n",
    "- Gradients Computation: `Autograd`\n",
    "- Parameter updates: `PyTorch Optimizer`"
   ]
  },
  {
   "cell_type": "code",
   "execution_count": 68,
   "id": "66aee4af-8c9f-44c3-bd2c-b4c7887a4f54",
   "metadata": {},
   "outputs": [],
   "source": [
    "import torch\n",
    "import torch.nn as nn"
   ]
  },
  {
   "cell_type": "code",
   "execution_count": 69,
   "id": "931b0061-da62-49d1-908f-93923342408a",
   "metadata": {},
   "outputs": [],
   "source": [
    "torch.set_default_tensor_type(torch.cuda.FloatTensor)"
   ]
  },
  {
   "cell_type": "code",
   "execution_count": 74,
   "id": "4e000376-db6e-4fbb-8d93-8485f83961f5",
   "metadata": {},
   "outputs": [
    {
     "data": {
      "text/plain": [
       "(4, 1)"
      ]
     },
     "execution_count": 74,
     "metadata": {},
     "output_type": "execute_result"
    }
   ],
   "source": [
    "# f = w * x\n",
    "# f = 2 * x\n",
    "\n",
    "X = torch.tensor([[1],[2],[3],[4]], dtype=torch.float32) # number of the rows is number of samples\n",
    "y = torch.tensor([[2],[4],[6],[8]], dtype=torch.float32)\n",
    "\n",
    "x_test = torch.tensor([5],dtype=torch.float32)\n",
    "\n",
    "n_samples, n_features = X.shape\n",
    "n_samples, n_features"
   ]
  },
  {
   "cell_type": "code",
   "execution_count": 77,
   "id": "560def30-5489-4a27-8fa8-9b38a5322e7c",
   "metadata": {},
   "outputs": [
    {
     "name": "stdout",
     "output_type": "stream",
     "text": [
      "Prediction before training: f(5) = -1.666\n"
     ]
    }
   ],
   "source": [
    "# model prediction\n",
    "input_size = n_features\n",
    "output_size = n_features\n",
    "# model = nn.Linear(input_size,output_size)\n",
    "\n",
    "\n",
    "class linearRegression(nn.Module):\n",
    "    def __init__(self, input_dim, output_dim):\n",
    "        super(linearRegression,self).__init__()\n",
    "        # define layers\n",
    "       \n",
    "        self.lin = nn.Sequential(\n",
    "            nn.Linear(input_dim,output_dim)\n",
    "        )\n",
    "        \n",
    "    def forward(self,x):\n",
    "        return self.lin(x)\n",
    "    \n",
    "model = linearRegression(input_size,output_size)\n",
    "\n",
    "print(f'Prediction before training: f(5) = {model(x_test).item():.3f}')"
   ]
  },
  {
   "cell_type": "code",
   "execution_count": 78,
   "id": "73040d96-48c1-4a54-91d3-321ceee095f2",
   "metadata": {},
   "outputs": [
    {
     "name": "stdout",
     "output_type": "stream",
     "text": [
      "epoch 1: w = 0.031, loss = 41.12252045\n",
      "epoch 11: w = 1.505, loss = 1.12871897\n",
      "epoch 21: w = 1.747, loss = 0.09021305\n",
      "epoch 31: w = 1.791, loss = 0.05979331\n",
      "epoch 41: w = 1.803, loss = 0.05566189\n",
      "epoch 51: w = 1.810, loss = 0.05240529\n",
      "epoch 61: w = 1.816, loss = 0.04935456\n",
      "epoch 71: w = 1.821, loss = 0.04648184\n",
      "epoch 81: w = 1.826, loss = 0.04377636\n",
      "epoch 91: w = 1.832, loss = 0.04122838\n",
      "Prediction after training: f(5) = 9.662\n"
     ]
    }
   ],
   "source": [
    "# Training\n",
    "\n",
    "learning_rate = 0.01\n",
    "n_iters = 100\n",
    "loss = nn.MSELoss()\n",
    "optimizer = torch.optim.SGD(model.parameters(),lr=learning_rate)\n",
    "\n",
    "for epoch in range(n_iters):\n",
    "    # prediction = forward pass\n",
    "    \n",
    "    y_pred = model(X)\n",
    "    \n",
    "    # loss\n",
    "    l = loss(y, y_pred)\n",
    "    \n",
    "    # gradients = backward pass\n",
    "    dw = l.backward()\n",
    "    \n",
    "    # update weights\n",
    "    optimizer.step()\n",
    "    \n",
    "    # zero gradients\n",
    "    optimizer.zero_grad()\n",
    "    \n",
    "    if epoch % 10 ==0:\n",
    "        [w, b] = model.parameters()\n",
    "        print(f'epoch {epoch+1}: w = {w[0][0].item():.3f}, loss = {l:.8f}')\n",
    "        \n",
    "print(f'Prediction after training: f(5) = {model(x_test).item():.3f}')"
   ]
  },
  {
   "cell_type": "code",
   "execution_count": null,
   "id": "81b4cbdf-62b8-4b32-8ede-3684d945ef0f",
   "metadata": {},
   "outputs": [],
   "source": []
  }
 ],
 "metadata": {
  "kernelspec": {
   "display_name": "Python 3 (ipykernel)",
   "language": "python",
   "name": "python3"
  },
  "language_info": {
   "codemirror_mode": {
    "name": "ipython",
    "version": 3
   },
   "file_extension": ".py",
   "mimetype": "text/x-python",
   "name": "python",
   "nbconvert_exporter": "python",
   "pygments_lexer": "ipython3",
   "version": "3.8.13"
  }
 },
 "nbformat": 4,
 "nbformat_minor": 5
}
