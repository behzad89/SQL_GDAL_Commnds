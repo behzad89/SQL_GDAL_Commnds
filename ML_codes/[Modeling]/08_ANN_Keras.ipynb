{
  "nbformat": 4,
  "nbformat_minor": 0,
  "metadata": {
    "colab": {
      "name": "Sequential_DL.ipynb",
      "provenance": [],
      "collapsed_sections": [],
      "toc_visible": true
    },
    "kernelspec": {
      "name": "python3",
      "display_name": "Python 3"
    },
    "language_info": {
      "name": "python"
    },
    "accelerator": "GPU"
  },
  "cells": [
    {
      "cell_type": "markdown",
      "source": [
        "# Image Classification"
      ],
      "metadata": {
        "id": "roRq-1LRJ-pp"
      }
    },
    {
      "cell_type": "code",
      "execution_count": 1,
      "metadata": {
        "id": "e5O53x7nIhFd"
      },
      "outputs": [],
      "source": [
        "import pandas as pd\n",
        "import numpy as np\n",
        "\n",
        "import cv2\n",
        "import tensorflow as tf\n",
        "from tensorflow import keras\n",
        "from tensorflow.keras.callbacks import EarlyStopping, ModelCheckpoint\n",
        "\n",
        "import matplotlib.pyplot as plt\n",
        "import seaborn as sns\n",
        "\n",
        "import os,sys"
      ]
    },
    {
      "cell_type": "code",
      "source": [
        "physical_devices = tf.config.experimental.list_physical_devices('GPU')\n",
        "print(f'Num GPUs available: {len(physical_devices)}')\n",
        "tf.config.experimental.set_memory_growth(physical_devices[0], True)"
      ],
      "metadata": {
        "colab": {
          "base_uri": "https://localhost:8080/"
        },
        "id": "bPocdeF8JzIa",
        "outputId": "4983bbc8-b18e-4c3b-fc76-f0ca34c349ce"
      },
      "execution_count": 2,
      "outputs": [
        {
          "output_type": "stream",
          "name": "stdout",
          "text": [
            "Num GPUs available: 1\n"
          ]
        }
      ]
    },
    {
      "cell_type": "code",
      "source": [
        "(x_train, y_train), (x_test, y_test) = keras.datasets.fashion_mnist.load_data()"
      ],
      "metadata": {
        "colab": {
          "base_uri": "https://localhost:8080/"
        },
        "id": "L_-g2L2HLb42",
        "outputId": "7e5372b5-624a-4eb3-811d-f6fd4945898e"
      },
      "execution_count": 3,
      "outputs": [
        {
          "output_type": "stream",
          "name": "stdout",
          "text": [
            "Downloading data from https://storage.googleapis.com/tensorflow/tf-keras-datasets/train-labels-idx1-ubyte.gz\n",
            "32768/29515 [=================================] - 0s 0us/step\n",
            "40960/29515 [=========================================] - 0s 0us/step\n",
            "Downloading data from https://storage.googleapis.com/tensorflow/tf-keras-datasets/train-images-idx3-ubyte.gz\n",
            "26427392/26421880 [==============================] - 0s 0us/step\n",
            "26435584/26421880 [==============================] - 0s 0us/step\n",
            "Downloading data from https://storage.googleapis.com/tensorflow/tf-keras-datasets/t10k-labels-idx1-ubyte.gz\n",
            "16384/5148 [===============================================================================================] - 0s 0us/step\n",
            "Downloading data from https://storage.googleapis.com/tensorflow/tf-keras-datasets/t10k-images-idx3-ubyte.gz\n",
            "4423680/4422102 [==============================] - 0s 0us/step\n",
            "4431872/4422102 [==============================] - 0s 0us/step\n"
          ]
        }
      ]
    },
    {
      "cell_type": "code",
      "source": [
        "x_train.shape,y_train.shape"
      ],
      "metadata": {
        "colab": {
          "base_uri": "https://localhost:8080/"
        },
        "id": "qBaI6v2BMogo",
        "outputId": "406bc94f-a405-4e28-f9d2-e23eb108827f"
      },
      "execution_count": 4,
      "outputs": [
        {
          "output_type": "execute_result",
          "data": {
            "text/plain": [
              "((60000, 28, 28), (60000,))"
            ]
          },
          "metadata": {},
          "execution_count": 4
        }
      ]
    },
    {
      "cell_type": "code",
      "source": [
        "labels = {'0':'T-shirt/top', '1':'Trouser','2':'Pullover','3':'Dress','4':'Coat','5':'Sandal','6':'Shirt','7':'Sneaker','8':'Bag','9':'Ankle boot'}"
      ],
      "metadata": {
        "id": "VGTzqWQTQKU-"
      },
      "execution_count": 5,
      "outputs": []
    },
    {
      "cell_type": "code",
      "source": [
        "labels['0']"
      ],
      "metadata": {
        "colab": {
          "base_uri": "https://localhost:8080/",
          "height": 35
        },
        "id": "AxONyxb6QvjR",
        "outputId": "7e0af65d-fd1b-48ca-dba6-c7cb92d8e73b"
      },
      "execution_count": 6,
      "outputs": [
        {
          "output_type": "execute_result",
          "data": {
            "application/vnd.google.colaboratory.intrinsic+json": {
              "type": "string"
            },
            "text/plain": [
              "'T-shirt/top'"
            ]
          },
          "metadata": {},
          "execution_count": 6
        }
      ]
    },
    {
      "cell_type": "code",
      "source": [
        "plt.figure(figsize=(5,5))\n",
        "plt.imshow(x_train[1,:,:],cmap=plt.cm.binary)\n",
        "plt.title(labels[str(y_train[1])])\n",
        "plt.colorbar()\n",
        "plt.show()"
      ],
      "metadata": {
        "colab": {
          "base_uri": "https://localhost:8080/",
          "height": 309
        },
        "id": "AzFTZ7edNmM6",
        "outputId": "f891b5dc-cb9e-4049-b69a-38bfadf48fa8"
      },
      "execution_count": 7,
      "outputs": [
        {
          "output_type": "display_data",
          "data": {
            "image/png": "[encoded data removed]",
            "text/plain": [
              "<Figure size 360x360 with 2 Axes>"
            ]
          },
          "metadata": {
            "needs_background": "light"
          }
        }
      ]
    },
    {
      "cell_type": "code",
      "source": [
        "plt.figure(figsize=(12,12))\n",
        "\n",
        "for i, (image,code) in enumerate(zip(x_train,y_train)):\n",
        "  plt.subplot(5,5,i+1)\n",
        "  plt.xticks([])\n",
        "  plt.yticks([])\n",
        "  plt.grid(False)\n",
        "  plt.imshow(image, cmap=plt.cm.binary)\n",
        "  plt.title(labels[str(y_train[i])])\n",
        "  if i==24:\n",
        "    break\n"
      ],
      "metadata": {
        "colab": {
          "base_uri": "https://localhost:8080/",
          "height": 703
        },
        "id": "Q0210k1lPZ89",
        "outputId": "d4b3ad45-7a41-4480-be74-6ddd9b5cbefe"
      },
      "execution_count": 8,
      "outputs": [
        {
          "output_type": "display_data",
          "data": {
            "image/png": "[encoded data removed]",
            "text/plain": [
              "<Figure size 864x864 with 25 Axes>"
            ]
          },
          "metadata": {}
        }
      ]
    },
    {
      "cell_type": "code",
      "source": [
        "x_train = x_train/255\n",
        "x_test = x_test/255"
      ],
      "metadata": {
        "id": "HrQs3o89vTmK"
      },
      "execution_count": 9,
      "outputs": []
    },
    {
      "cell_type": "code",
      "source": [
        "x_train_flatten = x_train.reshape(60000,-1)\n",
        "x_test_flatten = x_test.reshape(len(x_test),-1)\n",
        "x_train_flatten.shape, x_test_flatten.shape"
      ],
      "metadata": {
        "colab": {
          "base_uri": "https://localhost:8080/"
        },
        "id": "8_F-K0hIPfFA",
        "outputId": "a3be174c-16c6-4c02-a84c-f26409e10229"
      },
      "execution_count": 10,
      "outputs": [
        {
          "output_type": "execute_result",
          "data": {
            "text/plain": [
              "((60000, 784), (10000, 784))"
            ]
          },
          "metadata": {},
          "execution_count": 10
        }
      ]
    },
    {
      "cell_type": "code",
      "source": [
        "model = keras.Sequential([\n",
        "              keras.layers.Dense(units=128, input_shape=(784,), activation='relu'),\n",
        "              keras.layers.Dense(units=80, input_shape=(784,), activation='relu'),\n",
        "              keras.layers.Dense(units=10, activation='softmax')\n",
        "])"
      ],
      "metadata": {
        "id": "c_MsLnGUU962"
      },
      "execution_count": 11,
      "outputs": []
    },
    {
      "cell_type": "code",
      "source": [
        "model.compile(optimizer='Adam',loss='sparse_categorical_crossentropy',metrics=['accuracy'])"
      ],
      "metadata": {
        "id": "VvVRDJkJV3l5"
      },
      "execution_count": 12,
      "outputs": []
    },
    {
      "cell_type": "code",
      "source": [
        "model.summary()"
      ],
      "metadata": {
        "colab": {
          "base_uri": "https://localhost:8080/"
        },
        "id": "XZfQYJ7DnolZ",
        "outputId": "a5603364-1341-492b-987e-d910b9ddf7b1"
      },
      "execution_count": 13,
      "outputs": [
        {
          "output_type": "stream",
          "name": "stdout",
          "text": [
            "Model: \"sequential\"\n",
            "_________________________________________________________________\n",
            " Layer (type)                Output Shape              Param #   \n",
            "=================================================================\n",
            " dense (Dense)               (None, 128)               100480    \n",
            "                                                                 \n",
            " dense_1 (Dense)             (None, 80)                10320     \n",
            "                                                                 \n",
            " dense_2 (Dense)             (None, 10)                810       \n",
            "                                                                 \n",
            "=================================================================\n",
            "Total params: 111,610\n",
            "Trainable params: 111,610\n",
            "Non-trainable params: 0\n",
            "_________________________________________________________________\n"
          ]
        }
      ]
    },
    {
      "cell_type": "code",
      "source": [
        "model.fit(x_train_flatten,y_train,epochs=10,batch_size=64,shuffle=True)"
      ],
      "metadata": {
        "colab": {
          "base_uri": "https://localhost:8080/"
        },
        "id": "1xHUgDowo04O",
        "outputId": "72544e09-f961-4965-8a4f-a003b6030e15"
      },
      "execution_count": 14,
      "outputs": [
        {
          "output_type": "stream",
          "name": "stdout",
          "text": [
            "Epoch 1/10\n",
            "938/938 [==============================] - 7s 4ms/step - loss: 0.5116 - accuracy: 0.8201\n",
            "Epoch 2/10\n",
            "938/938 [==============================] - 4s 4ms/step - loss: 0.3694 - accuracy: 0.8665\n",
            "Epoch 3/10\n",
            "938/938 [==============================] - 4s 4ms/step - loss: 0.3345 - accuracy: 0.8763\n",
            "Epoch 4/10\n",
            "938/938 [==============================] - 4s 4ms/step - loss: 0.3116 - accuracy: 0.8857\n",
            "Epoch 5/10\n",
            "938/938 [==============================] - 4s 4ms/step - loss: 0.2921 - accuracy: 0.8914\n",
            "Epoch 6/10\n",
            "938/938 [==============================] - 4s 4ms/step - loss: 0.2780 - accuracy: 0.8974\n",
            "Epoch 7/10\n",
            "938/938 [==============================] - 4s 4ms/step - loss: 0.2676 - accuracy: 0.9001\n",
            "Epoch 8/10\n",
            "938/938 [==============================] - 4s 4ms/step - loss: 0.2566 - accuracy: 0.9040\n",
            "Epoch 9/10\n",
            "938/938 [==============================] - 3s 3ms/step - loss: 0.2476 - accuracy: 0.9065\n",
            "Epoch 10/10\n",
            "938/938 [==============================] - 2s 2ms/step - loss: 0.2370 - accuracy: 0.9107\n"
          ]
        },
        {
          "output_type": "execute_result",
          "data": {
            "text/plain": [
              "<keras.callbacks.History at 0x7f96c00ea190>"
            ]
          },
          "metadata": {},
          "execution_count": 14
        }
      ]
    },
    {
      "cell_type": "code",
      "source": [
        "test_loss, test_accuracy = model.evaluate(x_test_flatten,y_test)\n",
        "print('Accuracy on test dataset:', test_accuracy)"
      ],
      "metadata": {
        "colab": {
          "base_uri": "https://localhost:8080/"
        },
        "id": "jQvl9t43xvm_",
        "outputId": "5ea3433c-6593-4e36-dcec-d4c5c0cb3477"
      },
      "execution_count": 15,
      "outputs": [
        {
          "output_type": "stream",
          "name": "stdout",
          "text": [
            "313/313 [==============================] - 1s 2ms/step - loss: 0.3285 - accuracy: 0.8852\n",
            "Accuracy on test dataset: 0.885200023651123\n"
          ]
        }
      ]
    },
    {
      "cell_type": "code",
      "source": [
        "np.argmax(model.predict(x_test_flatten[2:3,:]))"
      ],
      "metadata": {
        "colab": {
          "base_uri": "https://localhost:8080/"
        },
        "id": "pOB3iWTkyo_y",
        "outputId": "7a66a3a8-542a-4583-e03c-e151491dcce8"
      },
      "execution_count": 16,
      "outputs": [
        {
          "output_type": "execute_result",
          "data": {
            "text/plain": [
              "1"
            ]
          },
          "metadata": {},
          "execution_count": 16
        }
      ]
    },
    {
      "cell_type": "code",
      "source": [
        "plt.figure(figsize=(5,5))\n",
        "plt.imshow(x_test[2,:,:],cmap=plt.cm.binary)\n",
        "plt.title(labels[str(1)])\n",
        "plt.show()"
      ],
      "metadata": {
        "colab": {
          "base_uri": "https://localhost:8080/",
          "height": 336
        },
        "id": "4tzKd9U0zHxx",
        "outputId": "818009c1-6eaf-427b-a119-1a764110eae1"
      },
      "execution_count": 17,
      "outputs": [
        {
          "output_type": "display_data",
          "data": {
            "image/png": "[encoded data removed]",
            "text/plain": [
              "<Figure size 360x360 with 1 Axes>"
            ]
          },
          "metadata": {
            "needs_background": "light"
          }
        }
      ]
    },
    {
      "cell_type": "code",
      "source": [
        "y_predictions = model.predict(x_test_flatten)"
      ],
      "metadata": {
        "id": "B3tkdBSW3PgN"
      },
      "execution_count": 18,
      "outputs": []
    },
    {
      "cell_type": "code",
      "source": [
        "y_predictions_label = [np.argmax(i) for i in y_predictions]"
      ],
      "metadata": {
        "id": "p50BbBcZ3qh7"
      },
      "execution_count": 19,
      "outputs": []
    },
    {
      "cell_type": "code",
      "source": [
        "cm = tf.math.confusion_matrix(labels=y_test,predictions=y_predictions_label)"
      ],
      "metadata": {
        "id": "7-dTqKLuzJKR"
      },
      "execution_count": 20,
      "outputs": []
    },
    {
      "cell_type": "code",
      "source": [
        "plt.figure(figsize=(8,8))\n",
        "sns.heatmap(cm, annot=True, fmt='d');\n",
        "plt.xlabel('predicted')\n",
        "plt.ylabel('Truth')\n",
        "plt.show()"
      ],
      "metadata": {
        "colab": {
          "base_uri": "https://localhost:8080/",
          "height": 497
        },
        "id": "jEWGxuCz4Zor",
        "outputId": "5addab76-760f-4579-e6d4-6ebec7caf9f7"
      },
      "execution_count": 21,
      "outputs": [
        {
          "output_type": "display_data",
          "data": {
            "image/png": "[encoded data removed]",
            "text/plain": [
              "<Figure size 576x576 with 2 Axes>"
            ]
          },
          "metadata": {
            "needs_background": "light"
          }
        }
      ]
    },
    {
      "cell_type": "code",
      "source": [
        "from sklearn.metrics import precision_recall_fscore_support as score\n",
        "precision, recall, fscore, _ = score(y_test, y_predictions_label, average='weighted')"
      ],
      "metadata": {
        "id": "u8RgmwAUAv4G"
      },
      "execution_count": 22,
      "outputs": []
    },
    {
      "cell_type": "code",
      "source": [
        "precision, recall, fscore"
      ],
      "metadata": {
        "colab": {
          "base_uri": "https://localhost:8080/"
        },
        "id": "OBRMLbphA_t4",
        "outputId": "436d4360-f6f1-4402-a5d8-be3e9595c461"
      },
      "execution_count": 23,
      "outputs": [
        {
          "output_type": "execute_result",
          "data": {
            "text/plain": [
              "(0.885729221164229, 0.8852, 0.8826791443178001)"
            ]
          },
          "metadata": {},
          "execution_count": 23
        }
      ]
    },
    {
      "cell_type": "markdown",
      "source": [
        "# Regression Problem"
      ],
      "metadata": {
        "id": "NVp7AcFqAaGg"
      }
    },
    {
      "cell_type": "code",
      "source": [
        "print(tf.__version__)"
      ],
      "metadata": {
        "colab": {
          "base_uri": "https://localhost:8080/"
        },
        "id": "-NylQAn94n_c",
        "outputId": "adcf883a-db16-4296-a468-1c427b7709b4"
      },
      "execution_count": 24,
      "outputs": [
        {
          "output_type": "stream",
          "name": "stdout",
          "text": [
            "2.7.0\n"
          ]
        }
      ]
    },
    {
      "cell_type": "code",
      "source": [
        "url = 'http://archive.ics.uci.edu/ml/machine-learning-databases/auto-mpg/auto-mpg.data'\n",
        "column_names = ['MPG', 'Cylinders', 'Displacement', 'Horsepower', 'Weight','Acceleration', 'Model Year', 'Origin']\n",
        "\n",
        "raw_dataset = pd.read_csv(url, names=column_names,\n",
        "                          na_values='?', comment='\\t',\n",
        "                          sep=' ', skipinitialspace=True)"
      ],
      "metadata": {
        "id": "EZGuPrtuB3k9"
      },
      "execution_count": 25,
      "outputs": []
    },
    {
      "cell_type": "code",
      "source": [
        "raw_dataset.tail()"
      ],
      "metadata": {
        "colab": {
          "base_uri": "https://localhost:8080/",
          "height": 206
        },
        "id": "7iR4rRveCZc-",
        "outputId": "c5b45398-66d4-451b-9a36-a75a54a566f5"
      },
      "execution_count": 26,
      "outputs": [
        {
          "output_type": "execute_result",
          "data": {
            "text/html": [
              "\n",
              "  <div id=\"df-2b71398e-e2f7-4990-aebb-908afabdb29a\">\n",
              "    <div class=\"colab-df-container\">\n",
              "      <div>\n",
              "<style scoped>\n",
              "    .dataframe tbody tr th:only-of-type {\n",
              "        vertical-align: middle;\n",
              "    }\n",
              "\n",
              "    .dataframe tbody tr th {\n",
              "        vertical-align: top;\n",
              "    }\n",
              "\n",
              "    .dataframe thead th {\n",
              "        text-align: right;\n",
              "    }\n",
              "</style>\n",
              "<table border=\"1\" class=\"dataframe\">\n",
              "  <thead>\n",
              "    <tr style=\"text-align: right;\">\n",
              "      <th></th>\n",
              "      <th>MPG</th>\n",
              "      <th>Cylinders</th>\n",
              "      <th>Displacement</th>\n",
              "      <th>Horsepower</th>\n",
              "      <th>Weight</th>\n",
              "      <th>Acceleration</th>\n",
              "      <th>Model Year</th>\n",
              "      <th>Origin</th>\n",
              "    </tr>\n",
              "  </thead>\n",
              "  <tbody>\n",
              "    <tr>\n",
              "      <th>393</th>\n",
              "      <td>27.0</td>\n",
              "      <td>4</td>\n",
              "      <td>140.0</td>\n",
              "      <td>86.0</td>\n",
              "      <td>2790.0</td>\n",
              "      <td>15.6</td>\n",
              "      <td>82</td>\n",
              "      <td>1</td>\n",
              "    </tr>\n",
              "    <tr>\n",
              "      <th>394</th>\n",
              "      <td>44.0</td>\n",
              "      <td>4</td>\n",
              "      <td>97.0</td>\n",
              "      <td>52.0</td>\n",
              "      <td>2130.0</td>\n",
              "      <td>24.6</td>\n",
              "      <td>82</td>\n",
              "      <td>2</td>\n",
              "    </tr>\n",
              "    <tr>\n",
              "      <th>395</th>\n",
              "      <td>32.0</td>\n",
              "      <td>4</td>\n",
              "      <td>135.0</td>\n",
              "      <td>84.0</td>\n",
              "      <td>2295.0</td>\n",
              "      <td>11.6</td>\n",
              "      <td>82</td>\n",
              "      <td>1</td>\n",
              "    </tr>\n",
              "    <tr>\n",
              "      <th>396</th>\n",
              "      <td>28.0</td>\n",
              "      <td>4</td>\n",
              "      <td>120.0</td>\n",
              "      <td>79.0</td>\n",
              "      <td>2625.0</td>\n",
              "      <td>18.6</td>\n",
              "      <td>82</td>\n",
              "      <td>1</td>\n",
              "    </tr>\n",
              "    <tr>\n",
              "      <th>397</th>\n",
              "      <td>31.0</td>\n",
              "      <td>4</td>\n",
              "      <td>119.0</td>\n",
              "      <td>82.0</td>\n",
              "      <td>2720.0</td>\n",
              "      <td>19.4</td>\n",
              "      <td>82</td>\n",
              "      <td>1</td>\n",
              "    </tr>\n",
              "  </tbody>\n",
              "</table>\n",
              "</div>\n",
              "      <button class=\"colab-df-convert\" onclick=\"convertToInteractive('df-2b71398e-e2f7-4990-aebb-908afabdb29a')\"\n",
              "              title=\"Convert this dataframe to an interactive table.\"\n",
              "              style=\"display:none;\">\n",
              "        \n",
              "  <svg xmlns=\"http://www.w3.org/2000/svg\" height=\"24px\"viewBox=\"0 0 24 24\"\n",
              "       width=\"24px\">\n",
              "    <path d=\"M0 0h24v24H0V0z\" fill=\"none\"/>\n",
              "    <path d=\"M18.56 5.44l.94 2.06.94-2.06 2.06-.94-2.06-.94-.94-2.06-.94 2.06-2.06.94zm-11 1L8.5 8.5l.94-2.06 2.06-.94-2.06-.94L8.5 2.5l-.94 2.06-2.06.94zm10 10l.94 2.06.94-2.06 2.06-.94-2.06-.94-.94-2.06-.94 2.06-2.06.94z\"/><path d=\"M17.41 7.96l-1.37-1.37c-.4-.4-.92-.59-1.43-.59-.52 0-1.04.2-1.43.59L10.3 9.45l-7.72 7.72c-.78.78-.78 2.05 0 2.83L4 21.41c.39.39.9.59 1.41.59.51 0 1.02-.2 1.41-.59l7.78-7.78 2.81-2.81c.8-.78.8-2.07 0-2.86zM5.41 20L4 18.59l7.72-7.72 1.47 1.35L5.41 20z\"/>\n",
              "  </svg>\n",
              "      </button>\n",
              "      \n",
              "  <style>\n",
              "    .colab-df-container {\n",
              "      display:flex;\n",
              "      flex-wrap:wrap;\n",
              "      gap: 12px;\n",
              "    }\n",
              "\n",
              "    .colab-df-convert {\n",
              "      background-color: #E8F0FE;\n",
              "      border: none;\n",
              "      border-radius: 50%;\n",
              "      cursor: pointer;\n",
              "      display: none;\n",
              "      fill: #1967D2;\n",
              "      height: 32px;\n",
              "      padding: 0 0 0 0;\n",
              "      width: 32px;\n",
              "    }\n",
              "\n",
              "    .colab-df-convert:hover {\n",
              "      background-color: #E2EBFA;\n",
              "      box-shadow: 0px 1px 2px rgba(60, 64, 67, 0.3), 0px 1px 3px 1px rgba(60, 64, 67, 0.15);\n",
              "      fill: #174EA6;\n",
              "    }\n",
              "\n",
              "    [theme=dark] .colab-df-convert {\n",
              "      background-color: #3B4455;\n",
              "      fill: #D2E3FC;\n",
              "    }\n",
              "\n",
              "    [theme=dark] .colab-df-convert:hover {\n",
              "      background-color: #434B5C;\n",
              "      box-shadow: 0px 1px 3px 1px rgba(0, 0, 0, 0.15);\n",
              "      filter: drop-shadow(0px 1px 2px rgba(0, 0, 0, 0.3));\n",
              "      fill: #FFFFFF;\n",
              "    }\n",
              "  </style>\n",
              "\n",
              "      <script>\n",
              "        const buttonEl =\n",
              "          document.querySelector('#df-2b71398e-e2f7-4990-aebb-908afabdb29a button.colab-df-convert');\n",
              "        buttonEl.style.display =\n",
              "          google.colab.kernel.accessAllowed ? 'block' : 'none';\n",
              "\n",
              "        async function convertToInteractive(key) {\n",
              "          const element = document.querySelector('#df-2b71398e-e2f7-4990-aebb-908afabdb29a');\n",
              "          const dataTable =\n",
              "            await google.colab.kernel.invokeFunction('convertToInteractive',\n",
              "                                                     [key], {});\n",
              "          if (!dataTable) return;\n",
              "\n",
              "          const docLinkHtml = 'Like what you see? Visit the ' +\n",
              "            '<a target=\"_blank\" href=https://colab.research.google.com/notebooks/data_table.ipynb>data table notebook</a>'\n",
              "            + ' to learn more about interactive tables.';\n",
              "          element.innerHTML = '';\n",
              "          dataTable['output_type'] = 'display_data';\n",
              "          await google.colab.output.renderOutput(dataTable, element);\n",
              "          const docLink = document.createElement('div');\n",
              "          docLink.innerHTML = docLinkHtml;\n",
              "          element.appendChild(docLink);\n",
              "        }\n",
              "      </script>\n",
              "    </div>\n",
              "  </div>\n",
              "  "
            ],
            "text/plain": [
              "      MPG  Cylinders  Displacement  ...  Acceleration  Model Year  Origin\n",
              "393  27.0          4         140.0  ...          15.6          82       1\n",
              "394  44.0          4          97.0  ...          24.6          82       2\n",
              "395  32.0          4         135.0  ...          11.6          82       1\n",
              "396  28.0          4         120.0  ...          18.6          82       1\n",
              "397  31.0          4         119.0  ...          19.4          82       1\n",
              "\n",
              "[5 rows x 8 columns]"
            ]
          },
          "metadata": {},
          "execution_count": 26
        }
      ]
    },
    {
      "cell_type": "code",
      "source": [
        "raw_dataset.isna().sum()"
      ],
      "metadata": {
        "colab": {
          "base_uri": "https://localhost:8080/"
        },
        "id": "a2O0dmjyCcpu",
        "outputId": "3da091a2-11ad-44e9-c3f0-a839542f2955"
      },
      "execution_count": 27,
      "outputs": [
        {
          "output_type": "execute_result",
          "data": {
            "text/plain": [
              "MPG             0\n",
              "Cylinders       0\n",
              "Displacement    0\n",
              "Horsepower      6\n",
              "Weight          0\n",
              "Acceleration    0\n",
              "Model Year      0\n",
              "Origin          0\n",
              "dtype: int64"
            ]
          },
          "metadata": {},
          "execution_count": 27
        }
      ]
    },
    {
      "cell_type": "code",
      "source": [
        "data = raw_dataset.dropna()"
      ],
      "metadata": {
        "id": "2d9yGiduCh8-"
      },
      "execution_count": 28,
      "outputs": []
    },
    {
      "cell_type": "code",
      "source": [
        "data.info()"
      ],
      "metadata": {
        "colab": {
          "base_uri": "https://localhost:8080/"
        },
        "id": "1oN-bB25CzFS",
        "outputId": "27780275-42d5-49f6-d93d-47308487899c"
      },
      "execution_count": 29,
      "outputs": [
        {
          "output_type": "stream",
          "name": "stdout",
          "text": [
            "<class 'pandas.core.frame.DataFrame'>\n",
            "Int64Index: 392 entries, 0 to 397\n",
            "Data columns (total 8 columns):\n",
            " #   Column        Non-Null Count  Dtype  \n",
            "---  ------        --------------  -----  \n",
            " 0   MPG           392 non-null    float64\n",
            " 1   Cylinders     392 non-null    int64  \n",
            " 2   Displacement  392 non-null    float64\n",
            " 3   Horsepower    392 non-null    float64\n",
            " 4   Weight        392 non-null    float64\n",
            " 5   Acceleration  392 non-null    float64\n",
            " 6   Model Year    392 non-null    int64  \n",
            " 7   Origin        392 non-null    int64  \n",
            "dtypes: float64(5), int64(3)\n",
            "memory usage: 27.6 KB\n"
          ]
        }
      ]
    },
    {
      "cell_type": "code",
      "source": [
        "data['Origin'] = data['Origin'].map({1: 'USA', 2: 'Europe', 3: 'Japan'})"
      ],
      "metadata": {
        "colab": {
          "base_uri": "https://localhost:8080/"
        },
        "id": "-D9liKpcVmlH",
        "outputId": "712c28f2-1a05-4334-c611-81e3dc951dd5"
      },
      "execution_count": 30,
      "outputs": [
        {
          "output_type": "stream",
          "name": "stderr",
          "text": [
            "/usr/local/lib/python3.7/dist-packages/ipykernel_launcher.py:1: SettingWithCopyWarning: \n",
            "A value is trying to be set on a copy of a slice from a DataFrame.\n",
            "Try using .loc[row_indexer,col_indexer] = value instead\n",
            "\n",
            "See the caveats in the documentation: https://pandas.pydata.org/pandas-docs/stable/user_guide/indexing.html#returning-a-view-versus-a-copy\n",
            "  \"\"\"Entry point for launching an IPython kernel.\n"
          ]
        }
      ]
    },
    {
      "cell_type": "code",
      "source": [
        "data = pd.get_dummies(data, columns=['Origin'], prefix='', prefix_sep='')\n",
        "data.tail()"
      ],
      "metadata": {
        "colab": {
          "base_uri": "https://localhost:8080/",
          "height": 206
        },
        "id": "qM9qlCBxVum-",
        "outputId": "c5acec1c-4d0d-4d4b-ca80-1d865a928c10"
      },
      "execution_count": 31,
      "outputs": [
        {
          "output_type": "execute_result",
          "data": {
            "text/html": [
              "\n",
              "  <div id=\"df-46a0a4fd-a4e1-4b60-a205-056f10deb9dc\">\n",
              "    <div class=\"colab-df-container\">\n",
              "      <div>\n",
              "<style scoped>\n",
              "    .dataframe tbody tr th:only-of-type {\n",
              "        vertical-align: middle;\n",
              "    }\n",
              "\n",
              "    .dataframe tbody tr th {\n",
              "        vertical-align: top;\n",
              "    }\n",
              "\n",
              "    .dataframe thead th {\n",
              "        text-align: right;\n",
              "    }\n",
              "</style>\n",
              "<table border=\"1\" class=\"dataframe\">\n",
              "  <thead>\n",
              "    <tr style=\"text-align: right;\">\n",
              "      <th></th>\n",
              "      <th>MPG</th>\n",
              "      <th>Cylinders</th>\n",
              "      <th>Displacement</th>\n",
              "      <th>Horsepower</th>\n",
              "      <th>Weight</th>\n",
              "      <th>Acceleration</th>\n",
              "      <th>Model Year</th>\n",
              "      <th>Europe</th>\n",
              "      <th>Japan</th>\n",
              "      <th>USA</th>\n",
              "    </tr>\n",
              "  </thead>\n",
              "  <tbody>\n",
              "    <tr>\n",
              "      <th>393</th>\n",
              "      <td>27.0</td>\n",
              "      <td>4</td>\n",
              "      <td>140.0</td>\n",
              "      <td>86.0</td>\n",
              "      <td>2790.0</td>\n",
              "      <td>15.6</td>\n",
              "      <td>82</td>\n",
              "      <td>0</td>\n",
              "      <td>0</td>\n",
              "      <td>1</td>\n",
              "    </tr>\n",
              "    <tr>\n",
              "      <th>394</th>\n",
              "      <td>44.0</td>\n",
              "      <td>4</td>\n",
              "      <td>97.0</td>\n",
              "      <td>52.0</td>\n",
              "      <td>2130.0</td>\n",
              "      <td>24.6</td>\n",
              "      <td>82</td>\n",
              "      <td>1</td>\n",
              "      <td>0</td>\n",
              "      <td>0</td>\n",
              "    </tr>\n",
              "    <tr>\n",
              "      <th>395</th>\n",
              "      <td>32.0</td>\n",
              "      <td>4</td>\n",
              "      <td>135.0</td>\n",
              "      <td>84.0</td>\n",
              "      <td>2295.0</td>\n",
              "      <td>11.6</td>\n",
              "      <td>82</td>\n",
              "      <td>0</td>\n",
              "      <td>0</td>\n",
              "      <td>1</td>\n",
              "    </tr>\n",
              "    <tr>\n",
              "      <th>396</th>\n",
              "      <td>28.0</td>\n",
              "      <td>4</td>\n",
              "      <td>120.0</td>\n",
              "      <td>79.0</td>\n",
              "      <td>2625.0</td>\n",
              "      <td>18.6</td>\n",
              "      <td>82</td>\n",
              "      <td>0</td>\n",
              "      <td>0</td>\n",
              "      <td>1</td>\n",
              "    </tr>\n",
              "    <tr>\n",
              "      <th>397</th>\n",
              "      <td>31.0</td>\n",
              "      <td>4</td>\n",
              "      <td>119.0</td>\n",
              "      <td>82.0</td>\n",
              "      <td>2720.0</td>\n",
              "      <td>19.4</td>\n",
              "      <td>82</td>\n",
              "      <td>0</td>\n",
              "      <td>0</td>\n",
              "      <td>1</td>\n",
              "    </tr>\n",
              "  </tbody>\n",
              "</table>\n",
              "</div>\n",
              "      <button class=\"colab-df-convert\" onclick=\"convertToInteractive('df-46a0a4fd-a4e1-4b60-a205-056f10deb9dc')\"\n",
              "              title=\"Convert this dataframe to an interactive table.\"\n",
              "              style=\"display:none;\">\n",
              "        \n",
              "  <svg xmlns=\"http://www.w3.org/2000/svg\" height=\"24px\"viewBox=\"0 0 24 24\"\n",
              "       width=\"24px\">\n",
              "    <path d=\"M0 0h24v24H0V0z\" fill=\"none\"/>\n",
              "    <path d=\"M18.56 5.44l.94 2.06.94-2.06 2.06-.94-2.06-.94-.94-2.06-.94 2.06-2.06.94zm-11 1L8.5 8.5l.94-2.06 2.06-.94-2.06-.94L8.5 2.5l-.94 2.06-2.06.94zm10 10l.94 2.06.94-2.06 2.06-.94-2.06-.94-.94-2.06-.94 2.06-2.06.94z\"/><path d=\"M17.41 7.96l-1.37-1.37c-.4-.4-.92-.59-1.43-.59-.52 0-1.04.2-1.43.59L10.3 9.45l-7.72 7.72c-.78.78-.78 2.05 0 2.83L4 21.41c.39.39.9.59 1.41.59.51 0 1.02-.2 1.41-.59l7.78-7.78 2.81-2.81c.8-.78.8-2.07 0-2.86zM5.41 20L4 18.59l7.72-7.72 1.47 1.35L5.41 20z\"/>\n",
              "  </svg>\n",
              "      </button>\n",
              "      \n",
              "  <style>\n",
              "    .colab-df-container {\n",
              "      display:flex;\n",
              "      flex-wrap:wrap;\n",
              "      gap: 12px;\n",
              "    }\n",
              "\n",
              "    .colab-df-convert {\n",
              "      background-color: #E8F0FE;\n",
              "      border: none;\n",
              "      border-radius: 50%;\n",
              "      cursor: pointer;\n",
              "      display: none;\n",
              "      fill: #1967D2;\n",
              "      height: 32px;\n",
              "      padding: 0 0 0 0;\n",
              "      width: 32px;\n",
              "    }\n",
              "\n",
              "    .colab-df-convert:hover {\n",
              "      background-color: #E2EBFA;\n",
              "      box-shadow: 0px 1px 2px rgba(60, 64, 67, 0.3), 0px 1px 3px 1px rgba(60, 64, 67, 0.15);\n",
              "      fill: #174EA6;\n",
              "    }\n",
              "\n",
              "    [theme=dark] .colab-df-convert {\n",
              "      background-color: #3B4455;\n",
              "      fill: #D2E3FC;\n",
              "    }\n",
              "\n",
              "    [theme=dark] .colab-df-convert:hover {\n",
              "      background-color: #434B5C;\n",
              "      box-shadow: 0px 1px 3px 1px rgba(0, 0, 0, 0.15);\n",
              "      filter: drop-shadow(0px 1px 2px rgba(0, 0, 0, 0.3));\n",
              "      fill: #FFFFFF;\n",
              "    }\n",
              "  </style>\n",
              "\n",
              "      <script>\n",
              "        const buttonEl =\n",
              "          document.querySelector('#df-46a0a4fd-a4e1-4b60-a205-056f10deb9dc button.colab-df-convert');\n",
              "        buttonEl.style.display =\n",
              "          google.colab.kernel.accessAllowed ? 'block' : 'none';\n",
              "\n",
              "        async function convertToInteractive(key) {\n",
              "          const element = document.querySelector('#df-46a0a4fd-a4e1-4b60-a205-056f10deb9dc');\n",
              "          const dataTable =\n",
              "            await google.colab.kernel.invokeFunction('convertToInteractive',\n",
              "                                                     [key], {});\n",
              "          if (!dataTable) return;\n",
              "\n",
              "          const docLinkHtml = 'Like what you see? Visit the ' +\n",
              "            '<a target=\"_blank\" href=https://colab.research.google.com/notebooks/data_table.ipynb>data table notebook</a>'\n",
              "            + ' to learn more about interactive tables.';\n",
              "          element.innerHTML = '';\n",
              "          dataTable['output_type'] = 'display_data';\n",
              "          await google.colab.output.renderOutput(dataTable, element);\n",
              "          const docLink = document.createElement('div');\n",
              "          docLink.innerHTML = docLinkHtml;\n",
              "          element.appendChild(docLink);\n",
              "        }\n",
              "      </script>\n",
              "    </div>\n",
              "  </div>\n",
              "  "
            ],
            "text/plain": [
              "      MPG  Cylinders  Displacement  Horsepower  ...  Model Year  Europe  Japan  USA\n",
              "393  27.0          4         140.0        86.0  ...          82       0      0    1\n",
              "394  44.0          4          97.0        52.0  ...          82       1      0    0\n",
              "395  32.0          4         135.0        84.0  ...          82       0      0    1\n",
              "396  28.0          4         120.0        79.0  ...          82       0      0    1\n",
              "397  31.0          4         119.0        82.0  ...          82       0      0    1\n",
              "\n",
              "[5 rows x 10 columns]"
            ]
          },
          "metadata": {},
          "execution_count": 31
        }
      ]
    },
    {
      "cell_type": "code",
      "source": [
        "sns.pairplot(data[['MPG', 'Cylinders', 'Displacement', 'Weight']],diag_kind='kde')"
      ],
      "metadata": {
        "colab": {
          "base_uri": "https://localhost:8080/",
          "height": 743
        },
        "id": "0BfK2-gJECNq",
        "outputId": "02dfaf66-32a4-4885-b233-6fd1ba4a4c70"
      },
      "execution_count": 32,
      "outputs": [
        {
          "output_type": "execute_result",
          "data": {
            "text/plain": [
              "<seaborn.axisgrid.PairGrid at 0x7f96385f4990>"
            ]
          },
          "metadata": {},
          "execution_count": 32
        },
        {
          "output_type": "display_data",
          "data": {
            "image/png": "[encoded data removed]",
            "text/plain": [
              "<Figure size 720x720 with 20 Axes>"
            ]
          },
          "metadata": {
            "needs_background": "light"
          }
        }
      ]
    },
    {
      "cell_type": "code",
      "source": [
        "data.describe().T"
      ],
      "metadata": {
        "colab": {
          "base_uri": "https://localhost:8080/",
          "height": 363
        },
        "id": "qCaGllneFD61",
        "outputId": "b0317047-d639-4c44-8d53-58380de20cf9"
      },
      "execution_count": 33,
      "outputs": [
        {
          "output_type": "execute_result",
          "data": {
            "text/html": [
              "\n",
              "  <div id=\"df-23f1c9ed-d147-497c-98da-faa203890c08\">\n",
              "    <div class=\"colab-df-container\">\n",
              "      <div>\n",
              "<style scoped>\n",
              "    .dataframe tbody tr th:only-of-type {\n",
              "        vertical-align: middle;\n",
              "    }\n",
              "\n",
              "    .dataframe tbody tr th {\n",
              "        vertical-align: top;\n",
              "    }\n",
              "\n",
              "    .dataframe thead th {\n",
              "        text-align: right;\n",
              "    }\n",
              "</style>\n",
              "<table border=\"1\" class=\"dataframe\">\n",
              "  <thead>\n",
              "    <tr style=\"text-align: right;\">\n",
              "      <th></th>\n",
              "      <th>count</th>\n",
              "      <th>mean</th>\n",
              "      <th>std</th>\n",
              "      <th>min</th>\n",
              "      <th>25%</th>\n",
              "      <th>50%</th>\n",
              "      <th>75%</th>\n",
              "      <th>max</th>\n",
              "    </tr>\n",
              "  </thead>\n",
              "  <tbody>\n",
              "    <tr>\n",
              "      <th>MPG</th>\n",
              "      <td>392.0</td>\n",
              "      <td>23.445918</td>\n",
              "      <td>7.805007</td>\n",
              "      <td>9.0</td>\n",
              "      <td>17.000</td>\n",
              "      <td>22.75</td>\n",
              "      <td>29.000</td>\n",
              "      <td>46.6</td>\n",
              "    </tr>\n",
              "    <tr>\n",
              "      <th>Cylinders</th>\n",
              "      <td>392.0</td>\n",
              "      <td>5.471939</td>\n",
              "      <td>1.705783</td>\n",
              "      <td>3.0</td>\n",
              "      <td>4.000</td>\n",
              "      <td>4.00</td>\n",
              "      <td>8.000</td>\n",
              "      <td>8.0</td>\n",
              "    </tr>\n",
              "    <tr>\n",
              "      <th>Displacement</th>\n",
              "      <td>392.0</td>\n",
              "      <td>194.411990</td>\n",
              "      <td>104.644004</td>\n",
              "      <td>68.0</td>\n",
              "      <td>105.000</td>\n",
              "      <td>151.00</td>\n",
              "      <td>275.750</td>\n",
              "      <td>455.0</td>\n",
              "    </tr>\n",
              "    <tr>\n",
              "      <th>Horsepower</th>\n",
              "      <td>392.0</td>\n",
              "      <td>104.469388</td>\n",
              "      <td>38.491160</td>\n",
              "      <td>46.0</td>\n",
              "      <td>75.000</td>\n",
              "      <td>93.50</td>\n",
              "      <td>126.000</td>\n",
              "      <td>230.0</td>\n",
              "    </tr>\n",
              "    <tr>\n",
              "      <th>Weight</th>\n",
              "      <td>392.0</td>\n",
              "      <td>2977.584184</td>\n",
              "      <td>849.402560</td>\n",
              "      <td>1613.0</td>\n",
              "      <td>2225.250</td>\n",
              "      <td>2803.50</td>\n",
              "      <td>3614.750</td>\n",
              "      <td>5140.0</td>\n",
              "    </tr>\n",
              "    <tr>\n",
              "      <th>Acceleration</th>\n",
              "      <td>392.0</td>\n",
              "      <td>15.541327</td>\n",
              "      <td>2.758864</td>\n",
              "      <td>8.0</td>\n",
              "      <td>13.775</td>\n",
              "      <td>15.50</td>\n",
              "      <td>17.025</td>\n",
              "      <td>24.8</td>\n",
              "    </tr>\n",
              "    <tr>\n",
              "      <th>Model Year</th>\n",
              "      <td>392.0</td>\n",
              "      <td>75.979592</td>\n",
              "      <td>3.683737</td>\n",
              "      <td>70.0</td>\n",
              "      <td>73.000</td>\n",
              "      <td>76.00</td>\n",
              "      <td>79.000</td>\n",
              "      <td>82.0</td>\n",
              "    </tr>\n",
              "    <tr>\n",
              "      <th>Europe</th>\n",
              "      <td>392.0</td>\n",
              "      <td>0.173469</td>\n",
              "      <td>0.379136</td>\n",
              "      <td>0.0</td>\n",
              "      <td>0.000</td>\n",
              "      <td>0.00</td>\n",
              "      <td>0.000</td>\n",
              "      <td>1.0</td>\n",
              "    </tr>\n",
              "    <tr>\n",
              "      <th>Japan</th>\n",
              "      <td>392.0</td>\n",
              "      <td>0.201531</td>\n",
              "      <td>0.401656</td>\n",
              "      <td>0.0</td>\n",
              "      <td>0.000</td>\n",
              "      <td>0.00</td>\n",
              "      <td>0.000</td>\n",
              "      <td>1.0</td>\n",
              "    </tr>\n",
              "    <tr>\n",
              "      <th>USA</th>\n",
              "      <td>392.0</td>\n",
              "      <td>0.625000</td>\n",
              "      <td>0.484742</td>\n",
              "      <td>0.0</td>\n",
              "      <td>0.000</td>\n",
              "      <td>1.00</td>\n",
              "      <td>1.000</td>\n",
              "      <td>1.0</td>\n",
              "    </tr>\n",
              "  </tbody>\n",
              "</table>\n",
              "</div>\n",
              "      <button class=\"colab-df-convert\" onclick=\"convertToInteractive('df-23f1c9ed-d147-497c-98da-faa203890c08')\"\n",
              "              title=\"Convert this dataframe to an interactive table.\"\n",
              "              style=\"display:none;\">\n",
              "        \n",
              "  <svg xmlns=\"http://www.w3.org/2000/svg\" height=\"24px\"viewBox=\"0 0 24 24\"\n",
              "       width=\"24px\">\n",
              "    <path d=\"M0 0h24v24H0V0z\" fill=\"none\"/>\n",
              "    <path d=\"M18.56 5.44l.94 2.06.94-2.06 2.06-.94-2.06-.94-.94-2.06-.94 2.06-2.06.94zm-11 1L8.5 8.5l.94-2.06 2.06-.94-2.06-.94L8.5 2.5l-.94 2.06-2.06.94zm10 10l.94 2.06.94-2.06 2.06-.94-2.06-.94-.94-2.06-.94 2.06-2.06.94z\"/><path d=\"M17.41 7.96l-1.37-1.37c-.4-.4-.92-.59-1.43-.59-.52 0-1.04.2-1.43.59L10.3 9.45l-7.72 7.72c-.78.78-.78 2.05 0 2.83L4 21.41c.39.39.9.59 1.41.59.51 0 1.02-.2 1.41-.59l7.78-7.78 2.81-2.81c.8-.78.8-2.07 0-2.86zM5.41 20L4 18.59l7.72-7.72 1.47 1.35L5.41 20z\"/>\n",
              "  </svg>\n",
              "      </button>\n",
              "      \n",
              "  <style>\n",
              "    .colab-df-container {\n",
              "      display:flex;\n",
              "      flex-wrap:wrap;\n",
              "      gap: 12px;\n",
              "    }\n",
              "\n",
              "    .colab-df-convert {\n",
              "      background-color: #E8F0FE;\n",
              "      border: none;\n",
              "      border-radius: 50%;\n",
              "      cursor: pointer;\n",
              "      display: none;\n",
              "      fill: #1967D2;\n",
              "      height: 32px;\n",
              "      padding: 0 0 0 0;\n",
              "      width: 32px;\n",
              "    }\n",
              "\n",
              "    .colab-df-convert:hover {\n",
              "      background-color: #E2EBFA;\n",
              "      box-shadow: 0px 1px 2px rgba(60, 64, 67, 0.3), 0px 1px 3px 1px rgba(60, 64, 67, 0.15);\n",
              "      fill: #174EA6;\n",
              "    }\n",
              "\n",
              "    [theme=dark] .colab-df-convert {\n",
              "      background-color: #3B4455;\n",
              "      fill: #D2E3FC;\n",
              "    }\n",
              "\n",
              "    [theme=dark] .colab-df-convert:hover {\n",
              "      background-color: #434B5C;\n",
              "      box-shadow: 0px 1px 3px 1px rgba(0, 0, 0, 0.15);\n",
              "      filter: drop-shadow(0px 1px 2px rgba(0, 0, 0, 0.3));\n",
              "      fill: #FFFFFF;\n",
              "    }\n",
              "  </style>\n",
              "\n",
              "      <script>\n",
              "        const buttonEl =\n",
              "          document.querySelector('#df-23f1c9ed-d147-497c-98da-faa203890c08 button.colab-df-convert');\n",
              "        buttonEl.style.display =\n",
              "          google.colab.kernel.accessAllowed ? 'block' : 'none';\n",
              "\n",
              "        async function convertToInteractive(key) {\n",
              "          const element = document.querySelector('#df-23f1c9ed-d147-497c-98da-faa203890c08');\n",
              "          const dataTable =\n",
              "            await google.colab.kernel.invokeFunction('convertToInteractive',\n",
              "                                                     [key], {});\n",
              "          if (!dataTable) return;\n",
              "\n",
              "          const docLinkHtml = 'Like what you see? Visit the ' +\n",
              "            '<a target=\"_blank\" href=https://colab.research.google.com/notebooks/data_table.ipynb>data table notebook</a>'\n",
              "            + ' to learn more about interactive tables.';\n",
              "          element.innerHTML = '';\n",
              "          dataTable['output_type'] = 'display_data';\n",
              "          await google.colab.output.renderOutput(dataTable, element);\n",
              "          const docLink = document.createElement('div');\n",
              "          docLink.innerHTML = docLinkHtml;\n",
              "          element.appendChild(docLink);\n",
              "        }\n",
              "      </script>\n",
              "    </div>\n",
              "  </div>\n",
              "  "
            ],
            "text/plain": [
              "              count         mean         std  ...      50%       75%     max\n",
              "MPG           392.0    23.445918    7.805007  ...    22.75    29.000    46.6\n",
              "Cylinders     392.0     5.471939    1.705783  ...     4.00     8.000     8.0\n",
              "Displacement  392.0   194.411990  104.644004  ...   151.00   275.750   455.0\n",
              "Horsepower    392.0   104.469388   38.491160  ...    93.50   126.000   230.0\n",
              "Weight        392.0  2977.584184  849.402560  ...  2803.50  3614.750  5140.0\n",
              "Acceleration  392.0    15.541327    2.758864  ...    15.50    17.025    24.8\n",
              "Model Year    392.0    75.979592    3.683737  ...    76.00    79.000    82.0\n",
              "Europe        392.0     0.173469    0.379136  ...     0.00     0.000     1.0\n",
              "Japan         392.0     0.201531    0.401656  ...     0.00     0.000     1.0\n",
              "USA           392.0     0.625000    0.484742  ...     1.00     1.000     1.0\n",
              "\n",
              "[10 rows x 8 columns]"
            ]
          },
          "metadata": {},
          "execution_count": 33
        }
      ]
    },
    {
      "cell_type": "code",
      "source": [
        "from sklearn.model_selection import train_test_split\n",
        "from sklearn.preprocessing import StandardScaler\n",
        "y, X = data['MPG'], data.drop(columns='MPG')\n",
        "\n",
        "\n",
        "scaler = StandardScaler()\n",
        "X_transfrom = scaler.fit_transform(X)\n",
        "\n",
        "X_transfrom = pd.DataFrame(X_transfrom,columns=X.columns)\n",
        "\n",
        "X_train, X_test, y_train, y_test = train_test_split(X_transfrom, y, test_size=0.2, random_state=42)"
      ],
      "metadata": {
        "id": "QmCfpeYaC4wQ"
      },
      "execution_count": 34,
      "outputs": []
    },
    {
      "cell_type": "code",
      "source": [
        "X_train.describe().T"
      ],
      "metadata": {
        "colab": {
          "base_uri": "https://localhost:8080/",
          "height": 332
        },
        "id": "QPtix_ckECQV",
        "outputId": "ce823a07-f811-4dd6-fd18-348cb0e6b496"
      },
      "execution_count": 35,
      "outputs": [
        {
          "output_type": "execute_result",
          "data": {
            "text/html": [
              "\n",
              "  <div id=\"df-3c570c85-0ab3-4005-b74f-6ed3e62ebdb6\">\n",
              "    <div class=\"colab-df-container\">\n",
              "      <div>\n",
              "<style scoped>\n",
              "    .dataframe tbody tr th:only-of-type {\n",
              "        vertical-align: middle;\n",
              "    }\n",
              "\n",
              "    .dataframe tbody tr th {\n",
              "        vertical-align: top;\n",
              "    }\n",
              "\n",
              "    .dataframe thead th {\n",
              "        text-align: right;\n",
              "    }\n",
              "</style>\n",
              "<table border=\"1\" class=\"dataframe\">\n",
              "  <thead>\n",
              "    <tr style=\"text-align: right;\">\n",
              "      <th></th>\n",
              "      <th>count</th>\n",
              "      <th>mean</th>\n",
              "      <th>std</th>\n",
              "      <th>min</th>\n",
              "      <th>25%</th>\n",
              "      <th>50%</th>\n",
              "      <th>75%</th>\n",
              "      <th>max</th>\n",
              "    </tr>\n",
              "  </thead>\n",
              "  <tbody>\n",
              "    <tr>\n",
              "      <th>Cylinders</th>\n",
              "      <td>313.0</td>\n",
              "      <td>0.006157</td>\n",
              "      <td>0.998145</td>\n",
              "      <td>-1.451004</td>\n",
              "      <td>-0.864014</td>\n",
              "      <td>-0.864014</td>\n",
              "      <td>1.483947</td>\n",
              "      <td>1.483947</td>\n",
              "    </tr>\n",
              "    <tr>\n",
              "      <th>Displacement</th>\n",
              "      <td>313.0</td>\n",
              "      <td>0.010579</td>\n",
              "      <td>0.992882</td>\n",
              "      <td>-1.190426</td>\n",
              "      <td>-0.855532</td>\n",
              "      <td>-0.415384</td>\n",
              "      <td>1.029447</td>\n",
              "      <td>2.493416</td>\n",
              "    </tr>\n",
              "    <tr>\n",
              "      <th>Horsepower</th>\n",
              "      <td>313.0</td>\n",
              "      <td>0.003248</td>\n",
              "      <td>0.995880</td>\n",
              "      <td>-1.520975</td>\n",
              "      <td>-0.740580</td>\n",
              "      <td>-0.246329</td>\n",
              "      <td>0.638120</td>\n",
              "      <td>3.265452</td>\n",
              "    </tr>\n",
              "    <tr>\n",
              "      <th>Weight</th>\n",
              "      <td>313.0</td>\n",
              "      <td>0.010067</td>\n",
              "      <td>0.991531</td>\n",
              "      <td>-1.608575</td>\n",
              "      <td>-0.876539</td>\n",
              "      <td>-0.144503</td>\n",
              "      <td>0.786752</td>\n",
              "      <td>2.549061</td>\n",
              "    </tr>\n",
              "    <tr>\n",
              "      <th>Acceleration</th>\n",
              "      <td>313.0</td>\n",
              "      <td>0.001003</td>\n",
              "      <td>1.022691</td>\n",
              "      <td>-2.736983</td>\n",
              "      <td>-0.740861</td>\n",
              "      <td>-0.014999</td>\n",
              "      <td>0.638278</td>\n",
              "      <td>3.360262</td>\n",
              "    </tr>\n",
              "    <tr>\n",
              "      <th>Model Year</th>\n",
              "      <td>313.0</td>\n",
              "      <td>0.061993</td>\n",
              "      <td>0.986709</td>\n",
              "      <td>-1.625315</td>\n",
              "      <td>-0.809884</td>\n",
              "      <td>0.005547</td>\n",
              "      <td>0.820978</td>\n",
              "      <td>1.636410</td>\n",
              "    </tr>\n",
              "    <tr>\n",
              "      <th>Europe</th>\n",
              "      <td>313.0</td>\n",
              "      <td>-0.053122</td>\n",
              "      <td>0.953132</td>\n",
              "      <td>-0.458123</td>\n",
              "      <td>-0.458123</td>\n",
              "      <td>-0.458123</td>\n",
              "      <td>-0.458123</td>\n",
              "      <td>2.182821</td>\n",
              "    </tr>\n",
              "    <tr>\n",
              "      <th>Japan</th>\n",
              "      <td>313.0</td>\n",
              "      <td>-0.000630</td>\n",
              "      <td>1.001132</td>\n",
              "      <td>-0.502390</td>\n",
              "      <td>-0.502390</td>\n",
              "      <td>-0.502390</td>\n",
              "      <td>-0.502390</td>\n",
              "      <td>1.990484</td>\n",
              "    </tr>\n",
              "    <tr>\n",
              "      <th>USA</th>\n",
              "      <td>313.0</td>\n",
              "      <td>0.042071</td>\n",
              "      <td>0.989765</td>\n",
              "      <td>-1.290994</td>\n",
              "      <td>-1.290994</td>\n",
              "      <td>0.774597</td>\n",
              "      <td>0.774597</td>\n",
              "      <td>0.774597</td>\n",
              "    </tr>\n",
              "  </tbody>\n",
              "</table>\n",
              "</div>\n",
              "      <button class=\"colab-df-convert\" onclick=\"convertToInteractive('df-3c570c85-0ab3-4005-b74f-6ed3e62ebdb6')\"\n",
              "              title=\"Convert this dataframe to an interactive table.\"\n",
              "              style=\"display:none;\">\n",
              "        \n",
              "  <svg xmlns=\"http://www.w3.org/2000/svg\" height=\"24px\"viewBox=\"0 0 24 24\"\n",
              "       width=\"24px\">\n",
              "    <path d=\"M0 0h24v24H0V0z\" fill=\"none\"/>\n",
              "    <path d=\"M18.56 5.44l.94 2.06.94-2.06 2.06-.94-2.06-.94-.94-2.06-.94 2.06-2.06.94zm-11 1L8.5 8.5l.94-2.06 2.06-.94-2.06-.94L8.5 2.5l-.94 2.06-2.06.94zm10 10l.94 2.06.94-2.06 2.06-.94-2.06-.94-.94-2.06-.94 2.06-2.06.94z\"/><path d=\"M17.41 7.96l-1.37-1.37c-.4-.4-.92-.59-1.43-.59-.52 0-1.04.2-1.43.59L10.3 9.45l-7.72 7.72c-.78.78-.78 2.05 0 2.83L4 21.41c.39.39.9.59 1.41.59.51 0 1.02-.2 1.41-.59l7.78-7.78 2.81-2.81c.8-.78.8-2.07 0-2.86zM5.41 20L4 18.59l7.72-7.72 1.47 1.35L5.41 20z\"/>\n",
              "  </svg>\n",
              "      </button>\n",
              "      \n",
              "  <style>\n",
              "    .colab-df-container {\n",
              "      display:flex;\n",
              "      flex-wrap:wrap;\n",
              "      gap: 12px;\n",
              "    }\n",
              "\n",
              "    .colab-df-convert {\n",
              "      background-color: #E8F0FE;\n",
              "      border: none;\n",
              "      border-radius: 50%;\n",
              "      cursor: pointer;\n",
              "      display: none;\n",
              "      fill: #1967D2;\n",
              "      height: 32px;\n",
              "      padding: 0 0 0 0;\n",
              "      width: 32px;\n",
              "    }\n",
              "\n",
              "    .colab-df-convert:hover {\n",
              "      background-color: #E2EBFA;\n",
              "      box-shadow: 0px 1px 2px rgba(60, 64, 67, 0.3), 0px 1px 3px 1px rgba(60, 64, 67, 0.15);\n",
              "      fill: #174EA6;\n",
              "    }\n",
              "\n",
              "    [theme=dark] .colab-df-convert {\n",
              "      background-color: #3B4455;\n",
              "      fill: #D2E3FC;\n",
              "    }\n",
              "\n",
              "    [theme=dark] .colab-df-convert:hover {\n",
              "      background-color: #434B5C;\n",
              "      box-shadow: 0px 1px 3px 1px rgba(0, 0, 0, 0.15);\n",
              "      filter: drop-shadow(0px 1px 2px rgba(0, 0, 0, 0.3));\n",
              "      fill: #FFFFFF;\n",
              "    }\n",
              "  </style>\n",
              "\n",
              "      <script>\n",
              "        const buttonEl =\n",
              "          document.querySelector('#df-3c570c85-0ab3-4005-b74f-6ed3e62ebdb6 button.colab-df-convert');\n",
              "        buttonEl.style.display =\n",
              "          google.colab.kernel.accessAllowed ? 'block' : 'none';\n",
              "\n",
              "        async function convertToInteractive(key) {\n",
              "          const element = document.querySelector('#df-3c570c85-0ab3-4005-b74f-6ed3e62ebdb6');\n",
              "          const dataTable =\n",
              "            await google.colab.kernel.invokeFunction('convertToInteractive',\n",
              "                                                     [key], {});\n",
              "          if (!dataTable) return;\n",
              "\n",
              "          const docLinkHtml = 'Like what you see? Visit the ' +\n",
              "            '<a target=\"_blank\" href=https://colab.research.google.com/notebooks/data_table.ipynb>data table notebook</a>'\n",
              "            + ' to learn more about interactive tables.';\n",
              "          element.innerHTML = '';\n",
              "          dataTable['output_type'] = 'display_data';\n",
              "          await google.colab.output.renderOutput(dataTable, element);\n",
              "          const docLink = document.createElement('div');\n",
              "          docLink.innerHTML = docLinkHtml;\n",
              "          element.appendChild(docLink);\n",
              "        }\n",
              "      </script>\n",
              "    </div>\n",
              "  </div>\n",
              "  "
            ],
            "text/plain": [
              "              count      mean       std  ...       50%       75%       max\n",
              "Cylinders     313.0  0.006157  0.998145  ... -0.864014  1.483947  1.483947\n",
              "Displacement  313.0  0.010579  0.992882  ... -0.415384  1.029447  2.493416\n",
              "Horsepower    313.0  0.003248  0.995880  ... -0.246329  0.638120  3.265452\n",
              "Weight        313.0  0.010067  0.991531  ... -0.144503  0.786752  2.549061\n",
              "Acceleration  313.0  0.001003  1.022691  ... -0.014999  0.638278  3.360262\n",
              "Model Year    313.0  0.061993  0.986709  ...  0.005547  0.820978  1.636410\n",
              "Europe        313.0 -0.053122  0.953132  ... -0.458123 -0.458123  2.182821\n",
              "Japan         313.0 -0.000630  1.001132  ... -0.502390 -0.502390  1.990484\n",
              "USA           313.0  0.042071  0.989765  ...  0.774597  0.774597  0.774597\n",
              "\n",
              "[9 rows x 8 columns]"
            ]
          },
          "metadata": {},
          "execution_count": 35
        }
      ]
    },
    {
      "cell_type": "code",
      "source": [
        "model_reg = keras.Sequential([\n",
        "              keras.layers.Dense(units=64, input_shape=(9,),activation='relu'),\n",
        "              keras.layers.Dense(units=64,activation='relu'),\n",
        "              keras.layers.Dense(units=1),\n",
        "])"
      ],
      "metadata": {
        "id": "9XpaPGmxECK8"
      },
      "execution_count": 36,
      "outputs": []
    },
    {
      "cell_type": "code",
      "source": [
        "model_reg.compile(optimizer='Adam', loss='mse',metrics=['mae'])"
      ],
      "metadata": {
        "id": "AgwV5wKbECH-"
      },
      "execution_count": 37,
      "outputs": []
    },
    {
      "cell_type": "code",
      "source": [
        "model_reg.summary()"
      ],
      "metadata": {
        "colab": {
          "base_uri": "https://localhost:8080/"
        },
        "id": "YnpiiTj7ECFO",
        "outputId": "b8814458-1fbc-43df-d835-701e38677fd5"
      },
      "execution_count": 38,
      "outputs": [
        {
          "output_type": "stream",
          "name": "stdout",
          "text": [
            "Model: \"sequential_1\"\n",
            "_________________________________________________________________\n",
            " Layer (type)                Output Shape              Param #   \n",
            "=================================================================\n",
            " dense_3 (Dense)             (None, 64)                640       \n",
            "                                                                 \n",
            " dense_4 (Dense)             (None, 64)                4160      \n",
            "                                                                 \n",
            " dense_5 (Dense)             (None, 1)                 65        \n",
            "                                                                 \n",
            "=================================================================\n",
            "Total params: 4,865\n",
            "Trainable params: 4,865\n",
            "Non-trainable params: 0\n",
            "_________________________________________________________________\n"
          ]
        }
      ]
    },
    {
      "cell_type": "code",
      "source": [
        "callbacks = [EarlyStopping(patience=10, monitor=\"val_loss\")]\n",
        "\n",
        "history = model_reg.fit(X_train, y_train, epochs=1000,batch_size=64,validation_split=0.2, verbose=1,callbacks=callbacks)"
      ],
      "metadata": {
        "colab": {
          "base_uri": "https://localhost:8080/"
        },
        "id": "gZarjyQcECCc",
        "outputId": "470f0c91-a215-47ac-b2b1-c8de8ae790ce"
      },
      "execution_count": 39,
      "outputs": [
        {
          "output_type": "stream",
          "name": "stdout",
          "text": [
            "Epoch 1/1000\n",
            "4/4 [==============================] - 0s 45ms/step - loss: 607.5824 - mae: 23.3316 - val_loss: 680.6684 - val_mae: 24.8943\n",
            "Epoch 2/1000\n",
            "4/4 [==============================] - 0s 9ms/step - loss: 590.7937 - mae: 22.9701 - val_loss: 662.8825 - val_mae: 24.5405\n",
            "Epoch 3/1000\n",
            "4/4 [==============================] - 0s 9ms/step - loss: 574.2831 - mae: 22.6120 - val_loss: 645.4338 - val_mae: 24.1894\n",
            "Epoch 4/1000\n",
            "4/4 [==============================] - 0s 9ms/step - loss: 557.3923 - mae: 22.2440 - val_loss: 627.5048 - val_mae: 23.8215\n",
            "Epoch 5/1000\n",
            "4/4 [==============================] - 0s 8ms/step - loss: 540.2394 - mae: 21.8566 - val_loss: 608.3176 - val_mae: 23.4192\n",
            "Epoch 6/1000\n",
            "4/4 [==============================] - 0s 8ms/step - loss: 521.4485 - mae: 21.4267 - val_loss: 587.2975 - val_mae: 22.9672\n",
            "Epoch 7/1000\n",
            "4/4 [==============================] - 0s 8ms/step - loss: 501.2540 - mae: 20.9431 - val_loss: 564.2226 - val_mae: 22.4607\n",
            "Epoch 8/1000\n",
            "4/4 [==============================] - 0s 9ms/step - loss: 478.5268 - mae: 20.3992 - val_loss: 539.0914 - val_mae: 21.8945\n",
            "Epoch 9/1000\n",
            "4/4 [==============================] - 0s 9ms/step - loss: 453.9601 - mae: 19.7869 - val_loss: 511.4213 - val_mae: 21.2536\n",
            "Epoch 10/1000\n",
            "4/4 [==============================] - 0s 15ms/step - loss: 426.9384 - mae: 19.0987 - val_loss: 480.8694 - val_mae: 20.5254\n",
            "Epoch 11/1000\n",
            "4/4 [==============================] - 0s 9ms/step - loss: 397.5046 - mae: 18.3097 - val_loss: 447.5938 - val_mae: 19.7055\n",
            "Epoch 12/1000\n",
            "4/4 [==============================] - 0s 9ms/step - loss: 365.9744 - mae: 17.4284 - val_loss: 411.6031 - val_mae: 18.7833\n",
            "Epoch 13/1000\n",
            "4/4 [==============================] - 0s 9ms/step - loss: 332.6736 - mae: 16.4495 - val_loss: 373.4665 - val_mae: 17.7566\n",
            "Epoch 14/1000\n",
            "4/4 [==============================] - 0s 8ms/step - loss: 296.9499 - mae: 15.4000 - val_loss: 333.6541 - val_mae: 16.6232\n",
            "Epoch 15/1000\n",
            "4/4 [==============================] - 0s 9ms/step - loss: 261.6993 - mae: 14.2990 - val_loss: 292.5019 - val_mae: 15.4317\n",
            "Epoch 16/1000\n",
            "4/4 [==============================] - 0s 9ms/step - loss: 224.2681 - mae: 13.1653 - val_loss: 251.8040 - val_mae: 14.2528\n",
            "Epoch 17/1000\n",
            "4/4 [==============================] - 0s 8ms/step - loss: 188.5740 - mae: 11.9995 - val_loss: 212.1915 - val_mae: 13.0173\n",
            "Epoch 18/1000\n",
            "4/4 [==============================] - 0s 8ms/step - loss: 155.6944 - mae: 10.8826 - val_loss: 174.3278 - val_mae: 11.7351\n",
            "Epoch 19/1000\n",
            "4/4 [==============================] - 0s 9ms/step - loss: 124.7075 - mae: 9.7226 - val_loss: 139.7406 - val_mae: 10.4102\n",
            "Epoch 20/1000\n",
            "4/4 [==============================] - 0s 9ms/step - loss: 98.2055 - mae: 8.6050 - val_loss: 109.2132 - val_mae: 9.1184\n",
            "Epoch 21/1000\n",
            "4/4 [==============================] - 0s 9ms/step - loss: 75.2730 - mae: 7.4739 - val_loss: 83.8981 - val_mae: 7.8689\n",
            "Epoch 22/1000\n",
            "4/4 [==============================] - 0s 8ms/step - loss: 57.3360 - mae: 6.4069 - val_loss: 64.2872 - val_mae: 6.7184\n",
            "Epoch 23/1000\n",
            "4/4 [==============================] - 0s 9ms/step - loss: 43.7120 - mae: 5.4735 - val_loss: 50.4184 - val_mae: 5.7996\n",
            "Epoch 24/1000\n",
            "4/4 [==============================] - 0s 8ms/step - loss: 35.2978 - mae: 4.7870 - val_loss: 41.3467 - val_mae: 5.1389\n",
            "Epoch 25/1000\n",
            "4/4 [==============================] - 0s 15ms/step - loss: 30.5431 - mae: 4.3993 - val_loss: 35.9289 - val_mae: 4.7811\n",
            "Epoch 26/1000\n",
            "4/4 [==============================] - 0s 9ms/step - loss: 27.8891 - mae: 4.1402 - val_loss: 32.7221 - val_mae: 4.5644\n",
            "Epoch 27/1000\n",
            "4/4 [==============================] - 0s 9ms/step - loss: 26.4621 - mae: 4.0451 - val_loss: 30.5474 - val_mae: 4.3969\n",
            "Epoch 28/1000\n",
            "4/4 [==============================] - 0s 8ms/step - loss: 25.2385 - mae: 3.9703 - val_loss: 28.7780 - val_mae: 4.2599\n",
            "Epoch 29/1000\n",
            "4/4 [==============================] - 0s 10ms/step - loss: 24.0919 - mae: 3.8817 - val_loss: 27.1626 - val_mae: 4.1290\n",
            "Epoch 30/1000\n",
            "4/4 [==============================] - 0s 9ms/step - loss: 22.7927 - mae: 3.7691 - val_loss: 25.6860 - val_mae: 4.0010\n",
            "Epoch 31/1000\n",
            "4/4 [==============================] - 0s 10ms/step - loss: 21.5366 - mae: 3.6474 - val_loss: 24.4120 - val_mae: 3.8902\n",
            "Epoch 32/1000\n",
            "4/4 [==============================] - 0s 9ms/step - loss: 20.4156 - mae: 3.5482 - val_loss: 23.3635 - val_mae: 3.7903\n",
            "Epoch 33/1000\n",
            "4/4 [==============================] - 0s 8ms/step - loss: 19.4251 - mae: 3.4579 - val_loss: 22.4791 - val_mae: 3.6950\n",
            "Epoch 34/1000\n",
            "4/4 [==============================] - 0s 9ms/step - loss: 18.6224 - mae: 3.3867 - val_loss: 21.7090 - val_mae: 3.6116\n",
            "Epoch 35/1000\n",
            "4/4 [==============================] - 0s 9ms/step - loss: 18.0134 - mae: 3.3343 - val_loss: 20.9586 - val_mae: 3.5513\n",
            "Epoch 36/1000\n",
            "4/4 [==============================] - 0s 12ms/step - loss: 17.4583 - mae: 3.2859 - val_loss: 20.2253 - val_mae: 3.4860\n",
            "Epoch 37/1000\n",
            "4/4 [==============================] - 0s 9ms/step - loss: 16.9517 - mae: 3.2349 - val_loss: 19.5661 - val_mae: 3.4244\n",
            "Epoch 38/1000\n",
            "4/4 [==============================] - 0s 9ms/step - loss: 16.4915 - mae: 3.1899 - val_loss: 18.8784 - val_mae: 3.3538\n",
            "Epoch 39/1000\n",
            "4/4 [==============================] - 0s 9ms/step - loss: 16.0469 - mae: 3.1425 - val_loss: 18.2386 - val_mae: 3.2844\n",
            "Epoch 40/1000\n",
            "4/4 [==============================] - 0s 9ms/step - loss: 15.6300 - mae: 3.1054 - val_loss: 17.5973 - val_mae: 3.2117\n",
            "Epoch 41/1000\n",
            "4/4 [==============================] - 0s 9ms/step - loss: 15.2455 - mae: 3.0640 - val_loss: 17.0255 - val_mae: 3.1463\n",
            "Epoch 42/1000\n",
            "4/4 [==============================] - 0s 9ms/step - loss: 14.8942 - mae: 3.0288 - val_loss: 16.4504 - val_mae: 3.0861\n",
            "Epoch 43/1000\n",
            "4/4 [==============================] - 0s 15ms/step - loss: 14.5580 - mae: 2.9920 - val_loss: 15.9176 - val_mae: 3.0296\n",
            "Epoch 44/1000\n",
            "4/4 [==============================] - 0s 9ms/step - loss: 14.2306 - mae: 2.9574 - val_loss: 15.4416 - val_mae: 2.9759\n",
            "Epoch 45/1000\n",
            "4/4 [==============================] - 0s 8ms/step - loss: 13.9357 - mae: 2.9270 - val_loss: 15.0052 - val_mae: 2.9262\n",
            "Epoch 46/1000\n",
            "4/4 [==============================] - 0s 9ms/step - loss: 13.6621 - mae: 2.8971 - val_loss: 14.6147 - val_mae: 2.8823\n",
            "Epoch 47/1000\n",
            "4/4 [==============================] - 0s 8ms/step - loss: 13.3939 - mae: 2.8657 - val_loss: 14.2225 - val_mae: 2.8369\n",
            "Epoch 48/1000\n",
            "4/4 [==============================] - 0s 13ms/step - loss: 13.1319 - mae: 2.8363 - val_loss: 13.9011 - val_mae: 2.8001\n",
            "Epoch 49/1000\n",
            "4/4 [==============================] - 0s 9ms/step - loss: 12.8857 - mae: 2.8088 - val_loss: 13.5723 - val_mae: 2.7607\n",
            "Epoch 50/1000\n",
            "4/4 [==============================] - 0s 9ms/step - loss: 12.6880 - mae: 2.7841 - val_loss: 13.2492 - val_mae: 2.7211\n",
            "Epoch 51/1000\n",
            "4/4 [==============================] - 0s 10ms/step - loss: 12.4657 - mae: 2.7560 - val_loss: 12.9245 - val_mae: 2.6798\n",
            "Epoch 52/1000\n",
            "4/4 [==============================] - 0s 9ms/step - loss: 12.2502 - mae: 2.7299 - val_loss: 12.6191 - val_mae: 2.6396\n",
            "Epoch 53/1000\n",
            "4/4 [==============================] - 0s 10ms/step - loss: 12.0735 - mae: 2.7041 - val_loss: 12.3566 - val_mae: 2.6050\n",
            "Epoch 54/1000\n",
            "4/4 [==============================] - 0s 9ms/step - loss: 11.8610 - mae: 2.6784 - val_loss: 12.1119 - val_mae: 2.5714\n",
            "Epoch 55/1000\n",
            "4/4 [==============================] - 0s 9ms/step - loss: 11.6958 - mae: 2.6540 - val_loss: 11.8678 - val_mae: 2.5369\n",
            "Epoch 56/1000\n",
            "4/4 [==============================] - 0s 9ms/step - loss: 11.5270 - mae: 2.6317 - val_loss: 11.6207 - val_mae: 2.5015\n",
            "Epoch 57/1000\n",
            "4/4 [==============================] - 0s 10ms/step - loss: 11.3809 - mae: 2.6113 - val_loss: 11.3913 - val_mae: 2.4678\n",
            "Epoch 58/1000\n",
            "4/4 [==============================] - 0s 11ms/step - loss: 11.2227 - mae: 2.5914 - val_loss: 11.2020 - val_mae: 2.4413\n",
            "Epoch 59/1000\n",
            "4/4 [==============================] - 0s 10ms/step - loss: 11.0750 - mae: 2.5708 - val_loss: 11.0046 - val_mae: 2.4130\n",
            "Epoch 60/1000\n",
            "4/4 [==============================] - 0s 8ms/step - loss: 10.9358 - mae: 2.5493 - val_loss: 10.8211 - val_mae: 2.3859\n",
            "Epoch 61/1000\n",
            "4/4 [==============================] - 0s 8ms/step - loss: 10.8136 - mae: 2.5281 - val_loss: 10.7085 - val_mae: 2.3720\n",
            "Epoch 62/1000\n",
            "4/4 [==============================] - 0s 9ms/step - loss: 10.6762 - mae: 2.5078 - val_loss: 10.5474 - val_mae: 2.3486\n",
            "Epoch 63/1000\n",
            "4/4 [==============================] - 0s 16ms/step - loss: 10.5467 - mae: 2.4879 - val_loss: 10.4080 - val_mae: 2.3283\n",
            "Epoch 64/1000\n",
            "4/4 [==============================] - 0s 9ms/step - loss: 10.4356 - mae: 2.4698 - val_loss: 10.2734 - val_mae: 2.3091\n",
            "Epoch 65/1000\n",
            "4/4 [==============================] - 0s 9ms/step - loss: 10.3189 - mae: 2.4522 - val_loss: 10.1473 - val_mae: 2.2887\n",
            "Epoch 66/1000\n",
            "4/4 [==============================] - 0s 15ms/step - loss: 10.2127 - mae: 2.4345 - val_loss: 10.0067 - val_mae: 2.2684\n",
            "Epoch 67/1000\n",
            "4/4 [==============================] - 0s 10ms/step - loss: 10.1186 - mae: 2.4199 - val_loss: 9.8568 - val_mae: 2.2476\n",
            "Epoch 68/1000\n",
            "4/4 [==============================] - 0s 9ms/step - loss: 10.0132 - mae: 2.4039 - val_loss: 9.7391 - val_mae: 2.2314\n",
            "Epoch 69/1000\n",
            "4/4 [==============================] - 0s 10ms/step - loss: 9.9245 - mae: 2.3901 - val_loss: 9.6365 - val_mae: 2.2183\n",
            "Epoch 70/1000\n",
            "4/4 [==============================] - 0s 9ms/step - loss: 9.8334 - mae: 2.3752 - val_loss: 9.5393 - val_mae: 2.2014\n",
            "Epoch 71/1000\n",
            "4/4 [==============================] - 0s 8ms/step - loss: 9.7462 - mae: 2.3593 - val_loss: 9.4499 - val_mae: 2.1895\n",
            "Epoch 72/1000\n",
            "4/4 [==============================] - 0s 9ms/step - loss: 9.6561 - mae: 2.3441 - val_loss: 9.3438 - val_mae: 2.1765\n",
            "Epoch 73/1000\n",
            "4/4 [==============================] - 0s 10ms/step - loss: 9.5809 - mae: 2.3309 - val_loss: 9.2517 - val_mae: 2.1661\n",
            "Epoch 74/1000\n",
            "4/4 [==============================] - 0s 9ms/step - loss: 9.5137 - mae: 2.3224 - val_loss: 9.1707 - val_mae: 2.1556\n",
            "Epoch 75/1000\n",
            "4/4 [==============================] - 0s 12ms/step - loss: 9.4340 - mae: 2.3108 - val_loss: 9.0774 - val_mae: 2.1433\n",
            "Epoch 76/1000\n",
            "4/4 [==============================] - 0s 11ms/step - loss: 9.3517 - mae: 2.2948 - val_loss: 8.9969 - val_mae: 2.1271\n",
            "Epoch 77/1000\n",
            "4/4 [==============================] - 0s 10ms/step - loss: 9.2799 - mae: 2.2788 - val_loss: 8.9211 - val_mae: 2.1135\n",
            "Epoch 78/1000\n",
            "4/4 [==============================] - 0s 10ms/step - loss: 9.2162 - mae: 2.2666 - val_loss: 8.8492 - val_mae: 2.1011\n",
            "Epoch 79/1000\n",
            "4/4 [==============================] - 0s 9ms/step - loss: 9.1387 - mae: 2.2536 - val_loss: 8.7798 - val_mae: 2.0908\n",
            "Epoch 80/1000\n",
            "4/4 [==============================] - 0s 15ms/step - loss: 9.0865 - mae: 2.2443 - val_loss: 8.6989 - val_mae: 2.0828\n",
            "Epoch 81/1000\n",
            "4/4 [==============================] - 0s 13ms/step - loss: 9.0120 - mae: 2.2334 - val_loss: 8.6503 - val_mae: 2.0743\n",
            "Epoch 82/1000\n",
            "4/4 [==============================] - 0s 9ms/step - loss: 8.9631 - mae: 2.2232 - val_loss: 8.6239 - val_mae: 2.0715\n",
            "Epoch 83/1000\n",
            "4/4 [==============================] - 0s 10ms/step - loss: 8.8942 - mae: 2.2121 - val_loss: 8.5433 - val_mae: 2.0605\n",
            "Epoch 84/1000\n",
            "4/4 [==============================] - 0s 9ms/step - loss: 8.8329 - mae: 2.2014 - val_loss: 8.4905 - val_mae: 2.0519\n",
            "Epoch 85/1000\n",
            "4/4 [==============================] - 0s 9ms/step - loss: 8.7783 - mae: 2.1930 - val_loss: 8.4150 - val_mae: 2.0410\n",
            "Epoch 86/1000\n",
            "4/4 [==============================] - 0s 9ms/step - loss: 8.7357 - mae: 2.1852 - val_loss: 8.3347 - val_mae: 2.0278\n",
            "Epoch 87/1000\n",
            "4/4 [==============================] - 0s 9ms/step - loss: 8.6804 - mae: 2.1761 - val_loss: 8.2766 - val_mae: 2.0228\n",
            "Epoch 88/1000\n",
            "4/4 [==============================] - 0s 9ms/step - loss: 8.6348 - mae: 2.1686 - val_loss: 8.2618 - val_mae: 2.0187\n",
            "Epoch 89/1000\n",
            "4/4 [==============================] - 0s 15ms/step - loss: 8.5878 - mae: 2.1601 - val_loss: 8.1735 - val_mae: 2.0099\n",
            "Epoch 90/1000\n",
            "4/4 [==============================] - 0s 9ms/step - loss: 8.5318 - mae: 2.1527 - val_loss: 8.1377 - val_mae: 2.0041\n",
            "Epoch 91/1000\n",
            "4/4 [==============================] - 0s 9ms/step - loss: 8.4903 - mae: 2.1460 - val_loss: 8.0879 - val_mae: 1.9931\n",
            "Epoch 92/1000\n",
            "4/4 [==============================] - 0s 9ms/step - loss: 8.4597 - mae: 2.1385 - val_loss: 8.1066 - val_mae: 1.9968\n",
            "Epoch 93/1000\n",
            "4/4 [==============================] - 0s 10ms/step - loss: 8.4069 - mae: 2.1299 - val_loss: 8.0533 - val_mae: 1.9865\n",
            "Epoch 94/1000\n",
            "4/4 [==============================] - 0s 9ms/step - loss: 8.3614 - mae: 2.1235 - val_loss: 8.0240 - val_mae: 1.9838\n",
            "Epoch 95/1000\n",
            "4/4 [==============================] - 0s 9ms/step - loss: 8.3221 - mae: 2.1178 - val_loss: 7.9794 - val_mae: 1.9801\n",
            "Epoch 96/1000\n",
            "4/4 [==============================] - 0s 9ms/step - loss: 8.2894 - mae: 2.1134 - val_loss: 7.9483 - val_mae: 1.9756\n",
            "Epoch 97/1000\n",
            "4/4 [==============================] - 0s 10ms/step - loss: 8.2539 - mae: 2.1081 - val_loss: 7.9336 - val_mae: 1.9732\n",
            "Epoch 98/1000\n",
            "4/4 [==============================] - 0s 10ms/step - loss: 8.2190 - mae: 2.1039 - val_loss: 7.8425 - val_mae: 1.9620\n",
            "Epoch 99/1000\n",
            "4/4 [==============================] - 0s 9ms/step - loss: 8.1738 - mae: 2.0954 - val_loss: 7.7984 - val_mae: 1.9592\n",
            "Epoch 100/1000\n",
            "4/4 [==============================] - 0s 9ms/step - loss: 8.1378 - mae: 2.0903 - val_loss: 7.7893 - val_mae: 1.9565\n",
            "Epoch 101/1000\n",
            "4/4 [==============================] - 0s 10ms/step - loss: 8.1127 - mae: 2.0835 - val_loss: 7.7652 - val_mae: 1.9552\n",
            "Epoch 102/1000\n",
            "4/4 [==============================] - 0s 10ms/step - loss: 8.0794 - mae: 2.0799 - val_loss: 7.7879 - val_mae: 1.9548\n",
            "Epoch 103/1000\n",
            "4/4 [==============================] - 0s 10ms/step - loss: 8.0406 - mae: 2.0751 - val_loss: 7.7568 - val_mae: 1.9496\n",
            "Epoch 104/1000\n",
            "4/4 [==============================] - 0s 10ms/step - loss: 8.0088 - mae: 2.0715 - val_loss: 7.7543 - val_mae: 1.9498\n",
            "Epoch 105/1000\n",
            "4/4 [==============================] - 0s 10ms/step - loss: 7.9767 - mae: 2.0675 - val_loss: 7.7172 - val_mae: 1.9451\n",
            "Epoch 106/1000\n",
            "4/4 [==============================] - 0s 9ms/step - loss: 7.9550 - mae: 2.0631 - val_loss: 7.6816 - val_mae: 1.9403\n",
            "Epoch 107/1000\n",
            "4/4 [==============================] - 0s 11ms/step - loss: 7.9351 - mae: 2.0584 - val_loss: 7.6185 - val_mae: 1.9345\n",
            "Epoch 108/1000\n",
            "4/4 [==============================] - 0s 10ms/step - loss: 7.8935 - mae: 2.0517 - val_loss: 7.6327 - val_mae: 1.9365\n",
            "Epoch 109/1000\n",
            "4/4 [==============================] - 0s 9ms/step - loss: 7.8686 - mae: 2.0476 - val_loss: 7.6295 - val_mae: 1.9375\n",
            "Epoch 110/1000\n",
            "4/4 [==============================] - 0s 9ms/step - loss: 7.8563 - mae: 2.0433 - val_loss: 7.6527 - val_mae: 1.9413\n",
            "Epoch 111/1000\n",
            "4/4 [==============================] - 0s 9ms/step - loss: 7.8142 - mae: 2.0405 - val_loss: 7.5904 - val_mae: 1.9327\n",
            "Epoch 112/1000\n",
            "4/4 [==============================] - 0s 9ms/step - loss: 7.7941 - mae: 2.0373 - val_loss: 7.5284 - val_mae: 1.9270\n",
            "Epoch 113/1000\n",
            "4/4 [==============================] - 0s 9ms/step - loss: 7.7671 - mae: 2.0345 - val_loss: 7.4934 - val_mae: 1.9242\n",
            "Epoch 114/1000\n",
            "4/4 [==============================] - 0s 10ms/step - loss: 7.7499 - mae: 2.0304 - val_loss: 7.4524 - val_mae: 1.9202\n",
            "Epoch 115/1000\n",
            "4/4 [==============================] - 0s 9ms/step - loss: 7.7206 - mae: 2.0241 - val_loss: 7.4671 - val_mae: 1.9227\n",
            "Epoch 116/1000\n",
            "4/4 [==============================] - 0s 9ms/step - loss: 7.7118 - mae: 2.0215 - val_loss: 7.5195 - val_mae: 1.9282\n",
            "Epoch 117/1000\n",
            "4/4 [==============================] - 0s 9ms/step - loss: 7.6739 - mae: 2.0172 - val_loss: 7.5259 - val_mae: 1.9296\n",
            "Epoch 118/1000\n",
            "4/4 [==============================] - 0s 9ms/step - loss: 7.6533 - mae: 2.0124 - val_loss: 7.4915 - val_mae: 1.9258\n",
            "Epoch 119/1000\n",
            "4/4 [==============================] - 0s 8ms/step - loss: 7.6370 - mae: 2.0115 - val_loss: 7.4844 - val_mae: 1.9257\n",
            "Epoch 120/1000\n",
            "4/4 [==============================] - 0s 9ms/step - loss: 7.6060 - mae: 2.0070 - val_loss: 7.4417 - val_mae: 1.9215\n",
            "Epoch 121/1000\n",
            "4/4 [==============================] - 0s 9ms/step - loss: 7.5919 - mae: 2.0041 - val_loss: 7.3956 - val_mae: 1.9185\n",
            "Epoch 122/1000\n",
            "4/4 [==============================] - 0s 9ms/step - loss: 7.5649 - mae: 1.9959 - val_loss: 7.3956 - val_mae: 1.9197\n",
            "Epoch 123/1000\n",
            "4/4 [==============================] - 0s 9ms/step - loss: 7.5472 - mae: 1.9931 - val_loss: 7.3955 - val_mae: 1.9199\n",
            "Epoch 124/1000\n",
            "4/4 [==============================] - 0s 10ms/step - loss: 7.5294 - mae: 1.9899 - val_loss: 7.3851 - val_mae: 1.9194\n",
            "Epoch 125/1000\n",
            "4/4 [==============================] - 0s 9ms/step - loss: 7.4965 - mae: 1.9864 - val_loss: 7.3397 - val_mae: 1.9140\n",
            "Epoch 126/1000\n",
            "4/4 [==============================] - 0s 9ms/step - loss: 7.4819 - mae: 1.9872 - val_loss: 7.2906 - val_mae: 1.9086\n",
            "Epoch 127/1000\n",
            "4/4 [==============================] - 0s 10ms/step - loss: 7.4605 - mae: 1.9838 - val_loss: 7.2709 - val_mae: 1.9075\n",
            "Epoch 128/1000\n",
            "4/4 [==============================] - 0s 9ms/step - loss: 7.4448 - mae: 1.9800 - val_loss: 7.2373 - val_mae: 1.9070\n",
            "Epoch 129/1000\n",
            "4/4 [==============================] - 0s 9ms/step - loss: 7.4233 - mae: 1.9735 - val_loss: 7.2512 - val_mae: 1.9097\n",
            "Epoch 130/1000\n",
            "4/4 [==============================] - 0s 9ms/step - loss: 7.4017 - mae: 1.9677 - val_loss: 7.2996 - val_mae: 1.9161\n",
            "Epoch 131/1000\n",
            "4/4 [==============================] - 0s 9ms/step - loss: 7.3858 - mae: 1.9639 - val_loss: 7.3441 - val_mae: 1.9216\n",
            "Epoch 132/1000\n",
            "4/4 [==============================] - 0s 10ms/step - loss: 7.3620 - mae: 1.9602 - val_loss: 7.3235 - val_mae: 1.9197\n",
            "Epoch 133/1000\n",
            "4/4 [==============================] - 0s 9ms/step - loss: 7.3508 - mae: 1.9582 - val_loss: 7.2866 - val_mae: 1.9173\n",
            "Epoch 134/1000\n",
            "4/4 [==============================] - 0s 10ms/step - loss: 7.3395 - mae: 1.9583 - val_loss: 7.2434 - val_mae: 1.9122\n",
            "Epoch 135/1000\n",
            "4/4 [==============================] - 0s 9ms/step - loss: 7.3099 - mae: 1.9552 - val_loss: 7.2181 - val_mae: 1.9106\n",
            "Epoch 136/1000\n",
            "4/4 [==============================] - 0s 9ms/step - loss: 7.3055 - mae: 1.9535 - val_loss: 7.2432 - val_mae: 1.9139\n",
            "Epoch 137/1000\n",
            "4/4 [==============================] - 0s 9ms/step - loss: 7.2781 - mae: 1.9487 - val_loss: 7.2341 - val_mae: 1.9147\n",
            "Epoch 138/1000\n",
            "4/4 [==============================] - 0s 9ms/step - loss: 7.2633 - mae: 1.9442 - val_loss: 7.2145 - val_mae: 1.9143\n",
            "Epoch 139/1000\n",
            "4/4 [==============================] - 0s 9ms/step - loss: 7.2507 - mae: 1.9415 - val_loss: 7.2575 - val_mae: 1.9174\n",
            "Epoch 140/1000\n",
            "4/4 [==============================] - 0s 9ms/step - loss: 7.2430 - mae: 1.9390 - val_loss: 7.1840 - val_mae: 1.9114\n",
            "Epoch 141/1000\n",
            "4/4 [==============================] - 0s 9ms/step - loss: 7.2173 - mae: 1.9364 - val_loss: 7.2238 - val_mae: 1.9134\n",
            "Epoch 142/1000\n",
            "4/4 [==============================] - 0s 9ms/step - loss: 7.2032 - mae: 1.9356 - val_loss: 7.1854 - val_mae: 1.9111\n",
            "Epoch 143/1000\n",
            "4/4 [==============================] - 0s 9ms/step - loss: 7.1819 - mae: 1.9301 - val_loss: 7.1733 - val_mae: 1.9121\n",
            "Epoch 144/1000\n",
            "4/4 [==============================] - 0s 9ms/step - loss: 7.1617 - mae: 1.9251 - val_loss: 7.1522 - val_mae: 1.9111\n",
            "Epoch 145/1000\n",
            "4/4 [==============================] - 0s 10ms/step - loss: 7.1434 - mae: 1.9209 - val_loss: 7.1633 - val_mae: 1.9127\n",
            "Epoch 146/1000\n",
            "4/4 [==============================] - 0s 9ms/step - loss: 7.1291 - mae: 1.9188 - val_loss: 7.1382 - val_mae: 1.9099\n",
            "Epoch 147/1000\n",
            "4/4 [==============================] - 0s 9ms/step - loss: 7.1172 - mae: 1.9161 - val_loss: 7.1433 - val_mae: 1.9102\n",
            "Epoch 148/1000\n",
            "4/4 [==============================] - 0s 9ms/step - loss: 7.1000 - mae: 1.9149 - val_loss: 7.1229 - val_mae: 1.9073\n",
            "Epoch 149/1000\n",
            "4/4 [==============================] - 0s 13ms/step - loss: 7.1034 - mae: 1.9152 - val_loss: 7.0458 - val_mae: 1.9011\n",
            "Epoch 150/1000\n",
            "4/4 [==============================] - 0s 9ms/step - loss: 7.0787 - mae: 1.9124 - val_loss: 7.0611 - val_mae: 1.9031\n",
            "Epoch 151/1000\n",
            "4/4 [==============================] - 0s 10ms/step - loss: 7.0588 - mae: 1.9097 - val_loss: 7.0436 - val_mae: 1.9021\n",
            "Epoch 152/1000\n",
            "4/4 [==============================] - 0s 9ms/step - loss: 7.0435 - mae: 1.9067 - val_loss: 7.0605 - val_mae: 1.9040\n",
            "Epoch 153/1000\n",
            "4/4 [==============================] - 0s 11ms/step - loss: 7.0341 - mae: 1.9047 - val_loss: 7.0973 - val_mae: 1.9069\n",
            "Epoch 154/1000\n",
            "4/4 [==============================] - 0s 9ms/step - loss: 7.0186 - mae: 1.9033 - val_loss: 7.0960 - val_mae: 1.9078\n",
            "Epoch 155/1000\n",
            "4/4 [==============================] - 0s 10ms/step - loss: 7.0061 - mae: 1.9007 - val_loss: 7.0756 - val_mae: 1.9060\n",
            "Epoch 156/1000\n",
            "4/4 [==============================] - 0s 16ms/step - loss: 7.0024 - mae: 1.9004 - val_loss: 7.0111 - val_mae: 1.9015\n",
            "Epoch 157/1000\n",
            "4/4 [==============================] - 0s 9ms/step - loss: 6.9815 - mae: 1.8979 - val_loss: 7.0121 - val_mae: 1.9020\n",
            "Epoch 158/1000\n",
            "4/4 [==============================] - 0s 9ms/step - loss: 6.9662 - mae: 1.8959 - val_loss: 7.0027 - val_mae: 1.9030\n",
            "Epoch 159/1000\n",
            "4/4 [==============================] - 0s 9ms/step - loss: 6.9584 - mae: 1.8950 - val_loss: 6.9906 - val_mae: 1.9019\n",
            "Epoch 160/1000\n",
            "4/4 [==============================] - 0s 9ms/step - loss: 6.9567 - mae: 1.8938 - val_loss: 7.0346 - val_mae: 1.9079\n",
            "Epoch 161/1000\n",
            "4/4 [==============================] - 0s 11ms/step - loss: 6.9363 - mae: 1.8913 - val_loss: 6.9574 - val_mae: 1.8992\n",
            "Epoch 162/1000\n",
            "4/4 [==============================] - 0s 15ms/step - loss: 6.9231 - mae: 1.8887 - val_loss: 6.9549 - val_mae: 1.8968\n",
            "Epoch 163/1000\n",
            "4/4 [==============================] - 0s 10ms/step - loss: 6.9275 - mae: 1.8897 - val_loss: 6.9803 - val_mae: 1.8995\n",
            "Epoch 164/1000\n",
            "4/4 [==============================] - 0s 9ms/step - loss: 6.8998 - mae: 1.8846 - val_loss: 6.8984 - val_mae: 1.8932\n",
            "Epoch 165/1000\n",
            "4/4 [==============================] - 0s 9ms/step - loss: 6.8890 - mae: 1.8841 - val_loss: 6.8795 - val_mae: 1.8936\n",
            "Epoch 166/1000\n",
            "4/4 [==============================] - 0s 9ms/step - loss: 6.8796 - mae: 1.8826 - val_loss: 6.8653 - val_mae: 1.8931\n",
            "Epoch 167/1000\n",
            "4/4 [==============================] - 0s 9ms/step - loss: 6.8651 - mae: 1.8813 - val_loss: 6.9170 - val_mae: 1.8983\n",
            "Epoch 168/1000\n",
            "4/4 [==============================] - 0s 9ms/step - loss: 6.8696 - mae: 1.8827 - val_loss: 6.9891 - val_mae: 1.9090\n",
            "Epoch 169/1000\n",
            "4/4 [==============================] - 0s 9ms/step - loss: 6.8661 - mae: 1.8813 - val_loss: 6.8790 - val_mae: 1.8959\n",
            "Epoch 170/1000\n",
            "4/4 [==============================] - 0s 15ms/step - loss: 6.8287 - mae: 1.8764 - val_loss: 6.9056 - val_mae: 1.8993\n",
            "Epoch 171/1000\n",
            "4/4 [==============================] - 0s 9ms/step - loss: 6.8240 - mae: 1.8753 - val_loss: 6.8532 - val_mae: 1.8935\n",
            "Epoch 172/1000\n",
            "4/4 [==============================] - 0s 10ms/step - loss: 6.8118 - mae: 1.8740 - val_loss: 6.8983 - val_mae: 1.9013\n",
            "Epoch 173/1000\n",
            "4/4 [==============================] - 0s 9ms/step - loss: 6.7997 - mae: 1.8726 - val_loss: 6.8704 - val_mae: 1.8976\n",
            "Epoch 174/1000\n",
            "4/4 [==============================] - 0s 9ms/step - loss: 6.7943 - mae: 1.8719 - val_loss: 6.8956 - val_mae: 1.9011\n",
            "Epoch 175/1000\n",
            "4/4 [==============================] - 0s 9ms/step - loss: 6.7830 - mae: 1.8688 - val_loss: 6.8376 - val_mae: 1.8940\n",
            "Epoch 176/1000\n",
            "4/4 [==============================] - 0s 10ms/step - loss: 6.7709 - mae: 1.8682 - val_loss: 6.8382 - val_mae: 1.8973\n",
            "Epoch 177/1000\n",
            "4/4 [==============================] - 0s 10ms/step - loss: 6.7599 - mae: 1.8661 - val_loss: 6.8057 - val_mae: 1.8920\n",
            "Epoch 178/1000\n",
            "4/4 [==============================] - 0s 10ms/step - loss: 6.7522 - mae: 1.8643 - val_loss: 6.7984 - val_mae: 1.8915\n",
            "Epoch 179/1000\n",
            "4/4 [==============================] - 0s 9ms/step - loss: 6.7441 - mae: 1.8634 - val_loss: 6.8368 - val_mae: 1.8971\n",
            "Epoch 180/1000\n",
            "4/4 [==============================] - 0s 9ms/step - loss: 6.7322 - mae: 1.8605 - val_loss: 6.8063 - val_mae: 1.8929\n",
            "Epoch 181/1000\n",
            "4/4 [==============================] - 0s 9ms/step - loss: 6.7169 - mae: 1.8590 - val_loss: 6.7916 - val_mae: 1.8929\n",
            "Epoch 182/1000\n",
            "4/4 [==============================] - 0s 10ms/step - loss: 6.7082 - mae: 1.8572 - val_loss: 6.8049 - val_mae: 1.8952\n",
            "Epoch 183/1000\n",
            "4/4 [==============================] - 0s 10ms/step - loss: 6.7073 - mae: 1.8572 - val_loss: 6.8374 - val_mae: 1.9010\n",
            "Epoch 184/1000\n",
            "4/4 [==============================] - 0s 15ms/step - loss: 6.6868 - mae: 1.8546 - val_loss: 6.7678 - val_mae: 1.8929\n",
            "Epoch 185/1000\n",
            "4/4 [==============================] - 0s 10ms/step - loss: 6.6913 - mae: 1.8536 - val_loss: 6.6905 - val_mae: 1.8839\n",
            "Epoch 186/1000\n",
            "4/4 [==============================] - 0s 10ms/step - loss: 6.6785 - mae: 1.8541 - val_loss: 6.6941 - val_mae: 1.8844\n",
            "Epoch 187/1000\n",
            "4/4 [==============================] - 0s 9ms/step - loss: 6.6634 - mae: 1.8501 - val_loss: 6.7462 - val_mae: 1.8906\n",
            "Epoch 188/1000\n",
            "4/4 [==============================] - 0s 9ms/step - loss: 6.6485 - mae: 1.8480 - val_loss: 6.7462 - val_mae: 1.8911\n",
            "Epoch 189/1000\n",
            "4/4 [==============================] - 0s 9ms/step - loss: 6.6340 - mae: 1.8473 - val_loss: 6.7358 - val_mae: 1.8925\n",
            "Epoch 190/1000\n",
            "4/4 [==============================] - 0s 9ms/step - loss: 6.6274 - mae: 1.8451 - val_loss: 6.7083 - val_mae: 1.8911\n",
            "Epoch 191/1000\n",
            "4/4 [==============================] - 0s 10ms/step - loss: 6.6184 - mae: 1.8445 - val_loss: 6.7435 - val_mae: 1.8958\n",
            "Epoch 192/1000\n",
            "4/4 [==============================] - 0s 11ms/step - loss: 6.6107 - mae: 1.8420 - val_loss: 6.7571 - val_mae: 1.8965\n",
            "Epoch 193/1000\n",
            "4/4 [==============================] - 0s 10ms/step - loss: 6.5982 - mae: 1.8398 - val_loss: 6.7410 - val_mae: 1.8930\n",
            "Epoch 194/1000\n",
            "4/4 [==============================] - 0s 10ms/step - loss: 6.5841 - mae: 1.8378 - val_loss: 6.6747 - val_mae: 1.8831\n",
            "Epoch 195/1000\n",
            "4/4 [==============================] - 0s 9ms/step - loss: 6.5764 - mae: 1.8371 - val_loss: 6.6055 - val_mae: 1.8754\n",
            "Epoch 196/1000\n",
            "4/4 [==============================] - 0s 9ms/step - loss: 6.5770 - mae: 1.8370 - val_loss: 6.6024 - val_mae: 1.8760\n",
            "Epoch 197/1000\n",
            "4/4 [==============================] - 0s 9ms/step - loss: 6.5677 - mae: 1.8364 - val_loss: 6.6386 - val_mae: 1.8832\n",
            "Epoch 198/1000\n",
            "4/4 [==============================] - 0s 10ms/step - loss: 6.5524 - mae: 1.8334 - val_loss: 6.6325 - val_mae: 1.8842\n",
            "Epoch 199/1000\n",
            "4/4 [==============================] - 0s 9ms/step - loss: 6.5440 - mae: 1.8325 - val_loss: 6.6525 - val_mae: 1.8891\n",
            "Epoch 200/1000\n",
            "4/4 [==============================] - 0s 10ms/step - loss: 6.5305 - mae: 1.8316 - val_loss: 6.6357 - val_mae: 1.8888\n",
            "Epoch 201/1000\n",
            "4/4 [==============================] - 0s 9ms/step - loss: 6.5376 - mae: 1.8322 - val_loss: 6.6205 - val_mae: 1.8836\n",
            "Epoch 202/1000\n",
            "4/4 [==============================] - 0s 10ms/step - loss: 6.5242 - mae: 1.8296 - val_loss: 6.6186 - val_mae: 1.8855\n",
            "Epoch 203/1000\n",
            "4/4 [==============================] - 0s 10ms/step - loss: 6.5103 - mae: 1.8292 - val_loss: 6.5457 - val_mae: 1.8789\n",
            "Epoch 204/1000\n",
            "4/4 [==============================] - 0s 9ms/step - loss: 6.5194 - mae: 1.8297 - val_loss: 6.4915 - val_mae: 1.8720\n",
            "Epoch 205/1000\n",
            "4/4 [==============================] - 0s 9ms/step - loss: 6.4966 - mae: 1.8274 - val_loss: 6.5384 - val_mae: 1.8783\n",
            "Epoch 206/1000\n",
            "4/4 [==============================] - 0s 9ms/step - loss: 6.4899 - mae: 1.8270 - val_loss: 6.5719 - val_mae: 1.8786\n",
            "Epoch 207/1000\n",
            "4/4 [==============================] - 0s 9ms/step - loss: 6.4824 - mae: 1.8251 - val_loss: 6.5744 - val_mae: 1.8803\n",
            "Epoch 208/1000\n",
            "4/4 [==============================] - 0s 12ms/step - loss: 6.4799 - mae: 1.8239 - val_loss: 6.6681 - val_mae: 1.8943\n",
            "Epoch 209/1000\n",
            "4/4 [==============================] - 0s 9ms/step - loss: 6.4633 - mae: 1.8218 - val_loss: 6.6420 - val_mae: 1.8911\n",
            "Epoch 210/1000\n",
            "4/4 [==============================] - 0s 9ms/step - loss: 6.4616 - mae: 1.8233 - val_loss: 6.6116 - val_mae: 1.8850\n",
            "Epoch 211/1000\n",
            "4/4 [==============================] - 0s 12ms/step - loss: 6.4393 - mae: 1.8198 - val_loss: 6.5747 - val_mae: 1.8794\n",
            "Epoch 212/1000\n",
            "4/4 [==============================] - 0s 10ms/step - loss: 6.4287 - mae: 1.8177 - val_loss: 6.4876 - val_mae: 1.8694\n",
            "Epoch 213/1000\n",
            "4/4 [==============================] - 0s 9ms/step - loss: 6.4357 - mae: 1.8193 - val_loss: 6.4534 - val_mae: 1.8684\n",
            "Epoch 214/1000\n",
            "4/4 [==============================] - 0s 10ms/step - loss: 6.4278 - mae: 1.8191 - val_loss: 6.4663 - val_mae: 1.8712\n",
            "Epoch 215/1000\n",
            "4/4 [==============================] - 0s 9ms/step - loss: 6.4091 - mae: 1.8167 - val_loss: 6.4673 - val_mae: 1.8686\n",
            "Epoch 216/1000\n",
            "4/4 [==============================] - 0s 9ms/step - loss: 6.4058 - mae: 1.8160 - val_loss: 6.5070 - val_mae: 1.8729\n",
            "Epoch 217/1000\n",
            "4/4 [==============================] - 0s 10ms/step - loss: 6.4215 - mae: 1.8169 - val_loss: 6.4744 - val_mae: 1.8700\n",
            "Epoch 218/1000\n",
            "4/4 [==============================] - 0s 10ms/step - loss: 6.3950 - mae: 1.8110 - val_loss: 6.5283 - val_mae: 1.8768\n",
            "Epoch 219/1000\n",
            "4/4 [==============================] - 0s 9ms/step - loss: 6.3816 - mae: 1.8099 - val_loss: 6.5468 - val_mae: 1.8804\n",
            "Epoch 220/1000\n",
            "4/4 [==============================] - 0s 9ms/step - loss: 6.3883 - mae: 1.8130 - val_loss: 6.4933 - val_mae: 1.8735\n",
            "Epoch 221/1000\n",
            "4/4 [==============================] - 0s 9ms/step - loss: 6.3647 - mae: 1.8090 - val_loss: 6.4893 - val_mae: 1.8752\n",
            "Epoch 222/1000\n",
            "4/4 [==============================] - 0s 9ms/step - loss: 6.3579 - mae: 1.8079 - val_loss: 6.4594 - val_mae: 1.8698\n",
            "Epoch 223/1000\n",
            "4/4 [==============================] - 0s 9ms/step - loss: 6.3501 - mae: 1.8064 - val_loss: 6.4537 - val_mae: 1.8703\n"
          ]
        }
      ]
    },
    {
      "cell_type": "code",
      "source": [
        "hist = pd.DataFrame(history.history)\n",
        "hist['epoch'] = history.epoch\n",
        "hist.tail()"
      ],
      "metadata": {
        "colab": {
          "base_uri": "https://localhost:8080/",
          "height": 206
        },
        "id": "0j330WEJEB_f",
        "outputId": "98acae82-84a4-45c7-f23a-597c7d4e9d90"
      },
      "execution_count": 40,
      "outputs": [
        {
          "output_type": "execute_result",
          "data": {
            "text/html": [
              "\n",
              "  <div id=\"df-527d91ae-2bef-4d10-9a63-792b77578412\">\n",
              "    <div class=\"colab-df-container\">\n",
              "      <div>\n",
              "<style scoped>\n",
              "    .dataframe tbody tr th:only-of-type {\n",
              "        vertical-align: middle;\n",
              "    }\n",
              "\n",
              "    .dataframe tbody tr th {\n",
              "        vertical-align: top;\n",
              "    }\n",
              "\n",
              "    .dataframe thead th {\n",
              "        text-align: right;\n",
              "    }\n",
              "</style>\n",
              "<table border=\"1\" class=\"dataframe\">\n",
              "  <thead>\n",
              "    <tr style=\"text-align: right;\">\n",
              "      <th></th>\n",
              "      <th>loss</th>\n",
              "      <th>mae</th>\n",
              "      <th>val_loss</th>\n",
              "      <th>val_mae</th>\n",
              "      <th>epoch</th>\n",
              "    </tr>\n",
              "  </thead>\n",
              "  <tbody>\n",
              "    <tr>\n",
              "      <th>218</th>\n",
              "      <td>6.381569</td>\n",
              "      <td>1.809939</td>\n",
              "      <td>6.546785</td>\n",
              "      <td>1.880402</td>\n",
              "      <td>218</td>\n",
              "    </tr>\n",
              "    <tr>\n",
              "      <th>219</th>\n",
              "      <td>6.388298</td>\n",
              "      <td>1.812967</td>\n",
              "      <td>6.493346</td>\n",
              "      <td>1.873474</td>\n",
              "      <td>219</td>\n",
              "    </tr>\n",
              "    <tr>\n",
              "      <th>220</th>\n",
              "      <td>6.364670</td>\n",
              "      <td>1.808997</td>\n",
              "      <td>6.489328</td>\n",
              "      <td>1.875234</td>\n",
              "      <td>220</td>\n",
              "    </tr>\n",
              "    <tr>\n",
              "      <th>221</th>\n",
              "      <td>6.357862</td>\n",
              "      <td>1.807868</td>\n",
              "      <td>6.459404</td>\n",
              "      <td>1.869837</td>\n",
              "      <td>221</td>\n",
              "    </tr>\n",
              "    <tr>\n",
              "      <th>222</th>\n",
              "      <td>6.350078</td>\n",
              "      <td>1.806395</td>\n",
              "      <td>6.453713</td>\n",
              "      <td>1.870324</td>\n",
              "      <td>222</td>\n",
              "    </tr>\n",
              "  </tbody>\n",
              "</table>\n",
              "</div>\n",
              "      <button class=\"colab-df-convert\" onclick=\"convertToInteractive('df-527d91ae-2bef-4d10-9a63-792b77578412')\"\n",
              "              title=\"Convert this dataframe to an interactive table.\"\n",
              "              style=\"display:none;\">\n",
              "        \n",
              "  <svg xmlns=\"http://www.w3.org/2000/svg\" height=\"24px\"viewBox=\"0 0 24 24\"\n",
              "       width=\"24px\">\n",
              "    <path d=\"M0 0h24v24H0V0z\" fill=\"none\"/>\n",
              "    <path d=\"M18.56 5.44l.94 2.06.94-2.06 2.06-.94-2.06-.94-.94-2.06-.94 2.06-2.06.94zm-11 1L8.5 8.5l.94-2.06 2.06-.94-2.06-.94L8.5 2.5l-.94 2.06-2.06.94zm10 10l.94 2.06.94-2.06 2.06-.94-2.06-.94-.94-2.06-.94 2.06-2.06.94z\"/><path d=\"M17.41 7.96l-1.37-1.37c-.4-.4-.92-.59-1.43-.59-.52 0-1.04.2-1.43.59L10.3 9.45l-7.72 7.72c-.78.78-.78 2.05 0 2.83L4 21.41c.39.39.9.59 1.41.59.51 0 1.02-.2 1.41-.59l7.78-7.78 2.81-2.81c.8-.78.8-2.07 0-2.86zM5.41 20L4 18.59l7.72-7.72 1.47 1.35L5.41 20z\"/>\n",
              "  </svg>\n",
              "      </button>\n",
              "      \n",
              "  <style>\n",
              "    .colab-df-container {\n",
              "      display:flex;\n",
              "      flex-wrap:wrap;\n",
              "      gap: 12px;\n",
              "    }\n",
              "\n",
              "    .colab-df-convert {\n",
              "      background-color: #E8F0FE;\n",
              "      border: none;\n",
              "      border-radius: 50%;\n",
              "      cursor: pointer;\n",
              "      display: none;\n",
              "      fill: #1967D2;\n",
              "      height: 32px;\n",
              "      padding: 0 0 0 0;\n",
              "      width: 32px;\n",
              "    }\n",
              "\n",
              "    .colab-df-convert:hover {\n",
              "      background-color: #E2EBFA;\n",
              "      box-shadow: 0px 1px 2px rgba(60, 64, 67, 0.3), 0px 1px 3px 1px rgba(60, 64, 67, 0.15);\n",
              "      fill: #174EA6;\n",
              "    }\n",
              "\n",
              "    [theme=dark] .colab-df-convert {\n",
              "      background-color: #3B4455;\n",
              "      fill: #D2E3FC;\n",
              "    }\n",
              "\n",
              "    [theme=dark] .colab-df-convert:hover {\n",
              "      background-color: #434B5C;\n",
              "      box-shadow: 0px 1px 3px 1px rgba(0, 0, 0, 0.15);\n",
              "      filter: drop-shadow(0px 1px 2px rgba(0, 0, 0, 0.3));\n",
              "      fill: #FFFFFF;\n",
              "    }\n",
              "  </style>\n",
              "\n",
              "      <script>\n",
              "        const buttonEl =\n",
              "          document.querySelector('#df-527d91ae-2bef-4d10-9a63-792b77578412 button.colab-df-convert');\n",
              "        buttonEl.style.display =\n",
              "          google.colab.kernel.accessAllowed ? 'block' : 'none';\n",
              "\n",
              "        async function convertToInteractive(key) {\n",
              "          const element = document.querySelector('#df-527d91ae-2bef-4d10-9a63-792b77578412');\n",
              "          const dataTable =\n",
              "            await google.colab.kernel.invokeFunction('convertToInteractive',\n",
              "                                                     [key], {});\n",
              "          if (!dataTable) return;\n",
              "\n",
              "          const docLinkHtml = 'Like what you see? Visit the ' +\n",
              "            '<a target=\"_blank\" href=https://colab.research.google.com/notebooks/data_table.ipynb>data table notebook</a>'\n",
              "            + ' to learn more about interactive tables.';\n",
              "          element.innerHTML = '';\n",
              "          dataTable['output_type'] = 'display_data';\n",
              "          await google.colab.output.renderOutput(dataTable, element);\n",
              "          const docLink = document.createElement('div');\n",
              "          docLink.innerHTML = docLinkHtml;\n",
              "          element.appendChild(docLink);\n",
              "        }\n",
              "      </script>\n",
              "    </div>\n",
              "  </div>\n",
              "  "
            ],
            "text/plain": [
              "         loss       mae  val_loss   val_mae  epoch\n",
              "218  6.381569  1.809939  6.546785  1.880402    218\n",
              "219  6.388298  1.812967  6.493346  1.873474    219\n",
              "220  6.364670  1.808997  6.489328  1.875234    220\n",
              "221  6.357862  1.807868  6.459404  1.869837    221\n",
              "222  6.350078  1.806395  6.453713  1.870324    222"
            ]
          },
          "metadata": {},
          "execution_count": 40
        }
      ]
    },
    {
      "cell_type": "code",
      "source": [
        "plt.figure(figsize=(12,6))\n",
        "\n",
        "# plt.subplot(1,2,1)\n",
        "\n",
        "plt.plot(history.history[\"loss\"], linewidth=1, alpha=0.8, label=\"train\")\n",
        "plt.plot(history.history[\"val_loss\"], linewidth=1, alpha=0.8, label=\"Validation\")\n",
        "plt.xlabel(\"epoch\")\n",
        "plt.ylabel(\"MSE\")\n",
        "plt.legend()\n",
        "\n",
        "# plt.subplot(1,2,2)\n",
        "\n",
        "# plt.plot(history.history[\"mse\"], linewidth=1, alpha=0.8, label=\"train\")\n",
        "# plt.plot(history.history[\"val_mse\"], linewidth=1, alpha=0.8, label=\"cv\")\n",
        "# plt.xlabel(\"epoch\")\n",
        "# plt.ylabel(\"RMSE\")\n",
        "\n",
        "plt.tight_layout()"
      ],
      "metadata": {
        "colab": {
          "base_uri": "https://localhost:8080/",
          "height": 441
        },
        "id": "TQ8WYy_HEB8M",
        "outputId": "2728bae9-ffd3-485f-c2e4-fbec66029f71"
      },
      "execution_count": 41,
      "outputs": [
        {
          "output_type": "display_data",
          "data": {
            "image/png": "[encoded data removed]",
            "text/plain": [
              "<Figure size 864x432 with 1 Axes>"
            ]
          },
          "metadata": {
            "needs_background": "light"
          }
        }
      ]
    },
    {
      "cell_type": "code",
      "source": [
        ""
      ],
      "metadata": {
        "id": "7ctSyAv7VTlC"
      },
      "execution_count": 41,
      "outputs": []
    }
  ]
}