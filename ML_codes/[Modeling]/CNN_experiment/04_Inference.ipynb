{
 "cells": [
  {
   "cell_type": "code",
   "execution_count": 94,
   "id": "0a9b1b57-ba48-4cce-b234-db0e31aac39e",
   "metadata": {},
   "outputs": [],
   "source": [
    "import pandas as pd\n",
    "import numpy as np\n",
    "import matplotlib.pyplot as plt\n",
    "import os,sys,warnings,random\n",
    "from tqdm import tqdm\n",
    "\n",
    "import rasterio as rio\n",
    "from rasterio import merge\n",
    "from rasterio.windows import Window,from_bounds\n",
    "from rasterio.plot import reshape_as_raster,reshape_as_image\n",
    "import geopandas as gpd\n",
    "from shapely.geometry import box, Point\n",
    "\n",
    "import tensorflow as tf\n",
    "from tensorflow import keras"
   ]
  },
  {
   "cell_type": "code",
   "execution_count": 95,
   "id": "9fd67ce4-653b-4e7f-a5ac-21cca8dc85d5",
   "metadata": {},
   "outputs": [],
   "source": [
    "AOI_PATH = './DATA/test_inference_AOI.geojson'\n",
    "INPUT_PATH = \"./processed_DATA/features.tif\"\n",
    "MODEL_PATH = './model/v2/weights-improvement-14-0.16.hdf5'"
   ]
  },
  {
   "cell_type": "code",
   "execution_count": 96,
   "id": "6a5c58da-ce4b-43b4-8da3-23076b211794",
   "metadata": {},
   "outputs": [],
   "source": [
    "AOI = gpd.read_file(AOI_PATH)"
   ]
  },
  {
   "cell_type": "code",
   "execution_count": 97,
   "id": "b0907258-564f-4c3b-a66d-83da1e4adb43",
   "metadata": {},
   "outputs": [
    {
     "data": {
      "text/plain": [
       "<Derived Projected CRS: EPSG:3067>\n",
       "Name: ETRS89 / TM35FIN(E,N)\n",
       "Axis Info [cartesian]:\n",
       "- E[east]: Easting (metre)\n",
       "- N[north]: Northing (metre)\n",
       "Area of Use:\n",
       "- name: Finland - onshore and offshore.\n",
       "- bounds: (19.08, 58.84, 31.59, 70.09)\n",
       "Coordinate Operation:\n",
       "- name: TM35FIN\n",
       "- method: Transverse Mercator\n",
       "Datum: European Terrestrial Reference System 1989 ensemble\n",
       "- Ellipsoid: GRS 1980\n",
       "- Prime Meridian: Greenwich"
      ]
     },
     "execution_count": 97,
     "metadata": {},
     "output_type": "execute_result"
    }
   ],
   "source": [
    "AOI.crs"
   ]
  },
  {
   "cell_type": "code",
   "execution_count": 98,
   "id": "e67969a8-4a70-4d39-a7e5-f0c6df1dcbf3",
   "metadata": {},
   "outputs": [],
   "source": [
    "minx,miny,maxx,maxy = AOI.bounds.values.tolist()[0]\n",
    "PX_size = 10\n",
    "output_size = 48 * PX_size\n",
    "input_size = 64 * PX_size\n",
    "delta = input_size - output_size"
   ]
  },
  {
   "cell_type": "code",
   "execution_count": 99,
   "id": "f28bbb0a-6cc9-4c0b-a0fc-6e59cb19b703",
   "metadata": {},
   "outputs": [],
   "source": [
    "x = np.arange(np.floor(minx), np.floor(maxx), output_size)\n",
    "y = np.arange(np.floor(miny), np.floor(maxy), output_size)\n",
    "xv, yv = np.meshgrid(x, y)\n",
    "Left_Corner = gpd.GeoSeries.from_xy(xv.flatten(),yv.flatten())"
   ]
  },
  {
   "cell_type": "code",
   "execution_count": 100,
   "id": "ae578f14-383c-4341-ab94-e059fa3072fb",
   "metadata": {},
   "outputs": [],
   "source": [
    "grid_geom = Left_Corner.apply(lambda p: box(p.x - delta/2, p.y - delta/2, p.x + output_size + delta/2, p.y + output_size + delta/2))"
   ]
  },
  {
   "cell_type": "code",
   "execution_count": 101,
   "id": "422634d0-34e1-43af-ac72-d4b4dd54bee7",
   "metadata": {},
   "outputs": [],
   "source": [
    "best_model = keras.models.load_model(MODEL_PATH,compile=False)"
   ]
  },
  {
   "cell_type": "code",
   "execution_count": 102,
   "id": "07ae9534-708f-40e3-b6c1-fc065daed455",
   "metadata": {},
   "outputs": [
    {
     "name": "stderr",
     "output_type": "stream",
     "text": [
      "100%|███████████████████████████████████████████████████████████████████████████████████████████████████████████████████████████████████████████| 1020/1020 [01:11<00:00, 14.32it/s]\n"
     ]
    }
   ],
   "source": [
    "for i in tqdm(range(len(grid_geom))):\n",
    "    INPUT_IMG = rio.open(INPUT_PATH)\n",
    "    minx,miny,maxx,maxy = grid_geom[i].bounds\n",
    "    window = from_bounds(minx, miny, maxx, maxy, transform=INPUT_IMG.transform)\n",
    "    transform = rio.transform.from_bounds(minx + delta/2, miny + delta/2, maxx - delta/2, maxy - delta/2, output_size, output_size)\n",
    "    input_result = INPUT_IMG.read(window=window)\n",
    "    pred_result = best_model.predict(reshape_as_image(input_result).reshape(1,64,64,9))\n",
    "\n",
    "    OUTPUT_PATH = f'./processed_DATA/inferrence_patches_test/{minx}_{miny}_inf.tif'\n",
    "    with rio.open(OUTPUT_PATH, \"w\",\n",
    "               driver='GTiff',\n",
    "               count=1,\n",
    "               transform = transform,\n",
    "               width=output_size,\n",
    "               height=output_size,\n",
    "               dtype=pred_result.dtype,\n",
    "               crs=\"epsg:3067\",) as output_file:\n",
    "        output_file.write(pred_result[...,0])"
   ]
  },
  {
   "cell_type": "code",
   "execution_count": 103,
   "id": "cad530fb-93e9-4718-b8a8-a0073324a7f0",
   "metadata": {},
   "outputs": [],
   "source": [
    "items = os.listdir('./processed_DATA/inferrence_patches_test/')\n",
    "img_list  = [names for names in items if names.endswith(\".tif\")]\n",
    "images = [rio.open('./processed_DATA/inferrence_patches_test/'+fname) for fname in img_list]\n",
    "full_image, transform = rio.merge.merge(images)"
   ]
  },
  {
   "cell_type": "code",
   "execution_count": 104,
   "id": "4cfbf56d-c649-4d9b-996e-99bf32090018",
   "metadata": {},
   "outputs": [],
   "source": [
    "MOSAIC_PATH = './processed_DATA/inference_test_mosaic.tif'"
   ]
  },
  {
   "cell_type": "code",
   "execution_count": 105,
   "id": "cbcc9183-f162-4119-aa46-5aa1e1640fd9",
   "metadata": {},
   "outputs": [],
   "source": [
    "with rio.open(MOSAIC_PATH, \"w\",\n",
    "                   driver='GTiff',\n",
    "                   count=full_image.shape[0],\n",
    "                   transform = transform,\n",
    "                   width=full_image.shape[2],\n",
    "                   height=full_image.shape[1],\n",
    "                   dtype=full_image.dtype,\n",
    "                   crs=\"epsg:3067\",) as output_file:\n",
    "        output_file.write(full_image)"
   ]
  },
  {
   "cell_type": "code",
   "execution_count": null,
   "id": "1371d532-5267-4cbd-a04e-a6aab9c8e458",
   "metadata": {},
   "outputs": [],
   "source": []
  }
 ],
 "metadata": {
  "kernelspec": {
   "display_name": "Python 3 (ipykernel)",
   "language": "python",
   "name": "python3"
  },
  "language_info": {
   "codemirror_mode": {
    "name": "ipython",
    "version": 3
   },
   "file_extension": ".py",
   "mimetype": "text/x-python",
   "name": "python",
   "nbconvert_exporter": "python",
   "pygments_lexer": "ipython3",
   "version": "3.8.12"
  }
 },
 "nbformat": 4,
 "nbformat_minor": 5
}
