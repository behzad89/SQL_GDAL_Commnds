{
 "cells": [
  {
   "cell_type": "code",
   "execution_count": 211,
   "id": "f2fa4d0b-538d-409c-80d6-915fd735d9bb",
   "metadata": {},
   "outputs": [],
   "source": [
    "import pandas as pd\n",
    "import numpy as np\n",
    "\n",
    "import os\n",
    "import sys\n",
    "import warnings\n",
    "\n",
    "import matplotlib.pyplot as plt\n",
    "import seaborn as sns"
   ]
  },
  {
   "cell_type": "code",
   "execution_count": 268,
   "id": "0de4e17d-9285-4d21-b975-dcd0982507a7",
   "metadata": {},
   "outputs": [],
   "source": [
    "warnings.filterwarnings('ignore')"
   ]
  },
  {
   "cell_type": "code",
   "execution_count": 269,
   "id": "4d563ee8-8da8-4f5a-840f-0f6d96286c01",
   "metadata": {},
   "outputs": [],
   "source": [
    "pd.set_option('display.float_format', lambda x: '%.5f' % x)"
   ]
  },
  {
   "cell_type": "code",
   "execution_count": 270,
   "id": "6a4d83a6-6917-4482-ba0e-2a2c716a294b",
   "metadata": {},
   "outputs": [],
   "source": [
    "sns.set_context('notebook')"
   ]
  },
  {
   "cell_type": "code",
   "execution_count": 271,
   "id": "8402afbd-d89b-466c-8323-e99af4715cc1",
   "metadata": {},
   "outputs": [],
   "source": [
    "df = pd.read_csv('../../../datasets_11657_16098_train.csv')"
   ]
  },
  {
   "cell_type": "code",
   "execution_count": 272,
   "id": "cef5abd4-eef9-4fd6-9b3d-107f727a81bc",
   "metadata": {},
   "outputs": [
    {
     "data": {
      "text/html": [
       "<div>\n",
       "<style scoped>\n",
       "    .dataframe tbody tr th:only-of-type {\n",
       "        vertical-align: middle;\n",
       "    }\n",
       "\n",
       "    .dataframe tbody tr th {\n",
       "        vertical-align: top;\n",
       "    }\n",
       "\n",
       "    .dataframe thead th {\n",
       "        text-align: right;\n",
       "    }\n",
       "</style>\n",
       "<table border=\"1\" class=\"dataframe\">\n",
       "  <thead>\n",
       "    <tr style=\"text-align: right;\">\n",
       "      <th></th>\n",
       "      <th>PassengerId</th>\n",
       "      <th>Survived</th>\n",
       "      <th>Pclass</th>\n",
       "      <th>Name</th>\n",
       "      <th>Sex</th>\n",
       "      <th>Age</th>\n",
       "      <th>SibSp</th>\n",
       "      <th>Parch</th>\n",
       "      <th>Ticket</th>\n",
       "      <th>Fare</th>\n",
       "      <th>Cabin</th>\n",
       "      <th>Embarked</th>\n",
       "    </tr>\n",
       "  </thead>\n",
       "  <tbody>\n",
       "    <tr>\n",
       "      <th>0</th>\n",
       "      <td>1</td>\n",
       "      <td>0</td>\n",
       "      <td>3</td>\n",
       "      <td>Braund, Mr. Owen Harris</td>\n",
       "      <td>male</td>\n",
       "      <td>22.00000</td>\n",
       "      <td>1</td>\n",
       "      <td>0</td>\n",
       "      <td>A/5 21171</td>\n",
       "      <td>7.25000</td>\n",
       "      <td>NaN</td>\n",
       "      <td>S</td>\n",
       "    </tr>\n",
       "    <tr>\n",
       "      <th>1</th>\n",
       "      <td>2</td>\n",
       "      <td>1</td>\n",
       "      <td>1</td>\n",
       "      <td>Cumings, Mrs. John Bradley (Florence Briggs Th...</td>\n",
       "      <td>female</td>\n",
       "      <td>38.00000</td>\n",
       "      <td>1</td>\n",
       "      <td>0</td>\n",
       "      <td>PC 17599</td>\n",
       "      <td>71.28330</td>\n",
       "      <td>C85</td>\n",
       "      <td>C</td>\n",
       "    </tr>\n",
       "    <tr>\n",
       "      <th>2</th>\n",
       "      <td>3</td>\n",
       "      <td>1</td>\n",
       "      <td>3</td>\n",
       "      <td>Heikkinen, Miss. Laina</td>\n",
       "      <td>female</td>\n",
       "      <td>26.00000</td>\n",
       "      <td>0</td>\n",
       "      <td>0</td>\n",
       "      <td>STON/O2. 3101282</td>\n",
       "      <td>7.92500</td>\n",
       "      <td>NaN</td>\n",
       "      <td>S</td>\n",
       "    </tr>\n",
       "    <tr>\n",
       "      <th>3</th>\n",
       "      <td>4</td>\n",
       "      <td>1</td>\n",
       "      <td>1</td>\n",
       "      <td>Futrelle, Mrs. Jacques Heath (Lily May Peel)</td>\n",
       "      <td>female</td>\n",
       "      <td>35.00000</td>\n",
       "      <td>1</td>\n",
       "      <td>0</td>\n",
       "      <td>113803</td>\n",
       "      <td>53.10000</td>\n",
       "      <td>C123</td>\n",
       "      <td>S</td>\n",
       "    </tr>\n",
       "    <tr>\n",
       "      <th>4</th>\n",
       "      <td>5</td>\n",
       "      <td>0</td>\n",
       "      <td>3</td>\n",
       "      <td>Allen, Mr. William Henry</td>\n",
       "      <td>male</td>\n",
       "      <td>35.00000</td>\n",
       "      <td>0</td>\n",
       "      <td>0</td>\n",
       "      <td>373450</td>\n",
       "      <td>8.05000</td>\n",
       "      <td>NaN</td>\n",
       "      <td>S</td>\n",
       "    </tr>\n",
       "  </tbody>\n",
       "</table>\n",
       "</div>"
      ],
      "text/plain": [
       "   PassengerId  Survived  Pclass  \\\n",
       "0            1         0       3   \n",
       "1            2         1       1   \n",
       "2            3         1       3   \n",
       "3            4         1       1   \n",
       "4            5         0       3   \n",
       "\n",
       "                                                Name     Sex      Age  SibSp  \\\n",
       "0                            Braund, Mr. Owen Harris    male 22.00000      1   \n",
       "1  Cumings, Mrs. John Bradley (Florence Briggs Th...  female 38.00000      1   \n",
       "2                             Heikkinen, Miss. Laina  female 26.00000      0   \n",
       "3       Futrelle, Mrs. Jacques Heath (Lily May Peel)  female 35.00000      1   \n",
       "4                           Allen, Mr. William Henry    male 35.00000      0   \n",
       "\n",
       "   Parch            Ticket     Fare Cabin Embarked  \n",
       "0      0         A/5 21171  7.25000   NaN        S  \n",
       "1      0          PC 17599 71.28330   C85        C  \n",
       "2      0  STON/O2. 3101282  7.92500   NaN        S  \n",
       "3      0            113803 53.10000  C123        S  \n",
       "4      0            373450  8.05000   NaN        S  "
      ]
     },
     "execution_count": 272,
     "metadata": {},
     "output_type": "execute_result"
    }
   ],
   "source": [
    "df.head()"
   ]
  },
  {
   "cell_type": "code",
   "execution_count": 273,
   "id": "a77e25ce-993d-46d8-8df6-078df2b1413c",
   "metadata": {},
   "outputs": [
    {
     "data": {
      "text/plain": [
       "int64      5\n",
       "object     5\n",
       "float64    2\n",
       "dtype: int64"
      ]
     },
     "execution_count": 273,
     "metadata": {},
     "output_type": "execute_result"
    }
   ],
   "source": [
    "df.dtypes.value_counts()"
   ]
  },
  {
   "cell_type": "code",
   "execution_count": 274,
   "id": "e7b64f7e-23d9-42ca-a1c3-337d8a84d9f2",
   "metadata": {},
   "outputs": [],
   "source": [
    "data = df [df.columns[df.dtypes !='object']].dropna()"
   ]
  },
  {
   "cell_type": "code",
   "execution_count": 275,
   "id": "7f16ccc5-cd7b-426e-826e-2e210225fc12",
   "metadata": {},
   "outputs": [
    {
     "data": {
      "text/plain": [
       "Index(['PassengerId', 'Survived', 'Pclass', 'Age', 'SibSp', 'Parch', 'Fare'], dtype='object')"
      ]
     },
     "execution_count": 275,
     "metadata": {},
     "output_type": "execute_result"
    }
   ],
   "source": [
    "data.columns"
   ]
  },
  {
   "cell_type": "code",
   "execution_count": 276,
   "id": "75bd5201-827a-45bb-88b0-8877fcc35113",
   "metadata": {},
   "outputs": [
    {
     "data": {
      "text/plain": [
       "0   0.59384\n",
       "1   0.40616\n",
       "Name: Survived, dtype: float64"
      ]
     },
     "execution_count": 276,
     "metadata": {},
     "output_type": "execute_result"
    }
   ],
   "source": [
    "data.Survived.value_counts(normalize=True)"
   ]
  },
  {
   "cell_type": "code",
   "execution_count": 277,
   "id": "b3a721cc-64a5-44e8-87b9-7562bcfc332c",
   "metadata": {},
   "outputs": [
    {
     "data": {
      "text/plain": [
       "PassengerId    0\n",
       "Survived       0\n",
       "Pclass         0\n",
       "Age            0\n",
       "SibSp          0\n",
       "Parch          0\n",
       "Fare           0\n",
       "dtype: int64"
      ]
     },
     "execution_count": 277,
     "metadata": {},
     "output_type": "execute_result"
    }
   ],
   "source": [
    "data.isna().sum()"
   ]
  },
  {
   "cell_type": "code",
   "execution_count": 278,
   "id": "d77d45fa-d86a-4192-b6f3-42dbb35d80db",
   "metadata": {},
   "outputs": [],
   "source": [
    "Feat_col = data.columns[2:]\n",
    "target_col = data.Survived"
   ]
  },
  {
   "cell_type": "code",
   "execution_count": 279,
   "id": "1afd7a3c-7316-460c-bef4-08ad2c692948",
   "metadata": {},
   "outputs": [],
   "source": [
    "from sklearn.preprocessing import StandardScaler\n",
    "scaler = StandardScaler()\n",
    "data.loc[:,Feat_col] = scaler.fit_transform(data.loc[:,Feat_col])"
   ]
  },
  {
   "cell_type": "code",
   "execution_count": 280,
   "id": "3b4d7901-740c-470d-9b86-d8038f37b03a",
   "metadata": {},
   "outputs": [
    {
     "data": {
      "text/html": [
       "<div>\n",
       "<style scoped>\n",
       "    .dataframe tbody tr th:only-of-type {\n",
       "        vertical-align: middle;\n",
       "    }\n",
       "\n",
       "    .dataframe tbody tr th {\n",
       "        vertical-align: top;\n",
       "    }\n",
       "\n",
       "    .dataframe thead th {\n",
       "        text-align: right;\n",
       "    }\n",
       "</style>\n",
       "<table border=\"1\" class=\"dataframe\">\n",
       "  <thead>\n",
       "    <tr style=\"text-align: right;\">\n",
       "      <th></th>\n",
       "      <th>PassengerId</th>\n",
       "      <th>Survived</th>\n",
       "      <th>Pclass</th>\n",
       "      <th>Age</th>\n",
       "      <th>SibSp</th>\n",
       "      <th>Parch</th>\n",
       "      <th>Fare</th>\n",
       "    </tr>\n",
       "  </thead>\n",
       "  <tbody>\n",
       "    <tr>\n",
       "      <th>count</th>\n",
       "      <td>714.00000</td>\n",
       "      <td>714.00000</td>\n",
       "      <td>714.00000</td>\n",
       "      <td>714.00000</td>\n",
       "      <td>714.00000</td>\n",
       "      <td>714.00000</td>\n",
       "      <td>714.00000</td>\n",
       "    </tr>\n",
       "    <tr>\n",
       "      <th>mean</th>\n",
       "      <td>448.58263</td>\n",
       "      <td>0.40616</td>\n",
       "      <td>-0.00000</td>\n",
       "      <td>0.00000</td>\n",
       "      <td>-0.00000</td>\n",
       "      <td>-0.00000</td>\n",
       "      <td>-0.00000</td>\n",
       "    </tr>\n",
       "    <tr>\n",
       "      <th>std</th>\n",
       "      <td>259.11952</td>\n",
       "      <td>0.49146</td>\n",
       "      <td>1.00070</td>\n",
       "      <td>1.00070</td>\n",
       "      <td>1.00070</td>\n",
       "      <td>1.00070</td>\n",
       "      <td>1.00070</td>\n",
       "    </tr>\n",
       "    <tr>\n",
       "      <th>min</th>\n",
       "      <td>1.00000</td>\n",
       "      <td>0.00000</td>\n",
       "      <td>-1.47636</td>\n",
       "      <td>-2.01698</td>\n",
       "      <td>-0.55170</td>\n",
       "      <td>-0.50590</td>\n",
       "      <td>-0.65608</td>\n",
       "    </tr>\n",
       "    <tr>\n",
       "      <th>25%</th>\n",
       "      <td>222.25000</td>\n",
       "      <td>0.00000</td>\n",
       "      <td>-1.47636</td>\n",
       "      <td>-0.65954</td>\n",
       "      <td>-0.55170</td>\n",
       "      <td>-0.50590</td>\n",
       "      <td>-0.50385</td>\n",
       "    </tr>\n",
       "    <tr>\n",
       "      <th>50%</th>\n",
       "      <td>445.00000</td>\n",
       "      <td>0.00000</td>\n",
       "      <td>-0.28257</td>\n",
       "      <td>-0.11705</td>\n",
       "      <td>-0.55170</td>\n",
       "      <td>-0.50590</td>\n",
       "      <td>-0.35840</td>\n",
       "    </tr>\n",
       "    <tr>\n",
       "      <th>75%</th>\n",
       "      <td>677.75000</td>\n",
       "      <td>1.00000</td>\n",
       "      <td>0.91123</td>\n",
       "      <td>0.57183</td>\n",
       "      <td>0.52457</td>\n",
       "      <td>0.66686</td>\n",
       "      <td>-0.02495</td>\n",
       "    </tr>\n",
       "    <tr>\n",
       "      <th>max</th>\n",
       "      <td>891.00000</td>\n",
       "      <td>1.00000</td>\n",
       "      <td>0.91123</td>\n",
       "      <td>3.46513</td>\n",
       "      <td>4.82966</td>\n",
       "      <td>6.53065</td>\n",
       "      <td>9.03211</td>\n",
       "    </tr>\n",
       "  </tbody>\n",
       "</table>\n",
       "</div>"
      ],
      "text/plain": [
       "       PassengerId  Survived    Pclass       Age     SibSp     Parch      Fare\n",
       "count    714.00000 714.00000 714.00000 714.00000 714.00000 714.00000 714.00000\n",
       "mean     448.58263   0.40616  -0.00000   0.00000  -0.00000  -0.00000  -0.00000\n",
       "std      259.11952   0.49146   1.00070   1.00070   1.00070   1.00070   1.00070\n",
       "min        1.00000   0.00000  -1.47636  -2.01698  -0.55170  -0.50590  -0.65608\n",
       "25%      222.25000   0.00000  -1.47636  -0.65954  -0.55170  -0.50590  -0.50385\n",
       "50%      445.00000   0.00000  -0.28257  -0.11705  -0.55170  -0.50590  -0.35840\n",
       "75%      677.75000   1.00000   0.91123   0.57183   0.52457   0.66686  -0.02495\n",
       "max      891.00000   1.00000   0.91123   3.46513   4.82966   6.53065   9.03211"
      ]
     },
     "execution_count": 280,
     "metadata": {},
     "output_type": "execute_result"
    }
   ],
   "source": [
    "data.describe()"
   ]
  },
  {
   "cell_type": "code",
   "execution_count": 281,
   "id": "ef56cc60-766e-4f9f-bad4-01a1da0ad681",
   "metadata": {},
   "outputs": [],
   "source": [
    "corr_values = data[Feat_col].corr()"
   ]
  },
  {
   "cell_type": "code",
   "execution_count": 282,
   "id": "c11faedf-2619-4a58-9dc8-b38173987f8c",
   "metadata": {},
   "outputs": [
    {
     "data": {
      "image/png": "[encoded data removed]",
      "text/plain": [
       "<Figure size 432x288 with 2 Axes>"
      ]
     },
     "metadata": {
      "needs_background": "light"
     },
     "output_type": "display_data"
    }
   ],
   "source": [
    "sns.heatmap(corr_values,annot=True,mask=np.triu(np.ones_like(corr_values, dtype=bool)))\n",
    "plt.show()"
   ]
  },
  {
   "cell_type": "code",
   "execution_count": 283,
   "id": "bda67cc0-b7da-40e0-a71c-97a557fb1862",
   "metadata": {},
   "outputs": [],
   "source": [
    "from sklearn.model_selection import StratifiedShuffleSplit,GridSearchCV, StratifiedKFold\n",
    "\n",
    "statr_shuf_split = StratifiedShuffleSplit(n_splits=1,test_size=0.2,random_state=42)\n",
    "\n",
    "train_idx, test_idx = next(statr_shuf_split.split(data[Feat_col],target_col))\n",
    "\n",
    "X_train = data.reset_index().loc[train_idx,Feat_col]\n",
    "y_train = data.reset_index().loc[train_idx, 'Survived']\n",
    "\n",
    "\n",
    "X_test = data.reset_index().loc[test_idx,Feat_col]\n",
    "y_test = data.reset_index().loc[test_idx,'Survived']"
   ]
  },
  {
   "cell_type": "code",
   "execution_count": 284,
   "id": "62bcb36e-d239-412c-8c2b-775ff0339de6",
   "metadata": {},
   "outputs": [
    {
     "data": {
      "text/plain": [
       "0   0.59441\n",
       "1   0.40559\n",
       "Name: Survived, dtype: float64"
      ]
     },
     "execution_count": 284,
     "metadata": {},
     "output_type": "execute_result"
    }
   ],
   "source": [
    "y_test.value_counts(normalize=True)"
   ]
  },
  {
   "cell_type": "code",
   "execution_count": 285,
   "id": "ae6515a9-d4fd-4e74-9aae-eef80a2ffcce",
   "metadata": {},
   "outputs": [
    {
     "data": {
      "text/plain": [
       "0   0.59370\n",
       "1   0.40630\n",
       "Name: Survived, dtype: float64"
      ]
     },
     "execution_count": 285,
     "metadata": {},
     "output_type": "execute_result"
    }
   ],
   "source": [
    "y_train.value_counts(normalize=True)"
   ]
  },
  {
   "cell_type": "code",
   "execution_count": 336,
   "id": "3523de91-2b49-42fc-8f91-ed8b5dc95b4d",
   "metadata": {},
   "outputs": [],
   "source": [
    "from sklearn.linear_model import LogisticRegression"
   ]
  },
  {
   "cell_type": "code",
   "execution_count": 337,
   "id": "1249b7c5-1eec-4974-ae0c-6148296d0f9e",
   "metadata": {},
   "outputs": [],
   "source": [
    "lg = LogisticRegression().fit(X_train,y_train)"
   ]
  },
  {
   "cell_type": "code",
   "execution_count": 338,
   "id": "d06b9d71-66f7-4232-8536-d1eeb0fa1d1e",
   "metadata": {},
   "outputs": [
    {
     "data": {
      "text/plain": [
       "LogisticRegression()"
      ]
     },
     "execution_count": 338,
     "metadata": {},
     "output_type": "execute_result"
    }
   ],
   "source": [
    "lg"
   ]
  },
  {
   "cell_type": "code",
   "execution_count": 339,
   "id": "ee7ef357-63fd-45d5-aa51-f9ceb4493985",
   "metadata": {},
   "outputs": [],
   "source": [
    "param_ = {'C': 10.0 **np.arange(-2,3),\n",
    "         'penalty':['l1','l2']}"
   ]
  },
  {
   "cell_type": "code",
   "execution_count": 340,
   "id": "ae256272-3c7e-40b5-98e2-089d6d970237",
   "metadata": {},
   "outputs": [],
   "source": [
    "cv = StratifiedKFold(n_splits=10, shuffle=True)"
   ]
  },
  {
   "cell_type": "code",
   "execution_count": 376,
   "id": "44343105-f829-491c-b834-162c364c8eb3",
   "metadata": {},
   "outputs": [],
   "source": [
    "lg_grid = GridSearchCV(LogisticRegression(),param_grid=param_, cv=cv,scoring='roc_auc').fit(X_train,y_train)"
   ]
  },
  {
   "cell_type": "code",
   "execution_count": 377,
   "id": "ebc35650-9a7d-4fc4-964e-142f2d80d657",
   "metadata": {},
   "outputs": [
    {
     "data": {
      "text/plain": [
       "{'C': 0.1, 'penalty': 'l2'}"
      ]
     },
     "execution_count": 377,
     "metadata": {},
     "output_type": "execute_result"
    }
   ],
   "source": [
    "lg_grid.best_params_"
   ]
  },
  {
   "cell_type": "code",
   "execution_count": 378,
   "id": "5023cc00-c1d1-4551-8735-3ed5b728a5da",
   "metadata": {},
   "outputs": [],
   "source": [
    "from imblearn.over_sampling import RandomOverSampler\n",
    "from collections import Counter"
   ]
  },
  {
   "cell_type": "code",
   "execution_count": 379,
   "id": "a77f8503-744e-422e-9e6a-8668d6ce0774",
   "metadata": {},
   "outputs": [
    {
     "name": "stdout",
     "output_type": "stream",
     "text": [
      "The number of classes before fit Counter({0: 339, 1: 232})\n",
      "The number of classes before fit Counter({0: 339, 1: 339})\n"
     ]
    }
   ],
   "source": [
    "os = RandomOverSampler()\n",
    "X_train_os, y_train_os = os.fit_resample(X_train,y_train)\n",
    "print('The number of classes before fit {}'.format(Counter(y_train)))\n",
    "print('The number of classes before fit {}'.format(Counter(y_train_os)))"
   ]
  },
  {
   "cell_type": "code",
   "execution_count": 380,
   "id": "fc3cc5f7-9bd5-481b-be79-712acc737a70",
   "metadata": {},
   "outputs": [],
   "source": [
    "lg_os = GridSearchCV(LogisticRegression(),param_grid=param_, cv=cv,scoring='roc_auc').fit(X_train_os, y_train_os)"
   ]
  },
  {
   "cell_type": "code",
   "execution_count": 381,
   "id": "c425cb91-1956-4810-ab8e-4d0e351328ee",
   "metadata": {},
   "outputs": [],
   "source": [
    "from sklearn.metrics import precision_recall_fscore_support as score\n",
    "\n",
    "metrics = []\n",
    "for model in [lg,lg_grid, lg_os]:\n",
    "    precision, recall, fscore, _ = score(y_test, model.predict(X_test),average='weighted')\n",
    "    \n",
    "    metrics.append(pd.Series({'precision':precision,\n",
    "                             'recall':recall,\n",
    "                             'f1':fscore}))\n",
    "metrics = pd.concat(metrics,axis=1)"
   ]
  },
  {
   "cell_type": "code",
   "execution_count": 382,
   "id": "566ccaa0-2fdd-4b9a-81cf-85a10df50a5f",
   "metadata": {},
   "outputs": [
    {
     "data": {
      "text/html": [
       "<div>\n",
       "<style scoped>\n",
       "    .dataframe tbody tr th:only-of-type {\n",
       "        vertical-align: middle;\n",
       "    }\n",
       "\n",
       "    .dataframe tbody tr th {\n",
       "        vertical-align: top;\n",
       "    }\n",
       "\n",
       "    .dataframe thead th {\n",
       "        text-align: right;\n",
       "    }\n",
       "</style>\n",
       "<table border=\"1\" class=\"dataframe\">\n",
       "  <thead>\n",
       "    <tr style=\"text-align: right;\">\n",
       "      <th></th>\n",
       "      <th>0</th>\n",
       "      <th>1</th>\n",
       "      <th>2</th>\n",
       "    </tr>\n",
       "  </thead>\n",
       "  <tbody>\n",
       "    <tr>\n",
       "      <th>precision</th>\n",
       "      <td>0.70379</td>\n",
       "      <td>0.71933</td>\n",
       "      <td>0.67046</td>\n",
       "    </tr>\n",
       "    <tr>\n",
       "      <th>recall</th>\n",
       "      <td>0.70629</td>\n",
       "      <td>0.72028</td>\n",
       "      <td>0.67133</td>\n",
       "    </tr>\n",
       "    <tr>\n",
       "      <th>f1</th>\n",
       "      <td>0.69543</td>\n",
       "      <td>0.70993</td>\n",
       "      <td>0.67086</td>\n",
       "    </tr>\n",
       "  </tbody>\n",
       "</table>\n",
       "</div>"
      ],
      "text/plain": [
       "                0       1       2\n",
       "precision 0.70379 0.71933 0.67046\n",
       "recall    0.70629 0.72028 0.67133\n",
       "f1        0.69543 0.70993 0.67086"
      ]
     },
     "execution_count": 382,
     "metadata": {},
     "output_type": "execute_result"
    }
   ],
   "source": [
    "metrics"
   ]
  },
  {
   "cell_type": "code",
   "execution_count": null,
   "id": "d890c348-0113-4974-ad94-5ea5ec8fe7f9",
   "metadata": {},
   "outputs": [],
   "source": []
  }
 ],
 "metadata": {
  "kernelspec": {
   "display_name": "Python 3",
   "language": "python",
   "name": "python3"
  },
  "language_info": {
   "codemirror_mode": {
    "name": "ipython",
    "version": 3
   },
   "file_extension": ".py",
   "mimetype": "text/x-python",
   "name": "python",
   "nbconvert_exporter": "python",
   "pygments_lexer": "ipython3",
   "version": "3.7.4"
  }
 },
 "nbformat": 4,
 "nbformat_minor": 5
}
