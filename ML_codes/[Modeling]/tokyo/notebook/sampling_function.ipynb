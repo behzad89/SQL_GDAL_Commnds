{
 "cells": [
  {
   "cell_type": "code",
   "execution_count": 1,
   "id": "082f029f-313c-432b-8b41-fdfe4c07a733",
   "metadata": {},
   "outputs": [],
   "source": [
    "import rasterio\n",
    "from tqdm import tqdm\n",
    "from shapely.geometry import Point, box\n",
    "import pandas as pd\n",
    "import geopandas as gpd\n",
    "from rasterio.transform import rowcol\n",
    "import numpy as np\n",
    "import os"
   ]
  },
  {
   "cell_type": "markdown",
   "id": "2a890530-9583-4361-922e-20dab5713862",
   "metadata": {},
   "source": [
    "The function was developed based on the same funtion in https://github.com/stevenpawley/Pyspatialml"
   ]
  },
  {
   "cell_type": "code",
   "execution_count": 2,
   "id": "8f2bcf25-e8e0-448b-ac0e-eba3b5970ace",
   "metadata": {},
   "outputs": [],
   "source": [
    "def extract_to_point(b, rc):\n",
    "    \"\"\"\n",
    "    Extract the value for the points\n",
    "    \"\"\"\n",
    "    extracted_values = [b[coord[0], coord[1]] for coord in rc]\n",
    "    return extracted_values"
   ]
  },
  {
   "cell_type": "code",
   "execution_count": 10,
   "id": "0a0440d4-834d-4d86-999a-506bae15e417",
   "metadata": {},
   "outputs": [],
   "source": [
    "def patch_samples(raster, patch_size, number_patches,strata=False):\n",
    "    \n",
    "    raster = rasterio.open(raster)\n",
    "    Px_SIZE = raster.transform[0]\n",
    "    xmin, ymin, xmax, ymax = raster.bounds\n",
    "    PATCH_Px = patch_size\n",
    "    NUM_PATCHES = number_patches\n",
    "    PATCH_S = PATCH_Px * Px_SIZE\n",
    "    \n",
    "    if strata is False:\n",
    "        X = np.random.rand(NUM_PATCHES) * ((xmax-(PATCH_S) ) - (xmin + (PATCH_S))) + xmin\n",
    "        Y = np.random.rand(NUM_PATCHES) * ((ymax - (PATCH_S)) - (ymin + (PATCH_S))) + ymin\n",
    "        PATCH_CENTER = gpd.GeoSeries.from_xy(X,Y)\n",
    "        rowcol_tuple = np.transpose(raster.index(PATCH_CENTER.x, PATCH_CENTER.y))\n",
    "\n",
    "        values = extract_to_point(raster.read()[0,...], rowcol_tuple)\n",
    "        PATCH_GEOM = PATCH_CENTER.apply(lambda p: box(p.x - PATCH_S/2, p.y - PATCH_S/2, p.x + PATCH_S/2, p.y + PATCH_S/2))\n",
    "\n",
    "        gdf = gpd.GeoDataFrame({'value':values, 'geometry':PATCH_GEOM},crs=raster.crs)\n",
    "        gdf = gdf[gdf.value > 0].reset_index(drop=True)\n",
    "    \n",
    "    else:\n",
    "        \n",
    "        raster_arr = raster.read(masked=True)\n",
    "        categories = np.unique(raster_arr.flatten())\n",
    "        categories = categories[~categories.mask]\n",
    "        selected = np.zeros((0, 2)).astype(\"int\")\n",
    "        \n",
    "        for cat in categories:\n",
    "\n",
    "            # get row,col positions for cat strata\n",
    "            ind = np.transpose(np.nonzero(raster_arr == cat))\n",
    "\n",
    "            if NUM_PATCHES > ind.shape[0]:\n",
    "                msg = (\n",
    "                    \"Sample size is greater than number of pixels in \" \"strata {}\"\n",
    "                ).format(str(ind))\n",
    "\n",
    "                msg = os.linesep.join([msg, \"Sampling using replacement\"])\n",
    "                Warning(msg)\n",
    "\n",
    "            # random sample\n",
    "            samples = np.random.uniform(0, ind.shape[0], NUM_PATCHES).astype(\"int\")\n",
    "            xy = ind[samples, 1:]\n",
    "            \n",
    "            selected = np.append(selected, xy, axis=0)\n",
    "            rowcol_idx = np.column_stack((selected[:,0], selected[:,1]))\n",
    "            \n",
    "            \n",
    "            \n",
    "        values = extract_to_point(raster.read()[0,...], rowcol_idx)\n",
    "        \n",
    "        X,Y = rasterio.transform.xy(transform=raster.transform, rows=selected[:, 0], cols=selected[:, 1])\n",
    "        PATCH_CENTER = gpd.GeoSeries.from_xy(X,Y)\n",
    "        PATCH_GEOM = PATCH_CENTER.apply(lambda p: box(p.x - PATCH_S/2, p.y - PATCH_S/2, p.x + PATCH_S/2, p.y + PATCH_S/2))\n",
    "        \n",
    "        gdf = gpd.GeoDataFrame({'value':values, 'geometry':PATCH_GEOM},crs=raster.crs)\n",
    "    \n",
    "    return gdf"
   ]
  },
  {
   "cell_type": "code",
   "execution_count": 11,
   "id": "59f01714-2cbf-4fa9-9531-21518ea4e193",
   "metadata": {},
   "outputs": [
    {
     "name": "stdout",
     "output_type": "stream",
     "text": [
      "CPU times: user 298 ms, sys: 50.9 ms, total: 349 ms\n",
      "Wall time: 346 ms\n"
     ]
    }
   ],
   "source": [
    "%%time\n",
    "gdf = patch_samples('../data/ground_truth/terrain_truth_epsg32654_A.tif', 10, 500, strata=False)"
   ]
  },
  {
   "cell_type": "code",
   "execution_count": 12,
   "id": "3f1e7c91-f8ce-4d16-aef7-1f1cb5d54d54",
   "metadata": {},
   "outputs": [
    {
     "data": {
      "text/html": [
       "<div>\n",
       "<style scoped>\n",
       "    .dataframe tbody tr th:only-of-type {\n",
       "        vertical-align: middle;\n",
       "    }\n",
       "\n",
       "    .dataframe tbody tr th {\n",
       "        vertical-align: top;\n",
       "    }\n",
       "\n",
       "    .dataframe thead th {\n",
       "        text-align: right;\n",
       "    }\n",
       "</style>\n",
       "<table border=\"1\" class=\"dataframe\">\n",
       "  <thead>\n",
       "    <tr style=\"text-align: right;\">\n",
       "      <th></th>\n",
       "      <th>value</th>\n",
       "      <th>geometry</th>\n",
       "    </tr>\n",
       "  </thead>\n",
       "  <tbody>\n",
       "    <tr>\n",
       "      <th>0</th>\n",
       "      <td>4</td>\n",
       "      <td>POLYGON ((329740.930 3928496.414, 329740.930 3...</td>\n",
       "    </tr>\n",
       "    <tr>\n",
       "      <th>1</th>\n",
       "      <td>4</td>\n",
       "      <td>POLYGON ((323659.597 3934938.183, 323659.597 3...</td>\n",
       "    </tr>\n",
       "    <tr>\n",
       "      <th>2</th>\n",
       "      <td>4</td>\n",
       "      <td>POLYGON ((341336.375 3923210.152, 341336.375 3...</td>\n",
       "    </tr>\n",
       "    <tr>\n",
       "      <th>3</th>\n",
       "      <td>4</td>\n",
       "      <td>POLYGON ((312713.519 3955970.930, 312713.519 3...</td>\n",
       "    </tr>\n",
       "    <tr>\n",
       "      <th>4</th>\n",
       "      <td>4</td>\n",
       "      <td>POLYGON ((312314.477 3948955.089, 312314.477 3...</td>\n",
       "    </tr>\n",
       "  </tbody>\n",
       "</table>\n",
       "</div>"
      ],
      "text/plain": [
       "   value                                           geometry\n",
       "0      4  POLYGON ((329740.930 3928496.414, 329740.930 3...\n",
       "1      4  POLYGON ((323659.597 3934938.183, 323659.597 3...\n",
       "2      4  POLYGON ((341336.375 3923210.152, 341336.375 3...\n",
       "3      4  POLYGON ((312713.519 3955970.930, 312713.519 3...\n",
       "4      4  POLYGON ((312314.477 3948955.089, 312314.477 3..."
      ]
     },
     "execution_count": 12,
     "metadata": {},
     "output_type": "execute_result"
    }
   ],
   "source": [
    "gdf.head()"
   ]
  },
  {
   "cell_type": "code",
   "execution_count": 13,
   "id": "73ff9a9e-a0fa-4d11-ad1a-0462f9aafa46",
   "metadata": {},
   "outputs": [
    {
     "name": "stdout",
     "output_type": "stream",
     "text": [
      "CPU times: user 7.06 s, sys: 1.53 s, total: 8.59 s\n",
      "Wall time: 8.59 s\n"
     ]
    }
   ],
   "source": [
    "%%time\n",
    "gdf = patch_samples('../data/ground_truth/terrain_truth_epsg32654_A.tif', 16, 500, strata=True)"
   ]
  },
  {
   "cell_type": "code",
   "execution_count": 14,
   "id": "fdb6d8bd-5cc8-4820-88d7-59ef6afef8f5",
   "metadata": {},
   "outputs": [
    {
     "data": {
      "text/html": [
       "<div>\n",
       "<style scoped>\n",
       "    .dataframe tbody tr th:only-of-type {\n",
       "        vertical-align: middle;\n",
       "    }\n",
       "\n",
       "    .dataframe tbody tr th {\n",
       "        vertical-align: top;\n",
       "    }\n",
       "\n",
       "    .dataframe thead th {\n",
       "        text-align: right;\n",
       "    }\n",
       "</style>\n",
       "<table border=\"1\" class=\"dataframe\">\n",
       "  <thead>\n",
       "    <tr style=\"text-align: right;\">\n",
       "      <th></th>\n",
       "      <th>value</th>\n",
       "      <th>geometry</th>\n",
       "    </tr>\n",
       "  </thead>\n",
       "  <tbody>\n",
       "    <tr>\n",
       "      <th>0</th>\n",
       "      <td>0</td>\n",
       "      <td>POLYGON ((366365.000 3945565.000, 366365.000 3...</td>\n",
       "    </tr>\n",
       "    <tr>\n",
       "      <th>1</th>\n",
       "      <td>0</td>\n",
       "      <td>POLYGON ((339705.000 3932985.000, 339705.000 3...</td>\n",
       "    </tr>\n",
       "    <tr>\n",
       "      <th>2</th>\n",
       "      <td>0</td>\n",
       "      <td>POLYGON ((361035.000 3978985.000, 361035.000 3...</td>\n",
       "    </tr>\n",
       "    <tr>\n",
       "      <th>3</th>\n",
       "      <td>0</td>\n",
       "      <td>POLYGON ((398295.000 3986355.000, 398295.000 3...</td>\n",
       "    </tr>\n",
       "    <tr>\n",
       "      <th>4</th>\n",
       "      <td>0</td>\n",
       "      <td>POLYGON ((376425.000 3963745.000, 376425.000 3...</td>\n",
       "    </tr>\n",
       "  </tbody>\n",
       "</table>\n",
       "</div>"
      ],
      "text/plain": [
       "   value                                           geometry\n",
       "0      0  POLYGON ((366365.000 3945565.000, 366365.000 3...\n",
       "1      0  POLYGON ((339705.000 3932985.000, 339705.000 3...\n",
       "2      0  POLYGON ((361035.000 3978985.000, 361035.000 3...\n",
       "3      0  POLYGON ((398295.000 3986355.000, 398295.000 3...\n",
       "4      0  POLYGON ((376425.000 3963745.000, 376425.000 3..."
      ]
     },
     "execution_count": 14,
     "metadata": {},
     "output_type": "execute_result"
    }
   ],
   "source": [
    "gdf.head()"
   ]
  },
  {
   "cell_type": "code",
   "execution_count": null,
   "id": "6f1f6e57-6363-4839-8aea-9c26c8337531",
   "metadata": {},
   "outputs": [],
   "source": []
  }
 ],
 "metadata": {
  "kernelspec": {
   "display_name": "Python 3 (ipykernel)",
   "language": "python",
   "name": "python3"
  },
  "language_info": {
   "codemirror_mode": {
    "name": "ipython",
    "version": 3
   },
   "file_extension": ".py",
   "mimetype": "text/x-python",
   "name": "python",
   "nbconvert_exporter": "python",
   "pygments_lexer": "ipython3",
   "version": "3.8.13"
  }
 },
 "nbformat": 4,
 "nbformat_minor": 5
}
