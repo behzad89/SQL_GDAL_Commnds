{
 "cells": [
  {
   "cell_type": "code",
   "execution_count": 1,
   "id": "a81ef95c-ecc0-4fe0-9f96-35db4959e345",
   "metadata": {},
   "outputs": [],
   "source": [
    "from src import LoadImageData, _stretch_im, PatchWiseClassModel\n",
    "\n",
    "import geopandas as gpd\n",
    "from geoutils import grid\n",
    "\n",
    "import rasterio as rio\n",
    "from rasterio.plot import reshape_as_image\n",
    "from rasterio import merge\n",
    "from rasterio.windows import Window,from_bounds\n",
    "\n",
    "import torch\n",
    "\n",
    "import matplotlib.pyplot as plt\n",
    "import seaborn as sns\n",
    "\n",
    "from tqdm import tqdm\n",
    "from random import sample\n",
    "import numpy as np\n",
    "import os,sys"
   ]
  },
  {
   "cell_type": "code",
   "execution_count": 2,
   "id": "a88f692d-9551-4de6-9852-18523760f2af",
   "metadata": {},
   "outputs": [],
   "source": [
    "%load_ext autoreload\n",
    "%autoreload 2"
   ]
  },
  {
   "cell_type": "code",
   "execution_count": 3,
   "id": "acc08900-7bfa-4747-bb88-fa45b7a134bb",
   "metadata": {},
   "outputs": [],
   "source": [
    "plt.style.use(\"bmh\")"
   ]
  },
  {
   "cell_type": "code",
   "execution_count": 4,
   "id": "8ef27b68-fc4d-4e6b-a649-204bb3a3274c",
   "metadata": {},
   "outputs": [],
   "source": [
    "g = grid.grid( 339613.150,367769.118,3901246.638,3935691.740,cell_size=160,crs=32654)"
   ]
  },
  {
   "cell_type": "code",
   "execution_count": 5,
   "id": "82e4cdd7-e5b3-44a1-90a5-129cb9c532b8",
   "metadata": {},
   "outputs": [],
   "source": [
    "aoi = g.generate_grid()"
   ]
  },
  {
   "cell_type": "code",
   "execution_count": 6,
   "id": "cc448e67-7e51-4576-aa50-406179eca61c",
   "metadata": {},
   "outputs": [
    {
     "data": {
      "text/html": [
       "<div>\n",
       "<style scoped>\n",
       "    .dataframe tbody tr th:only-of-type {\n",
       "        vertical-align: middle;\n",
       "    }\n",
       "\n",
       "    .dataframe tbody tr th {\n",
       "        vertical-align: top;\n",
       "    }\n",
       "\n",
       "    .dataframe thead th {\n",
       "        text-align: right;\n",
       "    }\n",
       "</style>\n",
       "<table border=\"1\" class=\"dataframe\">\n",
       "  <thead>\n",
       "    <tr style=\"text-align: right;\">\n",
       "      <th></th>\n",
       "      <th>geom</th>\n",
       "    </tr>\n",
       "  </thead>\n",
       "  <tbody>\n",
       "    <tr>\n",
       "      <th>0</th>\n",
       "      <td>POLYGON ((339773.000 3901246.000, 339773.000 3...</td>\n",
       "    </tr>\n",
       "    <tr>\n",
       "      <th>1</th>\n",
       "      <td>POLYGON ((339933.000 3901246.000, 339933.000 3...</td>\n",
       "    </tr>\n",
       "    <tr>\n",
       "      <th>2</th>\n",
       "      <td>POLYGON ((340093.000 3901246.000, 340093.000 3...</td>\n",
       "    </tr>\n",
       "    <tr>\n",
       "      <th>3</th>\n",
       "      <td>POLYGON ((340253.000 3901246.000, 340253.000 3...</td>\n",
       "    </tr>\n",
       "    <tr>\n",
       "      <th>4</th>\n",
       "      <td>POLYGON ((340413.000 3901246.000, 340413.000 3...</td>\n",
       "    </tr>\n",
       "  </tbody>\n",
       "</table>\n",
       "</div>"
      ],
      "text/plain": [
       "                                                geom\n",
       "0  POLYGON ((339773.000 3901246.000, 339773.000 3...\n",
       "1  POLYGON ((339933.000 3901246.000, 339933.000 3...\n",
       "2  POLYGON ((340093.000 3901246.000, 340093.000 3...\n",
       "3  POLYGON ((340253.000 3901246.000, 340253.000 3...\n",
       "4  POLYGON ((340413.000 3901246.000, 340413.000 3..."
      ]
     },
     "execution_count": 6,
     "metadata": {},
     "output_type": "execute_result"
    }
   ],
   "source": [
    "aoi.head()"
   ]
  },
  {
   "cell_type": "code",
   "execution_count": 7,
   "id": "740d5804-6059-4314-89e2-05f3064cad4d",
   "metadata": {},
   "outputs": [],
   "source": [
    "model_ = PatchWiseClassModel()\n",
    "train_model = model_.load_from_checkpoint(checkpoint_path='../model/lightning_logs/version_3/checkpoints/road-classifier-0.0.1_epoch=35-validation_Loss_epoch=0.671447.ckpt')"
   ]
  },
  {
   "cell_type": "code",
   "execution_count": 8,
   "id": "a165dcc3-73cb-473a-b4e4-f084c90c07b5",
   "metadata": {},
   "outputs": [
    {
     "name": "stderr",
     "output_type": "stream",
     "text": [
      "100%|█████████████████████████████████████████████████████████████████████████████████| 37625/37625 [1:27:30<00:00,  7.17it/s]\n"
     ]
    }
   ],
   "source": [
    "INPUT_PATH = '../data/Sentinel-2_B4328_10m.tif'\n",
    "for i in tqdm(range(len(aoi))):\n",
    "    INPUT_IMG = rio.open(INPUT_PATH)\n",
    "    minx,miny,maxx,maxy = aoi.loc[i,'geom'].bounds\n",
    "    window = from_bounds(minx, miny, maxx, maxy, transform=INPUT_IMG.transform)\n",
    "    transform = rio.transform.from_bounds(minx, miny, maxx, maxy, 16,16)\n",
    "    input_result = INPUT_IMG.read(window=window)\n",
    "    pred_result = torch.argmax(train_model(torch.tensor(input_result.reshape(1,4,16,16))))\n",
    "    PRED_IMG = np.ones((1,16,16)) * pred_result.cpu().numpy()\n",
    "    \n",
    "    \n",
    "    OUTPUT_PATH = f'../data/inference/{minx}_{miny}_inf.tif'\n",
    "    with rio.open(OUTPUT_PATH, \"w\",\n",
    "               driver='GTiff',\n",
    "               count=1,\n",
    "               transform = transform,\n",
    "               width=16,\n",
    "               height=16,\n",
    "               dtype='uint8',\n",
    "               crs=\"epsg:32654\",) as output_file:\n",
    "        output_file.write(PRED_IMG.astype('uint8'))"
   ]
  },
  {
   "cell_type": "code",
   "execution_count": null,
   "id": "4111c857-ed84-4211-aa39-25636cf5c1e4",
   "metadata": {},
   "outputs": [],
   "source": [
    "items = os.listdir('../data/inference/')\n",
    "img_list  = [names for names in items if names.endswith(\".tif\")]\n",
    "images = [rio.open('../data/inference/'+fname) for fname in img_list]\n",
    "full_image, transform = merge.merge(images)"
   ]
  },
  {
   "cell_type": "code",
   "execution_count": null,
   "id": "b2de0002-8adc-4bbb-a87a-dc9faa6b2d8f",
   "metadata": {},
   "outputs": [],
   "source": [
    "MOSAIC_PATH = '../data/inference_mosaic.tif'"
   ]
  },
  {
   "cell_type": "code",
   "execution_count": null,
   "id": "777f8882-2382-46ab-8833-c3ecc2d79168",
   "metadata": {},
   "outputs": [],
   "source": [
    "with rio.open(MOSAIC_PATH, \"w\",\n",
    "                   driver='GTiff',\n",
    "                   count=full_image.shape[0],\n",
    "                   transform = transform,\n",
    "                   width=full_image.shape[2],\n",
    "                   height=full_image.shape[1],\n",
    "                   dtype=full_image.dtype,\n",
    "                   crs=\"epsg:32654\",) as output_file:\n",
    "        output_file.write(full_image)"
   ]
  },
  {
   "cell_type": "code",
   "execution_count": null,
   "id": "b67633af-b7c1-4bdf-bee2-eb5bf85cdd32",
   "metadata": {},
   "outputs": [],
   "source": []
  }
 ],
 "metadata": {
  "kernelspec": {
   "display_name": "Python 3 (ipykernel)",
   "language": "python",
   "name": "python3"
  },
  "language_info": {
   "codemirror_mode": {
    "name": "ipython",
    "version": 3
   },
   "file_extension": ".py",
   "mimetype": "text/x-python",
   "name": "python",
   "nbconvert_exporter": "python",
   "pygments_lexer": "ipython3",
   "version": "3.8.13"
  }
 },
 "nbformat": 4,
 "nbformat_minor": 5
}
