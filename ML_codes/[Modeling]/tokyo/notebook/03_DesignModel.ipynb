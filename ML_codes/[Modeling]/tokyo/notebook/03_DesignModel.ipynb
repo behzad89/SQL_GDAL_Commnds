{
 "cells": [
  {
   "cell_type": "code",
   "execution_count": 1,
   "id": "07bef218-5690-400c-bc01-bd96424882c8",
   "metadata": {},
   "outputs": [],
   "source": [
    "import numpy as np\n",
    "import pandas as pd\n",
    "\n",
    "import torch\n",
    "import torchmetrics\n",
    "from torch import nn, optim"
   ]
  },
  {
   "cell_type": "code",
   "execution_count": 43,
   "id": "472b2e2d-0a8c-459e-a26a-4423e77e7929",
   "metadata": {},
   "outputs": [],
   "source": [
    "class PatchWiseClassModel01(nn.Module):\n",
    "    def __init__(self):\n",
    "        super().__init__()\n",
    "        \n",
    "        self.cnn_layers = nn.Sequential(\n",
    "                                          # input patches: 4*16*16 \n",
    "                                          nn.Conv2d(in_channels=4, out_channels=16, kernel_size=5, stride=1, padding='valid'),\n",
    "                                          nn.ReLU(inplace=True), # out size: 16*12*12\n",
    "                                          \n",
    "                                          nn.MaxPool2d(kernel_size=2, stride=2), # out size: 16*6*6\n",
    "            \n",
    "                                          nn.Conv2d(in_channels=16, out_channels=16, kernel_size=3, stride=1, padding='valid'),\n",
    "                                          nn.ReLU(inplace=True), # out size: 16*4*4\n",
    "            \n",
    "                                          nn.MaxPool2d(kernel_size=2, stride=2), # out size: 16*2*2\n",
    "            \n",
    "                                          nn.Conv2d(in_channels=16, out_channels=32, kernel_size=2, stride=1, padding='valid'),\n",
    "                                          nn.ReLU(inplace=True) # out size: 32*1*1\n",
    "        )\n",
    "        \n",
    "        self.linear_layers = nn.Sequential(\n",
    "                                            nn.Linear(32*1*1, 6),\n",
    "        )\n",
    "        \n",
    "    def forward(self,inPut):\n",
    "            X = self.cnn_layers(inPut)\n",
    "            X = X.view(-1,32*1*1)\n",
    "            estimated  = self.linear_layers(X)\n",
    "            return estimated"
   ]
  },
  {
   "cell_type": "code",
   "execution_count": 44,
   "id": "1ff8a9fa-1771-4062-8a6c-e859cf77b265",
   "metadata": {},
   "outputs": [],
   "source": [
    "class PatchWiseClassModel02(nn.Module):\n",
    "    def __init__(self):\n",
    "        super().__init__()\n",
    "        \n",
    "        self.cnn_layers = nn.Sequential(\n",
    "                                          # input patches: 4*16*16 \n",
    "                                          nn.Conv2d(in_channels=4, out_channels=16, kernel_size=5, stride=1, padding='valid'),\n",
    "                                          nn.ReLU(inplace=True), # out size: 16*12*12\n",
    "                                                      \n",
    "                                          nn.Conv2d(in_channels=16, out_channels=16, kernel_size=3, stride=1, padding='valid'),\n",
    "                                          nn.ReLU(inplace=True), # out size: 16*10*10\n",
    "            \n",
    "                                          nn.Conv2d(in_channels=16, out_channels=16, kernel_size=3, stride=1, padding='valid'),\n",
    "                                          nn.ReLU(inplace=True), # out size: 16*8*8\n",
    "            \n",
    "                                          nn.Conv2d(in_channels=16, out_channels=32, kernel_size=3, stride=1, padding='valid'),\n",
    "                                          nn.ReLU(inplace=True), # out size: 32*6*6\n",
    "\n",
    "                                          nn.Conv2d(in_channels=32, out_channels=32, kernel_size=3, stride=1, padding='valid'),\n",
    "                                          nn.ReLU(inplace=True), # out size: 32*4*4\n",
    "            \n",
    "                                          nn.Conv2d(in_channels=32, out_channels=32, kernel_size=3, stride=1, padding='valid'),\n",
    "                                          nn.ReLU(inplace=True), # out size: 32*2*2\n",
    "            \n",
    "                                          nn.Conv2d(in_channels=32, out_channels=32, kernel_size=2, stride=1, padding='valid'),\n",
    "                                          nn.ReLU(inplace=True) # out size: 32*1*1\n",
    "        )\n",
    "        self.linear_layers = nn.Sequential(\n",
    "                                            nn.Linear(32*1*1, 6),\n",
    "        )\n",
    "        \n",
    "    def forward(self,inPut):\n",
    "            X = self.cnn_layers(inPut)\n",
    "            X = X.view(-1,32*1*1)\n",
    "            estimated  = self.linear_layers(X)\n",
    "            return estimated"
   ]
  },
  {
   "cell_type": "code",
   "execution_count": 90,
   "id": "a044d595-9156-4652-9b1d-47259544edeb",
   "metadata": {},
   "outputs": [],
   "source": [
    "inPut = torch.rand(2,4,16,16)"
   ]
  },
  {
   "cell_type": "code",
   "execution_count": 91,
   "id": "c75345a1-41c5-4d23-aa51-dd01e756616e",
   "metadata": {},
   "outputs": [],
   "source": [
    "m = PatchWiseClassModel01()"
   ]
  },
  {
   "cell_type": "code",
   "execution_count": 92,
   "id": "47cb0f11-650e-49ee-b923-5fa2de6e55a8",
   "metadata": {},
   "outputs": [
    {
     "data": {
      "text/plain": [
       "torch.Size([2, 6])"
      ]
     },
     "execution_count": 92,
     "metadata": {},
     "output_type": "execute_result"
    }
   ],
   "source": [
    "m.forward(inPut).shape"
   ]
  },
  {
   "cell_type": "code",
   "execution_count": null,
   "id": "893f3214-0ad3-4483-890d-f4f68692d077",
   "metadata": {},
   "outputs": [],
   "source": []
  },
  {
   "cell_type": "code",
   "execution_count": null,
   "id": "39522dff-103c-474c-ad67-c6b82bc30530",
   "metadata": {},
   "outputs": [],
   "source": []
  }
 ],
 "metadata": {
  "kernelspec": {
   "display_name": "Python 3 (ipykernel)",
   "language": "python",
   "name": "python3"
  },
  "language_info": {
   "codemirror_mode": {
    "name": "ipython",
    "version": 3
   },
   "file_extension": ".py",
   "mimetype": "text/x-python",
   "name": "python",
   "nbconvert_exporter": "python",
   "pygments_lexer": "ipython3",
   "version": "3.8.13"
  }
 },
 "nbformat": 4,
 "nbformat_minor": 5
}
