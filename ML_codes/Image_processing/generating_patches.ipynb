{
 "cells": [
  {
   "cell_type": "code",
   "execution_count": 1,
   "metadata": {},
   "outputs": [],
   "source": [
    "import pandas as pd\n",
    "import numpy as np\n",
    "\n",
    "import geopandas as gpd\n",
    "from shapely.geometry import box\n",
    "import rasterio as rio\n",
    "import xarray as xr\n",
    "import rioxarray as rxr\n",
    "\n",
    "import os,sys"
   ]
  },
  {
   "cell_type": "markdown",
   "metadata": {},
   "source": [
    "# Regular Patches"
   ]
  },
  {
   "cell_type": "code",
   "execution_count": 2,
   "metadata": {},
   "outputs": [],
   "source": [
    "Xmin = 0\n",
    "Xmax = 100\n",
    "Ymin = 0\n",
    "Ymax = 100\n",
    "PATCH_SIZE = 10"
   ]
  },
  {
   "cell_type": "code",
   "execution_count": 3,
   "metadata": {},
   "outputs": [],
   "source": [
    "X = np.arange(Xmin + PATCH_SIZE, Xmax - PATCH_SIZE, PATCH_SIZE)\n",
    "Y = np.arange(Ymin + PATCH_SIZE, Ymax - PATCH_SIZE, PATCH_SIZE)\n",
    "VX,VY = np.meshgrid(X,Y)\n",
    "LEFT_CORNER = gpd.GeoSeries.from_xy(VX.flatten(),VY.flatten())\n",
    "patches = LEFT_CORNER.apply(lambda p: box(p.x,p.y,p.x + PATCH_SIZE, p.y + PATCH_SIZE))"
   ]
  },
  {
   "cell_type": "markdown",
   "metadata": {},
   "source": [
    "# IRregular patches"
   ]
  },
  {
   "cell_type": "markdown",
   "metadata": {},
   "source": [
    "## Random\n",
    "In this approach, the point can any place of the pixel, but it is important to consider pixel size when we determine the patch size"
   ]
  },
  {
   "cell_type": "code",
   "execution_count": 5,
   "metadata": {},
   "outputs": [],
   "source": [
    "NUM_PATCHs = 100\n",
    "PATCH_SIZE = 10 # pixel size is 1 meter\n",
    "Xmin = 0\n",
    "Xmax = 100\n",
    "Ymin = 0\n",
    "Ymax = 100\n",
    "MEASURE_AOI = Xmax - Xmin"
   ]
  },
  {
   "cell_type": "code",
   "execution_count": 16,
   "metadata": {},
   "outputs": [],
   "source": [
    "LEFT_CORNER = gpd.GeoSeries.from_xy(*(np.random.rand(2,NUM_PATCHs) * (MEASURE_AOI - PATCH_SIZE)) + np.array([[Xmin],[Ymin]]))\n",
    "patches = LEFT_CORNER.apply(lambda p: box(p.x,p.y,p.x + PATCH_SIZE, p.y + PATCH_SIZE))"
   ]
  },
  {
   "cell_type": "markdown",
   "metadata": {},
   "source": [
    "## Pixel_based\n",
    "In this approach, the corner of the each pixel would be selected to generate a patch. E.g. for patch size 10 * 10 PXs, the piuxel size play an important role\n"
   ]
  },
  {
   "cell_type": "code",
   "execution_count": 24,
   "metadata": {},
   "outputs": [],
   "source": [
    "NUM_PATCHs = 100\n",
    "PATCH_SIZE = 10\n",
    "PIXEL_SIZE = 1\n",
    "Xmin = 0\n",
    "Xmax = 100\n",
    "Ymin = 0\n",
    "Ymax = 100\n",
    "MEASURE_AOI = Xmax - Xmin"
   ]
  },
  {
   "cell_type": "code",
   "execution_count": 25,
   "metadata": {},
   "outputs": [],
   "source": [
    "LEFT_CORNER = gpd.GeoSeries.from_xy(*(np.random.randint(0,MEASURE_AOI,(2,NUM_PATCHs)) * PIXEL_SIZE) + np.array([[Xmin],[Ymin]]))\n",
    "patches = LEFT_CORNER.apply(lambda p: box(p.x,p.y,p.x + PATCH_SIZE, p.y + PATCH_SIZE))"
   ]
  },
  {
   "cell_type": "code",
   "execution_count": null,
   "metadata": {},
   "outputs": [],
   "source": []
  }
 ],
 "metadata": {
  "interpreter": {
   "hash": "2fe7b1d09348078e537ad7803b07209ef10a9136e840d066fc04cdee23bd08e8"
  },
  "kernelspec": {
   "display_name": "Python 3.8.13 ('prj_01': conda)",
   "language": "python",
   "name": "python3"
  },
  "language_info": {
   "codemirror_mode": {
    "name": "ipython",
    "version": 3
   },
   "file_extension": ".py",
   "mimetype": "text/x-python",
   "name": "python",
   "nbconvert_exporter": "python",
   "pygments_lexer": "ipython3",
   "version": "3.8.13"
  },
  "orig_nbformat": 4
 },
 "nbformat": 4,
 "nbformat_minor": 2
}
