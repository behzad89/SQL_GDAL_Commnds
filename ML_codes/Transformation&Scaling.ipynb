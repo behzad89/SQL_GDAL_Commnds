{
 "cells": [
  {
   "cell_type": "markdown",
   "id": "5ae990f2-4755-4821-b3f2-a60818867b65",
   "metadata": {},
   "source": [
    "# Transformation & Scalling\n",
    "\n",
    "1. Standardization\n",
    "2. Scaling to Minimum and Maximum\n",
    "3. Scaling to Median and Quantiles (Robust scaling)\n",
    "4. Gaussian Transformation\n",
    "* Logarithmic transformation\n",
    "* Reciprocal transformation\n",
    "* Squar root transformation\n",
    "* Exponential transformation\n",
    "* Box Cox transformation"
   ]
  },
  {
   "cell_type": "code",
   "execution_count": 87,
   "id": "630a0ae6-2551-4ffd-9800-840a14c8bcc6",
   "metadata": {},
   "outputs": [],
   "source": [
    "import numpy as np\n",
    "import pandas as pd\n",
    "import seaborn as sns\n",
    "import matplotlib.pyplot as plt\n",
    "import os\n",
    "\n",
    "#scaling\n",
    "from sklearn.impute import SimpleImputer\n",
    "from sklearn.preprocessing import StandardScaler\n",
    "from sklearn.preprocessing import MinMaxScaler\n",
    "from sklearn.preprocessing import RobustScaler\n",
    "\n",
    "#transformation\n",
    "\n",
    "import scipy.stats as stats\n",
    "import pylab"
   ]
  },
  {
   "cell_type": "code",
   "execution_count": 57,
   "id": "b7831a2d-2cd7-455d-8c01-3fea4f7edccf",
   "metadata": {},
   "outputs": [],
   "source": [
    "pd.set_option('display.float_format', lambda x: '%.5f' % x)"
   ]
  },
  {
   "cell_type": "markdown",
   "id": "8ce3735a-3336-4019-aeb4-83df31a11f56",
   "metadata": {},
   "source": [
    "## Scaling"
   ]
  },
  {
   "cell_type": "markdown",
   "id": "5d4d2a61-550b-4049-a93c-d9ccd650fb59",
   "metadata": {},
   "source": [
    "### Standardization\n",
    "\n",
    "It was tried to bring all the variables/features to a similar scale. Standardization means centering the variable at zero. \n",
    "\n",
    "`z=(x - x_mean)/std`"
   ]
  },
  {
   "cell_type": "code",
   "execution_count": 2,
   "id": "77a5a663-7337-46e5-8a43-70a1d0e588f0",
   "metadata": {},
   "outputs": [],
   "source": [
    "data = pd.read_csv('https://raw.githubusercontent.com/krishnaik06/Feature-Engineering-Live-sessions/master/titanic.csv', usecols=['Pclass', 'Age', 'Fare', 'Survived'])"
   ]
  },
  {
   "cell_type": "code",
   "execution_count": 19,
   "id": "37a8367f-6ad5-4088-add8-282ea64a7064",
   "metadata": {},
   "outputs": [
    {
     "data": {
      "text/html": [
       "<div>\n",
       "<style scoped>\n",
       "    .dataframe tbody tr th:only-of-type {\n",
       "        vertical-align: middle;\n",
       "    }\n",
       "\n",
       "    .dataframe tbody tr th {\n",
       "        vertical-align: top;\n",
       "    }\n",
       "\n",
       "    .dataframe thead th {\n",
       "        text-align: right;\n",
       "    }\n",
       "</style>\n",
       "<table border=\"1\" class=\"dataframe\">\n",
       "  <thead>\n",
       "    <tr style=\"text-align: right;\">\n",
       "      <th></th>\n",
       "      <th>Survived</th>\n",
       "      <th>Pclass</th>\n",
       "      <th>Age</th>\n",
       "      <th>Fare</th>\n",
       "    </tr>\n",
       "  </thead>\n",
       "  <tbody>\n",
       "    <tr>\n",
       "      <th>886</th>\n",
       "      <td>0</td>\n",
       "      <td>2</td>\n",
       "      <td>27.0</td>\n",
       "      <td>13.00</td>\n",
       "    </tr>\n",
       "    <tr>\n",
       "      <th>887</th>\n",
       "      <td>1</td>\n",
       "      <td>1</td>\n",
       "      <td>19.0</td>\n",
       "      <td>30.00</td>\n",
       "    </tr>\n",
       "    <tr>\n",
       "      <th>888</th>\n",
       "      <td>0</td>\n",
       "      <td>3</td>\n",
       "      <td>NaN</td>\n",
       "      <td>23.45</td>\n",
       "    </tr>\n",
       "    <tr>\n",
       "      <th>889</th>\n",
       "      <td>1</td>\n",
       "      <td>1</td>\n",
       "      <td>26.0</td>\n",
       "      <td>30.00</td>\n",
       "    </tr>\n",
       "    <tr>\n",
       "      <th>890</th>\n",
       "      <td>0</td>\n",
       "      <td>3</td>\n",
       "      <td>32.0</td>\n",
       "      <td>7.75</td>\n",
       "    </tr>\n",
       "  </tbody>\n",
       "</table>\n",
       "</div>"
      ],
      "text/plain": [
       "     Survived  Pclass   Age   Fare\n",
       "886         0       2  27.0  13.00\n",
       "887         1       1  19.0  30.00\n",
       "888         0       3   NaN  23.45\n",
       "889         1       1  26.0  30.00\n",
       "890         0       3  32.0   7.75"
      ]
     },
     "execution_count": 19,
     "metadata": {},
     "output_type": "execute_result"
    }
   ],
   "source": [
    "df01 = data.copy()\n",
    "df01.tail()"
   ]
  },
  {
   "cell_type": "code",
   "execution_count": 20,
   "id": "54729e58-0771-4366-aa0d-ba01384f134e",
   "metadata": {},
   "outputs": [
    {
     "data": {
      "text/plain": [
       "Survived      0\n",
       "Pclass        0\n",
       "Age         177\n",
       "Fare          0\n",
       "dtype: int64"
      ]
     },
     "execution_count": 20,
     "metadata": {},
     "output_type": "execute_result"
    }
   ],
   "source": [
    "df01.isna().sum()"
   ]
  },
  {
   "cell_type": "code",
   "execution_count": 21,
   "id": "3eedf82b-0d4c-4740-b1f2-b6ba3bc49c46",
   "metadata": {},
   "outputs": [],
   "source": [
    "# It is required to fill the NAN values in the age - In this case, we applied the constant technique to fill NAN\n",
    "imp_median = SimpleImputer(missing_values=np.nan, strategy='median')\n",
    "df01['Age'] = imp_median.fit_transform(df01[['Age']])"
   ]
  },
  {
   "cell_type": "code",
   "execution_count": 22,
   "id": "00c3ac05-2827-48fa-97c1-44141c3cb9bd",
   "metadata": {},
   "outputs": [
    {
     "data": {
      "text/plain": [
       "Survived    0\n",
       "Pclass      0\n",
       "Age         0\n",
       "Fare        0\n",
       "dtype: int64"
      ]
     },
     "execution_count": 22,
     "metadata": {},
     "output_type": "execute_result"
    }
   ],
   "source": [
    "df01.isna().sum()"
   ]
  },
  {
   "cell_type": "code",
   "execution_count": 23,
   "id": "1689b14b-d12c-4ea5-a84f-3e1f373860bd",
   "metadata": {},
   "outputs": [
    {
     "data": {
      "text/html": [
       "<div>\n",
       "<style scoped>\n",
       "    .dataframe tbody tr th:only-of-type {\n",
       "        vertical-align: middle;\n",
       "    }\n",
       "\n",
       "    .dataframe tbody tr th {\n",
       "        vertical-align: top;\n",
       "    }\n",
       "\n",
       "    .dataframe thead th {\n",
       "        text-align: right;\n",
       "    }\n",
       "</style>\n",
       "<table border=\"1\" class=\"dataframe\">\n",
       "  <thead>\n",
       "    <tr style=\"text-align: right;\">\n",
       "      <th></th>\n",
       "      <th>Survived</th>\n",
       "      <th>Pclass</th>\n",
       "      <th>Age</th>\n",
       "      <th>Fare</th>\n",
       "    </tr>\n",
       "  </thead>\n",
       "  <tbody>\n",
       "    <tr>\n",
       "      <th>886</th>\n",
       "      <td>0</td>\n",
       "      <td>2</td>\n",
       "      <td>27.0</td>\n",
       "      <td>13.00</td>\n",
       "    </tr>\n",
       "    <tr>\n",
       "      <th>887</th>\n",
       "      <td>1</td>\n",
       "      <td>1</td>\n",
       "      <td>19.0</td>\n",
       "      <td>30.00</td>\n",
       "    </tr>\n",
       "    <tr>\n",
       "      <th>888</th>\n",
       "      <td>0</td>\n",
       "      <td>3</td>\n",
       "      <td>28.0</td>\n",
       "      <td>23.45</td>\n",
       "    </tr>\n",
       "    <tr>\n",
       "      <th>889</th>\n",
       "      <td>1</td>\n",
       "      <td>1</td>\n",
       "      <td>26.0</td>\n",
       "      <td>30.00</td>\n",
       "    </tr>\n",
       "    <tr>\n",
       "      <th>890</th>\n",
       "      <td>0</td>\n",
       "      <td>3</td>\n",
       "      <td>32.0</td>\n",
       "      <td>7.75</td>\n",
       "    </tr>\n",
       "  </tbody>\n",
       "</table>\n",
       "</div>"
      ],
      "text/plain": [
       "     Survived  Pclass   Age   Fare\n",
       "886         0       2  27.0  13.00\n",
       "887         1       1  19.0  30.00\n",
       "888         0       3  28.0  23.45\n",
       "889         1       1  26.0  30.00\n",
       "890         0       3  32.0   7.75"
      ]
     },
     "execution_count": 23,
     "metadata": {},
     "output_type": "execute_result"
    }
   ],
   "source": [
    "df01.tail()"
   ]
  },
  {
   "cell_type": "code",
   "execution_count": 26,
   "id": "ec93aeb9-6f4f-4bb9-91e7-2e54d06cb9db",
   "metadata": {},
   "outputs": [],
   "source": [
    "scaler = StandardScaler()\n",
    "\n",
    "# Fir vs fit_transform: Apply the algorithm, fit would be used and to appyl algorithm and to apply it to the data, fit_transform is used\n",
    "df01_scale = scaler.fit_transform(df01)"
   ]
  },
  {
   "cell_type": "code",
   "execution_count": 58,
   "id": "bedf4aa7-e912-4572-b62c-7a11472197e2",
   "metadata": {},
   "outputs": [
    {
     "data": {
      "text/html": [
       "<div>\n",
       "<style scoped>\n",
       "    .dataframe tbody tr th:only-of-type {\n",
       "        vertical-align: middle;\n",
       "    }\n",
       "\n",
       "    .dataframe tbody tr th {\n",
       "        vertical-align: top;\n",
       "    }\n",
       "\n",
       "    .dataframe thead th {\n",
       "        text-align: right;\n",
       "    }\n",
       "</style>\n",
       "<table border=\"1\" class=\"dataframe\">\n",
       "  <thead>\n",
       "    <tr style=\"text-align: right;\">\n",
       "      <th></th>\n",
       "      <th>Survived</th>\n",
       "      <th>Pclass</th>\n",
       "      <th>Age</th>\n",
       "      <th>Fare</th>\n",
       "    </tr>\n",
       "  </thead>\n",
       "  <tbody>\n",
       "    <tr>\n",
       "      <th>count</th>\n",
       "      <td>891.00000</td>\n",
       "      <td>891.00000</td>\n",
       "      <td>891.00000</td>\n",
       "      <td>891.00000</td>\n",
       "    </tr>\n",
       "    <tr>\n",
       "      <th>mean</th>\n",
       "      <td>0.00000</td>\n",
       "      <td>-0.00000</td>\n",
       "      <td>0.00000</td>\n",
       "      <td>0.00000</td>\n",
       "    </tr>\n",
       "    <tr>\n",
       "      <th>std</th>\n",
       "      <td>1.00056</td>\n",
       "      <td>1.00056</td>\n",
       "      <td>1.00056</td>\n",
       "      <td>1.00056</td>\n",
       "    </tr>\n",
       "    <tr>\n",
       "      <th>min</th>\n",
       "      <td>-0.78927</td>\n",
       "      <td>-1.56611</td>\n",
       "      <td>-2.22416</td>\n",
       "      <td>-0.64842</td>\n",
       "    </tr>\n",
       "    <tr>\n",
       "      <th>25%</th>\n",
       "      <td>-0.78927</td>\n",
       "      <td>-0.36936</td>\n",
       "      <td>-0.56574</td>\n",
       "      <td>-0.48915</td>\n",
       "    </tr>\n",
       "    <tr>\n",
       "      <th>50%</th>\n",
       "      <td>-0.78927</td>\n",
       "      <td>0.82738</td>\n",
       "      <td>-0.10464</td>\n",
       "      <td>-0.35739</td>\n",
       "    </tr>\n",
       "    <tr>\n",
       "      <th>75%</th>\n",
       "      <td>1.26699</td>\n",
       "      <td>0.82738</td>\n",
       "      <td>0.43331</td>\n",
       "      <td>-0.02425</td>\n",
       "    </tr>\n",
       "    <tr>\n",
       "      <th>max</th>\n",
       "      <td>1.26699</td>\n",
       "      <td>0.82738</td>\n",
       "      <td>3.89155</td>\n",
       "      <td>9.66717</td>\n",
       "    </tr>\n",
       "  </tbody>\n",
       "</table>\n",
       "</div>"
      ],
      "text/plain": [
       "       Survived    Pclass       Age      Fare\n",
       "count 891.00000 891.00000 891.00000 891.00000\n",
       "mean    0.00000  -0.00000   0.00000   0.00000\n",
       "std     1.00056   1.00056   1.00056   1.00056\n",
       "min    -0.78927  -1.56611  -2.22416  -0.64842\n",
       "25%    -0.78927  -0.36936  -0.56574  -0.48915\n",
       "50%    -0.78927   0.82738  -0.10464  -0.35739\n",
       "75%     1.26699   0.82738   0.43331  -0.02425\n",
       "max     1.26699   0.82738   3.89155   9.66717"
      ]
     },
     "execution_count": 58,
     "metadata": {},
     "output_type": "execute_result"
    }
   ],
   "source": [
    "df01_scale = pd.DataFrame(df01_scale,columns=df01.columns)\n",
    "df01_scale.describe()"
   ]
  },
  {
   "cell_type": "code",
   "execution_count": 46,
   "id": "c7f00fdf-baae-4927-935c-2a8ab0e16a5e",
   "metadata": {},
   "outputs": [
    {
     "data": {
      "image/png": "[encoded data removed]",
      "text/plain": [
       "<Figure size 432x288 with 1 Axes>"
      ]
     },
     "metadata": {
      "needs_background": "light"
     },
     "output_type": "display_data"
    }
   ],
   "source": [
    "plt.hist(df01_scale['Age'],bins=20)\n",
    "plt.show()"
   ]
  },
  {
   "cell_type": "markdown",
   "id": "11d1a9ab-4864-4a0e-9718-e4b7b9242b5e",
   "metadata": {},
   "source": [
    "### Min-Max Scaling\n",
    "\n",
    "Min-Max scaling sclaes the values between 0 an 1.\n",
    "\n",
    "`X_scaled = (X - X.min/(X.max - X.min))`"
   ]
  },
  {
   "cell_type": "code",
   "execution_count": 67,
   "id": "6ecd56bf-a6af-461c-9156-5aa4ea2799af",
   "metadata": {},
   "outputs": [
    {
     "data": {
      "text/html": [
       "<div>\n",
       "<style scoped>\n",
       "    .dataframe tbody tr th:only-of-type {\n",
       "        vertical-align: middle;\n",
       "    }\n",
       "\n",
       "    .dataframe tbody tr th {\n",
       "        vertical-align: top;\n",
       "    }\n",
       "\n",
       "    .dataframe thead th {\n",
       "        text-align: right;\n",
       "    }\n",
       "</style>\n",
       "<table border=\"1\" class=\"dataframe\">\n",
       "  <thead>\n",
       "    <tr style=\"text-align: right;\">\n",
       "      <th></th>\n",
       "      <th>Survived</th>\n",
       "      <th>Pclass</th>\n",
       "      <th>Age</th>\n",
       "      <th>Fare</th>\n",
       "    </tr>\n",
       "  </thead>\n",
       "  <tbody>\n",
       "    <tr>\n",
       "      <th>886</th>\n",
       "      <td>0</td>\n",
       "      <td>2</td>\n",
       "      <td>27.00000</td>\n",
       "      <td>13.00000</td>\n",
       "    </tr>\n",
       "    <tr>\n",
       "      <th>887</th>\n",
       "      <td>1</td>\n",
       "      <td>1</td>\n",
       "      <td>19.00000</td>\n",
       "      <td>30.00000</td>\n",
       "    </tr>\n",
       "    <tr>\n",
       "      <th>888</th>\n",
       "      <td>0</td>\n",
       "      <td>3</td>\n",
       "      <td>28.00000</td>\n",
       "      <td>23.45000</td>\n",
       "    </tr>\n",
       "    <tr>\n",
       "      <th>889</th>\n",
       "      <td>1</td>\n",
       "      <td>1</td>\n",
       "      <td>26.00000</td>\n",
       "      <td>30.00000</td>\n",
       "    </tr>\n",
       "    <tr>\n",
       "      <th>890</th>\n",
       "      <td>0</td>\n",
       "      <td>3</td>\n",
       "      <td>32.00000</td>\n",
       "      <td>7.75000</td>\n",
       "    </tr>\n",
       "  </tbody>\n",
       "</table>\n",
       "</div>"
      ],
      "text/plain": [
       "     Survived  Pclass      Age     Fare\n",
       "886         0       2 27.00000 13.00000\n",
       "887         1       1 19.00000 30.00000\n",
       "888         0       3 28.00000 23.45000\n",
       "889         1       1 26.00000 30.00000\n",
       "890         0       3 32.00000  7.75000"
      ]
     },
     "execution_count": 67,
     "metadata": {},
     "output_type": "execute_result"
    }
   ],
   "source": [
    "df02 = df01.copy()\n",
    "df02.tail()"
   ]
  },
  {
   "cell_type": "code",
   "execution_count": 68,
   "id": "ee8d39ba-ff79-4bc7-8b94-f009d1781d09",
   "metadata": {},
   "outputs": [
    {
     "data": {
      "text/html": [
       "<div>\n",
       "<style scoped>\n",
       "    .dataframe tbody tr th:only-of-type {\n",
       "        vertical-align: middle;\n",
       "    }\n",
       "\n",
       "    .dataframe tbody tr th {\n",
       "        vertical-align: top;\n",
       "    }\n",
       "\n",
       "    .dataframe thead th {\n",
       "        text-align: right;\n",
       "    }\n",
       "</style>\n",
       "<table border=\"1\" class=\"dataframe\">\n",
       "  <thead>\n",
       "    <tr style=\"text-align: right;\">\n",
       "      <th></th>\n",
       "      <th>Survived</th>\n",
       "      <th>Pclass</th>\n",
       "      <th>Age</th>\n",
       "      <th>Fare</th>\n",
       "    </tr>\n",
       "  </thead>\n",
       "  <tbody>\n",
       "    <tr>\n",
       "      <th>count</th>\n",
       "      <td>891.00000</td>\n",
       "      <td>891.00000</td>\n",
       "      <td>891.00000</td>\n",
       "      <td>891.00000</td>\n",
       "    </tr>\n",
       "    <tr>\n",
       "      <th>mean</th>\n",
       "      <td>0.38384</td>\n",
       "      <td>0.65432</td>\n",
       "      <td>0.36368</td>\n",
       "      <td>0.06286</td>\n",
       "    </tr>\n",
       "    <tr>\n",
       "      <th>std</th>\n",
       "      <td>0.48659</td>\n",
       "      <td>0.41804</td>\n",
       "      <td>0.16361</td>\n",
       "      <td>0.09700</td>\n",
       "    </tr>\n",
       "    <tr>\n",
       "      <th>min</th>\n",
       "      <td>0.00000</td>\n",
       "      <td>0.00000</td>\n",
       "      <td>0.00000</td>\n",
       "      <td>0.00000</td>\n",
       "    </tr>\n",
       "    <tr>\n",
       "      <th>25%</th>\n",
       "      <td>0.00000</td>\n",
       "      <td>0.50000</td>\n",
       "      <td>0.27117</td>\n",
       "      <td>0.01544</td>\n",
       "    </tr>\n",
       "    <tr>\n",
       "      <th>50%</th>\n",
       "      <td>0.00000</td>\n",
       "      <td>1.00000</td>\n",
       "      <td>0.34657</td>\n",
       "      <td>0.02821</td>\n",
       "    </tr>\n",
       "    <tr>\n",
       "      <th>75%</th>\n",
       "      <td>1.00000</td>\n",
       "      <td>1.00000</td>\n",
       "      <td>0.43453</td>\n",
       "      <td>0.06051</td>\n",
       "    </tr>\n",
       "    <tr>\n",
       "      <th>max</th>\n",
       "      <td>1.00000</td>\n",
       "      <td>1.00000</td>\n",
       "      <td>1.00000</td>\n",
       "      <td>1.00000</td>\n",
       "    </tr>\n",
       "  </tbody>\n",
       "</table>\n",
       "</div>"
      ],
      "text/plain": [
       "       Survived    Pclass       Age      Fare\n",
       "count 891.00000 891.00000 891.00000 891.00000\n",
       "mean    0.38384   0.65432   0.36368   0.06286\n",
       "std     0.48659   0.41804   0.16361   0.09700\n",
       "min     0.00000   0.00000   0.00000   0.00000\n",
       "25%     0.00000   0.50000   0.27117   0.01544\n",
       "50%     0.00000   1.00000   0.34657   0.02821\n",
       "75%     1.00000   1.00000   0.43453   0.06051\n",
       "max     1.00000   1.00000   1.00000   1.00000"
      ]
     },
     "execution_count": 68,
     "metadata": {},
     "output_type": "execute_result"
    }
   ],
   "source": [
    "min_max = MinMaxScaler()\n",
    "df_minmax = pd.DataFrame(min_max.fit_transform(df02),columns=df02.columns)\n",
    "df_minmax.describe()"
   ]
  },
  {
   "cell_type": "code",
   "execution_count": 71,
   "id": "ebb2f9d7-6bbf-4d84-a06c-17774c232a76",
   "metadata": {},
   "outputs": [
    {
     "data": {
      "image/png": "[encoded data removed]",
      "text/plain": [
       "<Figure size 432x288 with 1 Axes>"
      ]
     },
     "metadata": {
      "needs_background": "light"
     },
     "output_type": "display_data"
    }
   ],
   "source": [
    "plt.hist(df_minmax['Age'],bins=20)\n",
    "plt.show()"
   ]
  },
  {
   "cell_type": "markdown",
   "id": "a61f367c-1906-4c3f-b077-084487acaaac",
   "metadata": {},
   "source": [
    "### Robust scaling\n",
    "It is used to scale the feature to median and quantiles. When the distribution of the feature is skewed, perhaps it is good to use robust scaling techniques since it is robust\n",
    "to presense fo outliers.\n",
    "\n",
    "`IQR = 75th quantile - 25th quantile`\n",
    "\n",
    "`X_scale = (X - X.median) / IQR`"
   ]
  },
  {
   "cell_type": "code",
   "execution_count": 73,
   "id": "f6effabe-ce2d-4c37-a0dd-61ee26dfe689",
   "metadata": {},
   "outputs": [
    {
     "data": {
      "text/html": [
       "<div>\n",
       "<style scoped>\n",
       "    .dataframe tbody tr th:only-of-type {\n",
       "        vertical-align: middle;\n",
       "    }\n",
       "\n",
       "    .dataframe tbody tr th {\n",
       "        vertical-align: top;\n",
       "    }\n",
       "\n",
       "    .dataframe thead th {\n",
       "        text-align: right;\n",
       "    }\n",
       "</style>\n",
       "<table border=\"1\" class=\"dataframe\">\n",
       "  <thead>\n",
       "    <tr style=\"text-align: right;\">\n",
       "      <th></th>\n",
       "      <th>Survived</th>\n",
       "      <th>Pclass</th>\n",
       "      <th>Age</th>\n",
       "      <th>Fare</th>\n",
       "    </tr>\n",
       "  </thead>\n",
       "  <tbody>\n",
       "    <tr>\n",
       "      <th>0</th>\n",
       "      <td>0</td>\n",
       "      <td>3</td>\n",
       "      <td>22.00000</td>\n",
       "      <td>7.25000</td>\n",
       "    </tr>\n",
       "    <tr>\n",
       "      <th>1</th>\n",
       "      <td>1</td>\n",
       "      <td>1</td>\n",
       "      <td>38.00000</td>\n",
       "      <td>71.28330</td>\n",
       "    </tr>\n",
       "    <tr>\n",
       "      <th>2</th>\n",
       "      <td>1</td>\n",
       "      <td>3</td>\n",
       "      <td>26.00000</td>\n",
       "      <td>7.92500</td>\n",
       "    </tr>\n",
       "    <tr>\n",
       "      <th>3</th>\n",
       "      <td>1</td>\n",
       "      <td>1</td>\n",
       "      <td>35.00000</td>\n",
       "      <td>53.10000</td>\n",
       "    </tr>\n",
       "    <tr>\n",
       "      <th>4</th>\n",
       "      <td>0</td>\n",
       "      <td>3</td>\n",
       "      <td>35.00000</td>\n",
       "      <td>8.05000</td>\n",
       "    </tr>\n",
       "  </tbody>\n",
       "</table>\n",
       "</div>"
      ],
      "text/plain": [
       "   Survived  Pclass      Age     Fare\n",
       "0         0       3 22.00000  7.25000\n",
       "1         1       1 38.00000 71.28330\n",
       "2         1       3 26.00000  7.92500\n",
       "3         1       1 35.00000 53.10000\n",
       "4         0       3 35.00000  8.05000"
      ]
     },
     "execution_count": 73,
     "metadata": {},
     "output_type": "execute_result"
    }
   ],
   "source": [
    "df03 = df01.copy()\n",
    "df03.head()"
   ]
  },
  {
   "cell_type": "code",
   "execution_count": 74,
   "id": "c0d3e180-a015-4a81-a292-6612d8281017",
   "metadata": {},
   "outputs": [
    {
     "data": {
      "text/html": [
       "<div>\n",
       "<style scoped>\n",
       "    .dataframe tbody tr th:only-of-type {\n",
       "        vertical-align: middle;\n",
       "    }\n",
       "\n",
       "    .dataframe tbody tr th {\n",
       "        vertical-align: top;\n",
       "    }\n",
       "\n",
       "    .dataframe thead th {\n",
       "        text-align: right;\n",
       "    }\n",
       "</style>\n",
       "<table border=\"1\" class=\"dataframe\">\n",
       "  <thead>\n",
       "    <tr style=\"text-align: right;\">\n",
       "      <th></th>\n",
       "      <th>Survived</th>\n",
       "      <th>Pclass</th>\n",
       "      <th>Age</th>\n",
       "      <th>Fare</th>\n",
       "    </tr>\n",
       "  </thead>\n",
       "  <tbody>\n",
       "    <tr>\n",
       "      <th>count</th>\n",
       "      <td>891.00000</td>\n",
       "      <td>891.00000</td>\n",
       "      <td>891.00000</td>\n",
       "      <td>891.00000</td>\n",
       "    </tr>\n",
       "    <tr>\n",
       "      <th>mean</th>\n",
       "      <td>0.38384</td>\n",
       "      <td>-0.69136</td>\n",
       "      <td>0.10474</td>\n",
       "      <td>0.76874</td>\n",
       "    </tr>\n",
       "    <tr>\n",
       "      <th>std</th>\n",
       "      <td>0.48659</td>\n",
       "      <td>0.83607</td>\n",
       "      <td>1.00152</td>\n",
       "      <td>2.15220</td>\n",
       "    </tr>\n",
       "    <tr>\n",
       "      <th>min</th>\n",
       "      <td>0.00000</td>\n",
       "      <td>-2.00000</td>\n",
       "      <td>-2.12154</td>\n",
       "      <td>-0.62600</td>\n",
       "    </tr>\n",
       "    <tr>\n",
       "      <th>25%</th>\n",
       "      <td>0.00000</td>\n",
       "      <td>-1.00000</td>\n",
       "      <td>-0.46154</td>\n",
       "      <td>-0.28341</td>\n",
       "    </tr>\n",
       "    <tr>\n",
       "      <th>50%</th>\n",
       "      <td>0.00000</td>\n",
       "      <td>0.00000</td>\n",
       "      <td>0.00000</td>\n",
       "      <td>0.00000</td>\n",
       "    </tr>\n",
       "    <tr>\n",
       "      <th>75%</th>\n",
       "      <td>1.00000</td>\n",
       "      <td>0.00000</td>\n",
       "      <td>0.53846</td>\n",
       "      <td>0.71659</td>\n",
       "    </tr>\n",
       "    <tr>\n",
       "      <th>max</th>\n",
       "      <td>1.00000</td>\n",
       "      <td>0.00000</td>\n",
       "      <td>4.00000</td>\n",
       "      <td>21.56274</td>\n",
       "    </tr>\n",
       "  </tbody>\n",
       "</table>\n",
       "</div>"
      ],
      "text/plain": [
       "       Survived    Pclass       Age      Fare\n",
       "count 891.00000 891.00000 891.00000 891.00000\n",
       "mean    0.38384  -0.69136   0.10474   0.76874\n",
       "std     0.48659   0.83607   1.00152   2.15220\n",
       "min     0.00000  -2.00000  -2.12154  -0.62600\n",
       "25%     0.00000  -1.00000  -0.46154  -0.28341\n",
       "50%     0.00000   0.00000   0.00000   0.00000\n",
       "75%     1.00000   0.00000   0.53846   0.71659\n",
       "max     1.00000   0.00000   4.00000  21.56274"
      ]
     },
     "execution_count": 74,
     "metadata": {},
     "output_type": "execute_result"
    }
   ],
   "source": [
    "rob_sacale = RobustScaler()\n",
    "df_robust = pd.DataFrame(rob_sacale.fit_transform(df03),columns=df03.columns)\n",
    "df_robust.describe()"
   ]
  },
  {
   "cell_type": "code",
   "execution_count": 75,
   "id": "22c4595f-069f-47ba-b431-ce9ab85be163",
   "metadata": {},
   "outputs": [
    {
     "data": {
      "image/png": "[encoded data removed]",
      "text/plain": [
       "<Figure size 432x288 with 1 Axes>"
      ]
     },
     "metadata": {
      "needs_background": "light"
     },
     "output_type": "display_data"
    }
   ],
   "source": [
    "plt.hist(df_robust['Fare'],bins=20)\n",
    "plt.show()"
   ]
  },
  {
   "cell_type": "code",
   "execution_count": 76,
   "id": "aab6e424-6830-45d7-8784-9d3569b1a777",
   "metadata": {},
   "outputs": [
    {
     "data": {
      "image/png": "[encoded data removed]",
      "text/plain": [
       "<Figure size 432x288 with 1 Axes>"
      ]
     },
     "metadata": {
      "needs_background": "light"
     },
     "output_type": "display_data"
    }
   ],
   "source": [
    "plt.hist(data['Fare'],bins=20)\n",
    "plt.show()"
   ]
  },
  {
   "cell_type": "markdown",
   "id": "dd80fd77-4b5d-4dfa-bce3-1d84f1ef1297",
   "metadata": {},
   "source": [
    "# Transformation\n",
    "\n",
    "Some ML algorithm including linear & logistic regression assume that the features are normally distributed, can have better performance\n",
    "\n",
    "`To check if the feature is Guassian or normal distributed, Q-Q plot can be used`"
   ]
  },
  {
   "cell_type": "markdown",
   "id": "3a632060-792c-44fc-8a32-5872799ad59e",
   "metadata": {},
   "source": [
    "## Logarithmic transformation\n",
    "\n",
    "This technique would work well when the data is left/right skewed\n",
    "\n",
    "Methods to deal with zero values while performing log transformation of variable is to add a constant value (1) to each value of variable then take a log transformation\n",
    "\n",
    "`log(x+1) which has the neat feature that 0 maps to 0.`\n",
    "\n",
    "`log(x+c) where c is either estimated or set to be some very small positive value.`"
   ]
  },
  {
   "cell_type": "code",
   "execution_count": 79,
   "id": "02ccea24-da2d-46f2-a1af-d8d06f1b1db7",
   "metadata": {},
   "outputs": [
    {
     "data": {
      "text/html": [
       "<div>\n",
       "<style scoped>\n",
       "    .dataframe tbody tr th:only-of-type {\n",
       "        vertical-align: middle;\n",
       "    }\n",
       "\n",
       "    .dataframe tbody tr th {\n",
       "        vertical-align: top;\n",
       "    }\n",
       "\n",
       "    .dataframe thead th {\n",
       "        text-align: right;\n",
       "    }\n",
       "</style>\n",
       "<table border=\"1\" class=\"dataframe\">\n",
       "  <thead>\n",
       "    <tr style=\"text-align: right;\">\n",
       "      <th></th>\n",
       "      <th>Survived</th>\n",
       "      <th>Pclass</th>\n",
       "      <th>Age</th>\n",
       "      <th>Fare</th>\n",
       "    </tr>\n",
       "  </thead>\n",
       "  <tbody>\n",
       "    <tr>\n",
       "      <th>0</th>\n",
       "      <td>0</td>\n",
       "      <td>3</td>\n",
       "      <td>22.00000</td>\n",
       "      <td>7.25000</td>\n",
       "    </tr>\n",
       "    <tr>\n",
       "      <th>1</th>\n",
       "      <td>1</td>\n",
       "      <td>1</td>\n",
       "      <td>38.00000</td>\n",
       "      <td>71.28330</td>\n",
       "    </tr>\n",
       "    <tr>\n",
       "      <th>2</th>\n",
       "      <td>1</td>\n",
       "      <td>3</td>\n",
       "      <td>26.00000</td>\n",
       "      <td>7.92500</td>\n",
       "    </tr>\n",
       "    <tr>\n",
       "      <th>3</th>\n",
       "      <td>1</td>\n",
       "      <td>1</td>\n",
       "      <td>35.00000</td>\n",
       "      <td>53.10000</td>\n",
       "    </tr>\n",
       "    <tr>\n",
       "      <th>4</th>\n",
       "      <td>0</td>\n",
       "      <td>3</td>\n",
       "      <td>35.00000</td>\n",
       "      <td>8.05000</td>\n",
       "    </tr>\n",
       "  </tbody>\n",
       "</table>\n",
       "</div>"
      ],
      "text/plain": [
       "   Survived  Pclass      Age     Fare\n",
       "0         0       3 22.00000  7.25000\n",
       "1         1       1 38.00000 71.28330\n",
       "2         1       3 26.00000  7.92500\n",
       "3         1       1 35.00000 53.10000\n",
       "4         0       3 35.00000  8.05000"
      ]
     },
     "execution_count": 79,
     "metadata": {},
     "output_type": "execute_result"
    }
   ],
   "source": [
    "df04 = df01.copy()\n",
    "df04.head()"
   ]
  },
  {
   "cell_type": "code",
   "execution_count": 94,
   "id": "29672fda-4b39-4bfa-88ef-3c669b38daea",
   "metadata": {},
   "outputs": [],
   "source": [
    "def plot_data(df,feature):\n",
    "    plt.figure(figsize=(10,6))\n",
    "    plt.subplot(121)\n",
    "    df[feature].hist()\n",
    "    plt.subplot(122)\n",
    "    stats.probplot(df[feature],dist = 'norm',plot=pylab)\n",
    "    plt.show()"
   ]
  },
  {
   "cell_type": "code",
   "execution_count": 100,
   "id": "a0936e0b-7adf-4b96-aecd-73d6eaa4e11b",
   "metadata": {},
   "outputs": [
    {
     "data": {
      "image/png": "[encoded data removed]",
      "text/plain": [
       "<Figure size 720x432 with 2 Axes>"
      ]
     },
     "metadata": {
      "needs_background": "light"
     },
     "output_type": "display_data"
    }
   ],
   "source": [
    "plot_data(df04,'Fare')"
   ]
  },
  {
   "cell_type": "code",
   "execution_count": 137,
   "id": "81905d07-b38b-4c66-853d-a1157685ebce",
   "metadata": {},
   "outputs": [
    {
     "data": {
      "image/png": "[encoded data removed]",
      "text/plain": [
       "<Figure size 720x432 with 2 Axes>"
      ]
     },
     "metadata": {
      "needs_background": "light"
     },
     "output_type": "display_data"
    }
   ],
   "source": [
    "df04['Age_Log'] = np.log1p(df04['Fare'])\n",
    "plot_data(df04,'Age_Log')"
   ]
  },
  {
   "cell_type": "markdown",
   "id": "762e62f4-1feb-4fd0-bdb1-8ac87e528446",
   "metadata": {},
   "source": [
    "## Reciprocal transformation (Inverse transformation)\n",
    "\n",
    "It can be used with nonzero data and is commonly used when distributions have skewness or clear outliers"
   ]
  },
  {
   "cell_type": "code",
   "execution_count": 110,
   "id": "8a1abab6-a364-4217-ba53-7ad8f3fddc40",
   "metadata": {},
   "outputs": [
    {
     "data": {
      "text/html": [
       "<div>\n",
       "<style scoped>\n",
       "    .dataframe tbody tr th:only-of-type {\n",
       "        vertical-align: middle;\n",
       "    }\n",
       "\n",
       "    .dataframe tbody tr th {\n",
       "        vertical-align: top;\n",
       "    }\n",
       "\n",
       "    .dataframe thead th {\n",
       "        text-align: right;\n",
       "    }\n",
       "</style>\n",
       "<table border=\"1\" class=\"dataframe\">\n",
       "  <thead>\n",
       "    <tr style=\"text-align: right;\">\n",
       "      <th></th>\n",
       "      <th>Survived</th>\n",
       "      <th>Pclass</th>\n",
       "      <th>Age</th>\n",
       "      <th>Fare</th>\n",
       "    </tr>\n",
       "  </thead>\n",
       "  <tbody>\n",
       "    <tr>\n",
       "      <th>0</th>\n",
       "      <td>0</td>\n",
       "      <td>3</td>\n",
       "      <td>22.00000</td>\n",
       "      <td>7.25000</td>\n",
       "    </tr>\n",
       "    <tr>\n",
       "      <th>1</th>\n",
       "      <td>1</td>\n",
       "      <td>1</td>\n",
       "      <td>38.00000</td>\n",
       "      <td>71.28330</td>\n",
       "    </tr>\n",
       "    <tr>\n",
       "      <th>2</th>\n",
       "      <td>1</td>\n",
       "      <td>3</td>\n",
       "      <td>26.00000</td>\n",
       "      <td>7.92500</td>\n",
       "    </tr>\n",
       "    <tr>\n",
       "      <th>3</th>\n",
       "      <td>1</td>\n",
       "      <td>1</td>\n",
       "      <td>35.00000</td>\n",
       "      <td>53.10000</td>\n",
       "    </tr>\n",
       "    <tr>\n",
       "      <th>4</th>\n",
       "      <td>0</td>\n",
       "      <td>3</td>\n",
       "      <td>35.00000</td>\n",
       "      <td>8.05000</td>\n",
       "    </tr>\n",
       "  </tbody>\n",
       "</table>\n",
       "</div>"
      ],
      "text/plain": [
       "   Survived  Pclass      Age     Fare\n",
       "0         0       3 22.00000  7.25000\n",
       "1         1       1 38.00000 71.28330\n",
       "2         1       3 26.00000  7.92500\n",
       "3         1       1 35.00000 53.10000\n",
       "4         0       3 35.00000  8.05000"
      ]
     },
     "execution_count": 110,
     "metadata": {},
     "output_type": "execute_result"
    }
   ],
   "source": [
    "df05 = df01.copy()\n",
    "df05.head()"
   ]
  },
  {
   "cell_type": "code",
   "execution_count": 117,
   "id": "e00a2016-4305-456b-94d1-656282373dd2",
   "metadata": {},
   "outputs": [
    {
     "data": {
      "image/png": "[encoded data removed]",
      "text/plain": [
       "<Figure size 720x432 with 2 Axes>"
      ]
     },
     "metadata": {
      "needs_background": "light"
     },
     "output_type": "display_data"
    }
   ],
   "source": [
    "df05['Age_inverse'] = 1/df05.Age\n",
    "plot_data(df05,'Age_inverse')"
   ]
  },
  {
   "cell_type": "markdown",
   "id": "a67a96a3-e34c-4041-abec-aec085819850",
   "metadata": {},
   "source": [
    "## Square root transformation"
   ]
  },
  {
   "cell_type": "code",
   "execution_count": 118,
   "id": "5c11ee09-b13b-4704-bb5a-736efe032505",
   "metadata": {},
   "outputs": [
    {
     "data": {
      "text/html": [
       "<div>\n",
       "<style scoped>\n",
       "    .dataframe tbody tr th:only-of-type {\n",
       "        vertical-align: middle;\n",
       "    }\n",
       "\n",
       "    .dataframe tbody tr th {\n",
       "        vertical-align: top;\n",
       "    }\n",
       "\n",
       "    .dataframe thead th {\n",
       "        text-align: right;\n",
       "    }\n",
       "</style>\n",
       "<table border=\"1\" class=\"dataframe\">\n",
       "  <thead>\n",
       "    <tr style=\"text-align: right;\">\n",
       "      <th></th>\n",
       "      <th>Survived</th>\n",
       "      <th>Pclass</th>\n",
       "      <th>Age</th>\n",
       "      <th>Fare</th>\n",
       "    </tr>\n",
       "  </thead>\n",
       "  <tbody>\n",
       "    <tr>\n",
       "      <th>0</th>\n",
       "      <td>0</td>\n",
       "      <td>3</td>\n",
       "      <td>22.00000</td>\n",
       "      <td>7.25000</td>\n",
       "    </tr>\n",
       "    <tr>\n",
       "      <th>1</th>\n",
       "      <td>1</td>\n",
       "      <td>1</td>\n",
       "      <td>38.00000</td>\n",
       "      <td>71.28330</td>\n",
       "    </tr>\n",
       "    <tr>\n",
       "      <th>2</th>\n",
       "      <td>1</td>\n",
       "      <td>3</td>\n",
       "      <td>26.00000</td>\n",
       "      <td>7.92500</td>\n",
       "    </tr>\n",
       "    <tr>\n",
       "      <th>3</th>\n",
       "      <td>1</td>\n",
       "      <td>1</td>\n",
       "      <td>35.00000</td>\n",
       "      <td>53.10000</td>\n",
       "    </tr>\n",
       "    <tr>\n",
       "      <th>4</th>\n",
       "      <td>0</td>\n",
       "      <td>3</td>\n",
       "      <td>35.00000</td>\n",
       "      <td>8.05000</td>\n",
       "    </tr>\n",
       "  </tbody>\n",
       "</table>\n",
       "</div>"
      ],
      "text/plain": [
       "   Survived  Pclass      Age     Fare\n",
       "0         0       3 22.00000  7.25000\n",
       "1         1       1 38.00000 71.28330\n",
       "2         1       3 26.00000  7.92500\n",
       "3         1       1 35.00000 53.10000\n",
       "4         0       3 35.00000  8.05000"
      ]
     },
     "execution_count": 118,
     "metadata": {},
     "output_type": "execute_result"
    }
   ],
   "source": [
    "df06 = df01.copy()\n",
    "df06.head()"
   ]
  },
  {
   "cell_type": "code",
   "execution_count": 119,
   "id": "b43b96d8-9408-4a81-9f08-cedd16422104",
   "metadata": {},
   "outputs": [
    {
     "data": {
      "image/png": "[encoded data removed]",
      "text/plain": [
       "<Figure size 720x432 with 2 Axes>"
      ]
     },
     "metadata": {
      "needs_background": "light"
     },
     "output_type": "display_data"
    }
   ],
   "source": [
    "df06['Age_square'] = df06.Age**(1/2)\n",
    "plot_data(df06,'Age_square')"
   ]
  },
  {
   "cell_type": "markdown",
   "id": "14a16094-ddfe-45ca-bd37-b5831878173c",
   "metadata": {},
   "source": [
    "## Exponential transformation"
   ]
  },
  {
   "cell_type": "code",
   "execution_count": 120,
   "id": "b136bc3b-1955-4d15-8f53-5b717af0373a",
   "metadata": {},
   "outputs": [
    {
     "data": {
      "text/html": [
       "<div>\n",
       "<style scoped>\n",
       "    .dataframe tbody tr th:only-of-type {\n",
       "        vertical-align: middle;\n",
       "    }\n",
       "\n",
       "    .dataframe tbody tr th {\n",
       "        vertical-align: top;\n",
       "    }\n",
       "\n",
       "    .dataframe thead th {\n",
       "        text-align: right;\n",
       "    }\n",
       "</style>\n",
       "<table border=\"1\" class=\"dataframe\">\n",
       "  <thead>\n",
       "    <tr style=\"text-align: right;\">\n",
       "      <th></th>\n",
       "      <th>Survived</th>\n",
       "      <th>Pclass</th>\n",
       "      <th>Age</th>\n",
       "      <th>Fare</th>\n",
       "    </tr>\n",
       "  </thead>\n",
       "  <tbody>\n",
       "    <tr>\n",
       "      <th>0</th>\n",
       "      <td>0</td>\n",
       "      <td>3</td>\n",
       "      <td>22.00000</td>\n",
       "      <td>7.25000</td>\n",
       "    </tr>\n",
       "    <tr>\n",
       "      <th>1</th>\n",
       "      <td>1</td>\n",
       "      <td>1</td>\n",
       "      <td>38.00000</td>\n",
       "      <td>71.28330</td>\n",
       "    </tr>\n",
       "    <tr>\n",
       "      <th>2</th>\n",
       "      <td>1</td>\n",
       "      <td>3</td>\n",
       "      <td>26.00000</td>\n",
       "      <td>7.92500</td>\n",
       "    </tr>\n",
       "    <tr>\n",
       "      <th>3</th>\n",
       "      <td>1</td>\n",
       "      <td>1</td>\n",
       "      <td>35.00000</td>\n",
       "      <td>53.10000</td>\n",
       "    </tr>\n",
       "    <tr>\n",
       "      <th>4</th>\n",
       "      <td>0</td>\n",
       "      <td>3</td>\n",
       "      <td>35.00000</td>\n",
       "      <td>8.05000</td>\n",
       "    </tr>\n",
       "  </tbody>\n",
       "</table>\n",
       "</div>"
      ],
      "text/plain": [
       "   Survived  Pclass      Age     Fare\n",
       "0         0       3 22.00000  7.25000\n",
       "1         1       1 38.00000 71.28330\n",
       "2         1       3 26.00000  7.92500\n",
       "3         1       1 35.00000 53.10000\n",
       "4         0       3 35.00000  8.05000"
      ]
     },
     "execution_count": 120,
     "metadata": {},
     "output_type": "execute_result"
    }
   ],
   "source": [
    "df07 = df01.copy()\n",
    "df07.head()"
   ]
  },
  {
   "cell_type": "code",
   "execution_count": 136,
   "id": "4a9a7668-b7a9-4377-8f71-f30dbf5b9377",
   "metadata": {},
   "outputs": [
    {
     "data": {
      "image/png": "[encoded data removed]",
      "text/plain": [
       "<Figure size 720x432 with 2 Axes>"
      ]
     },
     "metadata": {
      "needs_background": "light"
     },
     "output_type": "display_data"
    }
   ],
   "source": [
    "df07['Age_exp'] = np.power(df07.Age,1/1.2)\n",
    "plot_data(df07,'Age_exp')"
   ]
  },
  {
   "cell_type": "markdown",
   "id": "bdad571f-b338-4f68-a69c-7f0b57ec9628",
   "metadata": {},
   "source": [
    "## Box Cox transformation\n",
    "\n",
    "The BOX-Cox transformation is defined as. `boxcox` requires the input data to be positive.  Sometimes a Box-Cox transformation provides a shift parameter to achieve this; `boxcox` does not.  Such a shift parameter is equivalent to adding a positive constant to `x` before calling `boxcox`.\n",
    "\n",
    "`T(Y) = (Y exp(lam)-1)/lam`"
   ]
  },
  {
   "cell_type": "code",
   "execution_count": 126,
   "id": "b89c1060-9f94-4d6b-b9fb-345115fc2478",
   "metadata": {},
   "outputs": [
    {
     "data": {
      "text/html": [
       "<div>\n",
       "<style scoped>\n",
       "    .dataframe tbody tr th:only-of-type {\n",
       "        vertical-align: middle;\n",
       "    }\n",
       "\n",
       "    .dataframe tbody tr th {\n",
       "        vertical-align: top;\n",
       "    }\n",
       "\n",
       "    .dataframe thead th {\n",
       "        text-align: right;\n",
       "    }\n",
       "</style>\n",
       "<table border=\"1\" class=\"dataframe\">\n",
       "  <thead>\n",
       "    <tr style=\"text-align: right;\">\n",
       "      <th></th>\n",
       "      <th>Survived</th>\n",
       "      <th>Pclass</th>\n",
       "      <th>Age</th>\n",
       "      <th>Fare</th>\n",
       "    </tr>\n",
       "  </thead>\n",
       "  <tbody>\n",
       "    <tr>\n",
       "      <th>0</th>\n",
       "      <td>0</td>\n",
       "      <td>3</td>\n",
       "      <td>22.00000</td>\n",
       "      <td>7.25000</td>\n",
       "    </tr>\n",
       "    <tr>\n",
       "      <th>1</th>\n",
       "      <td>1</td>\n",
       "      <td>1</td>\n",
       "      <td>38.00000</td>\n",
       "      <td>71.28330</td>\n",
       "    </tr>\n",
       "    <tr>\n",
       "      <th>2</th>\n",
       "      <td>1</td>\n",
       "      <td>3</td>\n",
       "      <td>26.00000</td>\n",
       "      <td>7.92500</td>\n",
       "    </tr>\n",
       "    <tr>\n",
       "      <th>3</th>\n",
       "      <td>1</td>\n",
       "      <td>1</td>\n",
       "      <td>35.00000</td>\n",
       "      <td>53.10000</td>\n",
       "    </tr>\n",
       "    <tr>\n",
       "      <th>4</th>\n",
       "      <td>0</td>\n",
       "      <td>3</td>\n",
       "      <td>35.00000</td>\n",
       "      <td>8.05000</td>\n",
       "    </tr>\n",
       "  </tbody>\n",
       "</table>\n",
       "</div>"
      ],
      "text/plain": [
       "   Survived  Pclass      Age     Fare\n",
       "0         0       3 22.00000  7.25000\n",
       "1         1       1 38.00000 71.28330\n",
       "2         1       3 26.00000  7.92500\n",
       "3         1       1 35.00000 53.10000\n",
       "4         0       3 35.00000  8.05000"
      ]
     },
     "execution_count": 126,
     "metadata": {},
     "output_type": "execute_result"
    }
   ],
   "source": [
    "df08 = df01.copy()\n",
    "df08.head()"
   ]
  },
  {
   "cell_type": "code",
   "execution_count": 143,
   "id": "d53faff9-4d34-427c-9bb9-fd4d926c5824",
   "metadata": {},
   "outputs": [
    {
     "data": {
      "image/png": "[encoded data removed]",
      "text/plain": [
       "<Figure size 720x432 with 2 Axes>"
      ]
     },
     "metadata": {
      "needs_background": "light"
     },
     "output_type": "display_data"
    }
   ],
   "source": [
    "df08['Fare_BoxCox'],parammeters = stats.boxcox(df08['Fare']+1)\n",
    "plot_data(df08,'Fare_BoxCox')"
   ]
  },
  {
   "cell_type": "code",
   "execution_count": null,
   "id": "e420bf39-4dc6-4888-98cc-2800551b5716",
   "metadata": {},
   "outputs": [],
   "source": []
  }
 ],
 "metadata": {
  "kernelspec": {
   "display_name": "Python 3",
   "language": "python",
   "name": "python3"
  },
  "language_info": {
   "codemirror_mode": {
    "name": "ipython",
    "version": 3
   },
   "file_extension": ".py",
   "mimetype": "text/x-python",
   "name": "python",
   "nbconvert_exporter": "python",
   "pygments_lexer": "ipython3",
   "version": "3.7.4"
  },
  "toc-autonumbering": false,
  "toc-showcode": false,
  "toc-showmarkdowntxt": false
 },
 "nbformat": 4,
 "nbformat_minor": 5
}
