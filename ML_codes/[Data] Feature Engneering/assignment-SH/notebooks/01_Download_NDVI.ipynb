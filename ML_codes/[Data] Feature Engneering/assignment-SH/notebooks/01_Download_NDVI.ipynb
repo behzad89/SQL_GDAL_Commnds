{
 "cells": [
  {
   "cell_type": "code",
   "execution_count": 9,
   "metadata": {},
   "outputs": [],
   "source": [
    "import sys  \n",
    "sys.path.insert(0, '../src')\n",
    "\n",
    "import pandas as pd\n",
    "from pytz import timezone\n",
    "\n",
    "import utils as ut\n",
    "from getpass import getpass\n",
    "from sentinelhub import SHConfig"
   ]
  },
  {
   "cell_type": "code",
   "execution_count": 10,
   "metadata": {},
   "outputs": [
    {
     "name": "stdout",
     "output_type": "stream",
     "text": [
      "The autoreload extension is already loaded. To reload it, use:\n",
      "  %reload_ext autoreload\n"
     ]
    }
   ],
   "source": [
    "%load_ext autoreload\n",
    "%autoreload 2"
   ]
  },
  {
   "cell_type": "code",
   "execution_count": 11,
   "metadata": {},
   "outputs": [],
   "source": [
    "client_id = getpass()"
   ]
  },
  {
   "cell_type": "code",
   "execution_count": 12,
   "metadata": {},
   "outputs": [],
   "source": [
    "client_secret = getpass()"
   ]
  },
  {
   "cell_type": "code",
   "execution_count": 13,
   "metadata": {},
   "outputs": [],
   "source": [
    "config = SHConfig()"
   ]
  },
  {
   "cell_type": "code",
   "execution_count": 14,
   "metadata": {},
   "outputs": [],
   "source": [
    "config.sh_client_id = client_id\n",
    "config.sh_client_secret = client_secret"
   ]
  },
  {
   "cell_type": "code",
   "execution_count": 15,
   "metadata": {},
   "outputs": [],
   "source": [
    "shp_file = '../data/land_polygons.shp'\n",
    "crs = 32633\n",
    "res = 10\n",
    "s_dt = pd.Timestamp('2018-09-28T00',tz=timezone('Europe/Berlin'))\n",
    "e_dt = pd.Timestamp('2018-09-28T23',tz=timezone('Europe/Berlin'))\n",
    "out_dir = '../data/ndvi_image'\n",
    "sh_config = config"
   ]
  },
  {
   "cell_type": "code",
   "execution_count": 16,
   "metadata": {},
   "outputs": [
    {
     "name": "stdout",
     "output_type": "stream",
     "text": [
      "The image was saved!\n"
     ]
    }
   ],
   "source": [
    "ut.fetch_ndvi_image(shp_file,\n",
    "                    crs,\n",
    "                    res,\n",
    "                    s_dt,\n",
    "                    e_dt,\n",
    "                    out_dir,\n",
    "                    sh_config)"
   ]
  },
  {
   "cell_type": "code",
   "execution_count": null,
   "metadata": {},
   "outputs": [],
   "source": []
  }
 ],
 "metadata": {
  "kernelspec": {
   "display_name": "Python 3.8.13 ('py38': conda)",
   "language": "python",
   "name": "python3"
  },
  "language_info": {
   "codemirror_mode": {
    "name": "ipython",
    "version": 3
   },
   "file_extension": ".py",
   "mimetype": "text/x-python",
   "name": "python",
   "nbconvert_exporter": "python",
   "pygments_lexer": "ipython3",
   "version": "3.8.13"
  },
  "orig_nbformat": 4,
  "vscode": {
   "interpreter": {
    "hash": "16d9354f4e7dff2c371e6ada1d04cea49f0a57b5fce3965e0edb0172a09471e2"
   }
  }
 },
 "nbformat": 4,
 "nbformat_minor": 2
}
